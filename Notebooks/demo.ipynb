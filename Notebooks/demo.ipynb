{
 "cells": [
  {
   "cell_type": "markdown",
   "metadata": {
    "id": "B6D1ud0HVRoj"
   },
   "source": [
    "## Imports"
   ]
  },
  {
   "cell_type": "code",
   "execution_count": 1,
   "metadata": {
    "id": "bH4afYylVRoj"
   },
   "outputs": [],
   "source": [
    "import numpy as np\n",
    "import pandas as pd\n",
    "import tensorflow as tf"
   ]
  },
  {
   "cell_type": "markdown",
   "metadata": {
    "id": "DOrz3-zQVRoj"
   },
   "source": [
    "## Data Set-up"
   ]
  },
  {
   "cell_type": "code",
   "execution_count": 2,
   "metadata": {
    "id": "Zm0uKl4NVRok"
   },
   "outputs": [
    {
     "name": "stdout",
     "output_type": "stream",
     "text": [
      "        userId  movieId  rating   timestamp\n",
      "0            1        1     4.0   964982703\n",
      "1            1        3     4.0   964981247\n",
      "2            1        6     4.0   964982224\n",
      "3            1       47     5.0   964983815\n",
      "4            1       50     5.0   964982931\n",
      "...        ...      ...     ...         ...\n",
      "100831     610   166534     4.0  1493848402\n",
      "100832     610   168248     5.0  1493850091\n",
      "100833     610   168250     5.0  1494273047\n",
      "100834     610   168252     5.0  1493846352\n",
      "100835     610   170875     3.0  1493846415\n",
      "\n",
      "[100836 rows x 4 columns]\n"
     ]
    }
   ],
   "source": [
    "np.random.seed(0)\n",
    "ratings_dir = './Data/ml-latest-small/ratings.csv'\n",
    "\n",
    "# Read in ratings data\n",
    "ratings = pd.read_csv(ratings_dir)\n",
    "print(ratings)"
   ]
  },
  {
   "cell_type": "code",
   "execution_count": 3,
   "metadata": {
    "colab": {
     "base_uri": "https://localhost:8080/"
    },
    "id": "UEEtXx7RVVvg",
    "outputId": "45e417a3-a31f-4ecb-8e62-2767dd5999e4"
   },
   "outputs": [
    {
     "name": "stdout",
     "output_type": "stream",
     "text": [
      "Columns: ['userId' 'movieId' 'rating']\n",
      "Interactions in Training Set: 100226\n",
      "Interactions in Testing Set: 610\n"
     ]
    }
   ],
   "source": [
    "# Find the latest rating each user has made\n",
    "ratings['latest'] = ratings.groupby(['userId'])['timestamp'].rank(method='first', ascending=False)\n",
    "\n",
    "# Separate the latest rating into the test dataset\n",
    "# Keep all other ratings in the train dataset\n",
    "train_ratings = ratings[ratings['latest'] != 1]\n",
    "test_ratings = ratings[ratings['latest'] == 1]\n",
    "\n",
    "# Remove timestamp field\n",
    "train_ratings = train_ratings[['userId', 'movieId', 'rating']]\n",
    "test_ratings = test_ratings[['userId', 'movieId', 'rating']]\n",
    "\n",
    "print('Columns:', train_ratings.columns.values)\n",
    "print('Interactions in Training Set:', train_ratings.shape[0])\n",
    "print('Interactions in Testing Set:', test_ratings.shape[0])"
   ]
  },
  {
   "cell_type": "markdown",
   "metadata": {
    "id": "ml1qDojt3Lcb"
   },
   "source": [
    "### Convert to Implicit Feedback"
   ]
  },
  {
   "cell_type": "code",
   "execution_count": 4,
   "metadata": {
    "colab": {
     "base_uri": "https://localhost:8080/"
    },
    "id": "5BghlYpWWZsc",
    "outputId": "9d92d483-a81c-4de1-8283-2f747ba9eee1"
   },
   "outputs": [
    {
     "name": "stdout",
     "output_type": "stream",
     "text": [
      "        userId  movieId  rating\n",
      "0            1        1       1\n",
      "1            1        3       1\n",
      "2            1        6       1\n",
      "3            1       47       1\n",
      "4            1       50       1\n",
      "...        ...      ...     ...\n",
      "100831     610   166534       1\n",
      "100832     610   168248       1\n",
      "100833     610   168250       1\n",
      "100834     610   168252       1\n",
      "100835     610   170875       1\n",
      "\n",
      "[100226 rows x 3 columns]\n"
     ]
    }
   ],
   "source": [
    "# Convert rating to 1 for everything to mark that the user has watched this item\n",
    "train_ratings.loc[:, 'rating'] = 1\n",
    "print(train_ratings)"
   ]
  },
  {
   "cell_type": "code",
   "execution_count": 5,
   "metadata": {
    "id": "g8ObmXC23Pc2"
   },
   "outputs": [],
   "source": [
    "# Add negative samples with rating = 0\n",
    "all_movies = ratings['movieId'].unique()\n",
    "\n",
    "users, items, labels = [], [], []\n",
    "user_item_set = set(zip(train_ratings['userId'], train_ratings['userId']))\n",
    "num_negatives = 4\n",
    "\n",
    "for (u, i) in user_item_set:\n",
    "    users.append(u)\n",
    "    items.append(i)\n",
    "    labels.append(1)\n",
    "    for _ in range(num_negatives):\n",
    "        negative_item = np.random.choice(all_movies)\n",
    "        while (u, negative_item) in user_item_set:\n",
    "            negative_item = np.random.choice(all_movies)\n",
    "        users.append(u)\n",
    "        items.append(negative_item)\n",
    "        labels.append(0)"
   ]
  },
  {
   "cell_type": "markdown",
   "metadata": {
    "id": "vRKCJCT44Lx2"
   },
   "source": [
    "### Create TF Dataset"
   ]
  },
  {
   "cell_type": "code",
   "execution_count": 6,
   "metadata": {
    "id": "nJvPLf6J362B"
   },
   "outputs": [],
   "source": [
    "train_ds = tf.data.Dataset.from_tensor_slices((users, items, labels))"
   ]
  },
  {
   "cell_type": "code",
   "execution_count": 7,
   "metadata": {
    "colab": {
     "base_uri": "https://localhost:8080/"
    },
    "id": "iZEgiXPS4ZcQ",
    "outputId": "a6441531-9bec-4b66-d69a-47d6b2d8c190"
   },
   "outputs": [
    {
     "name": "stdout",
     "output_type": "stream",
     "text": [
      "User ID:  561 Movie ID:  2210 User Viewed Movie:  0\n",
      "User ID:  567 Movie ID:  190209 User Viewed Movie:  0\n",
      "User ID:  80 Movie ID:  6790 User Viewed Movie:  0\n",
      "User ID:  383 Movie ID:  383 User Viewed Movie:  1\n",
      "User ID:  574 Movie ID:  1573 User Viewed Movie:  0\n",
      "User ID:  191 Movie ID:  4734 User Viewed Movie:  0\n",
      "User ID:  508 Movie ID:  1123 User Viewed Movie:  0\n",
      "User ID:  546 Movie ID:  4714 User Viewed Movie:  0\n",
      "User ID:  403 Movie ID:  403 User Viewed Movie:  1\n",
      "User ID:  279 Movie ID:  1552 User Viewed Movie:  0\n"
     ]
    }
   ],
   "source": [
    "train_ds = train_ds.shuffle(1000)\n",
    "for elem in train_ds.take(10):\n",
    "    tf.print('User ID: ', elem[0], 'Movie ID: ', elem[1], 'User Viewed Movie: ', elem[2])"
   ]
  },
  {
   "cell_type": "code",
   "execution_count": null,
   "metadata": {
    "id": "vQODzIfv4hBw"
   },
   "outputs": [],
   "source": []
  }
 ],
 "metadata": {
  "colab": {
   "name": "MovieLens_TensorFlow.ipynb",
   "provenance": []
  },
  "kernelspec": {
   "display_name": "Python 3",
   "language": "python",
   "name": "python3"
  },
  "language_info": {
   "codemirror_mode": {
    "name": "ipython",
    "version": 3
   },
   "file_extension": ".py",
   "mimetype": "text/x-python",
   "name": "python",
   "nbconvert_exporter": "python",
   "pygments_lexer": "ipython3",
   "version": "3.8.5"
  }
 },
 "nbformat": 4,
 "nbformat_minor": 1
}
