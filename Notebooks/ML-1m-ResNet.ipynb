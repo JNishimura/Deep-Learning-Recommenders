{
  "nbformat": 4,
  "nbformat_minor": 0,
  "metadata": {
    "kernelspec": {
      "display_name": "Python 3",
      "language": "python",
      "name": "python3"
    },
    "language_info": {
      "codemirror_mode": {
        "name": "ipython",
        "version": 3
      },
      "file_extension": ".py",
      "mimetype": "text/x-python",
      "name": "python",
      "nbconvert_exporter": "python",
      "pygments_lexer": "ipython3",
      "version": "3.8.5"
    },
    "colab": {
      "name": "ML-1m-ResNet.ipynb",
      "provenance": [],
      "toc_visible": true,
      "machine_shape": "hm"
    },
    "accelerator": "GPU"
  },
  "cells": [
    {
      "cell_type": "code",
      "metadata": {
        "id": "r41TN-w7MNsb",
        "outputId": "506ec3c9-8750-42c6-bd0a-eac397e3fdc0",
        "colab": {
          "base_uri": "https://localhost:8080/"
        }
      },
      "source": [
        "!pip install keras"
      ],
      "execution_count": 1,
      "outputs": [
        {
          "output_type": "stream",
          "text": [
            "Requirement already satisfied: keras in /usr/local/lib/python3.7/dist-packages (2.4.3)\n",
            "Requirement already satisfied: scipy>=0.14 in /usr/local/lib/python3.7/dist-packages (from keras) (1.4.1)\n",
            "Requirement already satisfied: numpy>=1.9.1 in /usr/local/lib/python3.7/dist-packages (from keras) (1.19.5)\n",
            "Requirement already satisfied: h5py in /usr/local/lib/python3.7/dist-packages (from keras) (2.10.0)\n",
            "Requirement already satisfied: pyyaml in /usr/local/lib/python3.7/dist-packages (from keras) (3.13)\n",
            "Requirement already satisfied: six in /usr/local/lib/python3.7/dist-packages (from h5py->keras) (1.15.0)\n"
          ],
          "name": "stdout"
        }
      ]
    },
    {
      "cell_type": "markdown",
      "metadata": {
        "id": "8kCsk-qnMNsc"
      },
      "source": [
        "## Imports"
      ]
    },
    {
      "cell_type": "code",
      "metadata": {
        "id": "GOPQjNmXMNsc"
      },
      "source": [
        "import numpy as np\n",
        "import scipy as sp\n",
        "\n",
        "import tensorflow as tf\n",
        "\n",
        "import heapq\n",
        "import math"
      ],
      "execution_count": 2,
      "outputs": []
    },
    {
      "cell_type": "markdown",
      "metadata": {
        "id": "WxvyocEYMNsd"
      },
      "source": [
        "## Load Dataset"
      ]
    },
    {
      "cell_type": "code",
      "metadata": {
        "id": "TUTfIfWKMNsd"
      },
      "source": [
        "def load_rating_file_as_list(filename):\n",
        "    rating_list = []\n",
        "    \n",
        "    with open(filename, \"r\") as f:\n",
        "        line = f.readline()\n",
        "        \n",
        "        while line and line != \"\":\n",
        "            arr = line.split(\"\\t\")\n",
        "            user, item = int(arr[0]), int(arr[1])\n",
        "            rating_list.append([user, item])\n",
        "            line = f.readline()\n",
        "    \n",
        "    return rating_list\n",
        "\n",
        "def load_negative_file(filename):\n",
        "    negative_list = []\n",
        "    \n",
        "    with open(filename, \"r\") as f:\n",
        "        line = f.readline()\n",
        "        \n",
        "        while line and line != \"\":\n",
        "            arr = line.split(\"\\t\")\n",
        "            negatives = []\n",
        "            \n",
        "            for x in arr[1:]:\n",
        "                negatives.append(int(x))\n",
        "            \n",
        "            negative_list.append(negatives)\n",
        "            \n",
        "            line = f.readline()\n",
        "    \n",
        "    return negative_list\n",
        "\n",
        "def load_rating_file_as_matrix(filename):\n",
        "    num_users, num_items = 0, 0\n",
        "    with open(filename, \"r\") as f:\n",
        "        line = f.readline()\n",
        "        while line != None and line != \"\":\n",
        "            arr = line.split(\"\\t\")\n",
        "            u, i = int(arr[0]), int(arr[1])\n",
        "            num_users = max(num_users, u)\n",
        "            num_items = max(num_items, i)\n",
        "            line = f.readline()\n",
        "    \n",
        "    mat = sp.sparse.dok_matrix((num_users+1, num_items+1), dtype=np.float32)\n",
        "    with open(filename, \"r\") as f:\n",
        "        line = f.readline()\n",
        "        while line != None and line != \"\":\n",
        "            arr = line.split(\"\\t\")\n",
        "            user, item, rating = int(arr[0]), int(arr[1]), float(arr[2])\n",
        "            if (rating > 0):\n",
        "                mat[user, item] = 1.0\n",
        "            line = f.readline()    \n",
        "    return mat"
      ],
      "execution_count": 3,
      "outputs": []
    },
    {
      "cell_type": "code",
      "metadata": {
        "id": "ElQPrHd3MNsd"
      },
      "source": [
        "train = load_rating_file_as_matrix('./Data/ml-1m/ml-1m.train.rating')\n",
        "test_ratings = load_rating_file_as_list('./Data/ml-1m/ml-1m.test.rating')\n",
        "test_negatives = load_negative_file('./Data/ml-1m/ml-1m.test.negative')"
      ],
      "execution_count": 5,
      "outputs": []
    },
    {
      "cell_type": "code",
      "metadata": {
        "id": "VfufKvnFMNse",
        "outputId": "7e9935c2-d39c-4370-d403-e1e66ff9e472",
        "colab": {
          "base_uri": "https://localhost:8080/"
        }
      },
      "source": [
        "num_users, num_items = train.shape\n",
        "print('Loaded Data. # Users:', num_users, '# Items:', num_items, '# Train:', train.nnz, '# Test:', len(test_ratings))"
      ],
      "execution_count": 6,
      "outputs": [
        {
          "output_type": "stream",
          "text": [
            "Loaded Data. # Users: 6040 # Items: 3706 # Train: 994169 # Test: 6040\n"
          ],
          "name": "stdout"
        }
      ]
    },
    {
      "cell_type": "markdown",
      "metadata": {
        "id": "tsyLeX5_MNse"
      },
      "source": [
        "### Helper to Generate Negative Training Examples"
      ]
    },
    {
      "cell_type": "code",
      "metadata": {
        "id": "ahlLfWyjMNse"
      },
      "source": [
        "def get_train_instances(train, num_negatives):\n",
        "    user_input, item_input, labels = [],[],[]\n",
        "    num_users = train.shape[0]\n",
        "    for (u, i) in train.keys():\n",
        "        # positive instance\n",
        "        user_input.append(u)\n",
        "        item_input.append(i)\n",
        "        labels.append(1)\n",
        "        # negative instances\n",
        "        for t in range(num_negatives):\n",
        "            j = np.random.randint(num_items)\n",
        "            while train.get((u, j)):\n",
        "                j = np.random.randint(num_items)\n",
        "            user_input.append(u)\n",
        "            item_input.append(j)\n",
        "            labels.append(0)\n",
        "    return user_input, item_input, labels"
      ],
      "execution_count": 7,
      "outputs": []
    },
    {
      "cell_type": "markdown",
      "metadata": {
        "id": "KpnyPktaMNsf"
      },
      "source": [
        "## Create Model"
      ]
    },
    {
      "cell_type": "code",
      "metadata": {
        "id": "VLHDm93QMNsf"
      },
      "source": [
        "from keras.models import Model\n",
        "from keras.layers import Embedding, Input, Dense, Reshape, Multiply, Flatten, Lambda, Concatenate, Conv2D, MaxPool2D\n",
        "from keras import initializers, regularizers\n",
        "import sys\n",
        "\n",
        "def get_OuterProductmodel(num_users, num_items, latent_dim):\n",
        "    user_input = Input(shape = (1,), dtype = 'int32', name = 'user')\n",
        "    item_input = Input(shape = (1,), dtype = 'int32', name = 'item')\n",
        "\n",
        "    user_embedding = Embedding(input_dim = num_users, output_dim = latent_dim, name = 'user_embed',\n",
        "                             embeddings_initializer = initializers.RandomNormal(stddev = 0.01), \n",
        "                             embeddings_regularizer = regularizers.l2(0), input_length = 1)\n",
        "    item_embedding = Embedding(input_dim = num_items, output_dim = latent_dim, name = 'item_embed',\n",
        "                             embeddings_initializer = initializers.RandomNormal(stddev = 0.01), \n",
        "                             embeddings_regularizer = regularizers.l2(0), input_length = 1)\n",
        "\n",
        "    user_latent = Flatten()(user_embedding(user_input))\n",
        "    item_latent = Flatten()(item_embedding(item_input))\n",
        "\n",
        "    latent_map = tf.linalg.matmul(tf.expand_dims(user_latent, -1), tf.expand_dims(item_latent, 1))\n",
        "\n",
        "    x = tf.expand_dims(latent_map, -1)\n",
        "\n",
        "    x = Conv2D(64, 3, activation='relu', padding='same')(x)\n",
        "    x = MaxPool2D(pool_size=2)(x)\n",
        "    x = Conv2D(64, 3, activation='relu', padding='same')(x)\n",
        "    x = MaxPool2D(pool_size=2)(x)\n",
        "    x = Conv2D(64, 3, activation='relu', padding='same')(x)\n",
        "    x = MaxPool2D(pool_size=2)(x)\n",
        "    x = Conv2D(64, 3, activation='relu', padding='same')(x)\n",
        "    x = Flatten()(x)\n",
        "    prediction = Dense(1, activation='sigmoid', kernel_initializer='lecun_uniform', name = 'prediction')(x)\n",
        "\n",
        "    return Model(inputs=[user_input, item_input], outputs=prediction)"
      ],
      "execution_count": 8,
      "outputs": []
    },
    {
      "cell_type": "code",
      "metadata": {
        "id": "O42laARXMNsf"
      },
      "source": [
        "# https://towardsdatascience.com/building-a-resnet-in-keras-e8f1322a49ba\n",
        "def relu_bn(inputs):\n",
        "    relu = tf.keras.layers.ReLU()(inputs)\n",
        "    bn = tf.keras.layers.BatchNormalization()(relu)\n",
        "    return bn\n",
        "\n",
        "def residual_block(x, downsample = False, filters = 16, kernel_size = 3):\n",
        "    y = tf.keras.layers.Conv2D(kernel_size=kernel_size,\n",
        "               strides= (1 if not downsample else 2),\n",
        "               filters=filters,\n",
        "               padding=\"same\")(x)\n",
        "    y = relu_bn(y)\n",
        "    y = tf.keras.layers.Conv2D(kernel_size=kernel_size,\n",
        "               strides=1,\n",
        "               filters=filters,\n",
        "               padding=\"same\")(y)\n",
        "\n",
        "    if downsample:\n",
        "        x = tf.keras.layers.Conv2D(kernel_size=1,\n",
        "                   strides=2,\n",
        "                   filters=filters,\n",
        "                   padding=\"same\")(x)\n",
        "    out = tf.keras.layers.Add()([x, y])\n",
        "    out = relu_bn(out)\n",
        "    return out\n",
        "\n",
        "def get_ResidualModel(num_users, num_items, embedding_dim, num_filters):\n",
        "    user_input = Input(shape = (1,), dtype = 'int32', name = 'user')\n",
        "    item_input = Input(shape = (1,), dtype = 'int32', name = 'item')\n",
        "\n",
        "    user_embedding = Embedding(input_dim = num_users, output_dim = embedding_dim, name = 'user_embed',\n",
        "                             embeddings_initializer = initializers.RandomNormal(stddev = 0.01), \n",
        "                             embeddings_regularizer = regularizers.l2(0), input_length = 1)\n",
        "    item_embedding = Embedding(input_dim = num_items, output_dim = embedding_dim, name = 'item_embed',\n",
        "                             embeddings_initializer = initializers.RandomNormal(stddev = 0.01), \n",
        "                             embeddings_regularizer = regularizers.l2(0), input_length = 1)\n",
        "\n",
        "    user_latent = Flatten()(user_embedding(user_input))\n",
        "    item_latent = Flatten()(item_embedding(item_input))\n",
        "\n",
        "    latent_map = tf.linalg.matmul(tf.expand_dims(user_latent, -1), tf.expand_dims(item_latent, 1))\n",
        "\n",
        "    x = tf.expand_dims(latent_map, -1)\n",
        "    \n",
        "    layers = [2, 2, 2]\n",
        "    \n",
        "    for i, num_layers in enumerate(layers):\n",
        "        for _ in range(num_layers):\n",
        "            x = residual_block(x, downsample = False, filters = num_filters, kernel_size = 3)\n",
        "          \n",
        "        if i == len(layers) - 1:\n",
        "            x = residual_block(x, downsample = False, filters = num_filters, kernel_size = 3)\n",
        "        else:\n",
        "            x = residual_block(x, downsample = True, filters = num_filters, kernel_size = 3)\n",
        "    \n",
        "    x = Flatten()(x)\n",
        "    prediction = Dense(1, activation='sigmoid', kernel_initializer='lecun_uniform', name = 'prediction')(x)\n",
        "    \n",
        "    return Model(inputs=[user_input, item_input], outputs=prediction)"
      ],
      "execution_count": 14,
      "outputs": []
    },
    {
      "cell_type": "code",
      "metadata": {
        "id": "sUDpyQkWMNsg",
        "outputId": "93cd96d2-8085-4fbf-a299-15f048ca21dc",
        "colab": {
          "base_uri": "https://localhost:8080/"
        }
      },
      "source": [
        "from keras.optimizers import Adam\n",
        "\n",
        "topK = 10\n",
        "\n",
        "#model = get_OuterProductmodel(num_users, num_items, 64)\n",
        "model = get_ResidualModel(num_users, num_items, embedding_dim = 4, num_filters = 32)\n",
        "model.compile(optimizer=Adam(0.005), loss='binary_crossentropy')\n",
        "model.summary()"
      ],
      "execution_count": 25,
      "outputs": [
        {
          "output_type": "stream",
          "text": [
            "Model: \"model_6\"\n",
            "__________________________________________________________________________________________________\n",
            "Layer (type)                    Output Shape         Param #     Connected to                     \n",
            "==================================================================================================\n",
            "user (InputLayer)               [(None, 1)]          0                                            \n",
            "__________________________________________________________________________________________________\n",
            "item (InputLayer)               [(None, 1)]          0                                            \n",
            "__________________________________________________________________________________________________\n",
            "user_embed (Embedding)          (None, 1, 4)         24160       user[0][0]                       \n",
            "__________________________________________________________________________________________________\n",
            "item_embed (Embedding)          (None, 1, 4)         14824       item[0][0]                       \n",
            "__________________________________________________________________________________________________\n",
            "flatten_18 (Flatten)            (None, 4)            0           user_embed[0][0]                 \n",
            "__________________________________________________________________________________________________\n",
            "flatten_19 (Flatten)            (None, 4)            0           item_embed[0][0]                 \n",
            "__________________________________________________________________________________________________\n",
            "tf.expand_dims_18 (TFOpLambda)  (None, 4, 1)         0           flatten_18[0][0]                 \n",
            "__________________________________________________________________________________________________\n",
            "tf.expand_dims_19 (TFOpLambda)  (None, 1, 4)         0           flatten_19[0][0]                 \n",
            "__________________________________________________________________________________________________\n",
            "tf.linalg.matmul_6 (TFOpLambda) (None, 4, 4)         0           tf.expand_dims_18[0][0]          \n",
            "                                                                 tf.expand_dims_19[0][0]          \n",
            "__________________________________________________________________________________________________\n",
            "tf.expand_dims_20 (TFOpLambda)  (None, 4, 4, 1)      0           tf.linalg.matmul_6[0][0]         \n",
            "__________________________________________________________________________________________________\n",
            "conv2d_124 (Conv2D)             (None, 4, 4, 32)     320         tf.expand_dims_20[0][0]          \n",
            "__________________________________________________________________________________________________\n",
            "re_lu_110 (ReLU)                (None, 4, 4, 32)     0           conv2d_124[0][0]                 \n",
            "__________________________________________________________________________________________________\n",
            "batch_normalization_110 (BatchN (None, 4, 4, 32)     128         re_lu_110[0][0]                  \n",
            "__________________________________________________________________________________________________\n",
            "conv2d_125 (Conv2D)             (None, 4, 4, 32)     9248        batch_normalization_110[0][0]    \n",
            "__________________________________________________________________________________________________\n",
            "add_55 (Add)                    (None, 4, 4, 32)     0           tf.expand_dims_20[0][0]          \n",
            "                                                                 conv2d_125[0][0]                 \n",
            "__________________________________________________________________________________________________\n",
            "re_lu_111 (ReLU)                (None, 4, 4, 32)     0           add_55[0][0]                     \n",
            "__________________________________________________________________________________________________\n",
            "batch_normalization_111 (BatchN (None, 4, 4, 32)     128         re_lu_111[0][0]                  \n",
            "__________________________________________________________________________________________________\n",
            "conv2d_126 (Conv2D)             (None, 4, 4, 32)     9248        batch_normalization_111[0][0]    \n",
            "__________________________________________________________________________________________________\n",
            "re_lu_112 (ReLU)                (None, 4, 4, 32)     0           conv2d_126[0][0]                 \n",
            "__________________________________________________________________________________________________\n",
            "batch_normalization_112 (BatchN (None, 4, 4, 32)     128         re_lu_112[0][0]                  \n",
            "__________________________________________________________________________________________________\n",
            "conv2d_127 (Conv2D)             (None, 4, 4, 32)     9248        batch_normalization_112[0][0]    \n",
            "__________________________________________________________________________________________________\n",
            "add_56 (Add)                    (None, 4, 4, 32)     0           batch_normalization_111[0][0]    \n",
            "                                                                 conv2d_127[0][0]                 \n",
            "__________________________________________________________________________________________________\n",
            "re_lu_113 (ReLU)                (None, 4, 4, 32)     0           add_56[0][0]                     \n",
            "__________________________________________________________________________________________________\n",
            "batch_normalization_113 (BatchN (None, 4, 4, 32)     128         re_lu_113[0][0]                  \n",
            "__________________________________________________________________________________________________\n",
            "conv2d_128 (Conv2D)             (None, 2, 2, 32)     9248        batch_normalization_113[0][0]    \n",
            "__________________________________________________________________________________________________\n",
            "re_lu_114 (ReLU)                (None, 2, 2, 32)     0           conv2d_128[0][0]                 \n",
            "__________________________________________________________________________________________________\n",
            "batch_normalization_114 (BatchN (None, 2, 2, 32)     128         re_lu_114[0][0]                  \n",
            "__________________________________________________________________________________________________\n",
            "conv2d_130 (Conv2D)             (None, 2, 2, 32)     1056        batch_normalization_113[0][0]    \n",
            "__________________________________________________________________________________________________\n",
            "conv2d_129 (Conv2D)             (None, 2, 2, 32)     9248        batch_normalization_114[0][0]    \n",
            "__________________________________________________________________________________________________\n",
            "add_57 (Add)                    (None, 2, 2, 32)     0           conv2d_130[0][0]                 \n",
            "                                                                 conv2d_129[0][0]                 \n",
            "__________________________________________________________________________________________________\n",
            "re_lu_115 (ReLU)                (None, 2, 2, 32)     0           add_57[0][0]                     \n",
            "__________________________________________________________________________________________________\n",
            "batch_normalization_115 (BatchN (None, 2, 2, 32)     128         re_lu_115[0][0]                  \n",
            "__________________________________________________________________________________________________\n",
            "conv2d_131 (Conv2D)             (None, 2, 2, 32)     9248        batch_normalization_115[0][0]    \n",
            "__________________________________________________________________________________________________\n",
            "re_lu_116 (ReLU)                (None, 2, 2, 32)     0           conv2d_131[0][0]                 \n",
            "__________________________________________________________________________________________________\n",
            "batch_normalization_116 (BatchN (None, 2, 2, 32)     128         re_lu_116[0][0]                  \n",
            "__________________________________________________________________________________________________\n",
            "conv2d_132 (Conv2D)             (None, 2, 2, 32)     9248        batch_normalization_116[0][0]    \n",
            "__________________________________________________________________________________________________\n",
            "add_58 (Add)                    (None, 2, 2, 32)     0           batch_normalization_115[0][0]    \n",
            "                                                                 conv2d_132[0][0]                 \n",
            "__________________________________________________________________________________________________\n",
            "re_lu_117 (ReLU)                (None, 2, 2, 32)     0           add_58[0][0]                     \n",
            "__________________________________________________________________________________________________\n",
            "batch_normalization_117 (BatchN (None, 2, 2, 32)     128         re_lu_117[0][0]                  \n",
            "__________________________________________________________________________________________________\n",
            "conv2d_133 (Conv2D)             (None, 2, 2, 32)     9248        batch_normalization_117[0][0]    \n",
            "__________________________________________________________________________________________________\n",
            "re_lu_118 (ReLU)                (None, 2, 2, 32)     0           conv2d_133[0][0]                 \n",
            "__________________________________________________________________________________________________\n",
            "batch_normalization_118 (BatchN (None, 2, 2, 32)     128         re_lu_118[0][0]                  \n",
            "__________________________________________________________________________________________________\n",
            "conv2d_134 (Conv2D)             (None, 2, 2, 32)     9248        batch_normalization_118[0][0]    \n",
            "__________________________________________________________________________________________________\n",
            "add_59 (Add)                    (None, 2, 2, 32)     0           batch_normalization_117[0][0]    \n",
            "                                                                 conv2d_134[0][0]                 \n",
            "__________________________________________________________________________________________________\n",
            "re_lu_119 (ReLU)                (None, 2, 2, 32)     0           add_59[0][0]                     \n",
            "__________________________________________________________________________________________________\n",
            "batch_normalization_119 (BatchN (None, 2, 2, 32)     128         re_lu_119[0][0]                  \n",
            "__________________________________________________________________________________________________\n",
            "conv2d_135 (Conv2D)             (None, 1, 1, 32)     9248        batch_normalization_119[0][0]    \n",
            "__________________________________________________________________________________________________\n",
            "re_lu_120 (ReLU)                (None, 1, 1, 32)     0           conv2d_135[0][0]                 \n",
            "__________________________________________________________________________________________________\n",
            "batch_normalization_120 (BatchN (None, 1, 1, 32)     128         re_lu_120[0][0]                  \n",
            "__________________________________________________________________________________________________\n",
            "conv2d_137 (Conv2D)             (None, 1, 1, 32)     1056        batch_normalization_119[0][0]    \n",
            "__________________________________________________________________________________________________\n",
            "conv2d_136 (Conv2D)             (None, 1, 1, 32)     9248        batch_normalization_120[0][0]    \n",
            "__________________________________________________________________________________________________\n",
            "add_60 (Add)                    (None, 1, 1, 32)     0           conv2d_137[0][0]                 \n",
            "                                                                 conv2d_136[0][0]                 \n",
            "__________________________________________________________________________________________________\n",
            "re_lu_121 (ReLU)                (None, 1, 1, 32)     0           add_60[0][0]                     \n",
            "__________________________________________________________________________________________________\n",
            "batch_normalization_121 (BatchN (None, 1, 1, 32)     128         re_lu_121[0][0]                  \n",
            "__________________________________________________________________________________________________\n",
            "conv2d_138 (Conv2D)             (None, 1, 1, 32)     9248        batch_normalization_121[0][0]    \n",
            "__________________________________________________________________________________________________\n",
            "re_lu_122 (ReLU)                (None, 1, 1, 32)     0           conv2d_138[0][0]                 \n",
            "__________________________________________________________________________________________________\n",
            "batch_normalization_122 (BatchN (None, 1, 1, 32)     128         re_lu_122[0][0]                  \n",
            "__________________________________________________________________________________________________\n",
            "conv2d_139 (Conv2D)             (None, 1, 1, 32)     9248        batch_normalization_122[0][0]    \n",
            "__________________________________________________________________________________________________\n",
            "add_61 (Add)                    (None, 1, 1, 32)     0           batch_normalization_121[0][0]    \n",
            "                                                                 conv2d_139[0][0]                 \n",
            "__________________________________________________________________________________________________\n",
            "re_lu_123 (ReLU)                (None, 1, 1, 32)     0           add_61[0][0]                     \n",
            "__________________________________________________________________________________________________\n",
            "batch_normalization_123 (BatchN (None, 1, 1, 32)     128         re_lu_123[0][0]                  \n",
            "__________________________________________________________________________________________________\n",
            "conv2d_140 (Conv2D)             (None, 1, 1, 32)     9248        batch_normalization_123[0][0]    \n",
            "__________________________________________________________________________________________________\n",
            "re_lu_124 (ReLU)                (None, 1, 1, 32)     0           conv2d_140[0][0]                 \n",
            "__________________________________________________________________________________________________\n",
            "batch_normalization_124 (BatchN (None, 1, 1, 32)     128         re_lu_124[0][0]                  \n",
            "__________________________________________________________________________________________________\n",
            "conv2d_141 (Conv2D)             (None, 1, 1, 32)     9248        batch_normalization_124[0][0]    \n",
            "__________________________________________________________________________________________________\n",
            "add_62 (Add)                    (None, 1, 1, 32)     0           batch_normalization_123[0][0]    \n",
            "                                                                 conv2d_141[0][0]                 \n",
            "__________________________________________________________________________________________________\n",
            "re_lu_125 (ReLU)                (None, 1, 1, 32)     0           add_62[0][0]                     \n",
            "__________________________________________________________________________________________________\n",
            "batch_normalization_125 (BatchN (None, 1, 1, 32)     128         re_lu_125[0][0]                  \n",
            "__________________________________________________________________________________________________\n",
            "conv2d_142 (Conv2D)             (None, 1, 1, 32)     9248        batch_normalization_125[0][0]    \n",
            "__________________________________________________________________________________________________\n",
            "re_lu_126 (ReLU)                (None, 1, 1, 32)     0           conv2d_142[0][0]                 \n",
            "__________________________________________________________________________________________________\n",
            "batch_normalization_126 (BatchN (None, 1, 1, 32)     128         re_lu_126[0][0]                  \n",
            "__________________________________________________________________________________________________\n",
            "conv2d_143 (Conv2D)             (None, 1, 1, 32)     9248        batch_normalization_126[0][0]    \n",
            "__________________________________________________________________________________________________\n",
            "add_63 (Add)                    (None, 1, 1, 32)     0           batch_normalization_125[0][0]    \n",
            "                                                                 conv2d_143[0][0]                 \n",
            "__________________________________________________________________________________________________\n",
            "re_lu_127 (ReLU)                (None, 1, 1, 32)     0           add_63[0][0]                     \n",
            "__________________________________________________________________________________________________\n",
            "batch_normalization_127 (BatchN (None, 1, 1, 32)     128         re_lu_127[0][0]                  \n",
            "__________________________________________________________________________________________________\n",
            "flatten_20 (Flatten)            (None, 32)           0           batch_normalization_127[0][0]    \n",
            "__________________________________________________________________________________________________\n",
            "prediction (Dense)              (None, 1)            33          flatten_20[0][0]                 \n",
            "==================================================================================================\n",
            "Total params: 200,969\n",
            "Trainable params: 199,817\n",
            "Non-trainable params: 1,152\n",
            "__________________________________________________________________________________________________\n"
          ],
          "name": "stdout"
        }
      ]
    },
    {
      "cell_type": "markdown",
      "metadata": {
        "id": "4Xq_O-jpMNsh"
      },
      "source": [
        "## Define Evaluation Functions"
      ]
    },
    {
      "cell_type": "code",
      "metadata": {
        "id": "MpxcHcNJMNsh"
      },
      "source": [
        "def evaluateNDCG(ranked_list, target_item):\n",
        "    for i in range(len(ranked_list)):\n",
        "        if ranked_list[i] == target_item:\n",
        "            return math.log(2) / math.log(i + 2)\n",
        "  \n",
        "    return 0\n",
        "\n",
        "def hitRate(ranked_list, target_item):\n",
        "    for rank in ranked_list:\n",
        "        if target_item == rank:\n",
        "            return 1\n",
        "    return 0\n",
        "\n",
        "# This method calculates all the evaluation metrics. Individual methods are called from here.\n",
        "def evaluate(model, testPosRatings, testNegRatings, N):\n",
        "    hits = []\n",
        "    ndcgs = []\n",
        "    for i in range(len(testPosRatings)):\n",
        "        hit, ncdg = evaluate_one(model, testPosRatings[i], testNegRatings[i], N)\n",
        "        hits.append(hit)\n",
        "        ndcgs.append(ncdg)\n",
        "        \n",
        "    return np.array(hits).mean(), np.array(ndcgs).mean()\n",
        "\n",
        "def evaluate_one(model, posRating, negRatings, N):\n",
        "    user = posRating[0]\n",
        "    movie = posRating[1]\n",
        "    negRatings.append(movie)\n",
        "\n",
        "    user_input = np.full(len(negRatings), user)\n",
        "\n",
        "    predictions = model.predict([user_input, np.array(negRatings)], batch_size = 100)\n",
        "\n",
        "  # associate item with predictions\n",
        "    items = {}\n",
        "    for i in range(len(predictions)):\n",
        "        items[negRatings[i]] = predictions[i]\n",
        "    negRatings.pop()\n",
        "\n",
        "    rankedList = heapq.nlargest(N, items, items.get)\n",
        "    ndcg = evaluateNDCG(rankedList, movie)\n",
        "    hit = hitRate(rankedList, movie)\n",
        "\n",
        "    return hit, ndcg"
      ],
      "execution_count": 26,
      "outputs": []
    },
    {
      "cell_type": "markdown",
      "metadata": {
        "id": "Cd6mX7qnMNsh"
      },
      "source": [
        "## Train and Save Best Model"
      ]
    },
    {
      "cell_type": "code",
      "metadata": {
        "scrolled": true,
        "id": "JKPF6QncMNsh",
        "outputId": "f5b079b2-5277-4c84-8140-93c13b025e41",
        "colab": {
          "base_uri": "https://localhost:8080/"
        }
      },
      "source": [
        "NUM_EPOCHS = 20\n",
        "best_hr = 0\n",
        "best_ncdg = 0\n",
        "best_epoch = -1\n",
        "model_path = \"ResNet_Model.h5\"\n",
        "\n",
        "user_input, item_input, labels = get_train_instances(train, num_negatives = 4)\n",
        "model.evaluate([np.array(user_input), np.array(item_input)],\n",
        "                      np.array(labels),\n",
        "                      batch_size = 256)\n",
        "\n",
        "hit_rate, ncdg = evaluate(model, test_ratings, test_negatives, N = 10)\n",
        "print('Initial Model', 'Hit Rate:', hit_rate, 'NCDG:', ncdg)\n",
        "\n",
        "for epoch in range(1, NUM_EPOCHS + 1):\n",
        "    user_input, item_input, labels = get_train_instances(train, num_negatives = 4)\n",
        "\n",
        "    hist = model.fit([np.array(user_input), np.array(item_input)],\n",
        "                      np.array(labels),\n",
        "                      batch_size = 512, epochs = 1)\n",
        "\n",
        "    hit_rate, ncdg = evaluate(model, test_ratings, test_negatives, N = 10)\n",
        "    print('Epoch', epoch, 'Hit Rate:', hit_rate, 'NCDG:', ncdg)\n",
        "    model.save(model_path)\n",
        "\n",
        "    if hit_rate > best_hr:\n",
        "        best_hr, best_ncdg, best_iter = hit_rate, ncdg, epoch\n",
        "        model.save(model_path, overwrite=True)\n",
        "\n",
        "print(\"Best Iteration %d:  HR = %.4f, NDCG = %.4f. \" %(best_iter, best_hr, best_ncdg))\n",
        "print(\"The best Outer Product model is saved to %s\" %(model_path))"
      ],
      "execution_count": 27,
      "outputs": [
        {
          "output_type": "stream",
          "text": [
            "19418/19418 [==============================] - 73s 4ms/step - loss: 0.6932\n",
            "Initial Model Hit Rate: 0.11357615894039735 NCDG: 0.05362733732335355\n",
            "9709/9709 [==============================] - 99s 10ms/step - loss: 0.3760\n",
            "Epoch 1 Hit Rate: 0.44519867549668873 NCDG: 0.24532661019846647\n",
            "9709/9709 [==============================] - 97s 10ms/step - loss: 0.3487\n",
            "Epoch 2 Hit Rate: 0.48443708609271524 NCDG: 0.26758745588254657\n",
            "9709/9709 [==============================] - 96s 10ms/step - loss: 0.3340\n",
            "Epoch 3 Hit Rate: 0.5016556291390728 NCDG: 0.2777408693810437\n",
            "9709/9709 [==============================] - 96s 10ms/step - loss: 0.3273\n",
            "Epoch 4 Hit Rate: 0.5231788079470199 NCDG: 0.28444157653746105\n",
            "9709/9709 [==============================] - 97s 10ms/step - loss: 0.3205\n",
            "Epoch 5 Hit Rate: 0.5384105960264901 NCDG: 0.2963511111263239\n",
            "9709/9709 [==============================] - 96s 10ms/step - loss: 0.3149\n",
            "Epoch 6 Hit Rate: 0.5473509933774835 NCDG: 0.30252841078746157\n",
            "9709/9709 [==============================] - 96s 10ms/step - loss: 0.3112\n",
            "Epoch 7 Hit Rate: 0.5501655629139073 NCDG: 0.30380914718165913\n",
            "9709/9709 [==============================] - 97s 10ms/step - loss: 0.3089\n",
            "Epoch 8 Hit Rate: 0.5552980132450331 NCDG: 0.3074758472570102\n",
            "9709/9709 [==============================] - 96s 10ms/step - loss: 0.3070\n",
            "Epoch 9 Hit Rate: 0.5650662251655629 NCDG: 0.3142506957732838\n",
            "9709/9709 [==============================] - 98s 10ms/step - loss: 0.3056\n",
            "Epoch 10 Hit Rate: 0.5600993377483444 NCDG: 0.3124920839036559\n",
            "9709/9709 [==============================] - 96s 10ms/step - loss: 0.3042\n",
            "Epoch 11 Hit Rate: 0.5612582781456954 NCDG: 0.3098625906445932\n",
            "9709/9709 [==============================] - 96s 10ms/step - loss: 0.3034\n",
            "Epoch 12 Hit Rate: 0.5675496688741721 NCDG: 0.315209052933221\n",
            "9709/9709 [==============================] - 99s 10ms/step - loss: 0.3024\n",
            "Epoch 13 Hit Rate: 0.5708609271523178 NCDG: 0.31940104107755757\n",
            "9709/9709 [==============================] - 97s 10ms/step - loss: 0.3018\n",
            "Epoch 14 Hit Rate: 0.5687086092715232 NCDG: 0.3171121368496925\n",
            "9709/9709 [==============================] - 96s 10ms/step - loss: 0.3010\n",
            "Epoch 15 Hit Rate: 0.5658940397350993 NCDG: 0.3152506641439492\n",
            "9709/9709 [==============================] - 96s 10ms/step - loss: 0.3003\n",
            "Epoch 16 Hit Rate: 0.5789735099337748 NCDG: 0.3219958038542057\n",
            "9709/9709 [==============================] - 96s 10ms/step - loss: 0.2995\n",
            "Epoch 17 Hit Rate: 0.5697019867549669 NCDG: 0.3166973743799708\n",
            "9709/9709 [==============================] - 96s 10ms/step - loss: 0.2992\n",
            "Epoch 18 Hit Rate: 0.572682119205298 NCDG: 0.31870544817343466\n",
            "9709/9709 [==============================] - 97s 10ms/step - loss: 0.2985\n",
            "Epoch 19 Hit Rate: 0.5836092715231788 NCDG: 0.32304561013111854\n",
            "9709/9709 [==============================] - 98s 10ms/step - loss: 0.2980\n",
            "Epoch 20 Hit Rate: 0.5783112582781457 NCDG: 0.32116110333599845\n",
            "Best Iteration 19:  HR = 0.5836, NDCG = 0.3230. \n",
            "The best Outer Product model is saved to ResNet_Model.h5\n"
          ],
          "name": "stdout"
        }
      ]
    },
    {
      "cell_type": "code",
      "metadata": {
        "id": "yswEGJvHMNsi"
      },
      "source": [
        ""
      ],
      "execution_count": null,
      "outputs": []
    }
  ]
}