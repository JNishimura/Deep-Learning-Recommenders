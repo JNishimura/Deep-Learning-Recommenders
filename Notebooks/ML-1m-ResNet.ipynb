{
  "nbformat": 4,
  "nbformat_minor": 0,
  "metadata": {
    "kernelspec": {
      "display_name": "Python 3",
      "language": "python",
      "name": "python3"
    },
    "language_info": {
      "codemirror_mode": {
        "name": "ipython",
        "version": 3
      },
      "file_extension": ".py",
      "mimetype": "text/x-python",
      "name": "python",
      "nbconvert_exporter": "python",
      "pygments_lexer": "ipython3",
      "version": "3.8.5"
    },
    "colab": {
      "name": "ML-1m-ResNet.ipynb",
      "provenance": [],
      "toc_visible": true,
      "machine_shape": "hm"
    },
    "accelerator": "GPU"
  },
  "cells": [
    {
      "cell_type": "code",
      "metadata": {
        "id": "r41TN-w7MNsb",
        "colab": {
          "base_uri": "https://localhost:8080/"
        },
        "outputId": "6f718e38-0e52-4cd6-c23d-b7bf8bb58dbe"
      },
      "source": [
        "!pip install keras"
      ],
      "execution_count": 1,
      "outputs": [
        {
          "output_type": "stream",
          "text": [
            "Requirement already satisfied: keras in /usr/local/lib/python3.7/dist-packages (2.4.3)\n",
            "Requirement already satisfied: scipy>=0.14 in /usr/local/lib/python3.7/dist-packages (from keras) (1.4.1)\n",
            "Requirement already satisfied: pyyaml in /usr/local/lib/python3.7/dist-packages (from keras) (3.13)\n",
            "Requirement already satisfied: h5py in /usr/local/lib/python3.7/dist-packages (from keras) (2.10.0)\n",
            "Requirement already satisfied: numpy>=1.9.1 in /usr/local/lib/python3.7/dist-packages (from keras) (1.19.5)\n",
            "Requirement already satisfied: six in /usr/local/lib/python3.7/dist-packages (from h5py->keras) (1.15.0)\n"
          ],
          "name": "stdout"
        }
      ]
    },
    {
      "cell_type": "markdown",
      "metadata": {
        "id": "8kCsk-qnMNsc"
      },
      "source": [
        "## Imports"
      ]
    },
    {
      "cell_type": "code",
      "metadata": {
        "id": "GOPQjNmXMNsc"
      },
      "source": [
        "import numpy as np\n",
        "import scipy as sp\n",
        "\n",
        "import tensorflow as tf\n",
        "\n",
        "import heapq\n",
        "import math"
      ],
      "execution_count": 2,
      "outputs": []
    },
    {
      "cell_type": "markdown",
      "metadata": {
        "id": "WxvyocEYMNsd"
      },
      "source": [
        "## Load Dataset"
      ]
    },
    {
      "cell_type": "code",
      "metadata": {
        "id": "TUTfIfWKMNsd"
      },
      "source": [
        "def load_rating_file_as_list(filename):\n",
        "    rating_list = []\n",
        "    \n",
        "    with open(filename, \"r\") as f:\n",
        "        line = f.readline()\n",
        "        \n",
        "        while line and line != \"\":\n",
        "            arr = line.split(\"\\t\")\n",
        "            user, item = int(arr[0]), int(arr[1])\n",
        "            rating_list.append([user, item])\n",
        "            line = f.readline()\n",
        "    \n",
        "    return rating_list\n",
        "\n",
        "def load_negative_file(filename):\n",
        "    negative_list = []\n",
        "    \n",
        "    with open(filename, \"r\") as f:\n",
        "        line = f.readline()\n",
        "        \n",
        "        while line and line != \"\":\n",
        "            arr = line.split(\"\\t\")\n",
        "            negatives = []\n",
        "            \n",
        "            for x in arr[1:]:\n",
        "                negatives.append(int(x))\n",
        "            \n",
        "            negative_list.append(negatives)\n",
        "            \n",
        "            line = f.readline()\n",
        "    \n",
        "    return negative_list\n",
        "\n",
        "def load_rating_file_as_matrix(filename):\n",
        "    num_users, num_items = 0, 0\n",
        "    with open(filename, \"r\") as f:\n",
        "        line = f.readline()\n",
        "        while line != None and line != \"\":\n",
        "            arr = line.split(\"\\t\")\n",
        "            u, i = int(arr[0]), int(arr[1])\n",
        "            num_users = max(num_users, u)\n",
        "            num_items = max(num_items, i)\n",
        "            line = f.readline()\n",
        "    \n",
        "    mat = sp.sparse.dok_matrix((num_users+1, num_items+1), dtype=np.float32)\n",
        "    with open(filename, \"r\") as f:\n",
        "        line = f.readline()\n",
        "        while line != None and line != \"\":\n",
        "            arr = line.split(\"\\t\")\n",
        "            user, item, rating = int(arr[0]), int(arr[1]), float(arr[2])\n",
        "            if (rating > 0):\n",
        "                mat[user, item] = 1.0\n",
        "            line = f.readline()    \n",
        "    return mat"
      ],
      "execution_count": 3,
      "outputs": []
    },
    {
      "cell_type": "code",
      "metadata": {
        "id": "ElQPrHd3MNsd"
      },
      "source": [
        "train = load_rating_file_as_matrix('./Data/ml-1m/ml-1m.train.rating')\n",
        "test_ratings = load_rating_file_as_list('./Data/ml-1m/ml-1m.test.rating')\n",
        "test_negatives = load_negative_file('./Data/ml-1m/ml-1m.test.negative')"
      ],
      "execution_count": 4,
      "outputs": []
    },
    {
      "cell_type": "code",
      "metadata": {
        "id": "VfufKvnFMNse",
        "colab": {
          "base_uri": "https://localhost:8080/"
        },
        "outputId": "07e8f9ee-17c8-43cc-c62c-9f8474466b27"
      },
      "source": [
        "num_users, num_items = train.shape\n",
        "print('Loaded Data. # Users:', num_users, '# Items:', num_items, '# Train:', train.nnz, '# Test:', len(test_ratings))"
      ],
      "execution_count": 5,
      "outputs": [
        {
          "output_type": "stream",
          "text": [
            "Loaded Data. # Users: 6040 # Items: 3706 # Train: 994169 # Test: 6040\n"
          ],
          "name": "stdout"
        }
      ]
    },
    {
      "cell_type": "markdown",
      "metadata": {
        "id": "tsyLeX5_MNse"
      },
      "source": [
        "### Helper to Generate Negative Training Examples"
      ]
    },
    {
      "cell_type": "code",
      "metadata": {
        "id": "ahlLfWyjMNse"
      },
      "source": [
        "def get_train_instances(train, num_negatives):\n",
        "    user_input, item_input, labels = [],[],[]\n",
        "    num_users = train.shape[0]\n",
        "    for (u, i) in train.keys():\n",
        "        # positive instance\n",
        "        user_input.append(u)\n",
        "        item_input.append(i)\n",
        "        labels.append(1)\n",
        "        # negative instances\n",
        "        for t in range(num_negatives):\n",
        "            j = np.random.randint(num_items)\n",
        "            while train.get((u, j)):\n",
        "                j = np.random.randint(num_items)\n",
        "            user_input.append(u)\n",
        "            item_input.append(j)\n",
        "            labels.append(0)\n",
        "    return user_input, item_input, labels"
      ],
      "execution_count": 6,
      "outputs": []
    },
    {
      "cell_type": "markdown",
      "metadata": {
        "id": "KpnyPktaMNsf"
      },
      "source": [
        "## Create Model"
      ]
    },
    {
      "cell_type": "code",
      "metadata": {
        "id": "VLHDm93QMNsf"
      },
      "source": [
        "from keras.models import Model\n",
        "from keras.layers import Embedding, Input, Dense, Reshape, Multiply, Flatten, Lambda, Concatenate, Conv2D, MaxPool2D\n",
        "from keras import initializers, regularizers\n",
        "import sys\n",
        "\n",
        "def get_OuterProductmodel(num_users, num_items, latent_dim):\n",
        "    user_input = Input(shape = (1,), dtype = 'int32', name = 'user')\n",
        "    item_input = Input(shape = (1,), dtype = 'int32', name = 'item')\n",
        "\n",
        "    user_embedding = Embedding(input_dim = num_users, output_dim = latent_dim, name = 'user_embed',\n",
        "                             embeddings_initializer = initializers.RandomNormal(stddev = 0.01), \n",
        "                             embeddings_regularizer = regularizers.l2(0), input_length = 1)\n",
        "    item_embedding = Embedding(input_dim = num_items, output_dim = latent_dim, name = 'item_embed',\n",
        "                             embeddings_initializer = initializers.RandomNormal(stddev = 0.01), \n",
        "                             embeddings_regularizer = regularizers.l2(0), input_length = 1)\n",
        "\n",
        "    user_latent = Flatten()(user_embedding(user_input))\n",
        "    item_latent = Flatten()(item_embedding(item_input))\n",
        "\n",
        "    latent_map = tf.linalg.matmul(tf.expand_dims(user_latent, -1), tf.expand_dims(item_latent, 1))\n",
        "\n",
        "    x = tf.expand_dims(latent_map, -1)\n",
        "\n",
        "    x = Conv2D(64, 3, activation='relu', padding='same')(x)\n",
        "    x = MaxPool2D(pool_size=2)(x)\n",
        "    x = Conv2D(64, 3, activation='relu', padding='same')(x)\n",
        "    x = MaxPool2D(pool_size=2)(x)\n",
        "    x = Conv2D(64, 3, activation='relu', padding='same')(x)\n",
        "    x = MaxPool2D(pool_size=2)(x)\n",
        "    x = Conv2D(64, 3, activation='relu', padding='same')(x)\n",
        "    x = Flatten()(x)\n",
        "    prediction = Dense(1, activation='sigmoid', kernel_initializer='lecun_uniform', name = 'prediction')(x)\n",
        "\n",
        "    return Model(inputs=[user_input, item_input], outputs=prediction)"
      ],
      "execution_count": 7,
      "outputs": []
    },
    {
      "cell_type": "code",
      "metadata": {
        "id": "O42laARXMNsf"
      },
      "source": [
        "# https://towardsdatascience.com/building-a-resnet-in-keras-e8f1322a49ba\n",
        "def relu_bn(inputs):\n",
        "    relu = tf.keras.layers.ReLU()(inputs)\n",
        "    bn = tf.keras.layers.BatchNormalization()(relu)\n",
        "    return bn\n",
        "\n",
        "def residual_block(x, downsample = False, filters = 16, kernel_size = 3):\n",
        "    y = tf.keras.layers.Conv2D(kernel_size=kernel_size,\n",
        "               strides= (1 if not downsample else 2),\n",
        "               filters=filters,\n",
        "               padding=\"same\")(x)\n",
        "    y = relu_bn(y)\n",
        "    y = tf.keras.layers.Conv2D(kernel_size=kernel_size,\n",
        "               strides=1,\n",
        "               filters=filters,\n",
        "               padding=\"same\")(y)\n",
        "\n",
        "    if downsample:\n",
        "        x = tf.keras.layers.Conv2D(kernel_size=1,\n",
        "                   strides=2,\n",
        "                   filters=filters,\n",
        "                   padding=\"same\")(x)\n",
        "    out = tf.keras.layers.Add()([x, y])\n",
        "    out = relu_bn(out)\n",
        "    return out\n",
        "\n",
        "def get_ResidualModel(num_users, num_items, embedding_dim, num_filters):\n",
        "    user_input = Input(shape = (1,), dtype = 'int32', name = 'user')\n",
        "    item_input = Input(shape = (1,), dtype = 'int32', name = 'item')\n",
        "\n",
        "    user_embedding = Embedding(input_dim = num_users, output_dim = embedding_dim, name = 'user_embed',\n",
        "                             embeddings_initializer = initializers.RandomNormal(stddev = 0.01), \n",
        "                             embeddings_regularizer = regularizers.l2(0), input_length = 1)\n",
        "    item_embedding = Embedding(input_dim = num_items, output_dim = embedding_dim, name = 'item_embed',\n",
        "                             embeddings_initializer = initializers.RandomNormal(stddev = 0.01), \n",
        "                             embeddings_regularizer = regularizers.l2(0), input_length = 1)\n",
        "\n",
        "    user_latent = Flatten()(user_embedding(user_input))\n",
        "    item_latent = Flatten()(item_embedding(item_input))\n",
        "\n",
        "    latent_map = tf.linalg.matmul(tf.expand_dims(user_latent, -1), tf.expand_dims(item_latent, 1))\n",
        "\n",
        "    x = tf.expand_dims(latent_map, -1)\n",
        "    \n",
        "    layers = [2, 2, 2]\n",
        "    \n",
        "    for i, num_layers in enumerate(layers):\n",
        "        for _ in range(num_layers):\n",
        "            x = residual_block(x, downsample = False, filters = num_filters, kernel_size = 3)\n",
        "          \n",
        "        if i == len(layers) - 1:\n",
        "            x = residual_block(x, downsample = False, filters = num_filters, kernel_size = 3)\n",
        "        else:\n",
        "            x = residual_block(x, downsample = True, filters = num_filters, kernel_size = 3)\n",
        "    \n",
        "    x = Flatten()(x)\n",
        "    prediction = Dense(1, activation='sigmoid', kernel_initializer='lecun_uniform', name = 'prediction')(x)\n",
        "    \n",
        "    return Model(inputs=[user_input, item_input], outputs=prediction)"
      ],
      "execution_count": 8,
      "outputs": []
    },
    {
      "cell_type": "code",
      "metadata": {
        "id": "sUDpyQkWMNsg",
        "colab": {
          "base_uri": "https://localhost:8080/"
        },
        "outputId": "7a6a8e59-08c5-4551-b63a-551e76fde1ba"
      },
      "source": [
        "from keras.optimizers import Adam\n",
        "\n",
        "topK = 10\n",
        "\n",
        "#model = get_OuterProductmodel(num_users, num_items, 64)\n",
        "model = get_ResidualModel(num_users, num_items, embedding_dim = 32, num_filters = 32)\n",
        "model.compile(optimizer=Adam(0.005), loss='binary_crossentropy')\n",
        "model.summary()"
      ],
      "execution_count": 9,
      "outputs": [
        {
          "output_type": "stream",
          "text": [
            "Model: \"model\"\n",
            "__________________________________________________________________________________________________\n",
            "Layer (type)                    Output Shape         Param #     Connected to                     \n",
            "==================================================================================================\n",
            "user (InputLayer)               [(None, 1)]          0                                            \n",
            "__________________________________________________________________________________________________\n",
            "item (InputLayer)               [(None, 1)]          0                                            \n",
            "__________________________________________________________________________________________________\n",
            "user_embed (Embedding)          (None, 1, 32)        193280      user[0][0]                       \n",
            "__________________________________________________________________________________________________\n",
            "item_embed (Embedding)          (None, 1, 32)        118592      item[0][0]                       \n",
            "__________________________________________________________________________________________________\n",
            "flatten (Flatten)               (None, 32)           0           user_embed[0][0]                 \n",
            "__________________________________________________________________________________________________\n",
            "flatten_1 (Flatten)             (None, 32)           0           item_embed[0][0]                 \n",
            "__________________________________________________________________________________________________\n",
            "tf.expand_dims (TFOpLambda)     (None, 32, 1)        0           flatten[0][0]                    \n",
            "__________________________________________________________________________________________________\n",
            "tf.expand_dims_1 (TFOpLambda)   (None, 1, 32)        0           flatten_1[0][0]                  \n",
            "__________________________________________________________________________________________________\n",
            "tf.linalg.matmul (TFOpLambda)   (None, 32, 32)       0           tf.expand_dims[0][0]             \n",
            "                                                                 tf.expand_dims_1[0][0]           \n",
            "__________________________________________________________________________________________________\n",
            "tf.expand_dims_2 (TFOpLambda)   (None, 32, 32, 1)    0           tf.linalg.matmul[0][0]           \n",
            "__________________________________________________________________________________________________\n",
            "conv2d (Conv2D)                 (None, 32, 32, 32)   320         tf.expand_dims_2[0][0]           \n",
            "__________________________________________________________________________________________________\n",
            "re_lu (ReLU)                    (None, 32, 32, 32)   0           conv2d[0][0]                     \n",
            "__________________________________________________________________________________________________\n",
            "batch_normalization (BatchNorma (None, 32, 32, 32)   128         re_lu[0][0]                      \n",
            "__________________________________________________________________________________________________\n",
            "conv2d_1 (Conv2D)               (None, 32, 32, 32)   9248        batch_normalization[0][0]        \n",
            "__________________________________________________________________________________________________\n",
            "add (Add)                       (None, 32, 32, 32)   0           tf.expand_dims_2[0][0]           \n",
            "                                                                 conv2d_1[0][0]                   \n",
            "__________________________________________________________________________________________________\n",
            "re_lu_1 (ReLU)                  (None, 32, 32, 32)   0           add[0][0]                        \n",
            "__________________________________________________________________________________________________\n",
            "batch_normalization_1 (BatchNor (None, 32, 32, 32)   128         re_lu_1[0][0]                    \n",
            "__________________________________________________________________________________________________\n",
            "conv2d_2 (Conv2D)               (None, 32, 32, 32)   9248        batch_normalization_1[0][0]      \n",
            "__________________________________________________________________________________________________\n",
            "re_lu_2 (ReLU)                  (None, 32, 32, 32)   0           conv2d_2[0][0]                   \n",
            "__________________________________________________________________________________________________\n",
            "batch_normalization_2 (BatchNor (None, 32, 32, 32)   128         re_lu_2[0][0]                    \n",
            "__________________________________________________________________________________________________\n",
            "conv2d_3 (Conv2D)               (None, 32, 32, 32)   9248        batch_normalization_2[0][0]      \n",
            "__________________________________________________________________________________________________\n",
            "add_1 (Add)                     (None, 32, 32, 32)   0           batch_normalization_1[0][0]      \n",
            "                                                                 conv2d_3[0][0]                   \n",
            "__________________________________________________________________________________________________\n",
            "re_lu_3 (ReLU)                  (None, 32, 32, 32)   0           add_1[0][0]                      \n",
            "__________________________________________________________________________________________________\n",
            "batch_normalization_3 (BatchNor (None, 32, 32, 32)   128         re_lu_3[0][0]                    \n",
            "__________________________________________________________________________________________________\n",
            "conv2d_4 (Conv2D)               (None, 16, 16, 32)   9248        batch_normalization_3[0][0]      \n",
            "__________________________________________________________________________________________________\n",
            "re_lu_4 (ReLU)                  (None, 16, 16, 32)   0           conv2d_4[0][0]                   \n",
            "__________________________________________________________________________________________________\n",
            "batch_normalization_4 (BatchNor (None, 16, 16, 32)   128         re_lu_4[0][0]                    \n",
            "__________________________________________________________________________________________________\n",
            "conv2d_6 (Conv2D)               (None, 16, 16, 32)   1056        batch_normalization_3[0][0]      \n",
            "__________________________________________________________________________________________________\n",
            "conv2d_5 (Conv2D)               (None, 16, 16, 32)   9248        batch_normalization_4[0][0]      \n",
            "__________________________________________________________________________________________________\n",
            "add_2 (Add)                     (None, 16, 16, 32)   0           conv2d_6[0][0]                   \n",
            "                                                                 conv2d_5[0][0]                   \n",
            "__________________________________________________________________________________________________\n",
            "re_lu_5 (ReLU)                  (None, 16, 16, 32)   0           add_2[0][0]                      \n",
            "__________________________________________________________________________________________________\n",
            "batch_normalization_5 (BatchNor (None, 16, 16, 32)   128         re_lu_5[0][0]                    \n",
            "__________________________________________________________________________________________________\n",
            "conv2d_7 (Conv2D)               (None, 16, 16, 32)   9248        batch_normalization_5[0][0]      \n",
            "__________________________________________________________________________________________________\n",
            "re_lu_6 (ReLU)                  (None, 16, 16, 32)   0           conv2d_7[0][0]                   \n",
            "__________________________________________________________________________________________________\n",
            "batch_normalization_6 (BatchNor (None, 16, 16, 32)   128         re_lu_6[0][0]                    \n",
            "__________________________________________________________________________________________________\n",
            "conv2d_8 (Conv2D)               (None, 16, 16, 32)   9248        batch_normalization_6[0][0]      \n",
            "__________________________________________________________________________________________________\n",
            "add_3 (Add)                     (None, 16, 16, 32)   0           batch_normalization_5[0][0]      \n",
            "                                                                 conv2d_8[0][0]                   \n",
            "__________________________________________________________________________________________________\n",
            "re_lu_7 (ReLU)                  (None, 16, 16, 32)   0           add_3[0][0]                      \n",
            "__________________________________________________________________________________________________\n",
            "batch_normalization_7 (BatchNor (None, 16, 16, 32)   128         re_lu_7[0][0]                    \n",
            "__________________________________________________________________________________________________\n",
            "conv2d_9 (Conv2D)               (None, 16, 16, 32)   9248        batch_normalization_7[0][0]      \n",
            "__________________________________________________________________________________________________\n",
            "re_lu_8 (ReLU)                  (None, 16, 16, 32)   0           conv2d_9[0][0]                   \n",
            "__________________________________________________________________________________________________\n",
            "batch_normalization_8 (BatchNor (None, 16, 16, 32)   128         re_lu_8[0][0]                    \n",
            "__________________________________________________________________________________________________\n",
            "conv2d_10 (Conv2D)              (None, 16, 16, 32)   9248        batch_normalization_8[0][0]      \n",
            "__________________________________________________________________________________________________\n",
            "add_4 (Add)                     (None, 16, 16, 32)   0           batch_normalization_7[0][0]      \n",
            "                                                                 conv2d_10[0][0]                  \n",
            "__________________________________________________________________________________________________\n",
            "re_lu_9 (ReLU)                  (None, 16, 16, 32)   0           add_4[0][0]                      \n",
            "__________________________________________________________________________________________________\n",
            "batch_normalization_9 (BatchNor (None, 16, 16, 32)   128         re_lu_9[0][0]                    \n",
            "__________________________________________________________________________________________________\n",
            "conv2d_11 (Conv2D)              (None, 8, 8, 32)     9248        batch_normalization_9[0][0]      \n",
            "__________________________________________________________________________________________________\n",
            "re_lu_10 (ReLU)                 (None, 8, 8, 32)     0           conv2d_11[0][0]                  \n",
            "__________________________________________________________________________________________________\n",
            "batch_normalization_10 (BatchNo (None, 8, 8, 32)     128         re_lu_10[0][0]                   \n",
            "__________________________________________________________________________________________________\n",
            "conv2d_13 (Conv2D)              (None, 8, 8, 32)     1056        batch_normalization_9[0][0]      \n",
            "__________________________________________________________________________________________________\n",
            "conv2d_12 (Conv2D)              (None, 8, 8, 32)     9248        batch_normalization_10[0][0]     \n",
            "__________________________________________________________________________________________________\n",
            "add_5 (Add)                     (None, 8, 8, 32)     0           conv2d_13[0][0]                  \n",
            "                                                                 conv2d_12[0][0]                  \n",
            "__________________________________________________________________________________________________\n",
            "re_lu_11 (ReLU)                 (None, 8, 8, 32)     0           add_5[0][0]                      \n",
            "__________________________________________________________________________________________________\n",
            "batch_normalization_11 (BatchNo (None, 8, 8, 32)     128         re_lu_11[0][0]                   \n",
            "__________________________________________________________________________________________________\n",
            "conv2d_14 (Conv2D)              (None, 8, 8, 32)     9248        batch_normalization_11[0][0]     \n",
            "__________________________________________________________________________________________________\n",
            "re_lu_12 (ReLU)                 (None, 8, 8, 32)     0           conv2d_14[0][0]                  \n",
            "__________________________________________________________________________________________________\n",
            "batch_normalization_12 (BatchNo (None, 8, 8, 32)     128         re_lu_12[0][0]                   \n",
            "__________________________________________________________________________________________________\n",
            "conv2d_15 (Conv2D)              (None, 8, 8, 32)     9248        batch_normalization_12[0][0]     \n",
            "__________________________________________________________________________________________________\n",
            "add_6 (Add)                     (None, 8, 8, 32)     0           batch_normalization_11[0][0]     \n",
            "                                                                 conv2d_15[0][0]                  \n",
            "__________________________________________________________________________________________________\n",
            "re_lu_13 (ReLU)                 (None, 8, 8, 32)     0           add_6[0][0]                      \n",
            "__________________________________________________________________________________________________\n",
            "batch_normalization_13 (BatchNo (None, 8, 8, 32)     128         re_lu_13[0][0]                   \n",
            "__________________________________________________________________________________________________\n",
            "conv2d_16 (Conv2D)              (None, 8, 8, 32)     9248        batch_normalization_13[0][0]     \n",
            "__________________________________________________________________________________________________\n",
            "re_lu_14 (ReLU)                 (None, 8, 8, 32)     0           conv2d_16[0][0]                  \n",
            "__________________________________________________________________________________________________\n",
            "batch_normalization_14 (BatchNo (None, 8, 8, 32)     128         re_lu_14[0][0]                   \n",
            "__________________________________________________________________________________________________\n",
            "conv2d_17 (Conv2D)              (None, 8, 8, 32)     9248        batch_normalization_14[0][0]     \n",
            "__________________________________________________________________________________________________\n",
            "add_7 (Add)                     (None, 8, 8, 32)     0           batch_normalization_13[0][0]     \n",
            "                                                                 conv2d_17[0][0]                  \n",
            "__________________________________________________________________________________________________\n",
            "re_lu_15 (ReLU)                 (None, 8, 8, 32)     0           add_7[0][0]                      \n",
            "__________________________________________________________________________________________________\n",
            "batch_normalization_15 (BatchNo (None, 8, 8, 32)     128         re_lu_15[0][0]                   \n",
            "__________________________________________________________________________________________________\n",
            "conv2d_18 (Conv2D)              (None, 8, 8, 32)     9248        batch_normalization_15[0][0]     \n",
            "__________________________________________________________________________________________________\n",
            "re_lu_16 (ReLU)                 (None, 8, 8, 32)     0           conv2d_18[0][0]                  \n",
            "__________________________________________________________________________________________________\n",
            "batch_normalization_16 (BatchNo (None, 8, 8, 32)     128         re_lu_16[0][0]                   \n",
            "__________________________________________________________________________________________________\n",
            "conv2d_19 (Conv2D)              (None, 8, 8, 32)     9248        batch_normalization_16[0][0]     \n",
            "__________________________________________________________________________________________________\n",
            "add_8 (Add)                     (None, 8, 8, 32)     0           batch_normalization_15[0][0]     \n",
            "                                                                 conv2d_19[0][0]                  \n",
            "__________________________________________________________________________________________________\n",
            "re_lu_17 (ReLU)                 (None, 8, 8, 32)     0           add_8[0][0]                      \n",
            "__________________________________________________________________________________________________\n",
            "batch_normalization_17 (BatchNo (None, 8, 8, 32)     128         re_lu_17[0][0]                   \n",
            "__________________________________________________________________________________________________\n",
            "flatten_2 (Flatten)             (None, 2048)         0           batch_normalization_17[0][0]     \n",
            "__________________________________________________________________________________________________\n",
            "prediction (Dense)              (None, 1)            2049        flatten_2[0][0]                  \n",
            "==================================================================================================\n",
            "Total params: 475,873\n",
            "Trainable params: 474,721\n",
            "Non-trainable params: 1,152\n",
            "__________________________________________________________________________________________________\n"
          ],
          "name": "stdout"
        }
      ]
    },
    {
      "cell_type": "markdown",
      "metadata": {
        "id": "4Xq_O-jpMNsh"
      },
      "source": [
        "## Define Evaluation Functions"
      ]
    },
    {
      "cell_type": "code",
      "metadata": {
        "id": "MpxcHcNJMNsh"
      },
      "source": [
        "def evaluateNDCG(ranked_list, target_item):\n",
        "    for i in range(len(ranked_list)):\n",
        "        if ranked_list[i] == target_item:\n",
        "            return math.log(2) / math.log(i + 2)\n",
        "  \n",
        "    return 0\n",
        "\n",
        "def hitRate(ranked_list, target_item):\n",
        "    for rank in ranked_list:\n",
        "        if target_item == rank:\n",
        "            return 1\n",
        "    return 0\n",
        "\n",
        "# This method calculates all the evaluation metrics. Individual methods are called from here.\n",
        "def evaluate(model, testPosRatings, testNegRatings, N):\n",
        "    hits = []\n",
        "    ndcgs = []\n",
        "    for i in range(len(testPosRatings)):\n",
        "        hit, ncdg = evaluate_one(model, testPosRatings[i], testNegRatings[i], N)\n",
        "        hits.append(hit)\n",
        "        ndcgs.append(ncdg)\n",
        "        \n",
        "    return np.array(hits).mean(), np.array(ndcgs).mean()\n",
        "\n",
        "def evaluate_one(model, posRating, negRatings, N):\n",
        "    user = posRating[0]\n",
        "    movie = posRating[1]\n",
        "    negRatings.append(movie)\n",
        "\n",
        "    user_input = np.full(len(negRatings), user)\n",
        "\n",
        "    predictions = model.predict([user_input, np.array(negRatings)], batch_size = 100)\n",
        "\n",
        "  # associate item with predictions\n",
        "    items = {}\n",
        "    for i in range(len(predictions)):\n",
        "        items[negRatings[i]] = predictions[i]\n",
        "    negRatings.pop()\n",
        "\n",
        "    rankedList = heapq.nlargest(N, items, items.get)\n",
        "    ndcg = evaluateNDCG(rankedList, movie)\n",
        "    hit = hitRate(rankedList, movie)\n",
        "\n",
        "    return hit, ndcg"
      ],
      "execution_count": 10,
      "outputs": []
    },
    {
      "cell_type": "markdown",
      "metadata": {
        "id": "Cd6mX7qnMNsh"
      },
      "source": [
        "## Train and Save Best Model"
      ]
    },
    {
      "cell_type": "code",
      "metadata": {
        "scrolled": true,
        "id": "JKPF6QncMNsh",
        "colab": {
          "base_uri": "https://localhost:8080/"
        },
        "outputId": "2bfe2a23-b529-46b3-b913-f3588589ba88"
      },
      "source": [
        "NUM_EPOCHS = 20\n",
        "best_hr = 0\n",
        "best_ncdg = 0\n",
        "best_epoch = -1\n",
        "model_path = \"ResNet_Model.h5\"\n",
        "\n",
        "user_input, item_input, labels = get_train_instances(train, num_negatives = 4)\n",
        "model.evaluate([np.array(user_input), np.array(item_input)],\n",
        "                      np.array(labels),\n",
        "                      batch_size = 256)\n",
        "\n",
        "hit_rate, ncdg = evaluate(model, test_ratings, test_negatives, N = 10)\n",
        "print('Initial Model', 'Hit Rate:', hit_rate, 'NCDG:', ncdg)\n",
        "\n",
        "for epoch in range(1, NUM_EPOCHS + 1):\n",
        "    user_input, item_input, labels = get_train_instances(train, num_negatives = 4)\n",
        "\n",
        "    hist = model.fit([np.array(user_input), np.array(item_input)],\n",
        "                      np.array(labels),\n",
        "                      batch_size = 512, epochs = 1)\n",
        "\n",
        "    hit_rate, ncdg = evaluate(model, test_ratings, test_negatives, N = 10)\n",
        "    print('Epoch', epoch, 'Hit Rate:', hit_rate, 'NCDG:', ncdg)\n",
        "    model.save(model_path)\n",
        "\n",
        "    if hit_rate > best_hr:\n",
        "        best_hr, best_ncdg, best_iter = hit_rate, ncdg, epoch\n",
        "        model.save(model_path, overwrite=True)\n",
        "\n",
        "print(\"Best Iteration %d:  HR = %.4f, NDCG = %.4f. \" %(best_iter, best_hr, best_ncdg))\n",
        "print(\"The best Outer Product model is saved to %s\" %(model_path))"
      ],
      "execution_count": 11,
      "outputs": [
        {
          "output_type": "stream",
          "text": [
            "19418/19418 [==============================] - 179s 8ms/step - loss: 0.6932\n",
            "Initial Model Hit Rate: 0.09370860927152318 NCDG: 0.042506940359717686\n",
            "9709/9709 [==============================] - 537s 55ms/step - loss: 0.3579\n",
            "Epoch 1 Hit Rate: 0.4827814569536424 NCDG: 0.26700425006505163\n",
            "9709/9709 [==============================] - 532s 55ms/step - loss: 0.3209\n",
            "Epoch 2 Hit Rate: 0.5490066225165563 NCDG: 0.30593411681208554\n",
            "9709/9709 [==============================] - 530s 55ms/step - loss: 0.2994\n",
            "Epoch 3 Hit Rate: 0.5834437086092715 NCDG: 0.32827905505990873\n",
            "9709/9709 [==============================] - 533s 55ms/step - loss: 0.2868\n",
            "Epoch 4 Hit Rate: 0.5968543046357616 NCDG: 0.3435204771871091\n",
            "9709/9709 [==============================] - 529s 55ms/step - loss: 0.2781\n",
            "Epoch 5 Hit Rate: 0.621523178807947 NCDG: 0.3530719234414539\n",
            "9709/9709 [==============================] - 530s 55ms/step - loss: 0.2717\n",
            "Epoch 6 Hit Rate: 0.633112582781457 NCDG: 0.36582213716923667\n",
            "9709/9709 [==============================] - 529s 54ms/step - loss: 0.2665\n",
            "Epoch 7 Hit Rate: 0.627317880794702 NCDG: 0.36310119592883444\n",
            "9709/9709 [==============================] - 529s 54ms/step - loss: 0.2620\n",
            "Epoch 8 Hit Rate: 0.6438741721854304 NCDG: 0.37251043113830795\n",
            "9709/9709 [==============================] - 529s 54ms/step - loss: 0.2582\n",
            "Epoch 9 Hit Rate: 0.6440397350993378 NCDG: 0.3728161409544326\n",
            "9709/9709 [==============================] - 529s 54ms/step - loss: 0.2555\n",
            "Epoch 10 Hit Rate: 0.6450331125827815 NCDG: 0.37737877368562506\n",
            "9709/9709 [==============================] - 529s 54ms/step - loss: 0.2528\n",
            "Epoch 11 Hit Rate: 0.6513245033112582 NCDG: 0.38201800315856127\n",
            "9709/9709 [==============================] - 530s 55ms/step - loss: 0.2505\n",
            "Epoch 12 Hit Rate: 0.6516556291390728 NCDG: 0.37857673140005793\n",
            "9709/9709 [==============================] - 530s 55ms/step - loss: 0.2479\n",
            "Epoch 13 Hit Rate: 0.6480132450331125 NCDG: 0.3795382747446621\n",
            "9709/9709 [==============================] - 530s 55ms/step - loss: 0.2462\n",
            "Epoch 14 Hit Rate: 0.6584437086092715 NCDG: 0.382490265873207\n",
            "9709/9709 [==============================] - 531s 55ms/step - loss: 0.2439\n",
            "Epoch 15 Hit Rate: 0.6632450331125828 NCDG: 0.38996552018081126\n",
            "9709/9709 [==============================] - 530s 55ms/step - loss: 0.2426\n",
            "Epoch 16 Hit Rate: 0.6538079470198676 NCDG: 0.38255452509899823\n",
            "9709/9709 [==============================] - 529s 55ms/step - loss: 0.2405\n",
            "Epoch 17 Hit Rate: 0.6524834437086092 NCDG: 0.3818779705587837\n",
            "9709/9709 [==============================] - 530s 55ms/step - loss: 0.2390\n",
            "Epoch 18 Hit Rate: 0.6581125827814569 NCDG: 0.38703099906149613\n",
            "9709/9709 [==============================] - 531s 55ms/step - loss: 0.2374\n",
            "Epoch 19 Hit Rate: 0.6627483443708609 NCDG: 0.38854387794469736\n",
            "9709/9709 [==============================] - 531s 55ms/step - loss: 0.2363\n",
            "Epoch 20 Hit Rate: 0.6526490066225166 NCDG: 0.3827374191504053\n",
            "Best Iteration 15:  HR = 0.6632, NDCG = 0.3900. \n",
            "The best Outer Product model is saved to ResNet_Model.h5\n"
          ],
          "name": "stdout"
        }
      ]
    },
    {
      "cell_type": "code",
      "metadata": {
        "id": "yswEGJvHMNsi"
      },
      "source": [
        ""
      ],
      "execution_count": null,
      "outputs": []
    }
  ]
}