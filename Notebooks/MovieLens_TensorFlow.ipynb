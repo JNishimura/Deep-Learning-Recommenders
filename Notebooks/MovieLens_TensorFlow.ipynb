{
  "nbformat": 4,
  "nbformat_minor": 0,
  "metadata": {
    "kernelspec": {
      "display_name": "Python 3",
      "language": "python",
      "name": "python3"
    },
    "language_info": {
      "codemirror_mode": {
        "name": "ipython",
        "version": 3
      },
      "file_extension": ".py",
      "mimetype": "text/x-python",
      "name": "python",
      "nbconvert_exporter": "python",
      "pygments_lexer": "ipython3",
      "version": "3.6.9"
    },
    "colab": {
      "name": "MovieLens_TensorFlow.ipynb",
      "provenance": []
    }
  },
  "cells": [
    {
      "cell_type": "markdown",
      "metadata": {
        "id": "DF0RXGSkVRoZ"
      },
      "source": [
        "### Installs"
      ]
    },
    {
      "cell_type": "code",
      "metadata": {
        "id": "2BSw4nZgVRoi",
        "colab": {
          "base_uri": "https://localhost:8080/"
        },
        "outputId": "58d5927e-2149-4639-aff4-8a87a70f8b67"
      },
      "source": [
        "!pip install pandas\n",
        "!pip install -q tensorflow-recommenders\n",
        "!pip install -q --upgrade tensorflow-datasets\n",
        "!pip install -q scann\n",
        "!pip install ipywidgets"
      ],
      "execution_count": 2,
      "outputs": [
        {
          "output_type": "stream",
          "text": [
            "Requirement already satisfied: pandas in /usr/local/lib/python3.7/dist-packages (1.1.5)\n",
            "Requirement already satisfied: python-dateutil>=2.7.3 in /usr/local/lib/python3.7/dist-packages (from pandas) (2.8.1)\n",
            "Requirement already satisfied: numpy>=1.15.4 in /usr/local/lib/python3.7/dist-packages (from pandas) (1.19.5)\n",
            "Requirement already satisfied: pytz>=2017.2 in /usr/local/lib/python3.7/dist-packages (from pandas) (2018.9)\n",
            "Requirement already satisfied: six>=1.5 in /usr/local/lib/python3.7/dist-packages (from python-dateutil>=2.7.3->pandas) (1.15.0)\n",
            "Requirement already satisfied: ipywidgets in /usr/local/lib/python3.7/dist-packages (7.6.3)\n",
            "Requirement already satisfied: ipython>=4.0.0; python_version >= \"3.3\" in /usr/local/lib/python3.7/dist-packages (from ipywidgets) (5.5.0)\n",
            "Requirement already satisfied: ipykernel>=4.5.1 in /usr/local/lib/python3.7/dist-packages (from ipywidgets) (4.10.1)\n",
            "Requirement already satisfied: jupyterlab-widgets>=1.0.0; python_version >= \"3.6\" in /usr/local/lib/python3.7/dist-packages (from ipywidgets) (1.0.0)\n",
            "Requirement already satisfied: nbformat>=4.2.0 in /usr/local/lib/python3.7/dist-packages (from ipywidgets) (5.1.2)\n",
            "Requirement already satisfied: widgetsnbextension~=3.5.0 in /usr/local/lib/python3.7/dist-packages (from ipywidgets) (3.5.1)\n",
            "Requirement already satisfied: traitlets>=4.3.1 in /usr/local/lib/python3.7/dist-packages (from ipywidgets) (5.0.5)\n",
            "Requirement already satisfied: decorator in /usr/local/lib/python3.7/dist-packages (from ipython>=4.0.0; python_version >= \"3.3\"->ipywidgets) (4.4.2)\n",
            "Requirement already satisfied: pickleshare in /usr/local/lib/python3.7/dist-packages (from ipython>=4.0.0; python_version >= \"3.3\"->ipywidgets) (0.7.5)\n",
            "Requirement already satisfied: prompt-toolkit<2.0.0,>=1.0.4 in /usr/local/lib/python3.7/dist-packages (from ipython>=4.0.0; python_version >= \"3.3\"->ipywidgets) (1.0.18)\n",
            "Requirement already satisfied: pygments in /usr/local/lib/python3.7/dist-packages (from ipython>=4.0.0; python_version >= \"3.3\"->ipywidgets) (2.6.1)\n",
            "Requirement already satisfied: pexpect; sys_platform != \"win32\" in /usr/local/lib/python3.7/dist-packages (from ipython>=4.0.0; python_version >= \"3.3\"->ipywidgets) (4.8.0)\n",
            "Requirement already satisfied: setuptools>=18.5 in /usr/local/lib/python3.7/dist-packages (from ipython>=4.0.0; python_version >= \"3.3\"->ipywidgets) (54.2.0)\n",
            "Requirement already satisfied: simplegeneric>0.8 in /usr/local/lib/python3.7/dist-packages (from ipython>=4.0.0; python_version >= \"3.3\"->ipywidgets) (0.8.1)\n",
            "Requirement already satisfied: jupyter-client in /usr/local/lib/python3.7/dist-packages (from ipykernel>=4.5.1->ipywidgets) (5.3.5)\n",
            "Requirement already satisfied: tornado>=4.0 in /usr/local/lib/python3.7/dist-packages (from ipykernel>=4.5.1->ipywidgets) (5.1.1)\n",
            "Requirement already satisfied: jsonschema!=2.5.0,>=2.4 in /usr/local/lib/python3.7/dist-packages (from nbformat>=4.2.0->ipywidgets) (2.6.0)\n",
            "Requirement already satisfied: jupyter-core in /usr/local/lib/python3.7/dist-packages (from nbformat>=4.2.0->ipywidgets) (4.7.1)\n",
            "Requirement already satisfied: ipython-genutils in /usr/local/lib/python3.7/dist-packages (from nbformat>=4.2.0->ipywidgets) (0.2.0)\n",
            "Requirement already satisfied: notebook>=4.4.1 in /usr/local/lib/python3.7/dist-packages (from widgetsnbextension~=3.5.0->ipywidgets) (5.3.1)\n",
            "Requirement already satisfied: six>=1.9.0 in /usr/local/lib/python3.7/dist-packages (from prompt-toolkit<2.0.0,>=1.0.4->ipython>=4.0.0; python_version >= \"3.3\"->ipywidgets) (1.15.0)\n",
            "Requirement already satisfied: wcwidth in /usr/local/lib/python3.7/dist-packages (from prompt-toolkit<2.0.0,>=1.0.4->ipython>=4.0.0; python_version >= \"3.3\"->ipywidgets) (0.2.5)\n",
            "Requirement already satisfied: ptyprocess>=0.5 in /usr/local/lib/python3.7/dist-packages (from pexpect; sys_platform != \"win32\"->ipython>=4.0.0; python_version >= \"3.3\"->ipywidgets) (0.7.0)\n",
            "Requirement already satisfied: pyzmq>=13 in /usr/local/lib/python3.7/dist-packages (from jupyter-client->ipykernel>=4.5.1->ipywidgets) (22.0.3)\n",
            "Requirement already satisfied: python-dateutil>=2.1 in /usr/local/lib/python3.7/dist-packages (from jupyter-client->ipykernel>=4.5.1->ipywidgets) (2.8.1)\n",
            "Requirement already satisfied: terminado>=0.8.1 in /usr/local/lib/python3.7/dist-packages (from notebook>=4.4.1->widgetsnbextension~=3.5.0->ipywidgets) (0.9.3)\n",
            "Requirement already satisfied: Send2Trash in /usr/local/lib/python3.7/dist-packages (from notebook>=4.4.1->widgetsnbextension~=3.5.0->ipywidgets) (1.5.0)\n",
            "Requirement already satisfied: nbconvert in /usr/local/lib/python3.7/dist-packages (from notebook>=4.4.1->widgetsnbextension~=3.5.0->ipywidgets) (5.6.1)\n",
            "Requirement already satisfied: jinja2 in /usr/local/lib/python3.7/dist-packages (from notebook>=4.4.1->widgetsnbextension~=3.5.0->ipywidgets) (2.11.3)\n",
            "Requirement already satisfied: entrypoints>=0.2.2 in /usr/local/lib/python3.7/dist-packages (from nbconvert->notebook>=4.4.1->widgetsnbextension~=3.5.0->ipywidgets) (0.3)\n",
            "Requirement already satisfied: testpath in /usr/local/lib/python3.7/dist-packages (from nbconvert->notebook>=4.4.1->widgetsnbextension~=3.5.0->ipywidgets) (0.4.4)\n",
            "Requirement already satisfied: defusedxml in /usr/local/lib/python3.7/dist-packages (from nbconvert->notebook>=4.4.1->widgetsnbextension~=3.5.0->ipywidgets) (0.7.1)\n",
            "Requirement already satisfied: mistune<2,>=0.8.1 in /usr/local/lib/python3.7/dist-packages (from nbconvert->notebook>=4.4.1->widgetsnbextension~=3.5.0->ipywidgets) (0.8.4)\n",
            "Requirement already satisfied: pandocfilters>=1.4.1 in /usr/local/lib/python3.7/dist-packages (from nbconvert->notebook>=4.4.1->widgetsnbextension~=3.5.0->ipywidgets) (1.4.3)\n",
            "Requirement already satisfied: bleach in /usr/local/lib/python3.7/dist-packages (from nbconvert->notebook>=4.4.1->widgetsnbextension~=3.5.0->ipywidgets) (3.3.0)\n",
            "Requirement already satisfied: MarkupSafe>=0.23 in /usr/local/lib/python3.7/dist-packages (from jinja2->notebook>=4.4.1->widgetsnbextension~=3.5.0->ipywidgets) (1.1.1)\n",
            "Requirement already satisfied: packaging in /usr/local/lib/python3.7/dist-packages (from bleach->nbconvert->notebook>=4.4.1->widgetsnbextension~=3.5.0->ipywidgets) (20.9)\n",
            "Requirement already satisfied: webencodings in /usr/local/lib/python3.7/dist-packages (from bleach->nbconvert->notebook>=4.4.1->widgetsnbextension~=3.5.0->ipywidgets) (0.5.1)\n",
            "Requirement already satisfied: pyparsing>=2.0.2 in /usr/local/lib/python3.7/dist-packages (from packaging->bleach->nbconvert->notebook>=4.4.1->widgetsnbextension~=3.5.0->ipywidgets) (2.4.7)\n"
          ],
          "name": "stdout"
        }
      ]
    },
    {
      "cell_type": "markdown",
      "metadata": {
        "id": "B6D1ud0HVRoj"
      },
      "source": [
        "### Imports"
      ]
    },
    {
      "cell_type": "code",
      "metadata": {
        "id": "bH4afYylVRoj"
      },
      "source": [
        "import os\n",
        "import pprint\n",
        "import tempfile\n",
        "\n",
        "from typing import Dict, Text\n",
        "\n",
        "import numpy as np\n",
        "import tensorflow as tf\n",
        "import tensorflow_datasets as tfds\n",
        "import tensorflow_recommenders as tfrs\n",
        "\n",
        "import math\n",
        "import heapq"
      ],
      "execution_count": 3,
      "outputs": []
    },
    {
      "cell_type": "markdown",
      "metadata": {
        "id": "DOrz3-zQVRoj"
      },
      "source": [
        "### Data Set-up"
      ]
    },
    {
      "cell_type": "code",
      "metadata": {
        "id": "Zm0uKl4NVRok"
      },
      "source": [
        "# Ratings data.\n",
        "ratings = tfds.load(\"movielens/100k-ratings\", split=\"train\")"
      ],
      "execution_count": 7,
      "outputs": []
    },
    {
      "cell_type": "code",
      "metadata": {
        "id": "zhMBWdIbVRok",
        "colab": {
          "base_uri": "https://localhost:8080/"
        },
        "outputId": "6a5c78f7-7fd7-4d12-b847-cf4d70ae9182"
      },
      "source": [
        "for x in ratings.take(1).as_numpy_iterator():\n",
        "  pprint.pprint(x)"
      ],
      "execution_count": 8,
      "outputs": [
        {
          "output_type": "stream",
          "text": [
            "{'bucketized_user_age': 45.0,\n",
            " 'movie_genres': array([7]),\n",
            " 'movie_id': b'357',\n",
            " 'movie_title': b\"One Flew Over the Cuckoo's Nest (1975)\",\n",
            " 'raw_user_age': 46.0,\n",
            " 'timestamp': 879024327,\n",
            " 'user_gender': True,\n",
            " 'user_id': b'138',\n",
            " 'user_occupation_label': 4,\n",
            " 'user_occupation_text': b'doctor',\n",
            " 'user_rating': 4.0,\n",
            " 'user_zip_code': b'53211'}\n"
          ],
          "name": "stdout"
        }
      ]
    },
    {
      "cell_type": "code",
      "metadata": {
        "id": "WaP8pbuaVRok",
        "colab": {
          "base_uri": "https://localhost:8080/"
        },
        "outputId": "f785839f-dc95-447e-8fb3-846bc983fb1d"
      },
      "source": [
        "dataframe = tfds.as_dataframe(ratings)\n",
        "print(dataframe)"
      ],
      "execution_count": 9,
      "outputs": [
        {
          "output_type": "stream",
          "text": [
            "       bucketized_user_age     movie_genres  ... user_rating user_zip_code\n",
            "0                     45.0              [7]  ...         4.0      b'53211'\n",
            "1                     25.0          [4, 14]  ...         2.0      b'80525'\n",
            "2                     18.0              [4]  ...         4.0      b'55439'\n",
            "3                     50.0           [5, 7]  ...         4.0      b'06472'\n",
            "4                     50.0         [10, 16]  ...         3.0      b'75094'\n",
            "...                    ...              ...  ...         ...           ...\n",
            "99995                 25.0       [0, 1, 15]  ...         4.0      b'80027'\n",
            "99996                 35.0         [13, 16]  ...         4.0      b'60035'\n",
            "99997                 18.0             [10]  ...         1.0      b'78264'\n",
            "99998                 35.0  [0, 10, 15, 16]  ...         4.0      b'53210'\n",
            "99999                 18.0              [4]  ...         2.0      b'95064'\n",
            "\n",
            "[100000 rows x 12 columns]\n"
          ],
          "name": "stdout"
        }
      ]
    },
    {
      "cell_type": "code",
      "metadata": {
        "id": "KiG4G9L_lq6W",
        "colab": {
          "base_uri": "https://localhost:8080/"
        },
        "outputId": "778224ea-3db3-4e3c-e12e-21ca61de3aef"
      },
      "source": [
        "# Pull out relevant columns and convert id columns to ints\n",
        "relevant_cols = dataframe.loc[:, ['user_id', 'movie_id', 'user_rating', 'timestamp']]\n",
        "relevant_cols['user_id'] = relevant_cols['user_id'].astype(int)\n",
        "relevant_cols['movie_id'] = relevant_cols['movie_id'].astype(int)\n",
        "print(relevant_cols)\n",
        "print(relevant_cols.dtypes)"
      ],
      "execution_count": 10,
      "outputs": [
        {
          "output_type": "stream",
          "text": [
            "       user_id  movie_id  user_rating  timestamp\n",
            "0          138       357          4.0  879024327\n",
            "1           92       709          2.0  875654590\n",
            "2          301       412          4.0  882075110\n",
            "3           60        56          4.0  883326919\n",
            "4          197       895          3.0  891409199\n",
            "...        ...       ...          ...        ...\n",
            "99995      774       228          4.0  888557237\n",
            "99996      313       333          4.0  891012877\n",
            "99997      262       567          1.0  879795430\n",
            "99998      911       183          4.0  892839492\n",
            "99999      276      1140          2.0  874791894\n",
            "\n",
            "[100000 rows x 4 columns]\n",
            "user_id          int64\n",
            "movie_id         int64\n",
            "user_rating    float64\n",
            "timestamp        int64\n",
            "dtype: object\n"
          ],
          "name": "stdout"
        }
      ]
    },
    {
      "cell_type": "code",
      "metadata": {
        "id": "UEEtXx7RVVvg",
        "colab": {
          "base_uri": "https://localhost:8080/"
        },
        "outputId": "f0d02ff9-6f22-4510-8626-62fb1bec4182"
      },
      "source": [
        "relevant_cols['latest'] = relevant_cols.groupby(['user_id'])['timestamp'].rank(method='first', ascending=False)\n",
        "\n",
        "train_ratings = relevant_cols[relevant_cols['latest'] != 1]\n",
        "test_ratings = relevant_cols[relevant_cols['latest'] == 1]\n",
        "\n",
        "train_ratings = train_ratings[['user_id', 'movie_id', 'user_rating']]\n",
        "test_ratings = test_ratings[['user_id', 'movie_id', 'user_rating']]\n",
        "\n",
        "print(train_ratings.shape)\n",
        "print(test_ratings.shape)\n",
        "\n",
        "num_users = len(relevant_cols.user_id.unique()) + 1\n",
        "num_items = len(relevant_cols.movie_id.unique()) + 1\n",
        "\n",
        "print('Num Users:', num_users)\n",
        "print('Num Items:', num_items)"
      ],
      "execution_count": 71,
      "outputs": [
        {
          "output_type": "stream",
          "text": [
            "(99057, 3)\n",
            "(943, 3)\n",
            "Num Users: 944\n",
            "Num Items: 1683\n"
          ],
          "name": "stdout"
        }
      ]
    },
    {
      "cell_type": "markdown",
      "metadata": {
        "id": "ml1qDojt3Lcb"
      },
      "source": [
        "## Convert to Implicit Feedback Dataset"
      ]
    },
    {
      "cell_type": "code",
      "metadata": {
        "id": "5BghlYpWWZsc",
        "colab": {
          "base_uri": "https://localhost:8080/"
        },
        "outputId": "41b7a530-5bb6-402a-e192-1e727c028d0f"
      },
      "source": [
        "# Convert rating to 1 for everything to mark that the user has watched this item\n",
        "train_ratings.loc[:, 'rating'] = 1\n",
        "print(train_ratings)\n"
      ],
      "execution_count": 72,
      "outputs": [
        {
          "output_type": "stream",
          "text": [
            "       user_id  movie_id  user_rating  rating\n",
            "0          138       357          4.0       1\n",
            "1           92       709          2.0       1\n",
            "2          301       412          4.0       1\n",
            "3           60        56          4.0       1\n",
            "4          197       895          3.0       1\n",
            "...        ...       ...          ...     ...\n",
            "99995      774       228          4.0       1\n",
            "99996      313       333          4.0       1\n",
            "99997      262       567          1.0       1\n",
            "99998      911       183          4.0       1\n",
            "99999      276      1140          2.0       1\n",
            "\n",
            "[99057 rows x 4 columns]\n"
          ],
          "name": "stdout"
        }
      ]
    },
    {
      "cell_type": "code",
      "metadata": {
        "id": "g8ObmXC23Pc2"
      },
      "source": [
        "# Add negative samples\n",
        "all_movies = relevant_cols['movie_id'].unique()\n",
        "\n",
        "users, items, labels = [], [], []\n",
        "user_item_set = set(zip(train_ratings['user_id'], train_ratings['item_id']))\n",
        "num_negatives = 4\n",
        "\n",
        "for (u, i) in user_item_set:\n",
        "  users.append([u])\n",
        "  items.append([i])\n",
        "  labels.append([1])\n",
        "  for _ in range(num_negatives):\n",
        "    negative_item = np.random.choice(all_movies)\n",
        "    while (u, negative_item) in user_item_set:\n",
        "      negative_item = np.random.choice(all_movies)\n",
        "    users.append([u])\n",
        "    items.append([negative_item])\n",
        "    labels.append([0])\n",
        "\n"
      ],
      "execution_count": 73,
      "outputs": []
    },
    {
      "cell_type": "markdown",
      "metadata": {
        "id": "vRKCJCT44Lx2"
      },
      "source": [
        "## Create Dataset"
      ]
    },
    {
      "cell_type": "code",
      "metadata": {
        "id": "nJvPLf6J362B"
      },
      "source": [
        "train_ds = tf.data.Dataset.from_tensor_slices(({'user': users, 'item': items}, labels))"
      ],
      "execution_count": 74,
      "outputs": []
    },
    {
      "cell_type": "code",
      "metadata": {
        "id": "iZEgiXPS4ZcQ",
        "colab": {
          "base_uri": "https://localhost:8080/"
        },
        "outputId": "66bef092-0f19-49a5-89a4-3270e113e99e"
      },
      "source": [
        "train_ds = train_ds.shuffle(1000)\n",
        "for elem in train_ds.take(10):\n",
        "  print(elem)"
      ],
      "execution_count": 75,
      "outputs": [
        {
          "output_type": "stream",
          "text": [
            "({'user': <tf.Tensor: shape=(1,), dtype=int32, numpy=array([892], dtype=int32)>, 'item': <tf.Tensor: shape=(1,), dtype=int32, numpy=array([1122], dtype=int32)>}, <tf.Tensor: shape=(1,), dtype=int32, numpy=array([0], dtype=int32)>)\n",
            "({'user': <tf.Tensor: shape=(1,), dtype=int32, numpy=array([178], dtype=int32)>, 'item': <tf.Tensor: shape=(1,), dtype=int32, numpy=array([563], dtype=int32)>}, <tf.Tensor: shape=(1,), dtype=int32, numpy=array([0], dtype=int32)>)\n",
            "({'user': <tf.Tensor: shape=(1,), dtype=int32, numpy=array([312], dtype=int32)>, 'item': <tf.Tensor: shape=(1,), dtype=int32, numpy=array([763], dtype=int32)>}, <tf.Tensor: shape=(1,), dtype=int32, numpy=array([0], dtype=int32)>)\n",
            "({'user': <tf.Tensor: shape=(1,), dtype=int32, numpy=array([296], dtype=int32)>, 'item': <tf.Tensor: shape=(1,), dtype=int32, numpy=array([253], dtype=int32)>}, <tf.Tensor: shape=(1,), dtype=int32, numpy=array([0], dtype=int32)>)\n",
            "({'user': <tf.Tensor: shape=(1,), dtype=int32, numpy=array([658], dtype=int32)>, 'item': <tf.Tensor: shape=(1,), dtype=int32, numpy=array([481], dtype=int32)>}, <tf.Tensor: shape=(1,), dtype=int32, numpy=array([0], dtype=int32)>)\n",
            "({'user': <tf.Tensor: shape=(1,), dtype=int32, numpy=array([330], dtype=int32)>, 'item': <tf.Tensor: shape=(1,), dtype=int32, numpy=array([1199], dtype=int32)>}, <tf.Tensor: shape=(1,), dtype=int32, numpy=array([0], dtype=int32)>)\n",
            "({'user': <tf.Tensor: shape=(1,), dtype=int32, numpy=array([813], dtype=int32)>, 'item': <tf.Tensor: shape=(1,), dtype=int32, numpy=array([813], dtype=int32)>}, <tf.Tensor: shape=(1,), dtype=int32, numpy=array([1], dtype=int32)>)\n",
            "({'user': <tf.Tensor: shape=(1,), dtype=int32, numpy=array([94], dtype=int32)>, 'item': <tf.Tensor: shape=(1,), dtype=int32, numpy=array([1009], dtype=int32)>}, <tf.Tensor: shape=(1,), dtype=int32, numpy=array([0], dtype=int32)>)\n",
            "({'user': <tf.Tensor: shape=(1,), dtype=int32, numpy=array([614], dtype=int32)>, 'item': <tf.Tensor: shape=(1,), dtype=int32, numpy=array([750], dtype=int32)>}, <tf.Tensor: shape=(1,), dtype=int32, numpy=array([0], dtype=int32)>)\n",
            "({'user': <tf.Tensor: shape=(1,), dtype=int32, numpy=array([722], dtype=int32)>, 'item': <tf.Tensor: shape=(1,), dtype=int32, numpy=array([875], dtype=int32)>}, <tf.Tensor: shape=(1,), dtype=int32, numpy=array([0], dtype=int32)>)\n"
          ],
          "name": "stdout"
        }
      ]
    },
    {
      "cell_type": "markdown",
      "metadata": {
        "id": "6WTSy4kvk4Lm"
      },
      "source": [
        "## Define Model"
      ]
    },
    {
      "cell_type": "code",
      "metadata": {
        "id": "1kHNl37Jk5Qg"
      },
      "source": [
        "from keras.models import Model\n",
        "from keras.layers import Embedding, Input, Dense, Reshape, Multiply, Flatten, Lambda\n",
        "from keras import initializers, regularizers\n",
        "import sys\n",
        "\n",
        "def get_model(num_users, num_items, latent_dim):\n",
        "  user_input = Input(shape = (1,), dtype = 'int32', name = 'user')\n",
        "  item_input = Input(shape = (1,), dtype = 'int32', name = 'item')\n",
        "\n",
        "  user_embedding = Embedding(input_dim = num_users, output_dim = latent_dim, name = 'user_embed',\n",
        "                             embeddings_initializer = initializers.RandomNormal(stddev = 0.01), \n",
        "                             embeddings_regularizer = regularizers.l2(0), input_length = 1)\n",
        "  item_embedding = Embedding(input_dim = num_items, output_dim = latent_dim, name = 'item_embed',\n",
        "                             embeddings_initializer = initializers.RandomNormal(stddev = 0.01), \n",
        "                             embeddings_regularizer = regularizers.l2(0), input_length = 1)\n",
        "\n",
        "  user_latent = Flatten()(user_embedding(user_input))\n",
        "  item_latent = Flatten()(item_embedding(item_input))\n",
        "\n",
        "  prediction_vec = Multiply()([user_latent, item_latent])\n",
        "\n",
        "  prediction = Dense(1, activation='sigmoid', kernel_initializer='lecun_uniform', name = 'prediction')(prediction_vec)\n",
        "\n",
        "  return Model(inputs=[user_input, item_input], outputs=prediction)"
      ],
      "execution_count": 76,
      "outputs": []
    },
    {
      "cell_type": "code",
      "metadata": {
        "id": "IQVK3y4gtRYq",
        "outputId": "e725c3be-5a1d-41ed-da5a-211d0ae6120d",
        "colab": {
          "base_uri": "https://localhost:8080/"
        }
      },
      "source": [
        "from keras.optimizers import Adam\n",
        "\n",
        "topK = 10\n",
        "\n",
        "model = get_model(num_users, num_items, 8)\n",
        "model.compile(optimizer=Adam(0.001), loss='binary_crossentropy')\n",
        "model.summary()"
      ],
      "execution_count": 77,
      "outputs": [
        {
          "output_type": "stream",
          "text": [
            "Model: \"model_4\"\n",
            "__________________________________________________________________________________________________\n",
            "Layer (type)                    Output Shape         Param #     Connected to                     \n",
            "==================================================================================================\n",
            "user (InputLayer)               [(None, 1)]          0                                            \n",
            "__________________________________________________________________________________________________\n",
            "item (InputLayer)               [(None, 1)]          0                                            \n",
            "__________________________________________________________________________________________________\n",
            "user_embed (Embedding)          (None, 1, 8)         7552        user[0][0]                       \n",
            "__________________________________________________________________________________________________\n",
            "item_embed (Embedding)          (None, 1, 8)         13464       item[0][0]                       \n",
            "__________________________________________________________________________________________________\n",
            "flatten_56 (Flatten)            (None, 8)            0           user_embed[0][0]                 \n",
            "__________________________________________________________________________________________________\n",
            "flatten_57 (Flatten)            (None, 8)            0           item_embed[0][0]                 \n",
            "__________________________________________________________________________________________________\n",
            "multiply_28 (Multiply)          (None, 8)            0           flatten_56[0][0]                 \n",
            "                                                                 flatten_57[0][0]                 \n",
            "__________________________________________________________________________________________________\n",
            "prediction (Dense)              (None, 1)            9           multiply_28[0][0]                \n",
            "==================================================================================================\n",
            "Total params: 21,025\n",
            "Trainable params: 21,025\n",
            "Non-trainable params: 0\n",
            "__________________________________________________________________________________________________\n"
          ],
          "name": "stdout"
        }
      ]
    },
    {
      "cell_type": "code",
      "metadata": {
        "id": "sIQ_ZINBt0pE",
        "outputId": "05dbcd8a-3d96-4c1b-826e-9524fe58efc9",
        "colab": {
          "base_uri": "https://localhost:8080/"
        }
      },
      "source": [
        "hist = model.fit(train_ds, batch_size=256, epochs=1)"
      ],
      "execution_count": 78,
      "outputs": [
        {
          "output_type": "stream",
          "text": [
            "4715/4715 [==============================] - 10s 2ms/step - loss: 0.5924\n"
          ],
          "name": "stdout"
        }
      ]
    },
    {
      "cell_type": "code",
      "execution_count": null,
      "metadata": {},
      "outputs": [],
      "source": [
        "def evaluateNCDG(rankedlist, predictedlist):\n",
        "  sum_rank, sum_pred = 0,0\n",
        "  count = 1\n",
        "  for rank, pred in zip(rankedlist, predictedlist):\n",
        "    sum_rank += rank/math.log2(count + 1)\n",
        "    sum_pred += pred/math.log2(count + 1)\n",
        "    count = count + 1\n",
        "  \n",
        "  return sum_pred/sum_rank"
      ]
    },
    {
      "cell_type": "code",
      "execution_count": null,
      "metadata": {},
      "outputs": [],
      "source": [
        "def hitRate(item, ranklist):\n",
        "  for rank in ranklist:\n",
        "    if item == rank:\n",
        "      return 1\n",
        "  return 0"
      ]
    },
    {
      "cell_type": "code",
      "execution_count": null,
      "metadata": {},
      "outputs": [],
      "source": [
        "# This method calculates all the evaluation metrics. Individual methods are called from here.\n",
        "def evaluate(model, testPosRatings, testNegRatings):\n",
        "  for i in range(len(testPosRatings)):\n",
        "    hit, ncdg= evaluate_one(model, testPosRatings[i], testNegRatings[i])"
      ]
    },
    {
      "cell_type": "code",
      "execution_count": null,
      "metadata": {},
      "outputs": [],
      "source": [
        "def evaluate_one(model, posRating, negRating, N):\n",
        "  user = posRating[0]\n",
        "  movie = posRating[1]\n",
        "  negRatings.append(movie)\n",
        "\n",
        "  user_input = np.full(len(negRatings)+ 1, user)\n",
        "\n",
        "  predictions = model.predict([user_input, negRatings])\n",
        "\n",
        "  # associate item with predictions\n",
        "  items = {}\n",
        "  for i in range(len(predictions)):\n",
        "    items[negRatings[i]] = predictions[i]\n",
        "\n",
        "  rankedList = heapq.nlargest(N, items, items.get)\n",
        "  ncdg = evaluateNCDG(rankedList.values(), items.values())\n",
        "  hit = hitRate(item, rankedList)\n",
        "\n",
        "  return hit, ncdg"
      ]
    }
  ]
}