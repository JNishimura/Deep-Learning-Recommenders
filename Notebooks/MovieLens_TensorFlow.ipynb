{
  "nbformat": 4,
  "nbformat_minor": 0,
  "metadata": {
    "kernelspec": {
      "display_name": "Python 3",
      "language": "python",
      "name": "python3"
    },
    "language_info": {
      "codemirror_mode": {
        "name": "ipython",
        "version": 3
      },
      "file_extension": ".py",
      "mimetype": "text/x-python",
      "name": "python",
      "nbconvert_exporter": "python",
      "pygments_lexer": "ipython3",
      "version": "3.6.9"
    },
    "colab": {
      "name": "MovieLens_TensorFlow.ipynb",
      "provenance": [],
      "include_colab_link": true
    },
    "widgets": {
      "application/vnd.jupyter.widget-state+json": {
        "e93da5357cd740be94691d635e51590d": {
          "model_module": "@jupyter-widgets/controls",
          "model_name": "HBoxModel",
          "state": {
            "_view_name": "HBoxView",
            "_dom_classes": [],
            "_model_name": "HBoxModel",
            "_view_module": "@jupyter-widgets/controls",
            "_model_module_version": "1.5.0",
            "_view_count": null,
            "_view_module_version": "1.5.0",
            "box_style": "",
            "layout": "IPY_MODEL_ab8689067f8e4d0fafcc90bd15a8ddc5",
            "_model_module": "@jupyter-widgets/controls",
            "children": [
              "IPY_MODEL_4bc9f10b8d55481bab15975ab567cb54",
              "IPY_MODEL_e78c3487489a4435944f66a770eb6d64"
            ]
          }
        },
        "ab8689067f8e4d0fafcc90bd15a8ddc5": {
          "model_module": "@jupyter-widgets/base",
          "model_name": "LayoutModel",
          "state": {
            "_view_name": "LayoutView",
            "grid_template_rows": null,
            "right": null,
            "justify_content": null,
            "_view_module": "@jupyter-widgets/base",
            "overflow": null,
            "_model_module_version": "1.2.0",
            "_view_count": null,
            "flex_flow": null,
            "width": null,
            "min_width": null,
            "border": null,
            "align_items": null,
            "bottom": null,
            "_model_module": "@jupyter-widgets/base",
            "top": null,
            "grid_column": null,
            "overflow_y": null,
            "overflow_x": null,
            "grid_auto_flow": null,
            "grid_area": null,
            "grid_template_columns": null,
            "flex": null,
            "_model_name": "LayoutModel",
            "justify_items": null,
            "grid_row": null,
            "max_height": null,
            "align_content": null,
            "visibility": null,
            "align_self": null,
            "height": null,
            "min_height": null,
            "padding": null,
            "grid_auto_rows": null,
            "grid_gap": null,
            "max_width": null,
            "order": null,
            "_view_module_version": "1.2.0",
            "grid_template_areas": null,
            "object_position": null,
            "object_fit": null,
            "grid_auto_columns": null,
            "margin": null,
            "display": null,
            "left": null
          }
        },
        "4bc9f10b8d55481bab15975ab567cb54": {
          "model_module": "@jupyter-widgets/controls",
          "model_name": "FloatProgressModel",
          "state": {
            "_view_name": "ProgressView",
            "style": "IPY_MODEL_d3c46366e9d847de9ee2c255985ab1e8",
            "_dom_classes": [],
            "description": "Dl Completed...: 100%",
            "_model_name": "FloatProgressModel",
            "bar_style": "success",
            "max": 1,
            "_view_module": "@jupyter-widgets/controls",
            "_model_module_version": "1.5.0",
            "value": 1,
            "_view_count": null,
            "_view_module_version": "1.5.0",
            "orientation": "horizontal",
            "min": 0,
            "description_tooltip": null,
            "_model_module": "@jupyter-widgets/controls",
            "layout": "IPY_MODEL_220e1b93c7d24a2a974a7e0f07095789"
          }
        },
        "e78c3487489a4435944f66a770eb6d64": {
          "model_module": "@jupyter-widgets/controls",
          "model_name": "HTMLModel",
          "state": {
            "_view_name": "HTMLView",
            "style": "IPY_MODEL_16c6a3e3f300486c8ab1dc2428621e8d",
            "_dom_classes": [],
            "description": "",
            "_model_name": "HTMLModel",
            "placeholder": "​",
            "_view_module": "@jupyter-widgets/controls",
            "_model_module_version": "1.5.0",
            "value": " 1/1 [00:00&lt;00:00,  1.32 url/s]",
            "_view_count": null,
            "_view_module_version": "1.5.0",
            "description_tooltip": null,
            "_model_module": "@jupyter-widgets/controls",
            "layout": "IPY_MODEL_e43641554b8340c4b3770c93bd3aedb4"
          }
        },
        "d3c46366e9d847de9ee2c255985ab1e8": {
          "model_module": "@jupyter-widgets/controls",
          "model_name": "ProgressStyleModel",
          "state": {
            "_view_name": "StyleView",
            "_model_name": "ProgressStyleModel",
            "description_width": "initial",
            "_view_module": "@jupyter-widgets/base",
            "_model_module_version": "1.5.0",
            "_view_count": null,
            "_view_module_version": "1.2.0",
            "bar_color": null,
            "_model_module": "@jupyter-widgets/controls"
          }
        },
        "220e1b93c7d24a2a974a7e0f07095789": {
          "model_module": "@jupyter-widgets/base",
          "model_name": "LayoutModel",
          "state": {
            "_view_name": "LayoutView",
            "grid_template_rows": null,
            "right": null,
            "justify_content": null,
            "_view_module": "@jupyter-widgets/base",
            "overflow": null,
            "_model_module_version": "1.2.0",
            "_view_count": null,
            "flex_flow": null,
            "width": null,
            "min_width": null,
            "border": null,
            "align_items": null,
            "bottom": null,
            "_model_module": "@jupyter-widgets/base",
            "top": null,
            "grid_column": null,
            "overflow_y": null,
            "overflow_x": null,
            "grid_auto_flow": null,
            "grid_area": null,
            "grid_template_columns": null,
            "flex": null,
            "_model_name": "LayoutModel",
            "justify_items": null,
            "grid_row": null,
            "max_height": null,
            "align_content": null,
            "visibility": null,
            "align_self": null,
            "height": null,
            "min_height": null,
            "padding": null,
            "grid_auto_rows": null,
            "grid_gap": null,
            "max_width": null,
            "order": null,
            "_view_module_version": "1.2.0",
            "grid_template_areas": null,
            "object_position": null,
            "object_fit": null,
            "grid_auto_columns": null,
            "margin": null,
            "display": null,
            "left": null
          }
        },
        "16c6a3e3f300486c8ab1dc2428621e8d": {
          "model_module": "@jupyter-widgets/controls",
          "model_name": "DescriptionStyleModel",
          "state": {
            "_view_name": "StyleView",
            "_model_name": "DescriptionStyleModel",
            "description_width": "",
            "_view_module": "@jupyter-widgets/base",
            "_model_module_version": "1.5.0",
            "_view_count": null,
            "_view_module_version": "1.2.0",
            "_model_module": "@jupyter-widgets/controls"
          }
        },
        "e43641554b8340c4b3770c93bd3aedb4": {
          "model_module": "@jupyter-widgets/base",
          "model_name": "LayoutModel",
          "state": {
            "_view_name": "LayoutView",
            "grid_template_rows": null,
            "right": null,
            "justify_content": null,
            "_view_module": "@jupyter-widgets/base",
            "overflow": null,
            "_model_module_version": "1.2.0",
            "_view_count": null,
            "flex_flow": null,
            "width": null,
            "min_width": null,
            "border": null,
            "align_items": null,
            "bottom": null,
            "_model_module": "@jupyter-widgets/base",
            "top": null,
            "grid_column": null,
            "overflow_y": null,
            "overflow_x": null,
            "grid_auto_flow": null,
            "grid_area": null,
            "grid_template_columns": null,
            "flex": null,
            "_model_name": "LayoutModel",
            "justify_items": null,
            "grid_row": null,
            "max_height": null,
            "align_content": null,
            "visibility": null,
            "align_self": null,
            "height": null,
            "min_height": null,
            "padding": null,
            "grid_auto_rows": null,
            "grid_gap": null,
            "max_width": null,
            "order": null,
            "_view_module_version": "1.2.0",
            "grid_template_areas": null,
            "object_position": null,
            "object_fit": null,
            "grid_auto_columns": null,
            "margin": null,
            "display": null,
            "left": null
          }
        },
        "e3889d47b0d94115941702724455af0c": {
          "model_module": "@jupyter-widgets/controls",
          "model_name": "HBoxModel",
          "state": {
            "_view_name": "HBoxView",
            "_dom_classes": [],
            "_model_name": "HBoxModel",
            "_view_module": "@jupyter-widgets/controls",
            "_model_module_version": "1.5.0",
            "_view_count": null,
            "_view_module_version": "1.5.0",
            "box_style": "",
            "layout": "IPY_MODEL_dd6f5a6e1e724c13a1ae9461d19afb13",
            "_model_module": "@jupyter-widgets/controls",
            "children": [
              "IPY_MODEL_f919370046ed41f3a8c9002b3fc55c2a",
              "IPY_MODEL_6237dadd0b8f45ee9975459390170a67"
            ]
          }
        },
        "dd6f5a6e1e724c13a1ae9461d19afb13": {
          "model_module": "@jupyter-widgets/base",
          "model_name": "LayoutModel",
          "state": {
            "_view_name": "LayoutView",
            "grid_template_rows": null,
            "right": null,
            "justify_content": null,
            "_view_module": "@jupyter-widgets/base",
            "overflow": null,
            "_model_module_version": "1.2.0",
            "_view_count": null,
            "flex_flow": null,
            "width": null,
            "min_width": null,
            "border": null,
            "align_items": null,
            "bottom": null,
            "_model_module": "@jupyter-widgets/base",
            "top": null,
            "grid_column": null,
            "overflow_y": null,
            "overflow_x": null,
            "grid_auto_flow": null,
            "grid_area": null,
            "grid_template_columns": null,
            "flex": null,
            "_model_name": "LayoutModel",
            "justify_items": null,
            "grid_row": null,
            "max_height": null,
            "align_content": null,
            "visibility": null,
            "align_self": null,
            "height": null,
            "min_height": null,
            "padding": null,
            "grid_auto_rows": null,
            "grid_gap": null,
            "max_width": null,
            "order": null,
            "_view_module_version": "1.2.0",
            "grid_template_areas": null,
            "object_position": null,
            "object_fit": null,
            "grid_auto_columns": null,
            "margin": null,
            "display": null,
            "left": null
          }
        },
        "f919370046ed41f3a8c9002b3fc55c2a": {
          "model_module": "@jupyter-widgets/controls",
          "model_name": "FloatProgressModel",
          "state": {
            "_view_name": "ProgressView",
            "style": "IPY_MODEL_e115f259d3754901b561f239949d6b25",
            "_dom_classes": [],
            "description": "Dl Size...: 100%",
            "_model_name": "FloatProgressModel",
            "bar_style": "success",
            "max": 1,
            "_view_module": "@jupyter-widgets/controls",
            "_model_module_version": "1.5.0",
            "value": 1,
            "_view_count": null,
            "_view_module_version": "1.5.0",
            "orientation": "horizontal",
            "min": 0,
            "description_tooltip": null,
            "_model_module": "@jupyter-widgets/controls",
            "layout": "IPY_MODEL_b2943fd4237046d6829f52407e90883e"
          }
        },
        "6237dadd0b8f45ee9975459390170a67": {
          "model_module": "@jupyter-widgets/controls",
          "model_name": "HTMLModel",
          "state": {
            "_view_name": "HTMLView",
            "style": "IPY_MODEL_a850c1d73afb493ab8e1e53699ad4898",
            "_dom_classes": [],
            "description": "",
            "_model_name": "HTMLModel",
            "placeholder": "​",
            "_view_module": "@jupyter-widgets/controls",
            "_model_module_version": "1.5.0",
            "value": " 4/4 [00:00&lt;00:00,  5.54 MiB/s]",
            "_view_count": null,
            "_view_module_version": "1.5.0",
            "description_tooltip": null,
            "_model_module": "@jupyter-widgets/controls",
            "layout": "IPY_MODEL_8541dc9401c94c0bbdd45f5597df2729"
          }
        },
        "e115f259d3754901b561f239949d6b25": {
          "model_module": "@jupyter-widgets/controls",
          "model_name": "ProgressStyleModel",
          "state": {
            "_view_name": "StyleView",
            "_model_name": "ProgressStyleModel",
            "description_width": "initial",
            "_view_module": "@jupyter-widgets/base",
            "_model_module_version": "1.5.0",
            "_view_count": null,
            "_view_module_version": "1.2.0",
            "bar_color": null,
            "_model_module": "@jupyter-widgets/controls"
          }
        },
        "b2943fd4237046d6829f52407e90883e": {
          "model_module": "@jupyter-widgets/base",
          "model_name": "LayoutModel",
          "state": {
            "_view_name": "LayoutView",
            "grid_template_rows": null,
            "right": null,
            "justify_content": null,
            "_view_module": "@jupyter-widgets/base",
            "overflow": null,
            "_model_module_version": "1.2.0",
            "_view_count": null,
            "flex_flow": null,
            "width": null,
            "min_width": null,
            "border": null,
            "align_items": null,
            "bottom": null,
            "_model_module": "@jupyter-widgets/base",
            "top": null,
            "grid_column": null,
            "overflow_y": null,
            "overflow_x": null,
            "grid_auto_flow": null,
            "grid_area": null,
            "grid_template_columns": null,
            "flex": null,
            "_model_name": "LayoutModel",
            "justify_items": null,
            "grid_row": null,
            "max_height": null,
            "align_content": null,
            "visibility": null,
            "align_self": null,
            "height": null,
            "min_height": null,
            "padding": null,
            "grid_auto_rows": null,
            "grid_gap": null,
            "max_width": null,
            "order": null,
            "_view_module_version": "1.2.0",
            "grid_template_areas": null,
            "object_position": null,
            "object_fit": null,
            "grid_auto_columns": null,
            "margin": null,
            "display": null,
            "left": null
          }
        },
        "a850c1d73afb493ab8e1e53699ad4898": {
          "model_module": "@jupyter-widgets/controls",
          "model_name": "DescriptionStyleModel",
          "state": {
            "_view_name": "StyleView",
            "_model_name": "DescriptionStyleModel",
            "description_width": "",
            "_view_module": "@jupyter-widgets/base",
            "_model_module_version": "1.5.0",
            "_view_count": null,
            "_view_module_version": "1.2.0",
            "_model_module": "@jupyter-widgets/controls"
          }
        },
        "8541dc9401c94c0bbdd45f5597df2729": {
          "model_module": "@jupyter-widgets/base",
          "model_name": "LayoutModel",
          "state": {
            "_view_name": "LayoutView",
            "grid_template_rows": null,
            "right": null,
            "justify_content": null,
            "_view_module": "@jupyter-widgets/base",
            "overflow": null,
            "_model_module_version": "1.2.0",
            "_view_count": null,
            "flex_flow": null,
            "width": null,
            "min_width": null,
            "border": null,
            "align_items": null,
            "bottom": null,
            "_model_module": "@jupyter-widgets/base",
            "top": null,
            "grid_column": null,
            "overflow_y": null,
            "overflow_x": null,
            "grid_auto_flow": null,
            "grid_area": null,
            "grid_template_columns": null,
            "flex": null,
            "_model_name": "LayoutModel",
            "justify_items": null,
            "grid_row": null,
            "max_height": null,
            "align_content": null,
            "visibility": null,
            "align_self": null,
            "height": null,
            "min_height": null,
            "padding": null,
            "grid_auto_rows": null,
            "grid_gap": null,
            "max_width": null,
            "order": null,
            "_view_module_version": "1.2.0",
            "grid_template_areas": null,
            "object_position": null,
            "object_fit": null,
            "grid_auto_columns": null,
            "margin": null,
            "display": null,
            "left": null
          }
        },
        "154f42a27757425391380c16f904ab35": {
          "model_module": "@jupyter-widgets/controls",
          "model_name": "HBoxModel",
          "state": {
            "_view_name": "HBoxView",
            "_dom_classes": [],
            "_model_name": "HBoxModel",
            "_view_module": "@jupyter-widgets/controls",
            "_model_module_version": "1.5.0",
            "_view_count": null,
            "_view_module_version": "1.5.0",
            "box_style": "",
            "layout": "IPY_MODEL_26594ca255f84143a166b823a683492c",
            "_model_module": "@jupyter-widgets/controls",
            "children": [
              "IPY_MODEL_f2819d517f1c4cd5be52e99bf45c6cb6",
              "IPY_MODEL_10fce602b0cc41f7a9c1751f4d186692"
            ]
          }
        },
        "26594ca255f84143a166b823a683492c": {
          "model_module": "@jupyter-widgets/base",
          "model_name": "LayoutModel",
          "state": {
            "_view_name": "LayoutView",
            "grid_template_rows": null,
            "right": null,
            "justify_content": null,
            "_view_module": "@jupyter-widgets/base",
            "overflow": null,
            "_model_module_version": "1.2.0",
            "_view_count": null,
            "flex_flow": null,
            "width": null,
            "min_width": null,
            "border": null,
            "align_items": null,
            "bottom": null,
            "_model_module": "@jupyter-widgets/base",
            "top": null,
            "grid_column": null,
            "overflow_y": null,
            "overflow_x": null,
            "grid_auto_flow": null,
            "grid_area": null,
            "grid_template_columns": null,
            "flex": null,
            "_model_name": "LayoutModel",
            "justify_items": null,
            "grid_row": null,
            "max_height": null,
            "align_content": null,
            "visibility": null,
            "align_self": null,
            "height": null,
            "min_height": null,
            "padding": null,
            "grid_auto_rows": null,
            "grid_gap": null,
            "max_width": null,
            "order": null,
            "_view_module_version": "1.2.0",
            "grid_template_areas": null,
            "object_position": null,
            "object_fit": null,
            "grid_auto_columns": null,
            "margin": null,
            "display": null,
            "left": null
          }
        },
        "f2819d517f1c4cd5be52e99bf45c6cb6": {
          "model_module": "@jupyter-widgets/controls",
          "model_name": "FloatProgressModel",
          "state": {
            "_view_name": "ProgressView",
            "style": "IPY_MODEL_993e96c5fb254a2184da47affe8b25ed",
            "_dom_classes": [],
            "description": "Extraction completed...: 100%",
            "_model_name": "FloatProgressModel",
            "bar_style": "success",
            "max": 1,
            "_view_module": "@jupyter-widgets/controls",
            "_model_module_version": "1.5.0",
            "value": 1,
            "_view_count": null,
            "_view_module_version": "1.5.0",
            "orientation": "horizontal",
            "min": 0,
            "description_tooltip": null,
            "_model_module": "@jupyter-widgets/controls",
            "layout": "IPY_MODEL_f519ce82ced54aa5bed216934598ec5d"
          }
        },
        "10fce602b0cc41f7a9c1751f4d186692": {
          "model_module": "@jupyter-widgets/controls",
          "model_name": "HTMLModel",
          "state": {
            "_view_name": "HTMLView",
            "style": "IPY_MODEL_4b7b8aaba83a4134aa17aea79b85bea6",
            "_dom_classes": [],
            "description": "",
            "_model_name": "HTMLModel",
            "placeholder": "​",
            "_view_module": "@jupyter-widgets/controls",
            "_model_module_version": "1.5.0",
            "value": " 1/1 [00:00&lt;00:00,  1.61 file/s]",
            "_view_count": null,
            "_view_module_version": "1.5.0",
            "description_tooltip": null,
            "_model_module": "@jupyter-widgets/controls",
            "layout": "IPY_MODEL_9bbce72ea8214b398954390d647faf88"
          }
        },
        "993e96c5fb254a2184da47affe8b25ed": {
          "model_module": "@jupyter-widgets/controls",
          "model_name": "ProgressStyleModel",
          "state": {
            "_view_name": "StyleView",
            "_model_name": "ProgressStyleModel",
            "description_width": "initial",
            "_view_module": "@jupyter-widgets/base",
            "_model_module_version": "1.5.0",
            "_view_count": null,
            "_view_module_version": "1.2.0",
            "bar_color": null,
            "_model_module": "@jupyter-widgets/controls"
          }
        },
        "f519ce82ced54aa5bed216934598ec5d": {
          "model_module": "@jupyter-widgets/base",
          "model_name": "LayoutModel",
          "state": {
            "_view_name": "LayoutView",
            "grid_template_rows": null,
            "right": null,
            "justify_content": null,
            "_view_module": "@jupyter-widgets/base",
            "overflow": null,
            "_model_module_version": "1.2.0",
            "_view_count": null,
            "flex_flow": null,
            "width": null,
            "min_width": null,
            "border": null,
            "align_items": null,
            "bottom": null,
            "_model_module": "@jupyter-widgets/base",
            "top": null,
            "grid_column": null,
            "overflow_y": null,
            "overflow_x": null,
            "grid_auto_flow": null,
            "grid_area": null,
            "grid_template_columns": null,
            "flex": null,
            "_model_name": "LayoutModel",
            "justify_items": null,
            "grid_row": null,
            "max_height": null,
            "align_content": null,
            "visibility": null,
            "align_self": null,
            "height": null,
            "min_height": null,
            "padding": null,
            "grid_auto_rows": null,
            "grid_gap": null,
            "max_width": null,
            "order": null,
            "_view_module_version": "1.2.0",
            "grid_template_areas": null,
            "object_position": null,
            "object_fit": null,
            "grid_auto_columns": null,
            "margin": null,
            "display": null,
            "left": null
          }
        },
        "4b7b8aaba83a4134aa17aea79b85bea6": {
          "model_module": "@jupyter-widgets/controls",
          "model_name": "DescriptionStyleModel",
          "state": {
            "_view_name": "StyleView",
            "_model_name": "DescriptionStyleModel",
            "description_width": "",
            "_view_module": "@jupyter-widgets/base",
            "_model_module_version": "1.5.0",
            "_view_count": null,
            "_view_module_version": "1.2.0",
            "_model_module": "@jupyter-widgets/controls"
          }
        },
        "9bbce72ea8214b398954390d647faf88": {
          "model_module": "@jupyter-widgets/base",
          "model_name": "LayoutModel",
          "state": {
            "_view_name": "LayoutView",
            "grid_template_rows": null,
            "right": null,
            "justify_content": null,
            "_view_module": "@jupyter-widgets/base",
            "overflow": null,
            "_model_module_version": "1.2.0",
            "_view_count": null,
            "flex_flow": null,
            "width": null,
            "min_width": null,
            "border": null,
            "align_items": null,
            "bottom": null,
            "_model_module": "@jupyter-widgets/base",
            "top": null,
            "grid_column": null,
            "overflow_y": null,
            "overflow_x": null,
            "grid_auto_flow": null,
            "grid_area": null,
            "grid_template_columns": null,
            "flex": null,
            "_model_name": "LayoutModel",
            "justify_items": null,
            "grid_row": null,
            "max_height": null,
            "align_content": null,
            "visibility": null,
            "align_self": null,
            "height": null,
            "min_height": null,
            "padding": null,
            "grid_auto_rows": null,
            "grid_gap": null,
            "max_width": null,
            "order": null,
            "_view_module_version": "1.2.0",
            "grid_template_areas": null,
            "object_position": null,
            "object_fit": null,
            "grid_auto_columns": null,
            "margin": null,
            "display": null,
            "left": null
          }
        },
        "9ccc2983dbbf426088390af1beac2743": {
          "model_module": "@jupyter-widgets/controls",
          "model_name": "HBoxModel",
          "state": {
            "_view_name": "HBoxView",
            "_dom_classes": [],
            "_model_name": "HBoxModel",
            "_view_module": "@jupyter-widgets/controls",
            "_model_module_version": "1.5.0",
            "_view_count": null,
            "_view_module_version": "1.5.0",
            "box_style": "",
            "layout": "IPY_MODEL_0cf8fa016c5046079d47838214ef7f62",
            "_model_module": "@jupyter-widgets/controls",
            "children": [
              "IPY_MODEL_fc384236adf3492993de3a6f9cbe1e45",
              "IPY_MODEL_7be9f7845c93415ca7c17fcc61efcd3b"
            ]
          }
        },
        "0cf8fa016c5046079d47838214ef7f62": {
          "model_module": "@jupyter-widgets/base",
          "model_name": "LayoutModel",
          "state": {
            "_view_name": "LayoutView",
            "grid_template_rows": null,
            "right": null,
            "justify_content": null,
            "_view_module": "@jupyter-widgets/base",
            "overflow": null,
            "_model_module_version": "1.2.0",
            "_view_count": null,
            "flex_flow": null,
            "width": null,
            "min_width": null,
            "border": null,
            "align_items": null,
            "bottom": null,
            "_model_module": "@jupyter-widgets/base",
            "top": null,
            "grid_column": null,
            "overflow_y": null,
            "overflow_x": null,
            "grid_auto_flow": null,
            "grid_area": null,
            "grid_template_columns": null,
            "flex": null,
            "_model_name": "LayoutModel",
            "justify_items": null,
            "grid_row": null,
            "max_height": null,
            "align_content": null,
            "visibility": null,
            "align_self": null,
            "height": null,
            "min_height": null,
            "padding": null,
            "grid_auto_rows": null,
            "grid_gap": null,
            "max_width": null,
            "order": null,
            "_view_module_version": "1.2.0",
            "grid_template_areas": null,
            "object_position": null,
            "object_fit": null,
            "grid_auto_columns": null,
            "margin": null,
            "display": null,
            "left": null
          }
        },
        "fc384236adf3492993de3a6f9cbe1e45": {
          "model_module": "@jupyter-widgets/controls",
          "model_name": "FloatProgressModel",
          "state": {
            "_view_name": "ProgressView",
            "style": "IPY_MODEL_b3a8533f9fbe42b7877cbc9aa26d28df",
            "_dom_classes": [],
            "description": "Generating splits...: 100%",
            "_model_name": "FloatProgressModel",
            "bar_style": "",
            "max": 1,
            "_view_module": "@jupyter-widgets/controls",
            "_model_module_version": "1.5.0",
            "value": 1,
            "_view_count": null,
            "_view_module_version": "1.5.0",
            "orientation": "horizontal",
            "min": 0,
            "description_tooltip": null,
            "_model_module": "@jupyter-widgets/controls",
            "layout": "IPY_MODEL_3b3efed226ab412b882ae5e5acdd7f5d"
          }
        },
        "7be9f7845c93415ca7c17fcc61efcd3b": {
          "model_module": "@jupyter-widgets/controls",
          "model_name": "HTMLModel",
          "state": {
            "_view_name": "HTMLView",
            "style": "IPY_MODEL_67cc42c59f8a47a68bd12b81ac7b34f8",
            "_dom_classes": [],
            "description": "",
            "_model_name": "HTMLModel",
            "placeholder": "​",
            "_view_module": "@jupyter-widgets/controls",
            "_model_module_version": "1.5.0",
            "value": " 1/1 [01:39&lt;00:00, 99.26s/ splits]",
            "_view_count": null,
            "_view_module_version": "1.5.0",
            "description_tooltip": null,
            "_model_module": "@jupyter-widgets/controls",
            "layout": "IPY_MODEL_9efcda30e8934af9853dbef1f99d8881"
          }
        },
        "b3a8533f9fbe42b7877cbc9aa26d28df": {
          "model_module": "@jupyter-widgets/controls",
          "model_name": "ProgressStyleModel",
          "state": {
            "_view_name": "StyleView",
            "_model_name": "ProgressStyleModel",
            "description_width": "initial",
            "_view_module": "@jupyter-widgets/base",
            "_model_module_version": "1.5.0",
            "_view_count": null,
            "_view_module_version": "1.2.0",
            "bar_color": null,
            "_model_module": "@jupyter-widgets/controls"
          }
        },
        "3b3efed226ab412b882ae5e5acdd7f5d": {
          "model_module": "@jupyter-widgets/base",
          "model_name": "LayoutModel",
          "state": {
            "_view_name": "LayoutView",
            "grid_template_rows": null,
            "right": null,
            "justify_content": null,
            "_view_module": "@jupyter-widgets/base",
            "overflow": null,
            "_model_module_version": "1.2.0",
            "_view_count": null,
            "flex_flow": null,
            "width": null,
            "min_width": null,
            "border": null,
            "align_items": null,
            "bottom": null,
            "_model_module": "@jupyter-widgets/base",
            "top": null,
            "grid_column": null,
            "overflow_y": null,
            "overflow_x": null,
            "grid_auto_flow": null,
            "grid_area": null,
            "grid_template_columns": null,
            "flex": null,
            "_model_name": "LayoutModel",
            "justify_items": null,
            "grid_row": null,
            "max_height": null,
            "align_content": null,
            "visibility": null,
            "align_self": null,
            "height": null,
            "min_height": null,
            "padding": null,
            "grid_auto_rows": null,
            "grid_gap": null,
            "max_width": null,
            "order": null,
            "_view_module_version": "1.2.0",
            "grid_template_areas": null,
            "object_position": null,
            "object_fit": null,
            "grid_auto_columns": null,
            "margin": null,
            "display": null,
            "left": null
          }
        },
        "67cc42c59f8a47a68bd12b81ac7b34f8": {
          "model_module": "@jupyter-widgets/controls",
          "model_name": "DescriptionStyleModel",
          "state": {
            "_view_name": "StyleView",
            "_model_name": "DescriptionStyleModel",
            "description_width": "",
            "_view_module": "@jupyter-widgets/base",
            "_model_module_version": "1.5.0",
            "_view_count": null,
            "_view_module_version": "1.2.0",
            "_model_module": "@jupyter-widgets/controls"
          }
        },
        "9efcda30e8934af9853dbef1f99d8881": {
          "model_module": "@jupyter-widgets/base",
          "model_name": "LayoutModel",
          "state": {
            "_view_name": "LayoutView",
            "grid_template_rows": null,
            "right": null,
            "justify_content": null,
            "_view_module": "@jupyter-widgets/base",
            "overflow": null,
            "_model_module_version": "1.2.0",
            "_view_count": null,
            "flex_flow": null,
            "width": null,
            "min_width": null,
            "border": null,
            "align_items": null,
            "bottom": null,
            "_model_module": "@jupyter-widgets/base",
            "top": null,
            "grid_column": null,
            "overflow_y": null,
            "overflow_x": null,
            "grid_auto_flow": null,
            "grid_area": null,
            "grid_template_columns": null,
            "flex": null,
            "_model_name": "LayoutModel",
            "justify_items": null,
            "grid_row": null,
            "max_height": null,
            "align_content": null,
            "visibility": null,
            "align_self": null,
            "height": null,
            "min_height": null,
            "padding": null,
            "grid_auto_rows": null,
            "grid_gap": null,
            "max_width": null,
            "order": null,
            "_view_module_version": "1.2.0",
            "grid_template_areas": null,
            "object_position": null,
            "object_fit": null,
            "grid_auto_columns": null,
            "margin": null,
            "display": null,
            "left": null
          }
        },
        "71e15e0ac9df4bc58adb1c54ac087fc0": {
          "model_module": "@jupyter-widgets/controls",
          "model_name": "HBoxModel",
          "state": {
            "_view_name": "HBoxView",
            "_dom_classes": [],
            "_model_name": "HBoxModel",
            "_view_module": "@jupyter-widgets/controls",
            "_model_module_version": "1.5.0",
            "_view_count": null,
            "_view_module_version": "1.5.0",
            "box_style": "",
            "layout": "IPY_MODEL_d907280d63974b519297491cb26c7f4b",
            "_model_module": "@jupyter-widgets/controls",
            "children": [
              "IPY_MODEL_b70661d1ae124596b22ca6f26ba291be",
              "IPY_MODEL_72f942b5ad8a4dd3be9e548e4cb634d7"
            ]
          }
        },
        "d907280d63974b519297491cb26c7f4b": {
          "model_module": "@jupyter-widgets/base",
          "model_name": "LayoutModel",
          "state": {
            "_view_name": "LayoutView",
            "grid_template_rows": null,
            "right": null,
            "justify_content": null,
            "_view_module": "@jupyter-widgets/base",
            "overflow": null,
            "_model_module_version": "1.2.0",
            "_view_count": null,
            "flex_flow": null,
            "width": null,
            "min_width": null,
            "border": null,
            "align_items": null,
            "bottom": null,
            "_model_module": "@jupyter-widgets/base",
            "top": null,
            "grid_column": null,
            "overflow_y": null,
            "overflow_x": null,
            "grid_auto_flow": null,
            "grid_area": null,
            "grid_template_columns": null,
            "flex": null,
            "_model_name": "LayoutModel",
            "justify_items": null,
            "grid_row": null,
            "max_height": null,
            "align_content": null,
            "visibility": null,
            "align_self": null,
            "height": null,
            "min_height": null,
            "padding": null,
            "grid_auto_rows": null,
            "grid_gap": null,
            "max_width": null,
            "order": null,
            "_view_module_version": "1.2.0",
            "grid_template_areas": null,
            "object_position": null,
            "object_fit": null,
            "grid_auto_columns": null,
            "margin": null,
            "display": null,
            "left": null
          }
        },
        "b70661d1ae124596b22ca6f26ba291be": {
          "model_module": "@jupyter-widgets/controls",
          "model_name": "FloatProgressModel",
          "state": {
            "_view_name": "ProgressView",
            "style": "IPY_MODEL_687799d1d4704ba5862b447b6f99f27a",
            "_dom_classes": [],
            "description": "Generating train examples...: 100%",
            "_model_name": "FloatProgressModel",
            "bar_style": "",
            "max": 100000,
            "_view_module": "@jupyter-widgets/controls",
            "_model_module_version": "1.5.0",
            "value": 100000,
            "_view_count": null,
            "_view_module_version": "1.5.0",
            "orientation": "horizontal",
            "min": 0,
            "description_tooltip": null,
            "_model_module": "@jupyter-widgets/controls",
            "layout": "IPY_MODEL_8ab2ea3225ed4fd4bf128c3400514bfe"
          }
        },
        "72f942b5ad8a4dd3be9e548e4cb634d7": {
          "model_module": "@jupyter-widgets/controls",
          "model_name": "HTMLModel",
          "state": {
            "_view_name": "HTMLView",
            "style": "IPY_MODEL_251fad0e331b4af089afbdf6ebd0d5fa",
            "_dom_classes": [],
            "description": "",
            "_model_name": "HTMLModel",
            "placeholder": "​",
            "_view_module": "@jupyter-widgets/controls",
            "_model_module_version": "1.5.0",
            "value": " 100000/100000 [01:38&lt;00:00, 917.03 examples/s]",
            "_view_count": null,
            "_view_module_version": "1.5.0",
            "description_tooltip": null,
            "_model_module": "@jupyter-widgets/controls",
            "layout": "IPY_MODEL_a8b76a2010ca4cad9230073626940d4e"
          }
        },
        "687799d1d4704ba5862b447b6f99f27a": {
          "model_module": "@jupyter-widgets/controls",
          "model_name": "ProgressStyleModel",
          "state": {
            "_view_name": "StyleView",
            "_model_name": "ProgressStyleModel",
            "description_width": "initial",
            "_view_module": "@jupyter-widgets/base",
            "_model_module_version": "1.5.0",
            "_view_count": null,
            "_view_module_version": "1.2.0",
            "bar_color": null,
            "_model_module": "@jupyter-widgets/controls"
          }
        },
        "8ab2ea3225ed4fd4bf128c3400514bfe": {
          "model_module": "@jupyter-widgets/base",
          "model_name": "LayoutModel",
          "state": {
            "_view_name": "LayoutView",
            "grid_template_rows": null,
            "right": null,
            "justify_content": null,
            "_view_module": "@jupyter-widgets/base",
            "overflow": null,
            "_model_module_version": "1.2.0",
            "_view_count": null,
            "flex_flow": null,
            "width": null,
            "min_width": null,
            "border": null,
            "align_items": null,
            "bottom": null,
            "_model_module": "@jupyter-widgets/base",
            "top": null,
            "grid_column": null,
            "overflow_y": null,
            "overflow_x": null,
            "grid_auto_flow": null,
            "grid_area": null,
            "grid_template_columns": null,
            "flex": null,
            "_model_name": "LayoutModel",
            "justify_items": null,
            "grid_row": null,
            "max_height": null,
            "align_content": null,
            "visibility": null,
            "align_self": null,
            "height": null,
            "min_height": null,
            "padding": null,
            "grid_auto_rows": null,
            "grid_gap": null,
            "max_width": null,
            "order": null,
            "_view_module_version": "1.2.0",
            "grid_template_areas": null,
            "object_position": null,
            "object_fit": null,
            "grid_auto_columns": null,
            "margin": null,
            "display": null,
            "left": null
          }
        },
        "251fad0e331b4af089afbdf6ebd0d5fa": {
          "model_module": "@jupyter-widgets/controls",
          "model_name": "DescriptionStyleModel",
          "state": {
            "_view_name": "StyleView",
            "_model_name": "DescriptionStyleModel",
            "description_width": "",
            "_view_module": "@jupyter-widgets/base",
            "_model_module_version": "1.5.0",
            "_view_count": null,
            "_view_module_version": "1.2.0",
            "_model_module": "@jupyter-widgets/controls"
          }
        },
        "a8b76a2010ca4cad9230073626940d4e": {
          "model_module": "@jupyter-widgets/base",
          "model_name": "LayoutModel",
          "state": {
            "_view_name": "LayoutView",
            "grid_template_rows": null,
            "right": null,
            "justify_content": null,
            "_view_module": "@jupyter-widgets/base",
            "overflow": null,
            "_model_module_version": "1.2.0",
            "_view_count": null,
            "flex_flow": null,
            "width": null,
            "min_width": null,
            "border": null,
            "align_items": null,
            "bottom": null,
            "_model_module": "@jupyter-widgets/base",
            "top": null,
            "grid_column": null,
            "overflow_y": null,
            "overflow_x": null,
            "grid_auto_flow": null,
            "grid_area": null,
            "grid_template_columns": null,
            "flex": null,
            "_model_name": "LayoutModel",
            "justify_items": null,
            "grid_row": null,
            "max_height": null,
            "align_content": null,
            "visibility": null,
            "align_self": null,
            "height": null,
            "min_height": null,
            "padding": null,
            "grid_auto_rows": null,
            "grid_gap": null,
            "max_width": null,
            "order": null,
            "_view_module_version": "1.2.0",
            "grid_template_areas": null,
            "object_position": null,
            "object_fit": null,
            "grid_auto_columns": null,
            "margin": null,
            "display": null,
            "left": null
          }
        },
        "a0de714a9908414fb761834092fb73dc": {
          "model_module": "@jupyter-widgets/controls",
          "model_name": "HBoxModel",
          "state": {
            "_view_name": "HBoxView",
            "_dom_classes": [],
            "_model_name": "HBoxModel",
            "_view_module": "@jupyter-widgets/controls",
            "_model_module_version": "1.5.0",
            "_view_count": null,
            "_view_module_version": "1.5.0",
            "box_style": "",
            "layout": "IPY_MODEL_3b727e07175644edbbca7f5928a2d698",
            "_model_module": "@jupyter-widgets/controls",
            "children": [
              "IPY_MODEL_73fe1226b6bd4f738e346a51faeef85f",
              "IPY_MODEL_849af2984d5b47058d7388b2e6abff32"
            ]
          }
        },
        "3b727e07175644edbbca7f5928a2d698": {
          "model_module": "@jupyter-widgets/base",
          "model_name": "LayoutModel",
          "state": {
            "_view_name": "LayoutView",
            "grid_template_rows": null,
            "right": null,
            "justify_content": null,
            "_view_module": "@jupyter-widgets/base",
            "overflow": null,
            "_model_module_version": "1.2.0",
            "_view_count": null,
            "flex_flow": null,
            "width": null,
            "min_width": null,
            "border": null,
            "align_items": null,
            "bottom": null,
            "_model_module": "@jupyter-widgets/base",
            "top": null,
            "grid_column": null,
            "overflow_y": null,
            "overflow_x": null,
            "grid_auto_flow": null,
            "grid_area": null,
            "grid_template_columns": null,
            "flex": null,
            "_model_name": "LayoutModel",
            "justify_items": null,
            "grid_row": null,
            "max_height": null,
            "align_content": null,
            "visibility": null,
            "align_self": null,
            "height": null,
            "min_height": null,
            "padding": null,
            "grid_auto_rows": null,
            "grid_gap": null,
            "max_width": null,
            "order": null,
            "_view_module_version": "1.2.0",
            "grid_template_areas": null,
            "object_position": null,
            "object_fit": null,
            "grid_auto_columns": null,
            "margin": null,
            "display": null,
            "left": null
          }
        },
        "73fe1226b6bd4f738e346a51faeef85f": {
          "model_module": "@jupyter-widgets/controls",
          "model_name": "FloatProgressModel",
          "state": {
            "_view_name": "ProgressView",
            "style": "IPY_MODEL_ac7e910e21c34245b7a8acadd95fd37e",
            "_dom_classes": [],
            "description": "Shuffling movielens-train.tfrecord...: 100%",
            "_model_name": "FloatProgressModel",
            "bar_style": "",
            "max": 100000,
            "_view_module": "@jupyter-widgets/controls",
            "_model_module_version": "1.5.0",
            "value": 100000,
            "_view_count": null,
            "_view_module_version": "1.5.0",
            "orientation": "horizontal",
            "min": 0,
            "description_tooltip": null,
            "_model_module": "@jupyter-widgets/controls",
            "layout": "IPY_MODEL_e2360c2f644a4b21904da1107b51c386"
          }
        },
        "849af2984d5b47058d7388b2e6abff32": {
          "model_module": "@jupyter-widgets/controls",
          "model_name": "HTMLModel",
          "state": {
            "_view_name": "HTMLView",
            "style": "IPY_MODEL_c7d58cd01c83479fb6f3a849ebfb0b67",
            "_dom_classes": [],
            "description": "",
            "_model_name": "HTMLModel",
            "placeholder": "​",
            "_view_module": "@jupyter-widgets/controls",
            "_model_module_version": "1.5.0",
            "value": " 100000/100000 [00:00&lt;00:00, 13.56 examples/s]",
            "_view_count": null,
            "_view_module_version": "1.5.0",
            "description_tooltip": null,
            "_model_module": "@jupyter-widgets/controls",
            "layout": "IPY_MODEL_1d3552687f274640abdb2ccc6b5da158"
          }
        },
        "ac7e910e21c34245b7a8acadd95fd37e": {
          "model_module": "@jupyter-widgets/controls",
          "model_name": "ProgressStyleModel",
          "state": {
            "_view_name": "StyleView",
            "_model_name": "ProgressStyleModel",
            "description_width": "initial",
            "_view_module": "@jupyter-widgets/base",
            "_model_module_version": "1.5.0",
            "_view_count": null,
            "_view_module_version": "1.2.0",
            "bar_color": null,
            "_model_module": "@jupyter-widgets/controls"
          }
        },
        "e2360c2f644a4b21904da1107b51c386": {
          "model_module": "@jupyter-widgets/base",
          "model_name": "LayoutModel",
          "state": {
            "_view_name": "LayoutView",
            "grid_template_rows": null,
            "right": null,
            "justify_content": null,
            "_view_module": "@jupyter-widgets/base",
            "overflow": null,
            "_model_module_version": "1.2.0",
            "_view_count": null,
            "flex_flow": null,
            "width": null,
            "min_width": null,
            "border": null,
            "align_items": null,
            "bottom": null,
            "_model_module": "@jupyter-widgets/base",
            "top": null,
            "grid_column": null,
            "overflow_y": null,
            "overflow_x": null,
            "grid_auto_flow": null,
            "grid_area": null,
            "grid_template_columns": null,
            "flex": null,
            "_model_name": "LayoutModel",
            "justify_items": null,
            "grid_row": null,
            "max_height": null,
            "align_content": null,
            "visibility": null,
            "align_self": null,
            "height": null,
            "min_height": null,
            "padding": null,
            "grid_auto_rows": null,
            "grid_gap": null,
            "max_width": null,
            "order": null,
            "_view_module_version": "1.2.0",
            "grid_template_areas": null,
            "object_position": null,
            "object_fit": null,
            "grid_auto_columns": null,
            "margin": null,
            "display": null,
            "left": null
          }
        },
        "c7d58cd01c83479fb6f3a849ebfb0b67": {
          "model_module": "@jupyter-widgets/controls",
          "model_name": "DescriptionStyleModel",
          "state": {
            "_view_name": "StyleView",
            "_model_name": "DescriptionStyleModel",
            "description_width": "",
            "_view_module": "@jupyter-widgets/base",
            "_model_module_version": "1.5.0",
            "_view_count": null,
            "_view_module_version": "1.2.0",
            "_model_module": "@jupyter-widgets/controls"
          }
        },
        "1d3552687f274640abdb2ccc6b5da158": {
          "model_module": "@jupyter-widgets/base",
          "model_name": "LayoutModel",
          "state": {
            "_view_name": "LayoutView",
            "grid_template_rows": null,
            "right": null,
            "justify_content": null,
            "_view_module": "@jupyter-widgets/base",
            "overflow": null,
            "_model_module_version": "1.2.0",
            "_view_count": null,
            "flex_flow": null,
            "width": null,
            "min_width": null,
            "border": null,
            "align_items": null,
            "bottom": null,
            "_model_module": "@jupyter-widgets/base",
            "top": null,
            "grid_column": null,
            "overflow_y": null,
            "overflow_x": null,
            "grid_auto_flow": null,
            "grid_area": null,
            "grid_template_columns": null,
            "flex": null,
            "_model_name": "LayoutModel",
            "justify_items": null,
            "grid_row": null,
            "max_height": null,
            "align_content": null,
            "visibility": null,
            "align_self": null,
            "height": null,
            "min_height": null,
            "padding": null,
            "grid_auto_rows": null,
            "grid_gap": null,
            "max_width": null,
            "order": null,
            "_view_module_version": "1.2.0",
            "grid_template_areas": null,
            "object_position": null,
            "object_fit": null,
            "grid_auto_columns": null,
            "margin": null,
            "display": null,
            "left": null
          }
        }
      }
    },
    "accelerator": "TPU"
  },
  "cells": [
    {
      "cell_type": "markdown",
      "metadata": {
        "id": "view-in-github",
        "colab_type": "text"
      },
      "source": [
        "<a href=\"https://colab.research.google.com/github/JNishimura/Deep-Learning-Recommenders/blob/main/Notebooks/MovieLens_TensorFlow.ipynb\" target=\"_parent\"><img src=\"https://colab.research.google.com/assets/colab-badge.svg\" alt=\"Open In Colab\"/></a>"
      ]
    },
    {
      "cell_type": "markdown",
      "metadata": {
        "id": "DF0RXGSkVRoZ"
      },
      "source": [
        "### Installs"
      ]
    },
    {
      "cell_type": "code",
      "metadata": {
        "id": "2BSw4nZgVRoi",
        "colab": {
          "base_uri": "https://localhost:8080/"
        },
        "outputId": "7c26d38a-5702-498f-c8eb-82117cbf5944"
      },
      "source": [
        "!pip install pandas\n",
        "!pip install -q tensorflow-recommenders\n",
        "!pip install -q --upgrade tensorflow-datasets\n",
        "!pip install -q scann\n",
        "!pip install ipywidgets"
      ],
      "execution_count": 1,
      "outputs": [
        {
          "output_type": "stream",
          "text": [
            "Requirement already satisfied: pandas in /usr/local/lib/python3.7/dist-packages (1.1.5)\n",
            "Requirement already satisfied: python-dateutil>=2.7.3 in /usr/local/lib/python3.7/dist-packages (from pandas) (2.8.1)\n",
            "Requirement already satisfied: numpy>=1.15.4 in /usr/local/lib/python3.7/dist-packages (from pandas) (1.19.5)\n",
            "Requirement already satisfied: pytz>=2017.2 in /usr/local/lib/python3.7/dist-packages (from pandas) (2018.9)\n",
            "Requirement already satisfied: six>=1.5 in /usr/local/lib/python3.7/dist-packages (from python-dateutil>=2.7.3->pandas) (1.15.0)\n",
            "\u001b[K     |████████████████████████████████| 61kB 3.2MB/s \n",
            "\u001b[K     |████████████████████████████████| 394.7MB 41kB/s \n",
            "\u001b[K     |████████████████████████████████| 3.7MB 6.2MB/s \n",
            "\u001b[K     |████████████████████████████████| 11.1MB 5.4MB/s \n",
            "\u001b[?25hRequirement already satisfied: ipywidgets in /usr/local/lib/python3.7/dist-packages (7.6.3)\n",
            "Requirement already satisfied: nbformat>=4.2.0 in /usr/local/lib/python3.7/dist-packages (from ipywidgets) (5.1.3)\n",
            "Requirement already satisfied: ipykernel>=4.5.1 in /usr/local/lib/python3.7/dist-packages (from ipywidgets) (4.10.1)\n",
            "Requirement already satisfied: ipython>=4.0.0; python_version >= \"3.3\" in /usr/local/lib/python3.7/dist-packages (from ipywidgets) (5.5.0)\n",
            "Requirement already satisfied: traitlets>=4.3.1 in /usr/local/lib/python3.7/dist-packages (from ipywidgets) (5.0.5)\n",
            "Requirement already satisfied: widgetsnbextension~=3.5.0 in /usr/local/lib/python3.7/dist-packages (from ipywidgets) (3.5.1)\n",
            "Requirement already satisfied: jupyterlab-widgets>=1.0.0; python_version >= \"3.6\" in /usr/local/lib/python3.7/dist-packages (from ipywidgets) (1.0.0)\n",
            "Requirement already satisfied: jsonschema!=2.5.0,>=2.4 in /usr/local/lib/python3.7/dist-packages (from nbformat>=4.2.0->ipywidgets) (2.6.0)\n",
            "Requirement already satisfied: ipython-genutils in /usr/local/lib/python3.7/dist-packages (from nbformat>=4.2.0->ipywidgets) (0.2.0)\n",
            "Requirement already satisfied: jupyter-core in /usr/local/lib/python3.7/dist-packages (from nbformat>=4.2.0->ipywidgets) (4.7.1)\n",
            "Requirement already satisfied: jupyter-client in /usr/local/lib/python3.7/dist-packages (from ipykernel>=4.5.1->ipywidgets) (5.3.5)\n",
            "Requirement already satisfied: tornado>=4.0 in /usr/local/lib/python3.7/dist-packages (from ipykernel>=4.5.1->ipywidgets) (5.1.1)\n",
            "Requirement already satisfied: decorator in /usr/local/lib/python3.7/dist-packages (from ipython>=4.0.0; python_version >= \"3.3\"->ipywidgets) (4.4.2)\n",
            "Requirement already satisfied: prompt-toolkit<2.0.0,>=1.0.4 in /usr/local/lib/python3.7/dist-packages (from ipython>=4.0.0; python_version >= \"3.3\"->ipywidgets) (1.0.18)\n",
            "Requirement already satisfied: setuptools>=18.5 in /usr/local/lib/python3.7/dist-packages (from ipython>=4.0.0; python_version >= \"3.3\"->ipywidgets) (56.0.0)\n",
            "Requirement already satisfied: simplegeneric>0.8 in /usr/local/lib/python3.7/dist-packages (from ipython>=4.0.0; python_version >= \"3.3\"->ipywidgets) (0.8.1)\n",
            "Requirement already satisfied: pygments in /usr/local/lib/python3.7/dist-packages (from ipython>=4.0.0; python_version >= \"3.3\"->ipywidgets) (2.6.1)\n",
            "Requirement already satisfied: pexpect; sys_platform != \"win32\" in /usr/local/lib/python3.7/dist-packages (from ipython>=4.0.0; python_version >= \"3.3\"->ipywidgets) (4.8.0)\n",
            "Requirement already satisfied: pickleshare in /usr/local/lib/python3.7/dist-packages (from ipython>=4.0.0; python_version >= \"3.3\"->ipywidgets) (0.7.5)\n",
            "Requirement already satisfied: notebook>=4.4.1 in /usr/local/lib/python3.7/dist-packages (from widgetsnbextension~=3.5.0->ipywidgets) (5.3.1)\n",
            "Requirement already satisfied: pyzmq>=13 in /usr/local/lib/python3.7/dist-packages (from jupyter-client->ipykernel>=4.5.1->ipywidgets) (22.0.3)\n",
            "Requirement already satisfied: python-dateutil>=2.1 in /usr/local/lib/python3.7/dist-packages (from jupyter-client->ipykernel>=4.5.1->ipywidgets) (2.8.1)\n",
            "Requirement already satisfied: six>=1.9.0 in /usr/local/lib/python3.7/dist-packages (from prompt-toolkit<2.0.0,>=1.0.4->ipython>=4.0.0; python_version >= \"3.3\"->ipywidgets) (1.15.0)\n",
            "Requirement already satisfied: wcwidth in /usr/local/lib/python3.7/dist-packages (from prompt-toolkit<2.0.0,>=1.0.4->ipython>=4.0.0; python_version >= \"3.3\"->ipywidgets) (0.2.5)\n",
            "Requirement already satisfied: ptyprocess>=0.5 in /usr/local/lib/python3.7/dist-packages (from pexpect; sys_platform != \"win32\"->ipython>=4.0.0; python_version >= \"3.3\"->ipywidgets) (0.7.0)\n",
            "Requirement already satisfied: nbconvert in /usr/local/lib/python3.7/dist-packages (from notebook>=4.4.1->widgetsnbextension~=3.5.0->ipywidgets) (5.6.1)\n",
            "Requirement already satisfied: Send2Trash in /usr/local/lib/python3.7/dist-packages (from notebook>=4.4.1->widgetsnbextension~=3.5.0->ipywidgets) (1.5.0)\n",
            "Requirement already satisfied: terminado>=0.8.1 in /usr/local/lib/python3.7/dist-packages (from notebook>=4.4.1->widgetsnbextension~=3.5.0->ipywidgets) (0.9.4)\n",
            "Requirement already satisfied: jinja2 in /usr/local/lib/python3.7/dist-packages (from notebook>=4.4.1->widgetsnbextension~=3.5.0->ipywidgets) (2.11.3)\n",
            "Requirement already satisfied: entrypoints>=0.2.2 in /usr/local/lib/python3.7/dist-packages (from nbconvert->notebook>=4.4.1->widgetsnbextension~=3.5.0->ipywidgets) (0.3)\n",
            "Requirement already satisfied: pandocfilters>=1.4.1 in /usr/local/lib/python3.7/dist-packages (from nbconvert->notebook>=4.4.1->widgetsnbextension~=3.5.0->ipywidgets) (1.4.3)\n",
            "Requirement already satisfied: bleach in /usr/local/lib/python3.7/dist-packages (from nbconvert->notebook>=4.4.1->widgetsnbextension~=3.5.0->ipywidgets) (3.3.0)\n",
            "Requirement already satisfied: defusedxml in /usr/local/lib/python3.7/dist-packages (from nbconvert->notebook>=4.4.1->widgetsnbextension~=3.5.0->ipywidgets) (0.7.1)\n",
            "Requirement already satisfied: mistune<2,>=0.8.1 in /usr/local/lib/python3.7/dist-packages (from nbconvert->notebook>=4.4.1->widgetsnbextension~=3.5.0->ipywidgets) (0.8.4)\n",
            "Requirement already satisfied: testpath in /usr/local/lib/python3.7/dist-packages (from nbconvert->notebook>=4.4.1->widgetsnbextension~=3.5.0->ipywidgets) (0.4.4)\n",
            "Requirement already satisfied: MarkupSafe>=0.23 in /usr/local/lib/python3.7/dist-packages (from jinja2->notebook>=4.4.1->widgetsnbextension~=3.5.0->ipywidgets) (1.1.1)\n",
            "Requirement already satisfied: packaging in /usr/local/lib/python3.7/dist-packages (from bleach->nbconvert->notebook>=4.4.1->widgetsnbextension~=3.5.0->ipywidgets) (20.9)\n",
            "Requirement already satisfied: webencodings in /usr/local/lib/python3.7/dist-packages (from bleach->nbconvert->notebook>=4.4.1->widgetsnbextension~=3.5.0->ipywidgets) (0.5.1)\n",
            "Requirement already satisfied: pyparsing>=2.0.2 in /usr/local/lib/python3.7/dist-packages (from packaging->bleach->nbconvert->notebook>=4.4.1->widgetsnbextension~=3.5.0->ipywidgets) (2.4.7)\n"
          ],
          "name": "stdout"
        }
      ]
    },
    {
      "cell_type": "markdown",
      "metadata": {
        "id": "B6D1ud0HVRoj"
      },
      "source": [
        "### Imports"
      ]
    },
    {
      "cell_type": "code",
      "metadata": {
        "id": "bH4afYylVRoj"
      },
      "source": [
        "import os\n",
        "import pprint\n",
        "import tempfile\n",
        "\n",
        "from typing import Dict, Text\n",
        "\n",
        "import numpy as np\n",
        "import tensorflow as tf\n",
        "import tensorflow_datasets as tfds\n",
        "import tensorflow_recommenders as tfrs\n",
        "\n",
        "import math\n",
        "import heapq\n",
        "import matplotlib.pyplot as plt"
      ],
      "execution_count": 2,
      "outputs": []
    },
    {
      "cell_type": "markdown",
      "metadata": {
        "id": "DOrz3-zQVRoj"
      },
      "source": [
        "### Data Set-up"
      ]
    },
    {
      "cell_type": "code",
      "metadata": {
        "id": "Zm0uKl4NVRok",
        "colab": {
          "base_uri": "https://localhost:8080/",
          "height": 247,
          "referenced_widgets": [
            "e93da5357cd740be94691d635e51590d",
            "ab8689067f8e4d0fafcc90bd15a8ddc5",
            "4bc9f10b8d55481bab15975ab567cb54",
            "e78c3487489a4435944f66a770eb6d64",
            "d3c46366e9d847de9ee2c255985ab1e8",
            "220e1b93c7d24a2a974a7e0f07095789",
            "16c6a3e3f300486c8ab1dc2428621e8d",
            "e43641554b8340c4b3770c93bd3aedb4",
            "e3889d47b0d94115941702724455af0c",
            "dd6f5a6e1e724c13a1ae9461d19afb13",
            "f919370046ed41f3a8c9002b3fc55c2a",
            "6237dadd0b8f45ee9975459390170a67",
            "e115f259d3754901b561f239949d6b25",
            "b2943fd4237046d6829f52407e90883e",
            "a850c1d73afb493ab8e1e53699ad4898",
            "8541dc9401c94c0bbdd45f5597df2729",
            "154f42a27757425391380c16f904ab35",
            "26594ca255f84143a166b823a683492c",
            "f2819d517f1c4cd5be52e99bf45c6cb6",
            "10fce602b0cc41f7a9c1751f4d186692",
            "993e96c5fb254a2184da47affe8b25ed",
            "f519ce82ced54aa5bed216934598ec5d",
            "4b7b8aaba83a4134aa17aea79b85bea6",
            "9bbce72ea8214b398954390d647faf88",
            "9ccc2983dbbf426088390af1beac2743",
            "0cf8fa016c5046079d47838214ef7f62",
            "fc384236adf3492993de3a6f9cbe1e45",
            "7be9f7845c93415ca7c17fcc61efcd3b",
            "b3a8533f9fbe42b7877cbc9aa26d28df",
            "3b3efed226ab412b882ae5e5acdd7f5d",
            "67cc42c59f8a47a68bd12b81ac7b34f8",
            "9efcda30e8934af9853dbef1f99d8881",
            "71e15e0ac9df4bc58adb1c54ac087fc0",
            "d907280d63974b519297491cb26c7f4b",
            "b70661d1ae124596b22ca6f26ba291be",
            "72f942b5ad8a4dd3be9e548e4cb634d7",
            "687799d1d4704ba5862b447b6f99f27a",
            "8ab2ea3225ed4fd4bf128c3400514bfe",
            "251fad0e331b4af089afbdf6ebd0d5fa",
            "a8b76a2010ca4cad9230073626940d4e",
            "a0de714a9908414fb761834092fb73dc",
            "3b727e07175644edbbca7f5928a2d698",
            "73fe1226b6bd4f738e346a51faeef85f",
            "849af2984d5b47058d7388b2e6abff32",
            "ac7e910e21c34245b7a8acadd95fd37e",
            "e2360c2f644a4b21904da1107b51c386",
            "c7d58cd01c83479fb6f3a849ebfb0b67",
            "1d3552687f274640abdb2ccc6b5da158"
          ]
        },
        "outputId": "8134a244-18b1-4b57-ec03-168899eb3557"
      },
      "source": [
        "# Ratings data.\n",
        "ratings = tfds.load(\"movielens/100k-ratings\", split=\"train\")"
      ],
      "execution_count": 3,
      "outputs": [
        {
          "output_type": "stream",
          "text": [
            "\u001b[1mDownloading and preparing dataset 4.70 MiB (download: 4.70 MiB, generated: 32.41 MiB, total: 37.10 MiB) to /root/tensorflow_datasets/movielens/100k-ratings/0.1.0...\u001b[0m\n"
          ],
          "name": "stdout"
        },
        {
          "output_type": "display_data",
          "data": {
            "application/vnd.jupyter.widget-view+json": {
              "model_id": "e93da5357cd740be94691d635e51590d",
              "version_minor": 0,
              "version_major": 2
            },
            "text/plain": [
              "HBox(children=(FloatProgress(value=1.0, bar_style='info', description='Dl Completed...', max=1.0, style=Progre…"
            ]
          },
          "metadata": {
            "tags": []
          }
        },
        {
          "output_type": "display_data",
          "data": {
            "application/vnd.jupyter.widget-view+json": {
              "model_id": "e3889d47b0d94115941702724455af0c",
              "version_minor": 0,
              "version_major": 2
            },
            "text/plain": [
              "HBox(children=(FloatProgress(value=1.0, bar_style='info', description='Dl Size...', max=1.0, style=ProgressSty…"
            ]
          },
          "metadata": {
            "tags": []
          }
        },
        {
          "output_type": "display_data",
          "data": {
            "application/vnd.jupyter.widget-view+json": {
              "model_id": "154f42a27757425391380c16f904ab35",
              "version_minor": 0,
              "version_major": 2
            },
            "text/plain": [
              "HBox(children=(FloatProgress(value=1.0, bar_style='info', description='Extraction completed...', max=1.0, styl…"
            ]
          },
          "metadata": {
            "tags": []
          }
        },
        {
          "output_type": "stream",
          "text": [
            "\n",
            "\n",
            "\n",
            "\n",
            "\n",
            "\n"
          ],
          "name": "stdout"
        },
        {
          "output_type": "display_data",
          "data": {
            "application/vnd.jupyter.widget-view+json": {
              "model_id": "9ccc2983dbbf426088390af1beac2743",
              "version_minor": 0,
              "version_major": 2
            },
            "text/plain": [
              "HBox(children=(FloatProgress(value=0.0, description='Generating splits...', max=1.0, style=ProgressStyle(descr…"
            ]
          },
          "metadata": {
            "tags": []
          }
        },
        {
          "output_type": "display_data",
          "data": {
            "application/vnd.jupyter.widget-view+json": {
              "model_id": "71e15e0ac9df4bc58adb1c54ac087fc0",
              "version_minor": 0,
              "version_major": 2
            },
            "text/plain": [
              "HBox(children=(FloatProgress(value=0.0, description='Generating train examples...', max=100000.0, style=Progre…"
            ]
          },
          "metadata": {
            "tags": []
          }
        },
        {
          "output_type": "display_data",
          "data": {
            "application/vnd.jupyter.widget-view+json": {
              "model_id": "a0de714a9908414fb761834092fb73dc",
              "version_minor": 0,
              "version_major": 2
            },
            "text/plain": [
              "HBox(children=(FloatProgress(value=0.0, description='Shuffling movielens-train.tfrecord...', max=100000.0, sty…"
            ]
          },
          "metadata": {
            "tags": []
          }
        },
        {
          "output_type": "stream",
          "text": [
            "\r\u001b[1mDataset movielens downloaded and prepared to /root/tensorflow_datasets/movielens/100k-ratings/0.1.0. Subsequent calls will reuse this data.\u001b[0m\n"
          ],
          "name": "stdout"
        }
      ]
    },
    {
      "cell_type": "code",
      "metadata": {
        "id": "zhMBWdIbVRok",
        "colab": {
          "base_uri": "https://localhost:8080/"
        },
        "outputId": "2015aab7-9a1f-4b6d-ce3f-5e050e97c77b"
      },
      "source": [
        "for x in ratings.take(1).as_numpy_iterator():\n",
        "  pprint.pprint(x)"
      ],
      "execution_count": 4,
      "outputs": [
        {
          "output_type": "stream",
          "text": [
            "{'bucketized_user_age': 45.0,\n",
            " 'movie_genres': array([7]),\n",
            " 'movie_id': b'357',\n",
            " 'movie_title': b\"One Flew Over the Cuckoo's Nest (1975)\",\n",
            " 'raw_user_age': 46.0,\n",
            " 'timestamp': 879024327,\n",
            " 'user_gender': True,\n",
            " 'user_id': b'138',\n",
            " 'user_occupation_label': 4,\n",
            " 'user_occupation_text': b'doctor',\n",
            " 'user_rating': 4.0,\n",
            " 'user_zip_code': b'53211'}\n"
          ],
          "name": "stdout"
        }
      ]
    },
    {
      "cell_type": "code",
      "metadata": {
        "id": "WaP8pbuaVRok",
        "colab": {
          "base_uri": "https://localhost:8080/"
        },
        "outputId": "fba37984-b100-43d9-d088-38a40d49ff0a"
      },
      "source": [
        "dataframe = tfds.as_dataframe(ratings)\n",
        "print(dataframe)"
      ],
      "execution_count": 5,
      "outputs": [
        {
          "output_type": "stream",
          "text": [
            "       bucketized_user_age     movie_genres  ... user_rating user_zip_code\n",
            "0                     45.0              [7]  ...         4.0      b'53211'\n",
            "1                     25.0          [4, 14]  ...         2.0      b'80525'\n",
            "2                     18.0              [4]  ...         4.0      b'55439'\n",
            "3                     50.0           [5, 7]  ...         4.0      b'06472'\n",
            "4                     50.0         [10, 16]  ...         3.0      b'75094'\n",
            "...                    ...              ...  ...         ...           ...\n",
            "99995                 25.0       [0, 1, 15]  ...         4.0      b'80027'\n",
            "99996                 35.0         [13, 16]  ...         4.0      b'60035'\n",
            "99997                 18.0             [10]  ...         1.0      b'78264'\n",
            "99998                 35.0  [0, 10, 15, 16]  ...         4.0      b'53210'\n",
            "99999                 18.0              [4]  ...         2.0      b'95064'\n",
            "\n",
            "[100000 rows x 12 columns]\n"
          ],
          "name": "stdout"
        }
      ]
    },
    {
      "cell_type": "code",
      "metadata": {
        "id": "KiG4G9L_lq6W",
        "colab": {
          "base_uri": "https://localhost:8080/"
        },
        "outputId": "8c10af65-a053-4fab-dbb7-fc7f24777e23"
      },
      "source": [
        "# Pull out relevant columns and convert id columns to ints\n",
        "relevant_cols = dataframe.loc[:, ['user_id', 'movie_id', 'user_rating', 'timestamp']]\n",
        "relevant_cols['user_id'] = relevant_cols['user_id'].astype(int)\n",
        "relevant_cols['movie_id'] = relevant_cols['movie_id'].astype(int)\n",
        "print(relevant_cols)\n",
        "print(relevant_cols.dtypes)"
      ],
      "execution_count": 6,
      "outputs": [
        {
          "output_type": "stream",
          "text": [
            "       user_id  movie_id  user_rating  timestamp\n",
            "0          138       357          4.0  879024327\n",
            "1           92       709          2.0  875654590\n",
            "2          301       412          4.0  882075110\n",
            "3           60        56          4.0  883326919\n",
            "4          197       895          3.0  891409199\n",
            "...        ...       ...          ...        ...\n",
            "99995      774       228          4.0  888557237\n",
            "99996      313       333          4.0  891012877\n",
            "99997      262       567          1.0  879795430\n",
            "99998      911       183          4.0  892839492\n",
            "99999      276      1140          2.0  874791894\n",
            "\n",
            "[100000 rows x 4 columns]\n",
            "user_id          int64\n",
            "movie_id         int64\n",
            "user_rating    float64\n",
            "timestamp        int64\n",
            "dtype: object\n"
          ],
          "name": "stdout"
        }
      ]
    },
    {
      "cell_type": "code",
      "metadata": {
        "id": "UEEtXx7RVVvg",
        "colab": {
          "base_uri": "https://localhost:8080/"
        },
        "outputId": "deac8dac-528f-42be-dfe8-1580c9d4bd58"
      },
      "source": [
        "relevant_cols['latest'] = relevant_cols.groupby(['user_id'])['timestamp'].rank(method='first', ascending=False)\n",
        "\n",
        "train_ratings = relevant_cols[relevant_cols['latest'] != 1]\n",
        "test_ratings = relevant_cols[relevant_cols['latest'] == 1]\n",
        "\n",
        "train_ratings = train_ratings[['user_id', 'movie_id', 'user_rating']][:10000]\n",
        "test_ratings = test_ratings[['user_id', 'movie_id', 'user_rating']][:1000]\n",
        "\n",
        "print(train_ratings.shape)\n",
        "print(test_ratings.shape)\n",
        "\n",
        "num_users = len(relevant_cols.user_id.unique()) + 1\n",
        "num_items = len(relevant_cols.movie_id.unique()) + 1\n",
        "\n",
        "print('Num Users:', num_users)\n",
        "print('Num Items:', num_items)"
      ],
      "execution_count": 24,
      "outputs": [
        {
          "output_type": "stream",
          "text": [
            "(10000, 3)\n",
            "(943, 3)\n",
            "Num Users: 944\n",
            "Num Items: 1683\n"
          ],
          "name": "stdout"
        }
      ]
    },
    {
      "cell_type": "markdown",
      "metadata": {
        "id": "ml1qDojt3Lcb"
      },
      "source": [
        "## Convert to Implicit Feedback Dataset"
      ]
    },
    {
      "cell_type": "code",
      "metadata": {
        "id": "5BghlYpWWZsc",
        "colab": {
          "base_uri": "https://localhost:8080/"
        },
        "outputId": "d03e7716-e4cb-4add-8b3d-6a6488c3e9cd"
      },
      "source": [
        "# Convert rating to 1 for everything to mark that the user has watched this item\n",
        "train_ratings.loc[:, 'rating'] = 1\n",
        "print(train_ratings)\n"
      ],
      "execution_count": 25,
      "outputs": [
        {
          "output_type": "stream",
          "text": [
            "       user_id  movie_id  user_rating  rating\n",
            "0          138       357          4.0       1\n",
            "1           92       709          2.0       1\n",
            "2          301       412          4.0       1\n",
            "3           60        56          4.0       1\n",
            "4          197       895          3.0       1\n",
            "...        ...       ...          ...     ...\n",
            "10194      435       122          3.0       1\n",
            "10195      343       260          1.0       1\n",
            "10196      735        25          4.0       1\n",
            "10197      617       218          2.0       1\n",
            "10198      256      1033          4.0       1\n",
            "\n",
            "[10000 rows x 4 columns]\n"
          ],
          "name": "stdout"
        }
      ]
    },
    {
      "cell_type": "code",
      "metadata": {
        "id": "g8ObmXC23Pc2"
      },
      "source": [
        "# Add negative samples\n",
        "all_movies = relevant_cols['movie_id'].unique()\n",
        "\n",
        "users, items, labels = [], [], []\n",
        "user_item_set = set(zip(train_ratings['user_id'], train_ratings['movie_id']))\n",
        "num_negatives = 4\n",
        "\n",
        "for (u, i) in user_item_set:\n",
        "  users.append([u])\n",
        "  items.append([i])\n",
        "  labels.append([1])\n",
        "  for _ in range(num_negatives):\n",
        "    negative_item = np.random.choice(all_movies)\n",
        "    while (u, negative_item) in user_item_set:\n",
        "      negative_item = np.random.choice(all_movies)\n",
        "    users.append([u])\n",
        "    items.append([negative_item])\n",
        "    labels.append([0])\n",
        "\n"
      ],
      "execution_count": 26,
      "outputs": []
    },
    {
      "cell_type": "markdown",
      "metadata": {
        "id": "vRKCJCT44Lx2"
      },
      "source": [
        "## Create Dataset"
      ]
    },
    {
      "cell_type": "code",
      "metadata": {
        "id": "nJvPLf6J362B"
      },
      "source": [
        "train_ds = tf.data.Dataset.from_tensor_slices(({'user': users, 'item': items}, labels))"
      ],
      "execution_count": 27,
      "outputs": []
    },
    {
      "cell_type": "code",
      "metadata": {
        "id": "iZEgiXPS4ZcQ",
        "colab": {
          "base_uri": "https://localhost:8080/"
        },
        "outputId": "62a767e2-c1f8-44ae-f775-fed7b0fa646a"
      },
      "source": [
        "train_ds = train_ds.shuffle(1000)\n",
        "for elem in train_ds.take(10):\n",
        "  print(elem)\n"
      ],
      "execution_count": 28,
      "outputs": [
        {
          "output_type": "stream",
          "text": [
            "({'user': <tf.Tensor: shape=(1,), dtype=int32, numpy=array([397], dtype=int32)>, 'item': <tf.Tensor: shape=(1,), dtype=int32, numpy=array([1356], dtype=int32)>}, <tf.Tensor: shape=(1,), dtype=int32, numpy=array([0], dtype=int32)>)\n",
            "({'user': <tf.Tensor: shape=(1,), dtype=int32, numpy=array([347], dtype=int32)>, 'item': <tf.Tensor: shape=(1,), dtype=int32, numpy=array([405], dtype=int32)>}, <tf.Tensor: shape=(1,), dtype=int32, numpy=array([1], dtype=int32)>)\n",
            "({'user': <tf.Tensor: shape=(1,), dtype=int32, numpy=array([796], dtype=int32)>, 'item': <tf.Tensor: shape=(1,), dtype=int32, numpy=array([525], dtype=int32)>}, <tf.Tensor: shape=(1,), dtype=int32, numpy=array([0], dtype=int32)>)\n",
            "({'user': <tf.Tensor: shape=(1,), dtype=int32, numpy=array([654], dtype=int32)>, 'item': <tf.Tensor: shape=(1,), dtype=int32, numpy=array([1675], dtype=int32)>}, <tf.Tensor: shape=(1,), dtype=int32, numpy=array([0], dtype=int32)>)\n",
            "({'user': <tf.Tensor: shape=(1,), dtype=int32, numpy=array([344], dtype=int32)>, 'item': <tf.Tensor: shape=(1,), dtype=int32, numpy=array([183], dtype=int32)>}, <tf.Tensor: shape=(1,), dtype=int32, numpy=array([0], dtype=int32)>)\n",
            "({'user': <tf.Tensor: shape=(1,), dtype=int32, numpy=array([706], dtype=int32)>, 'item': <tf.Tensor: shape=(1,), dtype=int32, numpy=array([1061], dtype=int32)>}, <tf.Tensor: shape=(1,), dtype=int32, numpy=array([0], dtype=int32)>)\n",
            "({'user': <tf.Tensor: shape=(1,), dtype=int32, numpy=array([270], dtype=int32)>, 'item': <tf.Tensor: shape=(1,), dtype=int32, numpy=array([1227], dtype=int32)>}, <tf.Tensor: shape=(1,), dtype=int32, numpy=array([0], dtype=int32)>)\n",
            "({'user': <tf.Tensor: shape=(1,), dtype=int32, numpy=array([853], dtype=int32)>, 'item': <tf.Tensor: shape=(1,), dtype=int32, numpy=array([506], dtype=int32)>}, <tf.Tensor: shape=(1,), dtype=int32, numpy=array([0], dtype=int32)>)\n",
            "({'user': <tf.Tensor: shape=(1,), dtype=int32, numpy=array([385], dtype=int32)>, 'item': <tf.Tensor: shape=(1,), dtype=int32, numpy=array([27], dtype=int32)>}, <tf.Tensor: shape=(1,), dtype=int32, numpy=array([0], dtype=int32)>)\n",
            "({'user': <tf.Tensor: shape=(1,), dtype=int32, numpy=array([452], dtype=int32)>, 'item': <tf.Tensor: shape=(1,), dtype=int32, numpy=array([753], dtype=int32)>}, <tf.Tensor: shape=(1,), dtype=int32, numpy=array([0], dtype=int32)>)\n"
          ],
          "name": "stdout"
        }
      ]
    },
    {
      "cell_type": "code",
      "metadata": {
        "id": "K0Blb3TPHoP-"
      },
      "source": [
        "BATCH_SIZE = 256"
      ],
      "execution_count": 12,
      "outputs": []
    },
    {
      "cell_type": "markdown",
      "metadata": {
        "id": "6WTSy4kvk4Lm"
      },
      "source": [
        "## Define Model"
      ]
    },
    {
      "cell_type": "code",
      "metadata": {
        "id": "1kHNl37Jk5Qg"
      },
      "source": [
        "from keras.models import Model\n",
        "from keras.layers import Embedding, Input, Dense, Reshape, Multiply, Flatten, Lambda, Concatenate, Layer, Dropout, Average\n",
        "from keras import initializers, regularizers\n",
        "import sys\n",
        "\n",
        "def get_GMFmodel(num_users, num_items, latent_dim):\n",
        "  user_input = Input(shape = (1,), dtype = 'int32', name = 'user')\n",
        "  item_input = Input(shape = (1,), dtype = 'int32', name = 'item')\n",
        "\n",
        "  user_embedding = Embedding(input_dim = num_users, output_dim = latent_dim, name = 'user_embed',\n",
        "                             embeddings_initializer = initializers.RandomNormal(stddev = 0.01), \n",
        "                             embeddings_regularizer = regularizers.l2(0), input_length = 1)\n",
        "  item_embedding = Embedding(input_dim = num_items, output_dim = latent_dim, name = 'item_embed',\n",
        "                             embeddings_initializer = initializers.RandomNormal(stddev = 0.01), \n",
        "                             embeddings_regularizer = regularizers.l2(0), input_length = 1)\n",
        "\n",
        "  user_latent = Flatten()(user_embedding(user_input))\n",
        "  item_latent = Flatten()(item_embedding(item_input))\n",
        "\n",
        "  prediction_vec = Multiply()([user_latent, item_latent])\n",
        "\n",
        "  prediction = Dense(1, activation='sigmoid', kernel_initializer='lecun_uniform', name = 'prediction')(prediction_vec)\n",
        "\n",
        "  return Model(inputs=[user_input, item_input], outputs=prediction)"
      ],
      "execution_count": 71,
      "outputs": []
    },
    {
      "cell_type": "code",
      "metadata": {
        "id": "IQVK3y4gtRYq",
        "outputId": "3671742c-7125-4af6-c965-08dcb41a9eed",
        "colab": {
          "base_uri": "https://localhost:8080/"
        }
      },
      "source": [
        "from keras.optimizers import Adam\n",
        "from keras.regularizers import *\n",
        "\n",
        "\n",
        "modelMLP = get_MLPmodel(num_users, num_items, 8)\n",
        "modelMLPGMF =  get_MLPGMFmodel(num_users, num_items, 8)\n",
        "modelGMF = get_GMFmodel(num_users, num_items, 8)\n",
        "modelMLP.compile(optimizer=Adam(0.001), loss='binary_crossentropy', metrics=[tf.keras.metrics.BinaryAccuracy()])\n",
        "modelMLPGMF.compile(optimizer=Adam(0.001), loss='binary_crossentropy', metrics=[tf.keras.metrics.BinaryAccuracy()])\n",
        "modelGMF.compile(optimizer=Adam(0.01), loss='binary_crossentropy', metrics=[tf.keras.metrics.BinaryAccuracy()])\n",
        "modelMLP.summary()\n"
      ],
      "execution_count": 69,
      "outputs": [
        {
          "output_type": "stream",
          "text": [
            "Model: \"model_46\"\n",
            "__________________________________________________________________________________________________\n",
            "Layer (type)                    Output Shape         Param #     Connected to                     \n",
            "==================================================================================================\n",
            "user (InputLayer)               [(None, 1)]          0                                            \n",
            "__________________________________________________________________________________________________\n",
            "item (InputLayer)               [(None, 1)]          0                                            \n",
            "__________________________________________________________________________________________________\n",
            "user_embed (Embedding)          (None, 1, 8)         7552        user[0][0]                       \n",
            "__________________________________________________________________________________________________\n",
            "item_embed (Embedding)          (None, 1, 8)         13464       item[0][0]                       \n",
            "__________________________________________________________________________________________________\n",
            "flatten_96 (Flatten)            (None, 8)            0           user_embed[0][0]                 \n",
            "__________________________________________________________________________________________________\n",
            "flatten_97 (Flatten)            (None, 8)            0           item_embed[0][0]                 \n",
            "__________________________________________________________________________________________________\n",
            "concatenate_34 (Concatenate)    (None, 16)           0           flatten_96[0][0]                 \n",
            "                                                                 flatten_97[0][0]                 \n",
            "__________________________________________________________________________________________________\n",
            "Layer1 (Dense)                  (None, 32)           544         concatenate_34[0][0]             \n",
            "__________________________________________________________________________________________________\n",
            "Layer2 (Dense)                  (None, 16)           528         Layer1[0][0]                     \n",
            "__________________________________________________________________________________________________\n",
            "Lasf (Dense)                    (None, 8)            136         Layer2[0][0]                     \n",
            "__________________________________________________________________________________________________\n",
            "Layer4 (Dense)                  (None, 1)            9           Lasf[0][0]                       \n",
            "==================================================================================================\n",
            "Total params: 22,233\n",
            "Trainable params: 22,233\n",
            "Non-trainable params: 0\n",
            "__________________________________________________________________________________________________\n"
          ],
          "name": "stdout"
        }
      ]
    },
    {
      "cell_type": "code",
      "metadata": {
        "id": "4vTW5vBhzQ6N"
      },
      "source": [
        "class Combine(Layer):\n",
        "  def __init__(self):\n",
        "        super(Combine, self).__init__()\n",
        "        random_alpha = tf.random.uniform(shape=[1])\n",
        "        self.alpha = tf.Variable(initial_value=random_alpha, trainable=True)\n",
        "  \n",
        "  def call(self, inputs):\n",
        "    return (1 - self.alpha)*inputs[0] + self.alpha*inputs[1]"
      ],
      "execution_count": 16,
      "outputs": []
    },
    {
      "cell_type": "code",
      "metadata": {
        "id": "XDKlcczn6Ejq"
      },
      "source": [
        "def get_MLPGMFmodel(num_users, num_items, latent_dim):\n",
        "  user_input = Input(shape = (1,), dtype = 'int32', name = 'user')\n",
        "  movie_input = Input(shape = (1,), dtype = 'int32', name = 'item')\n",
        "\n",
        "  user_embedding = Embedding(input_dim = num_users, output_dim = latent_dim, name = 'user_embed',\n",
        "                             embeddings_initializer = initializers.RandomNormal(stddev = 0.01), \n",
        "                             embeddings_regularizer = regularizers.l2(0), input_length = 1)\n",
        "  movie_embedding = Embedding(input_dim = num_items, output_dim = latent_dim, name = 'item_embed',\n",
        "                             embeddings_initializer = initializers.RandomNormal(stddev = 0.01), \n",
        "                             embeddings_regularizer = regularizers.l2(0), input_length = 1)\n",
        "  \n",
        "  user_latent = Flatten()(user_embedding(user_input))\n",
        "  item_latent = Flatten()(movie_embedding(movie_input))\n",
        "\n",
        "  #GMF \n",
        "  prediction_vec = Multiply()([user_latent, item_latent])\n",
        "  prediction_GMF = Dense(1, activation='sigmoid', kernel_initializer='lecun_uniform', name = 'prediction')(prediction_vec)\n",
        "\n",
        "  #MLF\n",
        "  inputs = Concatenate()([user_latent, item_latent])\n",
        "  layer = Dense(32, activation='relu', name='Layer1', kernel_initializer='glorot_uniform', kernel_regularizer=l2())(inputs)\n",
        "  layer = Dense(16, activation='relu', name='Layer5', kernel_regularizer=l2())(layer)\n",
        "  layer = Dense(8, activation='relu', name='Layer3')(layer)\n",
        "  prediction_MLP = Dense(1, activation='sigmoid', name='Layer4')(layer)\n",
        "\n",
        "  predictions = Combine()([prediction_GMF, prediction_MLP])\n",
        "\n",
        "  return Model(inputs=[user_input, movie_input], outputs=predictions)\n"
      ],
      "execution_count": 68,
      "outputs": []
    },
    {
      "cell_type": "code",
      "metadata": {
        "id": "ShgdKU-6BpLr"
      },
      "source": [
        "def evaluateNCDG(ranked_list, target_item):\n",
        "  for i in range(len(ranked_list)):\n",
        "    if ranked_list[i] == target_item:\n",
        "      return math.log(2) / math.log(i + 2)\n",
        "  \n",
        "  return 0"
      ],
      "execution_count": 18,
      "outputs": []
    },
    {
      "cell_type": "code",
      "metadata": {
        "id": "UuLADR1WBpLs"
      },
      "source": [
        "def hitRate(item, ranklist):\n",
        "  for rank in ranklist:\n",
        "    if item == rank:\n",
        "      return 1\n",
        "  return 0"
      ],
      "execution_count": 19,
      "outputs": []
    },
    {
      "cell_type": "code",
      "metadata": {
        "colab": {
          "base_uri": "https://localhost:8080/"
        },
        "id": "bf-QAnRjB7km",
        "outputId": "28e8829d-5942-4ed0-9f68-5b3d08be1263"
      },
      "source": [
        "all_movies = relevant_cols['movie_id'].unique()\n",
        "\n",
        "users, items, labels = [], [], []\n",
        "user_item_set = set(zip(train_ratings['user_id'], train_ratings['movie_id']))\n",
        "user_set = set(train_ratings['user_id'])\n",
        "num_test_negatives = 100\n",
        "test_negatives = {}\n",
        "\n",
        "for u in user_set:\n",
        "  negatives = []\n",
        "\n",
        "  for _ in range(num_test_negatives):\n",
        "    negative_item = np.random.choice(all_movies)\n",
        "    while (u, negative_item) in user_item_set:\n",
        "      negative_item = np.random.choice(all_movies)\n",
        "    \n",
        "    negatives.append(negative_item)\n",
        "  \n",
        "  test_negatives[u] = negatives\n",
        "\n",
        "print('Number of users:', len(test_negatives))\n",
        "print('Number of negative points:', len(test_negatives[138]))\n",
        "\n",
        "def evaluate_model(model, N=10):\n",
        "  hits = []\n",
        "  ncdgs = []\n",
        "  completed = 0\n",
        "\n",
        "  for (u, item) in zip(test_ratings['user_id'], test_ratings['movie_id']):\n",
        "    if u in test_negatives:\n",
        "      negs = test_negatives[u]\n",
        "      test_negs = np.array([])\n",
        "      test_users = np.array([])\n",
        "      items = {}\n",
        "\n",
        "      for neg in negs:\n",
        "        test_negs = np.append(test_negs, tf.constant([neg]))\n",
        "        test_users = np.append(test_users, tf.constant([u]))\n",
        "      test_negs = np.append(test_negs, tf.constant([item]))\n",
        "      test_users = np.append(test_users, tf.constant([u]))\n",
        "\n",
        "      predictions = model.predict({'user': test_users, 'item': test_negs})\n",
        "      completed += 1\n",
        "\n",
        "      for i in range(len(predictions)):\n",
        "        if i == len(predictions) - 1:\n",
        "          items[item] = predictions[i]\n",
        "        else:\n",
        "          items[negs[i]] = predictions[i]\n",
        "\n",
        "      rankedList = heapq.nlargest(N, items, items.get)\n",
        "\n",
        "      ncdg = evaluateNCDG(rankedList, item)\n",
        "      hit = hitRate(item, rankedList)\n",
        "      \n",
        "      ncdgs.append(ncdg)\n",
        "      hits.append(hit)\n",
        "\n",
        "    \n",
        "    hit_rate = np.mean(hits)\n",
        "    mean_ncdg = np.mean(ncdgs)\n",
        "\n",
        "  return hit_rate, mean_ncdg"
      ],
      "execution_count": 20,
      "outputs": [
        {
          "output_type": "stream",
          "text": [
            "Number of users: 943\n",
            "Number of negative points: 100\n"
          ],
          "name": "stdout"
        }
      ]
    },
    {
      "cell_type": "code",
      "metadata": {
        "colab": {
          "base_uri": "https://localhost:8080/"
        },
        "id": "TJUDI7KcCH8i",
        "outputId": "579cf906-119d-447f-f76c-bab3c03e0a9b"
      },
      "source": [
        "NUM_EPOCHS = 10\n",
        "best_hr = 0\n",
        "best_ncdg = 0\n",
        "best_epoch = -1\n",
        "model_path = \"OP_model.h5\"\n",
        "\n",
        "for epoch in range(1, NUM_EPOCHS + 1):\n",
        "  b = modelMLPGMF.fit(train_ds, batch_size=256, epochs=1)\n",
        "\n",
        "  hitrate2, ncdg2 = evaluate_model(modelMLPGMF,10)\n",
        "  print(hitrate2, ncdg2)\n"
      ],
      "execution_count": 70,
      "outputs": [
        {
          "output_type": "stream",
          "text": [
            "50000/50000 [==============================] - 89s 2ms/step - loss: 0.5026 - binary_accuracy: 0.8000\n",
            "0.37327677624602335 0.2060466714378147\n",
            "50000/50000 [==============================] - 88s 2ms/step - loss: 0.4075 - binary_accuracy: 0.8169\n",
            "0.3944856839872747 0.21462400091145198\n",
            "50000/50000 [==============================] - 89s 2ms/step - loss: 0.3908 - binary_accuracy: 0.8216\n",
            "0.39660657476139977 0.21413246942135877\n",
            "50000/50000 [==============================] - 89s 2ms/step - loss: 0.3850 - binary_accuracy: 0.8235\n",
            "0.3987274655355249 0.21312526899195383\n",
            "50000/50000 [==============================] - 88s 2ms/step - loss: 0.3812 - binary_accuracy: 0.8241\n",
            "0.39236479321314954 0.21612349066285655\n",
            "50000/50000 [==============================] - 89s 2ms/step - loss: 0.3775 - binary_accuracy: 0.8243\n",
            "0.3955461293743372 0.21569086643145882\n",
            "50000/50000 [==============================] - 87s 2ms/step - loss: 0.3749 - binary_accuracy: 0.8238\n",
            "0.38918345705196183 0.21096652340919825\n",
            "50000/50000 [==============================] - 89s 2ms/step - loss: 0.3721 - binary_accuracy: 0.8245\n",
            "0.38812301166489926 0.20642274253121878\n",
            "50000/50000 [==============================] - 88s 2ms/step - loss: 0.3683 - binary_accuracy: 0.8265\n",
            "0.37327677624602335 0.19984529302014117\n",
            "50000/50000 [==============================] - 88s 2ms/step - loss: 0.3653 - binary_accuracy: 0.8281\n",
            "0.35737009544008486 0.1936274148479047\n"
          ],
          "name": "stdout"
        }
      ]
    },
    {
      "cell_type": "code",
      "metadata": {
        "id": "rv59Sd87DMji"
      },
      "source": [
        "x = np.arange(1, 11)\n",
        "plt.plot(x,hist.history['binary_accuracy'], '.g-')\n",
        "plt.plot(x,hist.history['loss'], '-o')\n",
        "plt.plot(x,hist2.history['binary_accuracy'], '-o')\n",
        "plt.plot(x,hist2.history['loss'], '-o')\n",
        "plt.plot(x,hist3.history['binary_accuracy'], 'xb-')\n",
        "plt.plot(x,hist3.history['loss'], 'xr-')\n",
        "plt.xticks(x)\n",
        "plt.title('Loss and accuracy for the NeuMF models')\n",
        "plt.legend(['acc MLP', 'loss MLP', 'acc NeuMF', 'loss NeuMF', 'acc GMF', 'loss GMF'])\n",
        "\n"
      ],
      "execution_count": null,
      "outputs": []
    },
    {
      "cell_type": "code",
      "metadata": {
        "id": "olEttIN27wDO"
      },
      "source": [
        "x = [4, 8, 16, 32]\n",
        "fig = plt.figure(1, figsize=(7,7))\n",
        "ax1 = fig.add_subplot(211)\n",
        "ax2 = fig.add_subplot(212)\n",
        "\n",
        "ax1.axes.set_xlabel('Embedding dimensional factors')\n",
        "ax1.axes.set_ylabel('Hit@10')\n",
        "ax1.axes.set_xticks([0,1,2,3])\n",
        "ax1.axes.set_xticklabels(x)\n",
        "ax1.plot(y)\n",
        "ax2.axes.set_xlabel('Embedding dimensional factors')\n",
        "ax2.axes.set_ylabel('NCDG@10')\n",
        "ax2.axes.set_xticks([0,1,2,3])\n",
        "ax2.axes.set_xticklabels(x)\n",
        "ax2.plot(y)\n",
        "\n"
      ],
      "execution_count": null,
      "outputs": []
    },
    {
      "cell_type": "code",
      "metadata": {
        "id": "XpIG0ciCfTPb"
      },
      "source": [
        "8 latent factors\n",
        "MLP model\n",
        "495285/495285 [==============================] - 915s 2ms/step - loss: 0.3694 - binary_accuracy: 0.8401\n",
        "Epoch 1 Hit Rate: 0.44750795334040294 NCDG: 0.2517541511227904\n",
        "495285/495285 [==============================] - 917s 2ms/step - loss: 0.3667 - binary_accuracy: 0.8448\n",
        "Epoch 2 Hit Rate: 0.45705196182396607 NCDG: 0.26865844132840344\n",
        "495285/495285 [==============================] - 916s 2ms/step - loss: 0.3670 - binary_accuracy: 0.8477\n",
        "Epoch 3 Hit Rate: 0.46447507953340406 NCDG: 0.2702547249683689\n",
        "495285/495285 [==============================] - 912s 2ms/step - loss: 0.3687 - binary_accuracy: 0.8484\n",
        "Epoch 4 Hit Rate: 0.4931071049840933 NCDG: 0.27538216075397726\n",
        "495285/495285 [==============================] - 920s 2ms/step - loss: 0.3677 - binary_accuracy: 0.8481\n",
        "Epoch 1 Hit Rate: 0.46977730646871685 NCDG: 0.2718355382886976\n",
        "495285/495285 [==============================] - 916s 2ms/step - loss: 0.3710 - binary_accuracy: 0.8488\n",
        "Epoch 2 Hit Rate: 0.4634146341463415 NCDG: 0.27170201199025257\n",
        "495285/495285 [==============================] - 913s 2ms/step - loss: 0.3728 - binary_accuracy: 0.8489\n",
        "Epoch 3 Hit Rate: 0.4517497348886532 NCDG: 0.2710410939976013\n",
        "495285/495285 [==============================] - 911s 2ms/step - loss: 0.3729 - binary_accuracy: 0.8489\n",
        "Epoch 4 Hit Rate: 0.4623541887592789 NCDG: 0.276299381160501\n",
        "\n",
        "50000/50000 [==============================] - 120s 2ms/step - loss: 0.5206 - binary_accuracy: 0.8003\n",
        "0.36267232237539765 0.19889218640242384\n",
        "50000/50000 [==============================] - 118s 2ms/step - loss: 0.4116 - binary_accuracy: 0.8156\n",
        "0.39236479321314954 0.21022428298585605\n",
        "50000/50000 [==============================] - 119s 2ms/step - loss: 0.3942 - binary_accuracy: 0.8195\n",
        "0.38812301166489926 0.21168376817058512\n",
        "50000/50000 [==============================] - 113s 2ms/step - loss: 0.3895 - binary_accuracy: 0.8207\n",
        "0.383881230116649 0.21076808699462052\n",
        "50000/50000 [==============================] - 115s 2ms/step - loss: 0.3872 - binary_accuracy: 0.8200\n",
        "0.3902439024390244 0.21293803688699683\n",
        "50000/50000 [==============================] - 116s 2ms/step - loss: 0.3845 - binary_accuracy: 0.8194\n",
        "0.38918345705196183 0.21137988297239213\n",
        "50000/50000 [==============================] - 115s 2ms/step - loss: 0.3811 - binary_accuracy: 0.8212\n",
        "0.39236479321314954 0.2103711129883063\n",
        "50000/50000 [==============================] - 117s 2ms/step - loss: 0.3772 - binary_accuracy: 0.8215\n",
        "0.3806998939554613 0.20553678808874357\n",
        "50000/50000 [==============================] - 118s 2ms/step - loss: 0.3728 - binary_accuracy: 0.8234\n",
        "0.383881230116649 0.20756561552456584\n",
        "50000/50000 [==============================] - 122s 2ms/step - loss: 0.3688 - binary_accuracy: 0.8252\n",
        "0.3743372216330859 0.20568002829461596\n",
        "\n",
        "50000/50000 [==============================] - 73s 1ms/step - loss: 0.5083 - binary_accuracy: 0.7997\n",
        "0.11770943796394485 0.054666174473342065\n",
        "50000/50000 [==============================] - 74s 1ms/step - loss: 0.5135 - binary_accuracy: 0.7956\n",
        "0.10392364793213149 0.05069516237190652\n",
        "50000/50000 [==============================] - 73s 1ms/step - loss: 0.5120 - binary_accuracy: 0.7906\n",
        "0.10816542948038176 0.04886419271532115\n",
        "50000/50000 [==============================] - 74s 1ms/step - loss: 0.5042 - binary_accuracy: 0.7913\n",
        "0.12301166489925769 0.05522351192349724\n",
        "50000/50000 [==============================] - 73s 1ms/step - loss: 0.4808 - binary_accuracy: 0.7971\n",
        "0.21527041357370094 0.10962105689055417\n",
        "50000/50000 [==============================] - 72s 1ms/step - loss: 0.4581 - binary_accuracy: 0.8103\n",
        "0.2757158006362672 0.1439957939213699\n",
        "50000/50000 [==============================] - 74s 1ms/step - loss: 0.4572 - binary_accuracy: 0.8163\n",
        "0.23860021208907742 0.11946548595632371\n",
        "50000/50000 [==============================] - 73s 1ms/step - loss: 0.4617 - binary_accuracy: 0.8241\n",
        "0.30116648992576883 0.14679456267269783\n",
        "50000/50000 [==============================] - 74s 1ms/step - loss: 0.4841 - binary_accuracy: 0.8241\n",
        "0.31919406150583246 0.15650349492849633\n",
        "50000/50000 [==============================] - 74s 1ms/step - loss: 0.5004 - binary_accuracy: 0.8269\n",
        "0.3244962884411453 0.16890658225169475"
      ],
      "execution_count": null,
      "outputs": []
    }
  ]
}