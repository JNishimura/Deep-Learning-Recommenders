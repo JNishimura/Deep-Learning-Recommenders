{
  "nbformat": 4,
  "nbformat_minor": 0,
  "metadata": {
    "kernelspec": {
      "display_name": "Python 3",
      "language": "python",
      "name": "python3"
    },
    "language_info": {
      "codemirror_mode": {
        "name": "ipython",
        "version": 3
      },
      "file_extension": ".py",
      "mimetype": "text/x-python",
      "name": "python",
      "nbconvert_exporter": "python",
      "pygments_lexer": "ipython3",
      "version": "3.6.9"
    },
    "colab": {
      "name": "MovieLens_TensorFlow.ipynb",
      "provenance": [],
      "include_colab_link": true
    },
    "widgets": {
      "application/vnd.jupyter.widget-state+json": {
        "8bf05dfc01f947e9833a5c6e8ed3f1ac": {
          "model_module": "@jupyter-widgets/controls",
          "model_name": "HBoxModel",
          "state": {
            "_view_name": "HBoxView",
            "_dom_classes": [],
            "_model_name": "HBoxModel",
            "_view_module": "@jupyter-widgets/controls",
            "_model_module_version": "1.5.0",
            "_view_count": null,
            "_view_module_version": "1.5.0",
            "box_style": "",
            "layout": "IPY_MODEL_c700bf23e651425c9597aab2750995ac",
            "_model_module": "@jupyter-widgets/controls",
            "children": [
              "IPY_MODEL_c287ade6004a43dba0fafa57b9375c15",
              "IPY_MODEL_3c3a9ee1283f490aa3f966b9f93acea2"
            ]
          }
        },
        "c700bf23e651425c9597aab2750995ac": {
          "model_module": "@jupyter-widgets/base",
          "model_name": "LayoutModel",
          "state": {
            "_view_name": "LayoutView",
            "grid_template_rows": null,
            "right": null,
            "justify_content": null,
            "_view_module": "@jupyter-widgets/base",
            "overflow": null,
            "_model_module_version": "1.2.0",
            "_view_count": null,
            "flex_flow": null,
            "width": null,
            "min_width": null,
            "border": null,
            "align_items": null,
            "bottom": null,
            "_model_module": "@jupyter-widgets/base",
            "top": null,
            "grid_column": null,
            "overflow_y": null,
            "overflow_x": null,
            "grid_auto_flow": null,
            "grid_area": null,
            "grid_template_columns": null,
            "flex": null,
            "_model_name": "LayoutModel",
            "justify_items": null,
            "grid_row": null,
            "max_height": null,
            "align_content": null,
            "visibility": null,
            "align_self": null,
            "height": null,
            "min_height": null,
            "padding": null,
            "grid_auto_rows": null,
            "grid_gap": null,
            "max_width": null,
            "order": null,
            "_view_module_version": "1.2.0",
            "grid_template_areas": null,
            "object_position": null,
            "object_fit": null,
            "grid_auto_columns": null,
            "margin": null,
            "display": null,
            "left": null
          }
        },
        "c287ade6004a43dba0fafa57b9375c15": {
          "model_module": "@jupyter-widgets/controls",
          "model_name": "FloatProgressModel",
          "state": {
            "_view_name": "ProgressView",
            "style": "IPY_MODEL_a38a33dd911a40fba9cfe38529f42182",
            "_dom_classes": [],
            "description": "Dl Completed...: 100%",
            "_model_name": "FloatProgressModel",
            "bar_style": "success",
            "max": 1,
            "_view_module": "@jupyter-widgets/controls",
            "_model_module_version": "1.5.0",
            "value": 1,
            "_view_count": null,
            "_view_module_version": "1.5.0",
            "orientation": "horizontal",
            "min": 0,
            "description_tooltip": null,
            "_model_module": "@jupyter-widgets/controls",
            "layout": "IPY_MODEL_e6cca61488df48e695809d23cb09d073"
          }
        },
        "3c3a9ee1283f490aa3f966b9f93acea2": {
          "model_module": "@jupyter-widgets/controls",
          "model_name": "HTMLModel",
          "state": {
            "_view_name": "HTMLView",
            "style": "IPY_MODEL_2ba33357712e4ed9881e25d1eb064d8f",
            "_dom_classes": [],
            "description": "",
            "_model_name": "HTMLModel",
            "placeholder": "​",
            "_view_module": "@jupyter-widgets/controls",
            "_model_module_version": "1.5.0",
            "value": " 1/1 [00:00&lt;00:00,  1.22 url/s]",
            "_view_count": null,
            "_view_module_version": "1.5.0",
            "description_tooltip": null,
            "_model_module": "@jupyter-widgets/controls",
            "layout": "IPY_MODEL_81881f957447424280502b282b8b37be"
          }
        },
        "a38a33dd911a40fba9cfe38529f42182": {
          "model_module": "@jupyter-widgets/controls",
          "model_name": "ProgressStyleModel",
          "state": {
            "_view_name": "StyleView",
            "_model_name": "ProgressStyleModel",
            "description_width": "initial",
            "_view_module": "@jupyter-widgets/base",
            "_model_module_version": "1.5.0",
            "_view_count": null,
            "_view_module_version": "1.2.0",
            "bar_color": null,
            "_model_module": "@jupyter-widgets/controls"
          }
        },
        "e6cca61488df48e695809d23cb09d073": {
          "model_module": "@jupyter-widgets/base",
          "model_name": "LayoutModel",
          "state": {
            "_view_name": "LayoutView",
            "grid_template_rows": null,
            "right": null,
            "justify_content": null,
            "_view_module": "@jupyter-widgets/base",
            "overflow": null,
            "_model_module_version": "1.2.0",
            "_view_count": null,
            "flex_flow": null,
            "width": null,
            "min_width": null,
            "border": null,
            "align_items": null,
            "bottom": null,
            "_model_module": "@jupyter-widgets/base",
            "top": null,
            "grid_column": null,
            "overflow_y": null,
            "overflow_x": null,
            "grid_auto_flow": null,
            "grid_area": null,
            "grid_template_columns": null,
            "flex": null,
            "_model_name": "LayoutModel",
            "justify_items": null,
            "grid_row": null,
            "max_height": null,
            "align_content": null,
            "visibility": null,
            "align_self": null,
            "height": null,
            "min_height": null,
            "padding": null,
            "grid_auto_rows": null,
            "grid_gap": null,
            "max_width": null,
            "order": null,
            "_view_module_version": "1.2.0",
            "grid_template_areas": null,
            "object_position": null,
            "object_fit": null,
            "grid_auto_columns": null,
            "margin": null,
            "display": null,
            "left": null
          }
        },
        "2ba33357712e4ed9881e25d1eb064d8f": {
          "model_module": "@jupyter-widgets/controls",
          "model_name": "DescriptionStyleModel",
          "state": {
            "_view_name": "StyleView",
            "_model_name": "DescriptionStyleModel",
            "description_width": "",
            "_view_module": "@jupyter-widgets/base",
            "_model_module_version": "1.5.0",
            "_view_count": null,
            "_view_module_version": "1.2.0",
            "_model_module": "@jupyter-widgets/controls"
          }
        },
        "81881f957447424280502b282b8b37be": {
          "model_module": "@jupyter-widgets/base",
          "model_name": "LayoutModel",
          "state": {
            "_view_name": "LayoutView",
            "grid_template_rows": null,
            "right": null,
            "justify_content": null,
            "_view_module": "@jupyter-widgets/base",
            "overflow": null,
            "_model_module_version": "1.2.0",
            "_view_count": null,
            "flex_flow": null,
            "width": null,
            "min_width": null,
            "border": null,
            "align_items": null,
            "bottom": null,
            "_model_module": "@jupyter-widgets/base",
            "top": null,
            "grid_column": null,
            "overflow_y": null,
            "overflow_x": null,
            "grid_auto_flow": null,
            "grid_area": null,
            "grid_template_columns": null,
            "flex": null,
            "_model_name": "LayoutModel",
            "justify_items": null,
            "grid_row": null,
            "max_height": null,
            "align_content": null,
            "visibility": null,
            "align_self": null,
            "height": null,
            "min_height": null,
            "padding": null,
            "grid_auto_rows": null,
            "grid_gap": null,
            "max_width": null,
            "order": null,
            "_view_module_version": "1.2.0",
            "grid_template_areas": null,
            "object_position": null,
            "object_fit": null,
            "grid_auto_columns": null,
            "margin": null,
            "display": null,
            "left": null
          }
        },
        "5ce35f879b4d476cb104a81b02272640": {
          "model_module": "@jupyter-widgets/controls",
          "model_name": "HBoxModel",
          "state": {
            "_view_name": "HBoxView",
            "_dom_classes": [],
            "_model_name": "HBoxModel",
            "_view_module": "@jupyter-widgets/controls",
            "_model_module_version": "1.5.0",
            "_view_count": null,
            "_view_module_version": "1.5.0",
            "box_style": "",
            "layout": "IPY_MODEL_e28a3355fe864970a2a926d082f7b768",
            "_model_module": "@jupyter-widgets/controls",
            "children": [
              "IPY_MODEL_d62f9d1d36f342e2a9d2e8102e94993f",
              "IPY_MODEL_9e3ac9e675b445e4a49249934e3e500a"
            ]
          }
        },
        "e28a3355fe864970a2a926d082f7b768": {
          "model_module": "@jupyter-widgets/base",
          "model_name": "LayoutModel",
          "state": {
            "_view_name": "LayoutView",
            "grid_template_rows": null,
            "right": null,
            "justify_content": null,
            "_view_module": "@jupyter-widgets/base",
            "overflow": null,
            "_model_module_version": "1.2.0",
            "_view_count": null,
            "flex_flow": null,
            "width": null,
            "min_width": null,
            "border": null,
            "align_items": null,
            "bottom": null,
            "_model_module": "@jupyter-widgets/base",
            "top": null,
            "grid_column": null,
            "overflow_y": null,
            "overflow_x": null,
            "grid_auto_flow": null,
            "grid_area": null,
            "grid_template_columns": null,
            "flex": null,
            "_model_name": "LayoutModel",
            "justify_items": null,
            "grid_row": null,
            "max_height": null,
            "align_content": null,
            "visibility": null,
            "align_self": null,
            "height": null,
            "min_height": null,
            "padding": null,
            "grid_auto_rows": null,
            "grid_gap": null,
            "max_width": null,
            "order": null,
            "_view_module_version": "1.2.0",
            "grid_template_areas": null,
            "object_position": null,
            "object_fit": null,
            "grid_auto_columns": null,
            "margin": null,
            "display": null,
            "left": null
          }
        },
        "d62f9d1d36f342e2a9d2e8102e94993f": {
          "model_module": "@jupyter-widgets/controls",
          "model_name": "FloatProgressModel",
          "state": {
            "_view_name": "ProgressView",
            "style": "IPY_MODEL_2f52aa7292b4479e9073f6d3e2d6cfb5",
            "_dom_classes": [],
            "description": "Dl Size...: 100%",
            "_model_name": "FloatProgressModel",
            "bar_style": "success",
            "max": 1,
            "_view_module": "@jupyter-widgets/controls",
            "_model_module_version": "1.5.0",
            "value": 1,
            "_view_count": null,
            "_view_module_version": "1.5.0",
            "orientation": "horizontal",
            "min": 0,
            "description_tooltip": null,
            "_model_module": "@jupyter-widgets/controls",
            "layout": "IPY_MODEL_9a86f1ba4dac4cddb3e0a1c52fc41c72"
          }
        },
        "9e3ac9e675b445e4a49249934e3e500a": {
          "model_module": "@jupyter-widgets/controls",
          "model_name": "HTMLModel",
          "state": {
            "_view_name": "HTMLView",
            "style": "IPY_MODEL_b527a8d9c5ab45cd95e17e0beaa25aa0",
            "_dom_classes": [],
            "description": "",
            "_model_name": "HTMLModel",
            "placeholder": "​",
            "_view_module": "@jupyter-widgets/controls",
            "_model_module_version": "1.5.0",
            "value": " 4/4 [00:00&lt;00:00,  5.10 MiB/s]",
            "_view_count": null,
            "_view_module_version": "1.5.0",
            "description_tooltip": null,
            "_model_module": "@jupyter-widgets/controls",
            "layout": "IPY_MODEL_cf4b455e4f17473f99b18befe616eb87"
          }
        },
        "2f52aa7292b4479e9073f6d3e2d6cfb5": {
          "model_module": "@jupyter-widgets/controls",
          "model_name": "ProgressStyleModel",
          "state": {
            "_view_name": "StyleView",
            "_model_name": "ProgressStyleModel",
            "description_width": "initial",
            "_view_module": "@jupyter-widgets/base",
            "_model_module_version": "1.5.0",
            "_view_count": null,
            "_view_module_version": "1.2.0",
            "bar_color": null,
            "_model_module": "@jupyter-widgets/controls"
          }
        },
        "9a86f1ba4dac4cddb3e0a1c52fc41c72": {
          "model_module": "@jupyter-widgets/base",
          "model_name": "LayoutModel",
          "state": {
            "_view_name": "LayoutView",
            "grid_template_rows": null,
            "right": null,
            "justify_content": null,
            "_view_module": "@jupyter-widgets/base",
            "overflow": null,
            "_model_module_version": "1.2.0",
            "_view_count": null,
            "flex_flow": null,
            "width": null,
            "min_width": null,
            "border": null,
            "align_items": null,
            "bottom": null,
            "_model_module": "@jupyter-widgets/base",
            "top": null,
            "grid_column": null,
            "overflow_y": null,
            "overflow_x": null,
            "grid_auto_flow": null,
            "grid_area": null,
            "grid_template_columns": null,
            "flex": null,
            "_model_name": "LayoutModel",
            "justify_items": null,
            "grid_row": null,
            "max_height": null,
            "align_content": null,
            "visibility": null,
            "align_self": null,
            "height": null,
            "min_height": null,
            "padding": null,
            "grid_auto_rows": null,
            "grid_gap": null,
            "max_width": null,
            "order": null,
            "_view_module_version": "1.2.0",
            "grid_template_areas": null,
            "object_position": null,
            "object_fit": null,
            "grid_auto_columns": null,
            "margin": null,
            "display": null,
            "left": null
          }
        },
        "b527a8d9c5ab45cd95e17e0beaa25aa0": {
          "model_module": "@jupyter-widgets/controls",
          "model_name": "DescriptionStyleModel",
          "state": {
            "_view_name": "StyleView",
            "_model_name": "DescriptionStyleModel",
            "description_width": "",
            "_view_module": "@jupyter-widgets/base",
            "_model_module_version": "1.5.0",
            "_view_count": null,
            "_view_module_version": "1.2.0",
            "_model_module": "@jupyter-widgets/controls"
          }
        },
        "cf4b455e4f17473f99b18befe616eb87": {
          "model_module": "@jupyter-widgets/base",
          "model_name": "LayoutModel",
          "state": {
            "_view_name": "LayoutView",
            "grid_template_rows": null,
            "right": null,
            "justify_content": null,
            "_view_module": "@jupyter-widgets/base",
            "overflow": null,
            "_model_module_version": "1.2.0",
            "_view_count": null,
            "flex_flow": null,
            "width": null,
            "min_width": null,
            "border": null,
            "align_items": null,
            "bottom": null,
            "_model_module": "@jupyter-widgets/base",
            "top": null,
            "grid_column": null,
            "overflow_y": null,
            "overflow_x": null,
            "grid_auto_flow": null,
            "grid_area": null,
            "grid_template_columns": null,
            "flex": null,
            "_model_name": "LayoutModel",
            "justify_items": null,
            "grid_row": null,
            "max_height": null,
            "align_content": null,
            "visibility": null,
            "align_self": null,
            "height": null,
            "min_height": null,
            "padding": null,
            "grid_auto_rows": null,
            "grid_gap": null,
            "max_width": null,
            "order": null,
            "_view_module_version": "1.2.0",
            "grid_template_areas": null,
            "object_position": null,
            "object_fit": null,
            "grid_auto_columns": null,
            "margin": null,
            "display": null,
            "left": null
          }
        },
        "229042ab226e41fa86754d9264cedb3d": {
          "model_module": "@jupyter-widgets/controls",
          "model_name": "HBoxModel",
          "state": {
            "_view_name": "HBoxView",
            "_dom_classes": [],
            "_model_name": "HBoxModel",
            "_view_module": "@jupyter-widgets/controls",
            "_model_module_version": "1.5.0",
            "_view_count": null,
            "_view_module_version": "1.5.0",
            "box_style": "",
            "layout": "IPY_MODEL_d6546b856bd641f980b2623ce130dd84",
            "_model_module": "@jupyter-widgets/controls",
            "children": [
              "IPY_MODEL_a160670b07b84219b21bfe9b60cffb25",
              "IPY_MODEL_b12196aae6d544f2aee68cc7f6a565c4"
            ]
          }
        },
        "d6546b856bd641f980b2623ce130dd84": {
          "model_module": "@jupyter-widgets/base",
          "model_name": "LayoutModel",
          "state": {
            "_view_name": "LayoutView",
            "grid_template_rows": null,
            "right": null,
            "justify_content": null,
            "_view_module": "@jupyter-widgets/base",
            "overflow": null,
            "_model_module_version": "1.2.0",
            "_view_count": null,
            "flex_flow": null,
            "width": null,
            "min_width": null,
            "border": null,
            "align_items": null,
            "bottom": null,
            "_model_module": "@jupyter-widgets/base",
            "top": null,
            "grid_column": null,
            "overflow_y": null,
            "overflow_x": null,
            "grid_auto_flow": null,
            "grid_area": null,
            "grid_template_columns": null,
            "flex": null,
            "_model_name": "LayoutModel",
            "justify_items": null,
            "grid_row": null,
            "max_height": null,
            "align_content": null,
            "visibility": null,
            "align_self": null,
            "height": null,
            "min_height": null,
            "padding": null,
            "grid_auto_rows": null,
            "grid_gap": null,
            "max_width": null,
            "order": null,
            "_view_module_version": "1.2.0",
            "grid_template_areas": null,
            "object_position": null,
            "object_fit": null,
            "grid_auto_columns": null,
            "margin": null,
            "display": null,
            "left": null
          }
        },
        "a160670b07b84219b21bfe9b60cffb25": {
          "model_module": "@jupyter-widgets/controls",
          "model_name": "FloatProgressModel",
          "state": {
            "_view_name": "ProgressView",
            "style": "IPY_MODEL_56db0aace70d493ea0368f9709bd5b2c",
            "_dom_classes": [],
            "description": "Extraction completed...: 100%",
            "_model_name": "FloatProgressModel",
            "bar_style": "success",
            "max": 1,
            "_view_module": "@jupyter-widgets/controls",
            "_model_module_version": "1.5.0",
            "value": 1,
            "_view_count": null,
            "_view_module_version": "1.5.0",
            "orientation": "horizontal",
            "min": 0,
            "description_tooltip": null,
            "_model_module": "@jupyter-widgets/controls",
            "layout": "IPY_MODEL_9c1b1fdc5cdb4587a534b43df2a5991b"
          }
        },
        "b12196aae6d544f2aee68cc7f6a565c4": {
          "model_module": "@jupyter-widgets/controls",
          "model_name": "HTMLModel",
          "state": {
            "_view_name": "HTMLView",
            "style": "IPY_MODEL_b462c2021d294990b738735a8088ab62",
            "_dom_classes": [],
            "description": "",
            "_model_name": "HTMLModel",
            "placeholder": "​",
            "_view_module": "@jupyter-widgets/controls",
            "_model_module_version": "1.5.0",
            "value": " 1/1 [00:00&lt;00:00,  1.37 file/s]",
            "_view_count": null,
            "_view_module_version": "1.5.0",
            "description_tooltip": null,
            "_model_module": "@jupyter-widgets/controls",
            "layout": "IPY_MODEL_cb539e599c664382b1c8b4121a4e89bc"
          }
        },
        "56db0aace70d493ea0368f9709bd5b2c": {
          "model_module": "@jupyter-widgets/controls",
          "model_name": "ProgressStyleModel",
          "state": {
            "_view_name": "StyleView",
            "_model_name": "ProgressStyleModel",
            "description_width": "initial",
            "_view_module": "@jupyter-widgets/base",
            "_model_module_version": "1.5.0",
            "_view_count": null,
            "_view_module_version": "1.2.0",
            "bar_color": null,
            "_model_module": "@jupyter-widgets/controls"
          }
        },
        "9c1b1fdc5cdb4587a534b43df2a5991b": {
          "model_module": "@jupyter-widgets/base",
          "model_name": "LayoutModel",
          "state": {
            "_view_name": "LayoutView",
            "grid_template_rows": null,
            "right": null,
            "justify_content": null,
            "_view_module": "@jupyter-widgets/base",
            "overflow": null,
            "_model_module_version": "1.2.0",
            "_view_count": null,
            "flex_flow": null,
            "width": null,
            "min_width": null,
            "border": null,
            "align_items": null,
            "bottom": null,
            "_model_module": "@jupyter-widgets/base",
            "top": null,
            "grid_column": null,
            "overflow_y": null,
            "overflow_x": null,
            "grid_auto_flow": null,
            "grid_area": null,
            "grid_template_columns": null,
            "flex": null,
            "_model_name": "LayoutModel",
            "justify_items": null,
            "grid_row": null,
            "max_height": null,
            "align_content": null,
            "visibility": null,
            "align_self": null,
            "height": null,
            "min_height": null,
            "padding": null,
            "grid_auto_rows": null,
            "grid_gap": null,
            "max_width": null,
            "order": null,
            "_view_module_version": "1.2.0",
            "grid_template_areas": null,
            "object_position": null,
            "object_fit": null,
            "grid_auto_columns": null,
            "margin": null,
            "display": null,
            "left": null
          }
        },
        "b462c2021d294990b738735a8088ab62": {
          "model_module": "@jupyter-widgets/controls",
          "model_name": "DescriptionStyleModel",
          "state": {
            "_view_name": "StyleView",
            "_model_name": "DescriptionStyleModel",
            "description_width": "",
            "_view_module": "@jupyter-widgets/base",
            "_model_module_version": "1.5.0",
            "_view_count": null,
            "_view_module_version": "1.2.0",
            "_model_module": "@jupyter-widgets/controls"
          }
        },
        "cb539e599c664382b1c8b4121a4e89bc": {
          "model_module": "@jupyter-widgets/base",
          "model_name": "LayoutModel",
          "state": {
            "_view_name": "LayoutView",
            "grid_template_rows": null,
            "right": null,
            "justify_content": null,
            "_view_module": "@jupyter-widgets/base",
            "overflow": null,
            "_model_module_version": "1.2.0",
            "_view_count": null,
            "flex_flow": null,
            "width": null,
            "min_width": null,
            "border": null,
            "align_items": null,
            "bottom": null,
            "_model_module": "@jupyter-widgets/base",
            "top": null,
            "grid_column": null,
            "overflow_y": null,
            "overflow_x": null,
            "grid_auto_flow": null,
            "grid_area": null,
            "grid_template_columns": null,
            "flex": null,
            "_model_name": "LayoutModel",
            "justify_items": null,
            "grid_row": null,
            "max_height": null,
            "align_content": null,
            "visibility": null,
            "align_self": null,
            "height": null,
            "min_height": null,
            "padding": null,
            "grid_auto_rows": null,
            "grid_gap": null,
            "max_width": null,
            "order": null,
            "_view_module_version": "1.2.0",
            "grid_template_areas": null,
            "object_position": null,
            "object_fit": null,
            "grid_auto_columns": null,
            "margin": null,
            "display": null,
            "left": null
          }
        },
        "372dc53321a6425f9c2793c40bb96e75": {
          "model_module": "@jupyter-widgets/controls",
          "model_name": "HBoxModel",
          "state": {
            "_view_name": "HBoxView",
            "_dom_classes": [],
            "_model_name": "HBoxModel",
            "_view_module": "@jupyter-widgets/controls",
            "_model_module_version": "1.5.0",
            "_view_count": null,
            "_view_module_version": "1.5.0",
            "box_style": "",
            "layout": "IPY_MODEL_cc92943e63c249a78f4d683a5aa31676",
            "_model_module": "@jupyter-widgets/controls",
            "children": [
              "IPY_MODEL_37e9ec34b11d425cb9cd264664621c1c",
              "IPY_MODEL_1c72d7c3e2e04c62bea8125e1b53722b"
            ]
          }
        },
        "cc92943e63c249a78f4d683a5aa31676": {
          "model_module": "@jupyter-widgets/base",
          "model_name": "LayoutModel",
          "state": {
            "_view_name": "LayoutView",
            "grid_template_rows": null,
            "right": null,
            "justify_content": null,
            "_view_module": "@jupyter-widgets/base",
            "overflow": null,
            "_model_module_version": "1.2.0",
            "_view_count": null,
            "flex_flow": null,
            "width": null,
            "min_width": null,
            "border": null,
            "align_items": null,
            "bottom": null,
            "_model_module": "@jupyter-widgets/base",
            "top": null,
            "grid_column": null,
            "overflow_y": null,
            "overflow_x": null,
            "grid_auto_flow": null,
            "grid_area": null,
            "grid_template_columns": null,
            "flex": null,
            "_model_name": "LayoutModel",
            "justify_items": null,
            "grid_row": null,
            "max_height": null,
            "align_content": null,
            "visibility": null,
            "align_self": null,
            "height": null,
            "min_height": null,
            "padding": null,
            "grid_auto_rows": null,
            "grid_gap": null,
            "max_width": null,
            "order": null,
            "_view_module_version": "1.2.0",
            "grid_template_areas": null,
            "object_position": null,
            "object_fit": null,
            "grid_auto_columns": null,
            "margin": null,
            "display": null,
            "left": null
          }
        },
        "37e9ec34b11d425cb9cd264664621c1c": {
          "model_module": "@jupyter-widgets/controls",
          "model_name": "FloatProgressModel",
          "state": {
            "_view_name": "ProgressView",
            "style": "IPY_MODEL_f3f242e11f4f499e8fc6939a27da8156",
            "_dom_classes": [],
            "description": "Generating splits...: 100%",
            "_model_name": "FloatProgressModel",
            "bar_style": "",
            "max": 1,
            "_view_module": "@jupyter-widgets/controls",
            "_model_module_version": "1.5.0",
            "value": 1,
            "_view_count": null,
            "_view_module_version": "1.5.0",
            "orientation": "horizontal",
            "min": 0,
            "description_tooltip": null,
            "_model_module": "@jupyter-widgets/controls",
            "layout": "IPY_MODEL_75ee534e6cc441b58b58c3abf19d2c5a"
          }
        },
        "1c72d7c3e2e04c62bea8125e1b53722b": {
          "model_module": "@jupyter-widgets/controls",
          "model_name": "HTMLModel",
          "state": {
            "_view_name": "HTMLView",
            "style": "IPY_MODEL_be69e408bf974da8a5ff8564bbaf04de",
            "_dom_classes": [],
            "description": "",
            "_model_name": "HTMLModel",
            "placeholder": "​",
            "_view_module": "@jupyter-widgets/controls",
            "_model_module_version": "1.5.0",
            "value": " 1/1 [01:33&lt;00:00, 93.79s/ splits]",
            "_view_count": null,
            "_view_module_version": "1.5.0",
            "description_tooltip": null,
            "_model_module": "@jupyter-widgets/controls",
            "layout": "IPY_MODEL_e815c0b96c5946afa828d1e778f93b7b"
          }
        },
        "f3f242e11f4f499e8fc6939a27da8156": {
          "model_module": "@jupyter-widgets/controls",
          "model_name": "ProgressStyleModel",
          "state": {
            "_view_name": "StyleView",
            "_model_name": "ProgressStyleModel",
            "description_width": "initial",
            "_view_module": "@jupyter-widgets/base",
            "_model_module_version": "1.5.0",
            "_view_count": null,
            "_view_module_version": "1.2.0",
            "bar_color": null,
            "_model_module": "@jupyter-widgets/controls"
          }
        },
        "75ee534e6cc441b58b58c3abf19d2c5a": {
          "model_module": "@jupyter-widgets/base",
          "model_name": "LayoutModel",
          "state": {
            "_view_name": "LayoutView",
            "grid_template_rows": null,
            "right": null,
            "justify_content": null,
            "_view_module": "@jupyter-widgets/base",
            "overflow": null,
            "_model_module_version": "1.2.0",
            "_view_count": null,
            "flex_flow": null,
            "width": null,
            "min_width": null,
            "border": null,
            "align_items": null,
            "bottom": null,
            "_model_module": "@jupyter-widgets/base",
            "top": null,
            "grid_column": null,
            "overflow_y": null,
            "overflow_x": null,
            "grid_auto_flow": null,
            "grid_area": null,
            "grid_template_columns": null,
            "flex": null,
            "_model_name": "LayoutModel",
            "justify_items": null,
            "grid_row": null,
            "max_height": null,
            "align_content": null,
            "visibility": null,
            "align_self": null,
            "height": null,
            "min_height": null,
            "padding": null,
            "grid_auto_rows": null,
            "grid_gap": null,
            "max_width": null,
            "order": null,
            "_view_module_version": "1.2.0",
            "grid_template_areas": null,
            "object_position": null,
            "object_fit": null,
            "grid_auto_columns": null,
            "margin": null,
            "display": null,
            "left": null
          }
        },
        "be69e408bf974da8a5ff8564bbaf04de": {
          "model_module": "@jupyter-widgets/controls",
          "model_name": "DescriptionStyleModel",
          "state": {
            "_view_name": "StyleView",
            "_model_name": "DescriptionStyleModel",
            "description_width": "",
            "_view_module": "@jupyter-widgets/base",
            "_model_module_version": "1.5.0",
            "_view_count": null,
            "_view_module_version": "1.2.0",
            "_model_module": "@jupyter-widgets/controls"
          }
        },
        "e815c0b96c5946afa828d1e778f93b7b": {
          "model_module": "@jupyter-widgets/base",
          "model_name": "LayoutModel",
          "state": {
            "_view_name": "LayoutView",
            "grid_template_rows": null,
            "right": null,
            "justify_content": null,
            "_view_module": "@jupyter-widgets/base",
            "overflow": null,
            "_model_module_version": "1.2.0",
            "_view_count": null,
            "flex_flow": null,
            "width": null,
            "min_width": null,
            "border": null,
            "align_items": null,
            "bottom": null,
            "_model_module": "@jupyter-widgets/base",
            "top": null,
            "grid_column": null,
            "overflow_y": null,
            "overflow_x": null,
            "grid_auto_flow": null,
            "grid_area": null,
            "grid_template_columns": null,
            "flex": null,
            "_model_name": "LayoutModel",
            "justify_items": null,
            "grid_row": null,
            "max_height": null,
            "align_content": null,
            "visibility": null,
            "align_self": null,
            "height": null,
            "min_height": null,
            "padding": null,
            "grid_auto_rows": null,
            "grid_gap": null,
            "max_width": null,
            "order": null,
            "_view_module_version": "1.2.0",
            "grid_template_areas": null,
            "object_position": null,
            "object_fit": null,
            "grid_auto_columns": null,
            "margin": null,
            "display": null,
            "left": null
          }
        },
        "d3262c4f10384255b3fadd700dafac26": {
          "model_module": "@jupyter-widgets/controls",
          "model_name": "HBoxModel",
          "state": {
            "_view_name": "HBoxView",
            "_dom_classes": [],
            "_model_name": "HBoxModel",
            "_view_module": "@jupyter-widgets/controls",
            "_model_module_version": "1.5.0",
            "_view_count": null,
            "_view_module_version": "1.5.0",
            "box_style": "",
            "layout": "IPY_MODEL_395c2948262442b18c7b15e9ccbcc35d",
            "_model_module": "@jupyter-widgets/controls",
            "children": [
              "IPY_MODEL_9ed6de452db64211ac28778a5d895d12",
              "IPY_MODEL_49226b69dfaf48e78c93306630350b8e"
            ]
          }
        },
        "395c2948262442b18c7b15e9ccbcc35d": {
          "model_module": "@jupyter-widgets/base",
          "model_name": "LayoutModel",
          "state": {
            "_view_name": "LayoutView",
            "grid_template_rows": null,
            "right": null,
            "justify_content": null,
            "_view_module": "@jupyter-widgets/base",
            "overflow": null,
            "_model_module_version": "1.2.0",
            "_view_count": null,
            "flex_flow": null,
            "width": null,
            "min_width": null,
            "border": null,
            "align_items": null,
            "bottom": null,
            "_model_module": "@jupyter-widgets/base",
            "top": null,
            "grid_column": null,
            "overflow_y": null,
            "overflow_x": null,
            "grid_auto_flow": null,
            "grid_area": null,
            "grid_template_columns": null,
            "flex": null,
            "_model_name": "LayoutModel",
            "justify_items": null,
            "grid_row": null,
            "max_height": null,
            "align_content": null,
            "visibility": null,
            "align_self": null,
            "height": null,
            "min_height": null,
            "padding": null,
            "grid_auto_rows": null,
            "grid_gap": null,
            "max_width": null,
            "order": null,
            "_view_module_version": "1.2.0",
            "grid_template_areas": null,
            "object_position": null,
            "object_fit": null,
            "grid_auto_columns": null,
            "margin": null,
            "display": null,
            "left": null
          }
        },
        "9ed6de452db64211ac28778a5d895d12": {
          "model_module": "@jupyter-widgets/controls",
          "model_name": "FloatProgressModel",
          "state": {
            "_view_name": "ProgressView",
            "style": "IPY_MODEL_b09a2150d4ba4773b2c730855352f1b5",
            "_dom_classes": [],
            "description": "Generating train examples...: 100%",
            "_model_name": "FloatProgressModel",
            "bar_style": "",
            "max": 100000,
            "_view_module": "@jupyter-widgets/controls",
            "_model_module_version": "1.5.0",
            "value": 100000,
            "_view_count": null,
            "_view_module_version": "1.5.0",
            "orientation": "horizontal",
            "min": 0,
            "description_tooltip": null,
            "_model_module": "@jupyter-widgets/controls",
            "layout": "IPY_MODEL_c51609ee426c41f7a0d41350d3704ae9"
          }
        },
        "49226b69dfaf48e78c93306630350b8e": {
          "model_module": "@jupyter-widgets/controls",
          "model_name": "HTMLModel",
          "state": {
            "_view_name": "HTMLView",
            "style": "IPY_MODEL_3e742134379b42d5a99df73d02159333",
            "_dom_classes": [],
            "description": "",
            "_model_name": "HTMLModel",
            "placeholder": "​",
            "_view_module": "@jupyter-widgets/controls",
            "_model_module_version": "1.5.0",
            "value": " 100000/100000 [01:33&lt;00:00, 1206.15 examples/s]",
            "_view_count": null,
            "_view_module_version": "1.5.0",
            "description_tooltip": null,
            "_model_module": "@jupyter-widgets/controls",
            "layout": "IPY_MODEL_14dfb43dda1d486c8a2cbfb36751a259"
          }
        },
        "b09a2150d4ba4773b2c730855352f1b5": {
          "model_module": "@jupyter-widgets/controls",
          "model_name": "ProgressStyleModel",
          "state": {
            "_view_name": "StyleView",
            "_model_name": "ProgressStyleModel",
            "description_width": "initial",
            "_view_module": "@jupyter-widgets/base",
            "_model_module_version": "1.5.0",
            "_view_count": null,
            "_view_module_version": "1.2.0",
            "bar_color": null,
            "_model_module": "@jupyter-widgets/controls"
          }
        },
        "c51609ee426c41f7a0d41350d3704ae9": {
          "model_module": "@jupyter-widgets/base",
          "model_name": "LayoutModel",
          "state": {
            "_view_name": "LayoutView",
            "grid_template_rows": null,
            "right": null,
            "justify_content": null,
            "_view_module": "@jupyter-widgets/base",
            "overflow": null,
            "_model_module_version": "1.2.0",
            "_view_count": null,
            "flex_flow": null,
            "width": null,
            "min_width": null,
            "border": null,
            "align_items": null,
            "bottom": null,
            "_model_module": "@jupyter-widgets/base",
            "top": null,
            "grid_column": null,
            "overflow_y": null,
            "overflow_x": null,
            "grid_auto_flow": null,
            "grid_area": null,
            "grid_template_columns": null,
            "flex": null,
            "_model_name": "LayoutModel",
            "justify_items": null,
            "grid_row": null,
            "max_height": null,
            "align_content": null,
            "visibility": null,
            "align_self": null,
            "height": null,
            "min_height": null,
            "padding": null,
            "grid_auto_rows": null,
            "grid_gap": null,
            "max_width": null,
            "order": null,
            "_view_module_version": "1.2.0",
            "grid_template_areas": null,
            "object_position": null,
            "object_fit": null,
            "grid_auto_columns": null,
            "margin": null,
            "display": null,
            "left": null
          }
        },
        "3e742134379b42d5a99df73d02159333": {
          "model_module": "@jupyter-widgets/controls",
          "model_name": "DescriptionStyleModel",
          "state": {
            "_view_name": "StyleView",
            "_model_name": "DescriptionStyleModel",
            "description_width": "",
            "_view_module": "@jupyter-widgets/base",
            "_model_module_version": "1.5.0",
            "_view_count": null,
            "_view_module_version": "1.2.0",
            "_model_module": "@jupyter-widgets/controls"
          }
        },
        "14dfb43dda1d486c8a2cbfb36751a259": {
          "model_module": "@jupyter-widgets/base",
          "model_name": "LayoutModel",
          "state": {
            "_view_name": "LayoutView",
            "grid_template_rows": null,
            "right": null,
            "justify_content": null,
            "_view_module": "@jupyter-widgets/base",
            "overflow": null,
            "_model_module_version": "1.2.0",
            "_view_count": null,
            "flex_flow": null,
            "width": null,
            "min_width": null,
            "border": null,
            "align_items": null,
            "bottom": null,
            "_model_module": "@jupyter-widgets/base",
            "top": null,
            "grid_column": null,
            "overflow_y": null,
            "overflow_x": null,
            "grid_auto_flow": null,
            "grid_area": null,
            "grid_template_columns": null,
            "flex": null,
            "_model_name": "LayoutModel",
            "justify_items": null,
            "grid_row": null,
            "max_height": null,
            "align_content": null,
            "visibility": null,
            "align_self": null,
            "height": null,
            "min_height": null,
            "padding": null,
            "grid_auto_rows": null,
            "grid_gap": null,
            "max_width": null,
            "order": null,
            "_view_module_version": "1.2.0",
            "grid_template_areas": null,
            "object_position": null,
            "object_fit": null,
            "grid_auto_columns": null,
            "margin": null,
            "display": null,
            "left": null
          }
        },
        "a4651ab7e1da4a74ac2f0666ab5ef771": {
          "model_module": "@jupyter-widgets/controls",
          "model_name": "HBoxModel",
          "state": {
            "_view_name": "HBoxView",
            "_dom_classes": [],
            "_model_name": "HBoxModel",
            "_view_module": "@jupyter-widgets/controls",
            "_model_module_version": "1.5.0",
            "_view_count": null,
            "_view_module_version": "1.5.0",
            "box_style": "",
            "layout": "IPY_MODEL_2fc8477c74654ac088d5f66bc812eea4",
            "_model_module": "@jupyter-widgets/controls",
            "children": [
              "IPY_MODEL_e08e1c63a1534eb19ad6c7741ed3d1ab",
              "IPY_MODEL_6faf20f65d664ea0994df48a486807cf"
            ]
          }
        },
        "2fc8477c74654ac088d5f66bc812eea4": {
          "model_module": "@jupyter-widgets/base",
          "model_name": "LayoutModel",
          "state": {
            "_view_name": "LayoutView",
            "grid_template_rows": null,
            "right": null,
            "justify_content": null,
            "_view_module": "@jupyter-widgets/base",
            "overflow": null,
            "_model_module_version": "1.2.0",
            "_view_count": null,
            "flex_flow": null,
            "width": null,
            "min_width": null,
            "border": null,
            "align_items": null,
            "bottom": null,
            "_model_module": "@jupyter-widgets/base",
            "top": null,
            "grid_column": null,
            "overflow_y": null,
            "overflow_x": null,
            "grid_auto_flow": null,
            "grid_area": null,
            "grid_template_columns": null,
            "flex": null,
            "_model_name": "LayoutModel",
            "justify_items": null,
            "grid_row": null,
            "max_height": null,
            "align_content": null,
            "visibility": null,
            "align_self": null,
            "height": null,
            "min_height": null,
            "padding": null,
            "grid_auto_rows": null,
            "grid_gap": null,
            "max_width": null,
            "order": null,
            "_view_module_version": "1.2.0",
            "grid_template_areas": null,
            "object_position": null,
            "object_fit": null,
            "grid_auto_columns": null,
            "margin": null,
            "display": null,
            "left": null
          }
        },
        "e08e1c63a1534eb19ad6c7741ed3d1ab": {
          "model_module": "@jupyter-widgets/controls",
          "model_name": "FloatProgressModel",
          "state": {
            "_view_name": "ProgressView",
            "style": "IPY_MODEL_084dbe549f874ff2ade9bb15438e8cf7",
            "_dom_classes": [],
            "description": "Shuffling movielens-train.tfrecord...: 100%",
            "_model_name": "FloatProgressModel",
            "bar_style": "",
            "max": 100000,
            "_view_module": "@jupyter-widgets/controls",
            "_model_module_version": "1.5.0",
            "value": 100000,
            "_view_count": null,
            "_view_module_version": "1.5.0",
            "orientation": "horizontal",
            "min": 0,
            "description_tooltip": null,
            "_model_module": "@jupyter-widgets/controls",
            "layout": "IPY_MODEL_efa544b02c7140799229b489afa3f896"
          }
        },
        "6faf20f65d664ea0994df48a486807cf": {
          "model_module": "@jupyter-widgets/controls",
          "model_name": "HTMLModel",
          "state": {
            "_view_name": "HTMLView",
            "style": "IPY_MODEL_4c332cf97ed64f8d864af27da21ab1b9",
            "_dom_classes": [],
            "description": "",
            "_model_name": "HTMLModel",
            "placeholder": "​",
            "_view_module": "@jupyter-widgets/controls",
            "_model_module_version": "1.5.0",
            "value": " 100000/100000 [00:00&lt;00:00, 11.76 examples/s]",
            "_view_count": null,
            "_view_module_version": "1.5.0",
            "description_tooltip": null,
            "_model_module": "@jupyter-widgets/controls",
            "layout": "IPY_MODEL_cd78f5f58a2349d19b8cf75c61d93da3"
          }
        },
        "084dbe549f874ff2ade9bb15438e8cf7": {
          "model_module": "@jupyter-widgets/controls",
          "model_name": "ProgressStyleModel",
          "state": {
            "_view_name": "StyleView",
            "_model_name": "ProgressStyleModel",
            "description_width": "initial",
            "_view_module": "@jupyter-widgets/base",
            "_model_module_version": "1.5.0",
            "_view_count": null,
            "_view_module_version": "1.2.0",
            "bar_color": null,
            "_model_module": "@jupyter-widgets/controls"
          }
        },
        "efa544b02c7140799229b489afa3f896": {
          "model_module": "@jupyter-widgets/base",
          "model_name": "LayoutModel",
          "state": {
            "_view_name": "LayoutView",
            "grid_template_rows": null,
            "right": null,
            "justify_content": null,
            "_view_module": "@jupyter-widgets/base",
            "overflow": null,
            "_model_module_version": "1.2.0",
            "_view_count": null,
            "flex_flow": null,
            "width": null,
            "min_width": null,
            "border": null,
            "align_items": null,
            "bottom": null,
            "_model_module": "@jupyter-widgets/base",
            "top": null,
            "grid_column": null,
            "overflow_y": null,
            "overflow_x": null,
            "grid_auto_flow": null,
            "grid_area": null,
            "grid_template_columns": null,
            "flex": null,
            "_model_name": "LayoutModel",
            "justify_items": null,
            "grid_row": null,
            "max_height": null,
            "align_content": null,
            "visibility": null,
            "align_self": null,
            "height": null,
            "min_height": null,
            "padding": null,
            "grid_auto_rows": null,
            "grid_gap": null,
            "max_width": null,
            "order": null,
            "_view_module_version": "1.2.0",
            "grid_template_areas": null,
            "object_position": null,
            "object_fit": null,
            "grid_auto_columns": null,
            "margin": null,
            "display": null,
            "left": null
          }
        },
        "4c332cf97ed64f8d864af27da21ab1b9": {
          "model_module": "@jupyter-widgets/controls",
          "model_name": "DescriptionStyleModel",
          "state": {
            "_view_name": "StyleView",
            "_model_name": "DescriptionStyleModel",
            "description_width": "",
            "_view_module": "@jupyter-widgets/base",
            "_model_module_version": "1.5.0",
            "_view_count": null,
            "_view_module_version": "1.2.0",
            "_model_module": "@jupyter-widgets/controls"
          }
        },
        "cd78f5f58a2349d19b8cf75c61d93da3": {
          "model_module": "@jupyter-widgets/base",
          "model_name": "LayoutModel",
          "state": {
            "_view_name": "LayoutView",
            "grid_template_rows": null,
            "right": null,
            "justify_content": null,
            "_view_module": "@jupyter-widgets/base",
            "overflow": null,
            "_model_module_version": "1.2.0",
            "_view_count": null,
            "flex_flow": null,
            "width": null,
            "min_width": null,
            "border": null,
            "align_items": null,
            "bottom": null,
            "_model_module": "@jupyter-widgets/base",
            "top": null,
            "grid_column": null,
            "overflow_y": null,
            "overflow_x": null,
            "grid_auto_flow": null,
            "grid_area": null,
            "grid_template_columns": null,
            "flex": null,
            "_model_name": "LayoutModel",
            "justify_items": null,
            "grid_row": null,
            "max_height": null,
            "align_content": null,
            "visibility": null,
            "align_self": null,
            "height": null,
            "min_height": null,
            "padding": null,
            "grid_auto_rows": null,
            "grid_gap": null,
            "max_width": null,
            "order": null,
            "_view_module_version": "1.2.0",
            "grid_template_areas": null,
            "object_position": null,
            "object_fit": null,
            "grid_auto_columns": null,
            "margin": null,
            "display": null,
            "left": null
          }
        }
      }
    }
  },
  "cells": [
    {
      "cell_type": "markdown",
      "metadata": {
        "id": "view-in-github",
        "colab_type": "text"
      },
      "source": [
        "<a href=\"https://colab.research.google.com/github/JNishimura/Deep-Learning-Recommenders/blob/main/Notebooks/MovieLens_TensorFlow.ipynb\" target=\"_parent\"><img src=\"https://colab.research.google.com/assets/colab-badge.svg\" alt=\"Open In Colab\"/></a>"
      ]
    },
    {
      "cell_type": "markdown",
      "metadata": {
        "id": "DF0RXGSkVRoZ"
      },
      "source": [
        "### Installs"
      ]
    },
    {
      "cell_type": "code",
      "metadata": {
        "id": "2BSw4nZgVRoi",
        "colab": {
          "base_uri": "https://localhost:8080/"
        },
        "outputId": "69684530-0cde-44b7-c754-06369ce98f6d"
      },
      "source": [
        "!pip install pandas\n",
        "!pip install -q tensorflow-recommenders\n",
        "!pip install -q --upgrade tensorflow-datasets\n",
        "!pip install -q scann\n",
        "!pip install ipywidgets"
      ],
      "execution_count": 1,
      "outputs": [
        {
          "output_type": "stream",
          "text": [
            "Requirement already satisfied: pandas in /usr/local/lib/python3.7/dist-packages (1.1.5)\n",
            "Requirement already satisfied: python-dateutil>=2.7.3 in /usr/local/lib/python3.7/dist-packages (from pandas) (2.8.1)\n",
            "Requirement already satisfied: numpy>=1.15.4 in /usr/local/lib/python3.7/dist-packages (from pandas) (1.19.5)\n",
            "Requirement already satisfied: pytz>=2017.2 in /usr/local/lib/python3.7/dist-packages (from pandas) (2018.9)\n",
            "Requirement already satisfied: six>=1.5 in /usr/local/lib/python3.7/dist-packages (from python-dateutil>=2.7.3->pandas) (1.15.0)\n",
            "\u001b[K     |████████████████████████████████| 61kB 3.0MB/s \n",
            "\u001b[K     |████████████████████████████████| 394.7MB 41kB/s \n",
            "\u001b[K     |████████████████████████████████| 3.7MB 5.7MB/s \n",
            "\u001b[K     |████████████████████████████████| 11.1MB 5.0MB/s \n",
            "\u001b[?25hRequirement already satisfied: ipywidgets in /usr/local/lib/python3.7/dist-packages (7.6.3)\n",
            "Requirement already satisfied: traitlets>=4.3.1 in /usr/local/lib/python3.7/dist-packages (from ipywidgets) (5.0.5)\n",
            "Requirement already satisfied: nbformat>=4.2.0 in /usr/local/lib/python3.7/dist-packages (from ipywidgets) (5.1.3)\n",
            "Requirement already satisfied: jupyterlab-widgets>=1.0.0; python_version >= \"3.6\" in /usr/local/lib/python3.7/dist-packages (from ipywidgets) (1.0.0)\n",
            "Requirement already satisfied: ipykernel>=4.5.1 in /usr/local/lib/python3.7/dist-packages (from ipywidgets) (4.10.1)\n",
            "Requirement already satisfied: widgetsnbextension~=3.5.0 in /usr/local/lib/python3.7/dist-packages (from ipywidgets) (3.5.1)\n",
            "Requirement already satisfied: ipython>=4.0.0; python_version >= \"3.3\" in /usr/local/lib/python3.7/dist-packages (from ipywidgets) (5.5.0)\n",
            "Requirement already satisfied: ipython-genutils in /usr/local/lib/python3.7/dist-packages (from traitlets>=4.3.1->ipywidgets) (0.2.0)\n",
            "Requirement already satisfied: jupyter-core in /usr/local/lib/python3.7/dist-packages (from nbformat>=4.2.0->ipywidgets) (4.7.1)\n",
            "Requirement already satisfied: jsonschema!=2.5.0,>=2.4 in /usr/local/lib/python3.7/dist-packages (from nbformat>=4.2.0->ipywidgets) (2.6.0)\n",
            "Requirement already satisfied: tornado>=4.0 in /usr/local/lib/python3.7/dist-packages (from ipykernel>=4.5.1->ipywidgets) (5.1.1)\n",
            "Requirement already satisfied: jupyter-client in /usr/local/lib/python3.7/dist-packages (from ipykernel>=4.5.1->ipywidgets) (5.3.5)\n",
            "Requirement already satisfied: notebook>=4.4.1 in /usr/local/lib/python3.7/dist-packages (from widgetsnbextension~=3.5.0->ipywidgets) (5.3.1)\n",
            "Requirement already satisfied: pexpect; sys_platform != \"win32\" in /usr/local/lib/python3.7/dist-packages (from ipython>=4.0.0; python_version >= \"3.3\"->ipywidgets) (4.8.0)\n",
            "Requirement already satisfied: pickleshare in /usr/local/lib/python3.7/dist-packages (from ipython>=4.0.0; python_version >= \"3.3\"->ipywidgets) (0.7.5)\n",
            "Requirement already satisfied: prompt-toolkit<2.0.0,>=1.0.4 in /usr/local/lib/python3.7/dist-packages (from ipython>=4.0.0; python_version >= \"3.3\"->ipywidgets) (1.0.18)\n",
            "Requirement already satisfied: simplegeneric>0.8 in /usr/local/lib/python3.7/dist-packages (from ipython>=4.0.0; python_version >= \"3.3\"->ipywidgets) (0.8.1)\n",
            "Requirement already satisfied: setuptools>=18.5 in /usr/local/lib/python3.7/dist-packages (from ipython>=4.0.0; python_version >= \"3.3\"->ipywidgets) (54.2.0)\n",
            "Requirement already satisfied: pygments in /usr/local/lib/python3.7/dist-packages (from ipython>=4.0.0; python_version >= \"3.3\"->ipywidgets) (2.6.1)\n",
            "Requirement already satisfied: decorator in /usr/local/lib/python3.7/dist-packages (from ipython>=4.0.0; python_version >= \"3.3\"->ipywidgets) (4.4.2)\n",
            "Requirement already satisfied: python-dateutil>=2.1 in /usr/local/lib/python3.7/dist-packages (from jupyter-client->ipykernel>=4.5.1->ipywidgets) (2.8.1)\n",
            "Requirement already satisfied: pyzmq>=13 in /usr/local/lib/python3.7/dist-packages (from jupyter-client->ipykernel>=4.5.1->ipywidgets) (22.0.3)\n",
            "Requirement already satisfied: Send2Trash in /usr/local/lib/python3.7/dist-packages (from notebook>=4.4.1->widgetsnbextension~=3.5.0->ipywidgets) (1.5.0)\n",
            "Requirement already satisfied: terminado>=0.8.1 in /usr/local/lib/python3.7/dist-packages (from notebook>=4.4.1->widgetsnbextension~=3.5.0->ipywidgets) (0.9.4)\n",
            "Requirement already satisfied: nbconvert in /usr/local/lib/python3.7/dist-packages (from notebook>=4.4.1->widgetsnbextension~=3.5.0->ipywidgets) (5.6.1)\n",
            "Requirement already satisfied: jinja2 in /usr/local/lib/python3.7/dist-packages (from notebook>=4.4.1->widgetsnbextension~=3.5.0->ipywidgets) (2.11.3)\n",
            "Requirement already satisfied: ptyprocess>=0.5 in /usr/local/lib/python3.7/dist-packages (from pexpect; sys_platform != \"win32\"->ipython>=4.0.0; python_version >= \"3.3\"->ipywidgets) (0.7.0)\n",
            "Requirement already satisfied: wcwidth in /usr/local/lib/python3.7/dist-packages (from prompt-toolkit<2.0.0,>=1.0.4->ipython>=4.0.0; python_version >= \"3.3\"->ipywidgets) (0.2.5)\n",
            "Requirement already satisfied: six>=1.9.0 in /usr/local/lib/python3.7/dist-packages (from prompt-toolkit<2.0.0,>=1.0.4->ipython>=4.0.0; python_version >= \"3.3\"->ipywidgets) (1.15.0)\n",
            "Requirement already satisfied: testpath in /usr/local/lib/python3.7/dist-packages (from nbconvert->notebook>=4.4.1->widgetsnbextension~=3.5.0->ipywidgets) (0.4.4)\n",
            "Requirement already satisfied: bleach in /usr/local/lib/python3.7/dist-packages (from nbconvert->notebook>=4.4.1->widgetsnbextension~=3.5.0->ipywidgets) (3.3.0)\n",
            "Requirement already satisfied: pandocfilters>=1.4.1 in /usr/local/lib/python3.7/dist-packages (from nbconvert->notebook>=4.4.1->widgetsnbextension~=3.5.0->ipywidgets) (1.4.3)\n",
            "Requirement already satisfied: mistune<2,>=0.8.1 in /usr/local/lib/python3.7/dist-packages (from nbconvert->notebook>=4.4.1->widgetsnbextension~=3.5.0->ipywidgets) (0.8.4)\n",
            "Requirement already satisfied: entrypoints>=0.2.2 in /usr/local/lib/python3.7/dist-packages (from nbconvert->notebook>=4.4.1->widgetsnbextension~=3.5.0->ipywidgets) (0.3)\n",
            "Requirement already satisfied: defusedxml in /usr/local/lib/python3.7/dist-packages (from nbconvert->notebook>=4.4.1->widgetsnbextension~=3.5.0->ipywidgets) (0.7.1)\n",
            "Requirement already satisfied: MarkupSafe>=0.23 in /usr/local/lib/python3.7/dist-packages (from jinja2->notebook>=4.4.1->widgetsnbextension~=3.5.0->ipywidgets) (1.1.1)\n",
            "Requirement already satisfied: webencodings in /usr/local/lib/python3.7/dist-packages (from bleach->nbconvert->notebook>=4.4.1->widgetsnbextension~=3.5.0->ipywidgets) (0.5.1)\n",
            "Requirement already satisfied: packaging in /usr/local/lib/python3.7/dist-packages (from bleach->nbconvert->notebook>=4.4.1->widgetsnbextension~=3.5.0->ipywidgets) (20.9)\n",
            "Requirement already satisfied: pyparsing>=2.0.2 in /usr/local/lib/python3.7/dist-packages (from packaging->bleach->nbconvert->notebook>=4.4.1->widgetsnbextension~=3.5.0->ipywidgets) (2.4.7)\n"
          ],
          "name": "stdout"
        }
      ]
    },
    {
      "cell_type": "markdown",
      "metadata": {
        "id": "B6D1ud0HVRoj"
      },
      "source": [
        "### Imports"
      ]
    },
    {
      "cell_type": "code",
      "metadata": {
        "id": "bH4afYylVRoj"
      },
      "source": [
        "import os\n",
        "import pprint\n",
        "import tempfile\n",
        "\n",
        "from typing import Dict, Text\n",
        "\n",
        "import numpy as np\n",
        "import tensorflow as tf\n",
        "import tensorflow_datasets as tfds\n",
        "import tensorflow_recommenders as tfrs\n",
        "\n",
        "import math\n",
        "import heapq"
      ],
      "execution_count": 2,
      "outputs": []
    },
    {
      "cell_type": "markdown",
      "metadata": {
        "id": "DOrz3-zQVRoj"
      },
      "source": [
        "### Data Set-up"
      ]
    },
    {
      "cell_type": "code",
      "metadata": {
        "id": "Zm0uKl4NVRok",
        "colab": {
          "base_uri": "https://localhost:8080/",
          "height": 247,
          "referenced_widgets": [
            "8bf05dfc01f947e9833a5c6e8ed3f1ac",
            "c700bf23e651425c9597aab2750995ac",
            "c287ade6004a43dba0fafa57b9375c15",
            "3c3a9ee1283f490aa3f966b9f93acea2",
            "a38a33dd911a40fba9cfe38529f42182",
            "e6cca61488df48e695809d23cb09d073",
            "2ba33357712e4ed9881e25d1eb064d8f",
            "81881f957447424280502b282b8b37be",
            "5ce35f879b4d476cb104a81b02272640",
            "e28a3355fe864970a2a926d082f7b768",
            "d62f9d1d36f342e2a9d2e8102e94993f",
            "9e3ac9e675b445e4a49249934e3e500a",
            "2f52aa7292b4479e9073f6d3e2d6cfb5",
            "9a86f1ba4dac4cddb3e0a1c52fc41c72",
            "b527a8d9c5ab45cd95e17e0beaa25aa0",
            "cf4b455e4f17473f99b18befe616eb87",
            "229042ab226e41fa86754d9264cedb3d",
            "d6546b856bd641f980b2623ce130dd84",
            "a160670b07b84219b21bfe9b60cffb25",
            "b12196aae6d544f2aee68cc7f6a565c4",
            "56db0aace70d493ea0368f9709bd5b2c",
            "9c1b1fdc5cdb4587a534b43df2a5991b",
            "b462c2021d294990b738735a8088ab62",
            "cb539e599c664382b1c8b4121a4e89bc",
            "372dc53321a6425f9c2793c40bb96e75",
            "cc92943e63c249a78f4d683a5aa31676",
            "37e9ec34b11d425cb9cd264664621c1c",
            "1c72d7c3e2e04c62bea8125e1b53722b",
            "f3f242e11f4f499e8fc6939a27da8156",
            "75ee534e6cc441b58b58c3abf19d2c5a",
            "be69e408bf974da8a5ff8564bbaf04de",
            "e815c0b96c5946afa828d1e778f93b7b",
            "d3262c4f10384255b3fadd700dafac26",
            "395c2948262442b18c7b15e9ccbcc35d",
            "9ed6de452db64211ac28778a5d895d12",
            "49226b69dfaf48e78c93306630350b8e",
            "b09a2150d4ba4773b2c730855352f1b5",
            "c51609ee426c41f7a0d41350d3704ae9",
            "3e742134379b42d5a99df73d02159333",
            "14dfb43dda1d486c8a2cbfb36751a259",
            "a4651ab7e1da4a74ac2f0666ab5ef771",
            "2fc8477c74654ac088d5f66bc812eea4",
            "e08e1c63a1534eb19ad6c7741ed3d1ab",
            "6faf20f65d664ea0994df48a486807cf",
            "084dbe549f874ff2ade9bb15438e8cf7",
            "efa544b02c7140799229b489afa3f896",
            "4c332cf97ed64f8d864af27da21ab1b9",
            "cd78f5f58a2349d19b8cf75c61d93da3"
          ]
        },
        "outputId": "3a0e33a5-5274-4ed7-f3d1-c91adf985594"
      },
      "source": [
        "# Ratings data.\n",
        "ratings = tfds.load(\"movielens/100k-ratings\", split=\"train\")"
      ],
      "execution_count": 3,
      "outputs": [
        {
          "output_type": "stream",
          "text": [
            "\u001b[1mDownloading and preparing dataset 4.70 MiB (download: 4.70 MiB, generated: 32.41 MiB, total: 37.10 MiB) to /root/tensorflow_datasets/movielens/100k-ratings/0.1.0...\u001b[0m\n"
          ],
          "name": "stdout"
        },
        {
          "output_type": "display_data",
          "data": {
            "application/vnd.jupyter.widget-view+json": {
              "model_id": "8bf05dfc01f947e9833a5c6e8ed3f1ac",
              "version_minor": 0,
              "version_major": 2
            },
            "text/plain": [
              "HBox(children=(FloatProgress(value=1.0, bar_style='info', description='Dl Completed...', max=1.0, style=Progre…"
            ]
          },
          "metadata": {
            "tags": []
          }
        },
        {
          "output_type": "display_data",
          "data": {
            "application/vnd.jupyter.widget-view+json": {
              "model_id": "5ce35f879b4d476cb104a81b02272640",
              "version_minor": 0,
              "version_major": 2
            },
            "text/plain": [
              "HBox(children=(FloatProgress(value=1.0, bar_style='info', description='Dl Size...', max=1.0, style=ProgressSty…"
            ]
          },
          "metadata": {
            "tags": []
          }
        },
        {
          "output_type": "display_data",
          "data": {
            "application/vnd.jupyter.widget-view+json": {
              "model_id": "229042ab226e41fa86754d9264cedb3d",
              "version_minor": 0,
              "version_major": 2
            },
            "text/plain": [
              "HBox(children=(FloatProgress(value=1.0, bar_style='info', description='Extraction completed...', max=1.0, styl…"
            ]
          },
          "metadata": {
            "tags": []
          }
        },
        {
          "output_type": "stream",
          "text": [
            "\n",
            "\n",
            "\n",
            "\n",
            "\n",
            "\n"
          ],
          "name": "stdout"
        },
        {
          "output_type": "display_data",
          "data": {
            "application/vnd.jupyter.widget-view+json": {
              "model_id": "372dc53321a6425f9c2793c40bb96e75",
              "version_minor": 0,
              "version_major": 2
            },
            "text/plain": [
              "HBox(children=(FloatProgress(value=0.0, description='Generating splits...', max=1.0, style=ProgressStyle(descr…"
            ]
          },
          "metadata": {
            "tags": []
          }
        },
        {
          "output_type": "display_data",
          "data": {
            "application/vnd.jupyter.widget-view+json": {
              "model_id": "d3262c4f10384255b3fadd700dafac26",
              "version_minor": 0,
              "version_major": 2
            },
            "text/plain": [
              "HBox(children=(FloatProgress(value=0.0, description='Generating train examples...', max=100000.0, style=Progre…"
            ]
          },
          "metadata": {
            "tags": []
          }
        },
        {
          "output_type": "display_data",
          "data": {
            "application/vnd.jupyter.widget-view+json": {
              "model_id": "a4651ab7e1da4a74ac2f0666ab5ef771",
              "version_minor": 0,
              "version_major": 2
            },
            "text/plain": [
              "HBox(children=(FloatProgress(value=0.0, description='Shuffling movielens-train.tfrecord...', max=100000.0, sty…"
            ]
          },
          "metadata": {
            "tags": []
          }
        },
        {
          "output_type": "stream",
          "text": [
            "\r\u001b[1mDataset movielens downloaded and prepared to /root/tensorflow_datasets/movielens/100k-ratings/0.1.0. Subsequent calls will reuse this data.\u001b[0m\n"
          ],
          "name": "stdout"
        }
      ]
    },
    {
      "cell_type": "code",
      "metadata": {
        "id": "zhMBWdIbVRok",
        "colab": {
          "base_uri": "https://localhost:8080/"
        },
        "outputId": "a1c230f5-293e-4907-db93-996765841d9c"
      },
      "source": [
        "for x in ratings.take(1).as_numpy_iterator():\n",
        "  pprint.pprint(x)"
      ],
      "execution_count": 4,
      "outputs": [
        {
          "output_type": "stream",
          "text": [
            "{'bucketized_user_age': 45.0,\n",
            " 'movie_genres': array([7]),\n",
            " 'movie_id': b'357',\n",
            " 'movie_title': b\"One Flew Over the Cuckoo's Nest (1975)\",\n",
            " 'raw_user_age': 46.0,\n",
            " 'timestamp': 879024327,\n",
            " 'user_gender': True,\n",
            " 'user_id': b'138',\n",
            " 'user_occupation_label': 4,\n",
            " 'user_occupation_text': b'doctor',\n",
            " 'user_rating': 4.0,\n",
            " 'user_zip_code': b'53211'}\n"
          ],
          "name": "stdout"
        }
      ]
    },
    {
      "cell_type": "code",
      "metadata": {
        "id": "WaP8pbuaVRok",
        "colab": {
          "base_uri": "https://localhost:8080/"
        },
        "outputId": "6d3d9215-2bce-44e6-8008-a5214c2e373b"
      },
      "source": [
        "dataframe = tfds.as_dataframe(ratings)\n",
        "print(dataframe)"
      ],
      "execution_count": 5,
      "outputs": [
        {
          "output_type": "stream",
          "text": [
            "       bucketized_user_age     movie_genres  ... user_rating user_zip_code\n",
            "0                     45.0              [7]  ...         4.0      b'53211'\n",
            "1                     25.0          [4, 14]  ...         2.0      b'80525'\n",
            "2                     18.0              [4]  ...         4.0      b'55439'\n",
            "3                     50.0           [5, 7]  ...         4.0      b'06472'\n",
            "4                     50.0         [10, 16]  ...         3.0      b'75094'\n",
            "...                    ...              ...  ...         ...           ...\n",
            "99995                 25.0       [0, 1, 15]  ...         4.0      b'80027'\n",
            "99996                 35.0         [13, 16]  ...         4.0      b'60035'\n",
            "99997                 18.0             [10]  ...         1.0      b'78264'\n",
            "99998                 35.0  [0, 10, 15, 16]  ...         4.0      b'53210'\n",
            "99999                 18.0              [4]  ...         2.0      b'95064'\n",
            "\n",
            "[100000 rows x 12 columns]\n"
          ],
          "name": "stdout"
        }
      ]
    },
    {
      "cell_type": "code",
      "metadata": {
        "id": "KiG4G9L_lq6W",
        "colab": {
          "base_uri": "https://localhost:8080/"
        },
        "outputId": "e8ced570-a335-4b13-b285-3b59bf20029a"
      },
      "source": [
        "# Pull out relevant columns and convert id columns to ints\n",
        "relevant_cols = dataframe.loc[:, ['user_id', 'movie_id', 'user_rating', 'timestamp']]\n",
        "relevant_cols['user_id'] = relevant_cols['user_id'].astype(int)\n",
        "relevant_cols['movie_id'] = relevant_cols['movie_id'].astype(int)\n",
        "print(relevant_cols)\n",
        "print(relevant_cols.dtypes)"
      ],
      "execution_count": 6,
      "outputs": [
        {
          "output_type": "stream",
          "text": [
            "       user_id  movie_id  user_rating  timestamp\n",
            "0          138       357          4.0  879024327\n",
            "1           92       709          2.0  875654590\n",
            "2          301       412          4.0  882075110\n",
            "3           60        56          4.0  883326919\n",
            "4          197       895          3.0  891409199\n",
            "...        ...       ...          ...        ...\n",
            "99995      774       228          4.0  888557237\n",
            "99996      313       333          4.0  891012877\n",
            "99997      262       567          1.0  879795430\n",
            "99998      911       183          4.0  892839492\n",
            "99999      276      1140          2.0  874791894\n",
            "\n",
            "[100000 rows x 4 columns]\n",
            "user_id          int64\n",
            "movie_id         int64\n",
            "user_rating    float64\n",
            "timestamp        int64\n",
            "dtype: object\n"
          ],
          "name": "stdout"
        }
      ]
    },
    {
      "cell_type": "code",
      "metadata": {
        "id": "UEEtXx7RVVvg",
        "colab": {
          "base_uri": "https://localhost:8080/"
        },
        "outputId": "b558063b-b506-4600-80f2-d33e1aa67a94"
      },
      "source": [
        "relevant_cols['latest'] = relevant_cols.groupby(['user_id'])['timestamp'].rank(method='first', ascending=False)\n",
        "\n",
        "train_ratings = relevant_cols[relevant_cols['latest'] != 1]\n",
        "test_ratings = relevant_cols[relevant_cols['latest'] == 1]\n",
        "\n",
        "train_ratings = train_ratings[['user_id', 'movie_id', 'user_rating']]\n",
        "test_ratings = test_ratings[['user_id', 'movie_id', 'user_rating']]\n",
        "\n",
        "print(train_ratings.shape)\n",
        "print(test_ratings.shape)\n",
        "\n",
        "num_users = len(relevant_cols.user_id.unique()) + 1\n",
        "num_items = len(relevant_cols.movie_id.unique()) + 1\n",
        "\n",
        "print('Num Users:', num_users)\n",
        "print('Num Items:', num_items)"
      ],
      "execution_count": 7,
      "outputs": [
        {
          "output_type": "stream",
          "text": [
            "(99057, 3)\n",
            "(943, 3)\n",
            "Num Users: 944\n",
            "Num Items: 1683\n"
          ],
          "name": "stdout"
        }
      ]
    },
    {
      "cell_type": "markdown",
      "metadata": {
        "id": "ml1qDojt3Lcb"
      },
      "source": [
        "## Convert to Implicit Feedback Dataset"
      ]
    },
    {
      "cell_type": "code",
      "metadata": {
        "id": "5BghlYpWWZsc",
        "colab": {
          "base_uri": "https://localhost:8080/"
        },
        "outputId": "99f4fe53-1f05-406c-f676-c0cdb2dc8014"
      },
      "source": [
        "# Convert rating to 1 for everything to mark that the user has watched this item\n",
        "train_ratings.loc[:, 'rating'] = 1\n",
        "print(train_ratings)\n"
      ],
      "execution_count": 8,
      "outputs": [
        {
          "output_type": "stream",
          "text": [
            "       user_id  movie_id  user_rating  rating\n",
            "0          138       357          4.0       1\n",
            "1           92       709          2.0       1\n",
            "2          301       412          4.0       1\n",
            "3           60        56          4.0       1\n",
            "4          197       895          3.0       1\n",
            "...        ...       ...          ...     ...\n",
            "99995      774       228          4.0       1\n",
            "99996      313       333          4.0       1\n",
            "99997      262       567          1.0       1\n",
            "99998      911       183          4.0       1\n",
            "99999      276      1140          2.0       1\n",
            "\n",
            "[99057 rows x 4 columns]\n"
          ],
          "name": "stdout"
        }
      ]
    },
    {
      "cell_type": "code",
      "metadata": {
        "id": "g8ObmXC23Pc2"
      },
      "source": [
        "# Add negative samples\n",
        "all_movies = relevant_cols['movie_id'].unique()\n",
        "\n",
        "users, items, labels = [], [], []\n",
        "user_item_set = set(zip(train_ratings['user_id'], train_ratings['movie_id']))\n",
        "num_negatives = 4\n",
        "\n",
        "for (u, i) in user_item_set:\n",
        "  users.append([u])\n",
        "  items.append([i])\n",
        "  labels.append([1])\n",
        "  for _ in range(num_negatives):\n",
        "    negative_item = np.random.choice(all_movies)\n",
        "    while (u, negative_item) in user_item_set:\n",
        "      negative_item = np.random.choice(all_movies)\n",
        "    users.append([u])\n",
        "    items.append([negative_item])\n",
        "    labels.append([0])\n",
        "\n"
      ],
      "execution_count": 9,
      "outputs": []
    },
    {
      "cell_type": "markdown",
      "metadata": {
        "id": "vRKCJCT44Lx2"
      },
      "source": [
        "## Create Dataset"
      ]
    },
    {
      "cell_type": "code",
      "metadata": {
        "id": "nJvPLf6J362B"
      },
      "source": [
        "train_ds = tf.data.Dataset.from_tensor_slices(({'user': users, 'item': items}, labels))"
      ],
      "execution_count": 10,
      "outputs": []
    },
    {
      "cell_type": "code",
      "metadata": {
        "id": "iZEgiXPS4ZcQ",
        "colab": {
          "base_uri": "https://localhost:8080/"
        },
        "outputId": "65053a84-80e7-4439-8fe6-139bb190034d"
      },
      "source": [
        "train_ds = train_ds.shuffle(1000)\n",
        "for elem in train_ds.take(10):\n",
        "  print(elem)"
      ],
      "execution_count": 11,
      "outputs": [
        {
          "output_type": "stream",
          "text": [
            "({'user': <tf.Tensor: shape=(1,), dtype=int32, numpy=array([293], dtype=int32)>, 'item': <tf.Tensor: shape=(1,), dtype=int32, numpy=array([771], dtype=int32)>}, <tf.Tensor: shape=(1,), dtype=int32, numpy=array([0], dtype=int32)>)\n",
            "({'user': <tf.Tensor: shape=(1,), dtype=int32, numpy=array([307], dtype=int32)>, 'item': <tf.Tensor: shape=(1,), dtype=int32, numpy=array([510], dtype=int32)>}, <tf.Tensor: shape=(1,), dtype=int32, numpy=array([0], dtype=int32)>)\n",
            "({'user': <tf.Tensor: shape=(1,), dtype=int32, numpy=array([454], dtype=int32)>, 'item': <tf.Tensor: shape=(1,), dtype=int32, numpy=array([961], dtype=int32)>}, <tf.Tensor: shape=(1,), dtype=int32, numpy=array([1], dtype=int32)>)\n",
            "({'user': <tf.Tensor: shape=(1,), dtype=int32, numpy=array([2], dtype=int32)>, 'item': <tf.Tensor: shape=(1,), dtype=int32, numpy=array([672], dtype=int32)>}, <tf.Tensor: shape=(1,), dtype=int32, numpy=array([0], dtype=int32)>)\n",
            "({'user': <tf.Tensor: shape=(1,), dtype=int32, numpy=array([885], dtype=int32)>, 'item': <tf.Tensor: shape=(1,), dtype=int32, numpy=array([694], dtype=int32)>}, <tf.Tensor: shape=(1,), dtype=int32, numpy=array([0], dtype=int32)>)\n",
            "({'user': <tf.Tensor: shape=(1,), dtype=int32, numpy=array([293], dtype=int32)>, 'item': <tf.Tensor: shape=(1,), dtype=int32, numpy=array([1321], dtype=int32)>}, <tf.Tensor: shape=(1,), dtype=int32, numpy=array([0], dtype=int32)>)\n",
            "({'user': <tf.Tensor: shape=(1,), dtype=int32, numpy=array([468], dtype=int32)>, 'item': <tf.Tensor: shape=(1,), dtype=int32, numpy=array([224], dtype=int32)>}, <tf.Tensor: shape=(1,), dtype=int32, numpy=array([0], dtype=int32)>)\n",
            "({'user': <tf.Tensor: shape=(1,), dtype=int32, numpy=array([70], dtype=int32)>, 'item': <tf.Tensor: shape=(1,), dtype=int32, numpy=array([479], dtype=int32)>}, <tf.Tensor: shape=(1,), dtype=int32, numpy=array([0], dtype=int32)>)\n",
            "({'user': <tf.Tensor: shape=(1,), dtype=int32, numpy=array([567], dtype=int32)>, 'item': <tf.Tensor: shape=(1,), dtype=int32, numpy=array([1668], dtype=int32)>}, <tf.Tensor: shape=(1,), dtype=int32, numpy=array([0], dtype=int32)>)\n",
            "({'user': <tf.Tensor: shape=(1,), dtype=int32, numpy=array([90], dtype=int32)>, 'item': <tf.Tensor: shape=(1,), dtype=int32, numpy=array([939], dtype=int32)>}, <tf.Tensor: shape=(1,), dtype=int32, numpy=array([0], dtype=int32)>)\n"
          ],
          "name": "stdout"
        }
      ]
    },
    {
      "cell_type": "markdown",
      "metadata": {
        "id": "6WTSy4kvk4Lm"
      },
      "source": [
        "## Define Model"
      ]
    },
    {
      "cell_type": "code",
      "metadata": {
        "id": "1kHNl37Jk5Qg"
      },
      "source": [
        "from keras.models import Model\n",
        "from keras.layers import Embedding, Input, Dense, Reshape, Multiply, Flatten, Lambda, Concatenate, Layer\n",
        "from keras import initializers, regularizers\n",
        "import sys\n",
        "\n",
        "def get_GMFmodel(num_users, num_items, latent_dim):\n",
        "  user_input = Input(shape = (1,), dtype = 'int32', name = 'user')\n",
        "  item_input = Input(shape = (1,), dtype = 'int32', name = 'item')\n",
        "\n",
        "  user_embedding = Embedding(input_dim = num_users, output_dim = latent_dim, name = 'user_embed',\n",
        "                             embeddings_initializer = initializers.RandomNormal(stddev = 0.01), \n",
        "                             embeddings_regularizer = regularizers.l2(0), input_length = 1)\n",
        "  item_embedding = Embedding(input_dim = num_items, output_dim = latent_dim, name = 'item_embed',\n",
        "                             embeddings_initializer = initializers.RandomNormal(stddev = 0.01), \n",
        "                             embeddings_regularizer = regularizers.l2(0), input_length = 1)\n",
        "\n",
        "  user_latent = Flatten()(user_embedding(user_input))\n",
        "  item_latent = Flatten()(item_embedding(item_input))\n",
        "\n",
        "  prediction_vec = Multiply()([user_latent, item_latent])\n",
        "\n",
        "  prediction = Dense(1, activation='sigmoid', kernel_initializer='lecun_uniform', name = 'prediction')(prediction_vec)\n",
        "\n",
        "  return Model(inputs=[user_input, item_input], outputs=prediction)"
      ],
      "execution_count": 15,
      "outputs": []
    },
    {
      "cell_type": "code",
      "metadata": {
        "id": "OccrWR_kVmPL"
      },
      "source": [
        "def get_MLPmodel(num_users, num_items, latent_dim):\n",
        "  user_input = Input(shape = (1,), dtype = 'int32', name = 'user')\n",
        "  item_input = Input(shape = (1,), dtype = 'int32', name = 'item')\n",
        "\n",
        "  user_embedding = Embedding(input_dim = num_users, output_dim = latent_dim, name = 'user_embed',\n",
        "                             embeddings_initializer = initializers.RandomNormal(stddev = 0.01), \n",
        "                             embeddings_regularizer = regularizers.l2(0), input_length = 1)\n",
        "  item_embedding = Embedding(input_dim = num_items, output_dim = latent_dim, name = 'item_embed',\n",
        "                             embeddings_initializer = initializers.RandomNormal(stddev = 0.01), \n",
        "                             embeddings_regularizer = regularizers.l2(0), input_length = 1)\n",
        "  \n",
        "  user_latent = Flatten()(user_embedding(user_input))\n",
        "  item_latent = Flatten()(item_embedding(item_input))\n",
        "\n",
        "  inputs = Concatenate()([user_latent, item_latent])\n",
        "\n",
        "  layer = Dense(256, activation='relu', name='Layer1', kernel_initializer='glorot_uniform')(inputs)\n",
        "  layer = Dense(128, activation='relu', name='Layer2')(layer)\n",
        "  layer = Dense(32, activation='relu', name='Layer3')(layer)\n",
        "  output = Dense(1, activation='sigmoid', name='Layer4')(layer)\n",
        "\n",
        "  return Model(inputs=[user_input, item_input], outputs=output)\n",
        "    "
      ],
      "execution_count": null,
      "outputs": []
    },
    {
      "cell_type": "code",
      "metadata": {
        "id": "IQVK3y4gtRYq",
        "colab": {
          "base_uri": "https://localhost:8080/"
        },
        "outputId": "cfb63a8c-3164-4232-b5d9-015df5af7f99"
      },
      "source": [
        "from keras.optimizers import Adam\n",
        "\n",
        "topK = 10\n",
        "\n",
        "model = get_MLPGMFmodel(num_users, num_items, 12)\n",
        "model.compile(optimizer=Adam(0.001), loss='binary_crossentropy')\n",
        "model.summary()"
      ],
      "execution_count": 19,
      "outputs": [
        {
          "output_type": "stream",
          "text": [
            "Model: \"model\"\n",
            "__________________________________________________________________________________________________\n",
            "Layer (type)                    Output Shape         Param #     Connected to                     \n",
            "==================================================================================================\n",
            "user (InputLayer)               [(None, 1)]          0                                            \n",
            "__________________________________________________________________________________________________\n",
            "item (InputLayer)               [(None, 1)]          0                                            \n",
            "__________________________________________________________________________________________________\n",
            "user_embed (Embedding)          (None, 1, 12)        11328       user[0][0]                       \n",
            "__________________________________________________________________________________________________\n",
            "item_embed (Embedding)          (None, 1, 12)        20196       item[0][0]                       \n",
            "__________________________________________________________________________________________________\n",
            "flatten (Flatten)               (None, 12)           0           user_embed[0][0]                 \n",
            "__________________________________________________________________________________________________\n",
            "flatten_1 (Flatten)             (None, 12)           0           item_embed[0][0]                 \n",
            "__________________________________________________________________________________________________\n",
            "concatenate (Concatenate)       (None, 24)           0           flatten[0][0]                    \n",
            "                                                                 flatten_1[0][0]                  \n",
            "__________________________________________________________________________________________________\n",
            "Layer1 (Dense)                  (None, 256)          6400        concatenate[0][0]                \n",
            "__________________________________________________________________________________________________\n",
            "Layer2 (Dense)                  (None, 128)          32896       Layer1[0][0]                     \n",
            "__________________________________________________________________________________________________\n",
            "multiply (Multiply)             (None, 12)           0           flatten[0][0]                    \n",
            "                                                                 flatten_1[0][0]                  \n",
            "__________________________________________________________________________________________________\n",
            "Layer3 (Dense)                  (None, 32)           4128        Layer2[0][0]                     \n",
            "__________________________________________________________________________________________________\n",
            "prediction (Dense)              (None, 1)            13          multiply[0][0]                   \n",
            "__________________________________________________________________________________________________\n",
            "Layer4 (Dense)                  (None, 1)            33          Layer3[0][0]                     \n",
            "__________________________________________________________________________________________________\n",
            "combine (Combine)               (None, 1)            1           prediction[0][0]                 \n",
            "                                                                 Layer4[0][0]                     \n",
            "==================================================================================================\n",
            "Total params: 74,995\n",
            "Trainable params: 74,995\n",
            "Non-trainable params: 0\n",
            "__________________________________________________________________________________________________\n"
          ],
          "name": "stdout"
        }
      ]
    },
    {
      "cell_type": "code",
      "metadata": {
        "id": "sIQ_ZINBt0pE",
        "colab": {
          "base_uri": "https://localhost:8080/"
        },
        "outputId": "8e87f451-9cd1-4931-937a-a4aa8b1e5ccc"
      },
      "source": [
        "hist = model.fit(train_ds, batch_size=256, epochs=1)"
      ],
      "execution_count": 20,
      "outputs": [
        {
          "output_type": "stream",
          "text": [
            "495285/495285 [==============================] - 921s 2ms/step - loss: 0.3865\n"
          ],
          "name": "stdout"
        }
      ]
    },
    {
      "cell_type": "code",
      "metadata": {
        "id": "4vTW5vBhzQ6N"
      },
      "source": [
        "class Combine(Layer):\n",
        "  def __init__(self):\n",
        "        super(Combine, self).__init__()\n",
        "        random_alpha = tf.random.uniform(shape=[1])\n",
        "        self.alpha = tf.Variable(initial_value=random_alpha, trainable=True)\n",
        "  \n",
        "  def call(self, inputs):\n",
        "    return (1 - self.alpha)*inputs[0] + self.alpha*inputs[1]"
      ],
      "execution_count": 16,
      "outputs": []
    },
    {
      "cell_type": "code",
      "metadata": {
        "id": "XDKlcczn6Ejq"
      },
      "source": [
        "def get_MLPGMFmodel(num_users, num_items, latent_dim):\n",
        "  user_input = Input(shape = (1,), dtype = 'int32', name = 'user')\n",
        "  movie_input = Input(shape = (1,), dtype = 'int32', name = 'item')\n",
        "\n",
        "  user_embedding = Embedding(input_dim = num_users, output_dim = latent_dim, name = 'user_embed',\n",
        "                             embeddings_initializer = initializers.RandomNormal(stddev = 0.01), \n",
        "                             embeddings_regularizer = regularizers.l2(0), input_length = 1)\n",
        "  movie_embedding = Embedding(input_dim = num_items, output_dim = latent_dim, name = 'item_embed',\n",
        "                             embeddings_initializer = initializers.RandomNormal(stddev = 0.01), \n",
        "                             embeddings_regularizer = regularizers.l2(0), input_length = 1)\n",
        "  \n",
        "  user_latent = Flatten()(user_embedding(user_input))\n",
        "  item_latent = Flatten()(movie_embedding(movie_input))\n",
        "\n",
        "  #GMF \n",
        "  prediction_vec = Multiply()([user_latent, item_latent])\n",
        "  prediction_GMF = Dense(1, activation='sigmoid', kernel_initializer='lecun_uniform', name = 'prediction')(prediction_vec)\n",
        "\n",
        "  #MLF\n",
        "  inputs = Concatenate()([user_latent, item_latent])\n",
        "  layer = Dense(256, activation='relu', name='Layer1', kernel_initializer='glorot_uniform')(inputs)\n",
        "  layer = Dense(128, activation='relu', name='Layer2')(layer)\n",
        "  layer = Dense(32, activation='relu', name='Layer3')(layer)\n",
        "  prediction_MLP = Dense(1, activation='sigmoid', name='Layer4')(layer)\n",
        "\n",
        "  predictions = Combine()([prediction_GMF, prediction_MLP])\n",
        "\n",
        "  return Model(inputs=[user_input, movie_input], outputs=predictions)\n"
      ],
      "execution_count": 17,
      "outputs": []
    },
    {
      "cell_type": "code",
      "metadata": {
        "id": "ShgdKU-6BpLr"
      },
      "source": [
        "def evaluateNCDG(rankedlist, predictedlist):\n",
        "  sum_rank, sum_pred = 0,0\n",
        "  count = 1\n",
        "  for rank, pred in zip(rankedlist, predictedlist):\n",
        "    sum_rank += rank/math.log2(count + 1)\n",
        "    sum_pred += pred/math.log2(count + 1)\n",
        "    count = count + 1\n",
        "  \n",
        "  return sum_pred/sum_rank"
      ],
      "execution_count": null,
      "outputs": []
    },
    {
      "cell_type": "code",
      "metadata": {
        "id": "UuLADR1WBpLs"
      },
      "source": [
        "def hitRate(item, ranklist):\n",
        "  for rank in ranklist:\n",
        "    if item == rank:\n",
        "      return 1\n",
        "  return 0"
      ],
      "execution_count": null,
      "outputs": []
    },
    {
      "cell_type": "code",
      "metadata": {
        "id": "UN2stnBbBpLs"
      },
      "source": [
        "# This method calculates all the evaluation metrics. Individual methods are called from here.\n",
        "def evaluate(model, testPosRatings, testNegRatings):\n",
        "    hits = []\n",
        "    ncdgs = []\n",
        "    for i in range(len(testPosRatings)):\n",
        "      hit, ncdg= evaluate_one(model, testPosRatings[i], testNegRatings[i])\n",
        "      hits.append(hit)\n",
        "      ncdgs.append(ncdg)\n",
        "\n",
        "    return hits, ncdg"
      ],
      "execution_count": null,
      "outputs": []
    },
    {
      "cell_type": "code",
      "metadata": {
        "id": "cQykhM9DBpLt"
      },
      "source": [
        "def evaluate_one(model, posRating, negRating, N):\n",
        "  user = posRating[0]\n",
        "  movie = posRating[1]\n",
        "  negRatings.append(movie)\n",
        "\n",
        "  user_input = np.full(len(negRatings)+ 1, user)\n",
        "\n",
        "  predictions = model.predict([user_input, negRatings])\n",
        "\n",
        "  # associate item with predictions\n",
        "  items = {}\n",
        "  for i in range(len(predictions)):\n",
        "    items[negRatings[i]] = predictions[i]\n",
        "\n",
        "  rankedList = heapq.nlargest(N, items, items.get)\n",
        "  ncdg = evaluateNCDG(rankedList.values(), items.values())\n",
        "  hit = hitRate(item, rankedList)\n",
        "\n",
        "  return hit, ncdg"
      ],
      "execution_count": null,
      "outputs": []
    }
  ]
}