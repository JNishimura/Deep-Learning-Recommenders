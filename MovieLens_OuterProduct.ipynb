{
  "nbformat": 4,
  "nbformat_minor": 0,
  "metadata": {
    "kernelspec": {
      "display_name": "Python 3",
      "language": "python",
      "name": "python3"
    },
    "language_info": {
      "codemirror_mode": {
        "name": "ipython",
        "version": 3
      },
      "file_extension": ".py",
      "mimetype": "text/x-python",
      "name": "python",
      "nbconvert_exporter": "python",
      "pygments_lexer": "ipython3",
      "version": "3.6.9"
    },
    "colab": {
      "name": "MovieLens_OuterProduct.ipynb",
      "provenance": [],
      "collapsed_sections": [],
      "include_colab_link": true
    },
    "accelerator": "GPU",
    "widgets": {
      "application/vnd.jupyter.widget-state+json": {
        "a0dcc4d5eff3452d9e2b96aac33e8a05": {
          "model_module": "@jupyter-widgets/controls",
          "model_name": "HBoxModel",
          "state": {
            "_view_name": "HBoxView",
            "_dom_classes": [],
            "_model_name": "HBoxModel",
            "_view_module": "@jupyter-widgets/controls",
            "_model_module_version": "1.5.0",
            "_view_count": null,
            "_view_module_version": "1.5.0",
            "box_style": "",
            "layout": "IPY_MODEL_5a24fb8a84704a3fb93520d6c6d07840",
            "_model_module": "@jupyter-widgets/controls",
            "children": [
              "IPY_MODEL_40ad0b0712bf48d6895a85638057dd0b",
              "IPY_MODEL_fa613fb982ed4fb0a44690a21f152dfd"
            ]
          }
        },
        "5a24fb8a84704a3fb93520d6c6d07840": {
          "model_module": "@jupyter-widgets/base",
          "model_name": "LayoutModel",
          "state": {
            "_view_name": "LayoutView",
            "grid_template_rows": null,
            "right": null,
            "justify_content": null,
            "_view_module": "@jupyter-widgets/base",
            "overflow": null,
            "_model_module_version": "1.2.0",
            "_view_count": null,
            "flex_flow": null,
            "width": null,
            "min_width": null,
            "border": null,
            "align_items": null,
            "bottom": null,
            "_model_module": "@jupyter-widgets/base",
            "top": null,
            "grid_column": null,
            "overflow_y": null,
            "overflow_x": null,
            "grid_auto_flow": null,
            "grid_area": null,
            "grid_template_columns": null,
            "flex": null,
            "_model_name": "LayoutModel",
            "justify_items": null,
            "grid_row": null,
            "max_height": null,
            "align_content": null,
            "visibility": null,
            "align_self": null,
            "height": null,
            "min_height": null,
            "padding": null,
            "grid_auto_rows": null,
            "grid_gap": null,
            "max_width": null,
            "order": null,
            "_view_module_version": "1.2.0",
            "grid_template_areas": null,
            "object_position": null,
            "object_fit": null,
            "grid_auto_columns": null,
            "margin": null,
            "display": null,
            "left": null
          }
        },
        "40ad0b0712bf48d6895a85638057dd0b": {
          "model_module": "@jupyter-widgets/controls",
          "model_name": "FloatProgressModel",
          "state": {
            "_view_name": "ProgressView",
            "style": "IPY_MODEL_7cfeba58a6e7421d892749f53c82da51",
            "_dom_classes": [],
            "description": "Dl Completed...: 100%",
            "_model_name": "FloatProgressModel",
            "bar_style": "success",
            "max": 1,
            "_view_module": "@jupyter-widgets/controls",
            "_model_module_version": "1.5.0",
            "value": 1,
            "_view_count": null,
            "_view_module_version": "1.5.0",
            "orientation": "horizontal",
            "min": 0,
            "description_tooltip": null,
            "_model_module": "@jupyter-widgets/controls",
            "layout": "IPY_MODEL_388f7ed074914c39ba01fc92907dc812"
          }
        },
        "fa613fb982ed4fb0a44690a21f152dfd": {
          "model_module": "@jupyter-widgets/controls",
          "model_name": "HTMLModel",
          "state": {
            "_view_name": "HTMLView",
            "style": "IPY_MODEL_ccf5fa1338624e379c446ed0605498ce",
            "_dom_classes": [],
            "description": "",
            "_model_name": "HTMLModel",
            "placeholder": "​",
            "_view_module": "@jupyter-widgets/controls",
            "_model_module_version": "1.5.0",
            "value": " 1/1 [00:00&lt;00:00,  1.72 url/s]",
            "_view_count": null,
            "_view_module_version": "1.5.0",
            "description_tooltip": null,
            "_model_module": "@jupyter-widgets/controls",
            "layout": "IPY_MODEL_3bc56906cc894e80b08154cd9bb9570d"
          }
        },
        "7cfeba58a6e7421d892749f53c82da51": {
          "model_module": "@jupyter-widgets/controls",
          "model_name": "ProgressStyleModel",
          "state": {
            "_view_name": "StyleView",
            "_model_name": "ProgressStyleModel",
            "description_width": "initial",
            "_view_module": "@jupyter-widgets/base",
            "_model_module_version": "1.5.0",
            "_view_count": null,
            "_view_module_version": "1.2.0",
            "bar_color": null,
            "_model_module": "@jupyter-widgets/controls"
          }
        },
        "388f7ed074914c39ba01fc92907dc812": {
          "model_module": "@jupyter-widgets/base",
          "model_name": "LayoutModel",
          "state": {
            "_view_name": "LayoutView",
            "grid_template_rows": null,
            "right": null,
            "justify_content": null,
            "_view_module": "@jupyter-widgets/base",
            "overflow": null,
            "_model_module_version": "1.2.0",
            "_view_count": null,
            "flex_flow": null,
            "width": null,
            "min_width": null,
            "border": null,
            "align_items": null,
            "bottom": null,
            "_model_module": "@jupyter-widgets/base",
            "top": null,
            "grid_column": null,
            "overflow_y": null,
            "overflow_x": null,
            "grid_auto_flow": null,
            "grid_area": null,
            "grid_template_columns": null,
            "flex": null,
            "_model_name": "LayoutModel",
            "justify_items": null,
            "grid_row": null,
            "max_height": null,
            "align_content": null,
            "visibility": null,
            "align_self": null,
            "height": null,
            "min_height": null,
            "padding": null,
            "grid_auto_rows": null,
            "grid_gap": null,
            "max_width": null,
            "order": null,
            "_view_module_version": "1.2.0",
            "grid_template_areas": null,
            "object_position": null,
            "object_fit": null,
            "grid_auto_columns": null,
            "margin": null,
            "display": null,
            "left": null
          }
        },
        "ccf5fa1338624e379c446ed0605498ce": {
          "model_module": "@jupyter-widgets/controls",
          "model_name": "DescriptionStyleModel",
          "state": {
            "_view_name": "StyleView",
            "_model_name": "DescriptionStyleModel",
            "description_width": "",
            "_view_module": "@jupyter-widgets/base",
            "_model_module_version": "1.5.0",
            "_view_count": null,
            "_view_module_version": "1.2.0",
            "_model_module": "@jupyter-widgets/controls"
          }
        },
        "3bc56906cc894e80b08154cd9bb9570d": {
          "model_module": "@jupyter-widgets/base",
          "model_name": "LayoutModel",
          "state": {
            "_view_name": "LayoutView",
            "grid_template_rows": null,
            "right": null,
            "justify_content": null,
            "_view_module": "@jupyter-widgets/base",
            "overflow": null,
            "_model_module_version": "1.2.0",
            "_view_count": null,
            "flex_flow": null,
            "width": null,
            "min_width": null,
            "border": null,
            "align_items": null,
            "bottom": null,
            "_model_module": "@jupyter-widgets/base",
            "top": null,
            "grid_column": null,
            "overflow_y": null,
            "overflow_x": null,
            "grid_auto_flow": null,
            "grid_area": null,
            "grid_template_columns": null,
            "flex": null,
            "_model_name": "LayoutModel",
            "justify_items": null,
            "grid_row": null,
            "max_height": null,
            "align_content": null,
            "visibility": null,
            "align_self": null,
            "height": null,
            "min_height": null,
            "padding": null,
            "grid_auto_rows": null,
            "grid_gap": null,
            "max_width": null,
            "order": null,
            "_view_module_version": "1.2.0",
            "grid_template_areas": null,
            "object_position": null,
            "object_fit": null,
            "grid_auto_columns": null,
            "margin": null,
            "display": null,
            "left": null
          }
        },
        "d68c62b379ed4839a83ae73192695089": {
          "model_module": "@jupyter-widgets/controls",
          "model_name": "HBoxModel",
          "state": {
            "_view_name": "HBoxView",
            "_dom_classes": [],
            "_model_name": "HBoxModel",
            "_view_module": "@jupyter-widgets/controls",
            "_model_module_version": "1.5.0",
            "_view_count": null,
            "_view_module_version": "1.5.0",
            "box_style": "",
            "layout": "IPY_MODEL_094fedc9b66447999f7436d9c3e0e59d",
            "_model_module": "@jupyter-widgets/controls",
            "children": [
              "IPY_MODEL_1bb53c546d894b9a90428d77c6d7af7e",
              "IPY_MODEL_c488b9980ae7481ab0ff06a7cb3b4528"
            ]
          }
        },
        "094fedc9b66447999f7436d9c3e0e59d": {
          "model_module": "@jupyter-widgets/base",
          "model_name": "LayoutModel",
          "state": {
            "_view_name": "LayoutView",
            "grid_template_rows": null,
            "right": null,
            "justify_content": null,
            "_view_module": "@jupyter-widgets/base",
            "overflow": null,
            "_model_module_version": "1.2.0",
            "_view_count": null,
            "flex_flow": null,
            "width": null,
            "min_width": null,
            "border": null,
            "align_items": null,
            "bottom": null,
            "_model_module": "@jupyter-widgets/base",
            "top": null,
            "grid_column": null,
            "overflow_y": null,
            "overflow_x": null,
            "grid_auto_flow": null,
            "grid_area": null,
            "grid_template_columns": null,
            "flex": null,
            "_model_name": "LayoutModel",
            "justify_items": null,
            "grid_row": null,
            "max_height": null,
            "align_content": null,
            "visibility": null,
            "align_self": null,
            "height": null,
            "min_height": null,
            "padding": null,
            "grid_auto_rows": null,
            "grid_gap": null,
            "max_width": null,
            "order": null,
            "_view_module_version": "1.2.0",
            "grid_template_areas": null,
            "object_position": null,
            "object_fit": null,
            "grid_auto_columns": null,
            "margin": null,
            "display": null,
            "left": null
          }
        },
        "1bb53c546d894b9a90428d77c6d7af7e": {
          "model_module": "@jupyter-widgets/controls",
          "model_name": "FloatProgressModel",
          "state": {
            "_view_name": "ProgressView",
            "style": "IPY_MODEL_c3347822dc5449eba411c4221f44c500",
            "_dom_classes": [],
            "description": "Dl Size...: 100%",
            "_model_name": "FloatProgressModel",
            "bar_style": "success",
            "max": 1,
            "_view_module": "@jupyter-widgets/controls",
            "_model_module_version": "1.5.0",
            "value": 1,
            "_view_count": null,
            "_view_module_version": "1.5.0",
            "orientation": "horizontal",
            "min": 0,
            "description_tooltip": null,
            "_model_module": "@jupyter-widgets/controls",
            "layout": "IPY_MODEL_949595ede87e4700b82f5c703b72d0ef"
          }
        },
        "c488b9980ae7481ab0ff06a7cb3b4528": {
          "model_module": "@jupyter-widgets/controls",
          "model_name": "HTMLModel",
          "state": {
            "_view_name": "HTMLView",
            "style": "IPY_MODEL_a15184b63d144192a56838681162b64a",
            "_dom_classes": [],
            "description": "",
            "_model_name": "HTMLModel",
            "placeholder": "​",
            "_view_module": "@jupyter-widgets/controls",
            "_model_module_version": "1.5.0",
            "value": " 4/4 [00:00&lt;00:00,  7.34 MiB/s]",
            "_view_count": null,
            "_view_module_version": "1.5.0",
            "description_tooltip": null,
            "_model_module": "@jupyter-widgets/controls",
            "layout": "IPY_MODEL_85decc2169d745109cb8739fece57b3f"
          }
        },
        "c3347822dc5449eba411c4221f44c500": {
          "model_module": "@jupyter-widgets/controls",
          "model_name": "ProgressStyleModel",
          "state": {
            "_view_name": "StyleView",
            "_model_name": "ProgressStyleModel",
            "description_width": "initial",
            "_view_module": "@jupyter-widgets/base",
            "_model_module_version": "1.5.0",
            "_view_count": null,
            "_view_module_version": "1.2.0",
            "bar_color": null,
            "_model_module": "@jupyter-widgets/controls"
          }
        },
        "949595ede87e4700b82f5c703b72d0ef": {
          "model_module": "@jupyter-widgets/base",
          "model_name": "LayoutModel",
          "state": {
            "_view_name": "LayoutView",
            "grid_template_rows": null,
            "right": null,
            "justify_content": null,
            "_view_module": "@jupyter-widgets/base",
            "overflow": null,
            "_model_module_version": "1.2.0",
            "_view_count": null,
            "flex_flow": null,
            "width": null,
            "min_width": null,
            "border": null,
            "align_items": null,
            "bottom": null,
            "_model_module": "@jupyter-widgets/base",
            "top": null,
            "grid_column": null,
            "overflow_y": null,
            "overflow_x": null,
            "grid_auto_flow": null,
            "grid_area": null,
            "grid_template_columns": null,
            "flex": null,
            "_model_name": "LayoutModel",
            "justify_items": null,
            "grid_row": null,
            "max_height": null,
            "align_content": null,
            "visibility": null,
            "align_self": null,
            "height": null,
            "min_height": null,
            "padding": null,
            "grid_auto_rows": null,
            "grid_gap": null,
            "max_width": null,
            "order": null,
            "_view_module_version": "1.2.0",
            "grid_template_areas": null,
            "object_position": null,
            "object_fit": null,
            "grid_auto_columns": null,
            "margin": null,
            "display": null,
            "left": null
          }
        },
        "a15184b63d144192a56838681162b64a": {
          "model_module": "@jupyter-widgets/controls",
          "model_name": "DescriptionStyleModel",
          "state": {
            "_view_name": "StyleView",
            "_model_name": "DescriptionStyleModel",
            "description_width": "",
            "_view_module": "@jupyter-widgets/base",
            "_model_module_version": "1.5.0",
            "_view_count": null,
            "_view_module_version": "1.2.0",
            "_model_module": "@jupyter-widgets/controls"
          }
        },
        "85decc2169d745109cb8739fece57b3f": {
          "model_module": "@jupyter-widgets/base",
          "model_name": "LayoutModel",
          "state": {
            "_view_name": "LayoutView",
            "grid_template_rows": null,
            "right": null,
            "justify_content": null,
            "_view_module": "@jupyter-widgets/base",
            "overflow": null,
            "_model_module_version": "1.2.0",
            "_view_count": null,
            "flex_flow": null,
            "width": null,
            "min_width": null,
            "border": null,
            "align_items": null,
            "bottom": null,
            "_model_module": "@jupyter-widgets/base",
            "top": null,
            "grid_column": null,
            "overflow_y": null,
            "overflow_x": null,
            "grid_auto_flow": null,
            "grid_area": null,
            "grid_template_columns": null,
            "flex": null,
            "_model_name": "LayoutModel",
            "justify_items": null,
            "grid_row": null,
            "max_height": null,
            "align_content": null,
            "visibility": null,
            "align_self": null,
            "height": null,
            "min_height": null,
            "padding": null,
            "grid_auto_rows": null,
            "grid_gap": null,
            "max_width": null,
            "order": null,
            "_view_module_version": "1.2.0",
            "grid_template_areas": null,
            "object_position": null,
            "object_fit": null,
            "grid_auto_columns": null,
            "margin": null,
            "display": null,
            "left": null
          }
        },
        "844b3bdc06bb4b9688e452b661ab8940": {
          "model_module": "@jupyter-widgets/controls",
          "model_name": "HBoxModel",
          "state": {
            "_view_name": "HBoxView",
            "_dom_classes": [],
            "_model_name": "HBoxModel",
            "_view_module": "@jupyter-widgets/controls",
            "_model_module_version": "1.5.0",
            "_view_count": null,
            "_view_module_version": "1.5.0",
            "box_style": "",
            "layout": "IPY_MODEL_dbc91378587644e7be3e9d51a1df2e89",
            "_model_module": "@jupyter-widgets/controls",
            "children": [
              "IPY_MODEL_97217da738344fee9c82bb2d05c3ee43",
              "IPY_MODEL_a86ba011de2942c181fd34322b69a99b"
            ]
          }
        },
        "dbc91378587644e7be3e9d51a1df2e89": {
          "model_module": "@jupyter-widgets/base",
          "model_name": "LayoutModel",
          "state": {
            "_view_name": "LayoutView",
            "grid_template_rows": null,
            "right": null,
            "justify_content": null,
            "_view_module": "@jupyter-widgets/base",
            "overflow": null,
            "_model_module_version": "1.2.0",
            "_view_count": null,
            "flex_flow": null,
            "width": null,
            "min_width": null,
            "border": null,
            "align_items": null,
            "bottom": null,
            "_model_module": "@jupyter-widgets/base",
            "top": null,
            "grid_column": null,
            "overflow_y": null,
            "overflow_x": null,
            "grid_auto_flow": null,
            "grid_area": null,
            "grid_template_columns": null,
            "flex": null,
            "_model_name": "LayoutModel",
            "justify_items": null,
            "grid_row": null,
            "max_height": null,
            "align_content": null,
            "visibility": null,
            "align_self": null,
            "height": null,
            "min_height": null,
            "padding": null,
            "grid_auto_rows": null,
            "grid_gap": null,
            "max_width": null,
            "order": null,
            "_view_module_version": "1.2.0",
            "grid_template_areas": null,
            "object_position": null,
            "object_fit": null,
            "grid_auto_columns": null,
            "margin": null,
            "display": null,
            "left": null
          }
        },
        "97217da738344fee9c82bb2d05c3ee43": {
          "model_module": "@jupyter-widgets/controls",
          "model_name": "FloatProgressModel",
          "state": {
            "_view_name": "ProgressView",
            "style": "IPY_MODEL_5c00d20694834cfb8694c8e4c24f040b",
            "_dom_classes": [],
            "description": "Extraction completed...: 100%",
            "_model_name": "FloatProgressModel",
            "bar_style": "success",
            "max": 1,
            "_view_module": "@jupyter-widgets/controls",
            "_model_module_version": "1.5.0",
            "value": 1,
            "_view_count": null,
            "_view_module_version": "1.5.0",
            "orientation": "horizontal",
            "min": 0,
            "description_tooltip": null,
            "_model_module": "@jupyter-widgets/controls",
            "layout": "IPY_MODEL_d49286a97ef7461ba97b4e288b354e1c"
          }
        },
        "a86ba011de2942c181fd34322b69a99b": {
          "model_module": "@jupyter-widgets/controls",
          "model_name": "HTMLModel",
          "state": {
            "_view_name": "HTMLView",
            "style": "IPY_MODEL_ab3857a16cfb4fe5b7760f73c8daca7f",
            "_dom_classes": [],
            "description": "",
            "_model_name": "HTMLModel",
            "placeholder": "​",
            "_view_module": "@jupyter-widgets/controls",
            "_model_module_version": "1.5.0",
            "value": " 1/1 [00:00&lt;00:00,  2.05 file/s]",
            "_view_count": null,
            "_view_module_version": "1.5.0",
            "description_tooltip": null,
            "_model_module": "@jupyter-widgets/controls",
            "layout": "IPY_MODEL_d6aa29c5f7634590b182c6a236b9b922"
          }
        },
        "5c00d20694834cfb8694c8e4c24f040b": {
          "model_module": "@jupyter-widgets/controls",
          "model_name": "ProgressStyleModel",
          "state": {
            "_view_name": "StyleView",
            "_model_name": "ProgressStyleModel",
            "description_width": "initial",
            "_view_module": "@jupyter-widgets/base",
            "_model_module_version": "1.5.0",
            "_view_count": null,
            "_view_module_version": "1.2.0",
            "bar_color": null,
            "_model_module": "@jupyter-widgets/controls"
          }
        },
        "d49286a97ef7461ba97b4e288b354e1c": {
          "model_module": "@jupyter-widgets/base",
          "model_name": "LayoutModel",
          "state": {
            "_view_name": "LayoutView",
            "grid_template_rows": null,
            "right": null,
            "justify_content": null,
            "_view_module": "@jupyter-widgets/base",
            "overflow": null,
            "_model_module_version": "1.2.0",
            "_view_count": null,
            "flex_flow": null,
            "width": null,
            "min_width": null,
            "border": null,
            "align_items": null,
            "bottom": null,
            "_model_module": "@jupyter-widgets/base",
            "top": null,
            "grid_column": null,
            "overflow_y": null,
            "overflow_x": null,
            "grid_auto_flow": null,
            "grid_area": null,
            "grid_template_columns": null,
            "flex": null,
            "_model_name": "LayoutModel",
            "justify_items": null,
            "grid_row": null,
            "max_height": null,
            "align_content": null,
            "visibility": null,
            "align_self": null,
            "height": null,
            "min_height": null,
            "padding": null,
            "grid_auto_rows": null,
            "grid_gap": null,
            "max_width": null,
            "order": null,
            "_view_module_version": "1.2.0",
            "grid_template_areas": null,
            "object_position": null,
            "object_fit": null,
            "grid_auto_columns": null,
            "margin": null,
            "display": null,
            "left": null
          }
        },
        "ab3857a16cfb4fe5b7760f73c8daca7f": {
          "model_module": "@jupyter-widgets/controls",
          "model_name": "DescriptionStyleModel",
          "state": {
            "_view_name": "StyleView",
            "_model_name": "DescriptionStyleModel",
            "description_width": "",
            "_view_module": "@jupyter-widgets/base",
            "_model_module_version": "1.5.0",
            "_view_count": null,
            "_view_module_version": "1.2.0",
            "_model_module": "@jupyter-widgets/controls"
          }
        },
        "d6aa29c5f7634590b182c6a236b9b922": {
          "model_module": "@jupyter-widgets/base",
          "model_name": "LayoutModel",
          "state": {
            "_view_name": "LayoutView",
            "grid_template_rows": null,
            "right": null,
            "justify_content": null,
            "_view_module": "@jupyter-widgets/base",
            "overflow": null,
            "_model_module_version": "1.2.0",
            "_view_count": null,
            "flex_flow": null,
            "width": null,
            "min_width": null,
            "border": null,
            "align_items": null,
            "bottom": null,
            "_model_module": "@jupyter-widgets/base",
            "top": null,
            "grid_column": null,
            "overflow_y": null,
            "overflow_x": null,
            "grid_auto_flow": null,
            "grid_area": null,
            "grid_template_columns": null,
            "flex": null,
            "_model_name": "LayoutModel",
            "justify_items": null,
            "grid_row": null,
            "max_height": null,
            "align_content": null,
            "visibility": null,
            "align_self": null,
            "height": null,
            "min_height": null,
            "padding": null,
            "grid_auto_rows": null,
            "grid_gap": null,
            "max_width": null,
            "order": null,
            "_view_module_version": "1.2.0",
            "grid_template_areas": null,
            "object_position": null,
            "object_fit": null,
            "grid_auto_columns": null,
            "margin": null,
            "display": null,
            "left": null
          }
        },
        "2f1441e1e2cd4bf4823204cc379c7793": {
          "model_module": "@jupyter-widgets/controls",
          "model_name": "HBoxModel",
          "state": {
            "_view_name": "HBoxView",
            "_dom_classes": [],
            "_model_name": "HBoxModel",
            "_view_module": "@jupyter-widgets/controls",
            "_model_module_version": "1.5.0",
            "_view_count": null,
            "_view_module_version": "1.5.0",
            "box_style": "",
            "layout": "IPY_MODEL_bf3e878328e042168da86ff33a0d3435",
            "_model_module": "@jupyter-widgets/controls",
            "children": [
              "IPY_MODEL_608e26fa191444d289ca574c7774fb5d",
              "IPY_MODEL_c1d444a4e793458984d8eaf7f16ed3d8"
            ]
          }
        },
        "bf3e878328e042168da86ff33a0d3435": {
          "model_module": "@jupyter-widgets/base",
          "model_name": "LayoutModel",
          "state": {
            "_view_name": "LayoutView",
            "grid_template_rows": null,
            "right": null,
            "justify_content": null,
            "_view_module": "@jupyter-widgets/base",
            "overflow": null,
            "_model_module_version": "1.2.0",
            "_view_count": null,
            "flex_flow": null,
            "width": null,
            "min_width": null,
            "border": null,
            "align_items": null,
            "bottom": null,
            "_model_module": "@jupyter-widgets/base",
            "top": null,
            "grid_column": null,
            "overflow_y": null,
            "overflow_x": null,
            "grid_auto_flow": null,
            "grid_area": null,
            "grid_template_columns": null,
            "flex": null,
            "_model_name": "LayoutModel",
            "justify_items": null,
            "grid_row": null,
            "max_height": null,
            "align_content": null,
            "visibility": null,
            "align_self": null,
            "height": null,
            "min_height": null,
            "padding": null,
            "grid_auto_rows": null,
            "grid_gap": null,
            "max_width": null,
            "order": null,
            "_view_module_version": "1.2.0",
            "grid_template_areas": null,
            "object_position": null,
            "object_fit": null,
            "grid_auto_columns": null,
            "margin": null,
            "display": null,
            "left": null
          }
        },
        "608e26fa191444d289ca574c7774fb5d": {
          "model_module": "@jupyter-widgets/controls",
          "model_name": "FloatProgressModel",
          "state": {
            "_view_name": "ProgressView",
            "style": "IPY_MODEL_be7cb8c2c09046fab3ac37d4e3fea03f",
            "_dom_classes": [],
            "description": "Generating splits...: 100%",
            "_model_name": "FloatProgressModel",
            "bar_style": "",
            "max": 1,
            "_view_module": "@jupyter-widgets/controls",
            "_model_module_version": "1.5.0",
            "value": 1,
            "_view_count": null,
            "_view_module_version": "1.5.0",
            "orientation": "horizontal",
            "min": 0,
            "description_tooltip": null,
            "_model_module": "@jupyter-widgets/controls",
            "layout": "IPY_MODEL_7f4957f8d8bb490291b77cb61d722fb1"
          }
        },
        "c1d444a4e793458984d8eaf7f16ed3d8": {
          "model_module": "@jupyter-widgets/controls",
          "model_name": "HTMLModel",
          "state": {
            "_view_name": "HTMLView",
            "style": "IPY_MODEL_d809f7f7f3d84f1389a9fe84e1ff9ca5",
            "_dom_classes": [],
            "description": "",
            "_model_name": "HTMLModel",
            "placeholder": "​",
            "_view_module": "@jupyter-widgets/controls",
            "_model_module_version": "1.5.0",
            "value": " 1/1 [01:29&lt;00:00, 89.17s/ splits]",
            "_view_count": null,
            "_view_module_version": "1.5.0",
            "description_tooltip": null,
            "_model_module": "@jupyter-widgets/controls",
            "layout": "IPY_MODEL_e71f88596b3347ba812c2a0b5552d27f"
          }
        },
        "be7cb8c2c09046fab3ac37d4e3fea03f": {
          "model_module": "@jupyter-widgets/controls",
          "model_name": "ProgressStyleModel",
          "state": {
            "_view_name": "StyleView",
            "_model_name": "ProgressStyleModel",
            "description_width": "initial",
            "_view_module": "@jupyter-widgets/base",
            "_model_module_version": "1.5.0",
            "_view_count": null,
            "_view_module_version": "1.2.0",
            "bar_color": null,
            "_model_module": "@jupyter-widgets/controls"
          }
        },
        "7f4957f8d8bb490291b77cb61d722fb1": {
          "model_module": "@jupyter-widgets/base",
          "model_name": "LayoutModel",
          "state": {
            "_view_name": "LayoutView",
            "grid_template_rows": null,
            "right": null,
            "justify_content": null,
            "_view_module": "@jupyter-widgets/base",
            "overflow": null,
            "_model_module_version": "1.2.0",
            "_view_count": null,
            "flex_flow": null,
            "width": null,
            "min_width": null,
            "border": null,
            "align_items": null,
            "bottom": null,
            "_model_module": "@jupyter-widgets/base",
            "top": null,
            "grid_column": null,
            "overflow_y": null,
            "overflow_x": null,
            "grid_auto_flow": null,
            "grid_area": null,
            "grid_template_columns": null,
            "flex": null,
            "_model_name": "LayoutModel",
            "justify_items": null,
            "grid_row": null,
            "max_height": null,
            "align_content": null,
            "visibility": null,
            "align_self": null,
            "height": null,
            "min_height": null,
            "padding": null,
            "grid_auto_rows": null,
            "grid_gap": null,
            "max_width": null,
            "order": null,
            "_view_module_version": "1.2.0",
            "grid_template_areas": null,
            "object_position": null,
            "object_fit": null,
            "grid_auto_columns": null,
            "margin": null,
            "display": null,
            "left": null
          }
        },
        "d809f7f7f3d84f1389a9fe84e1ff9ca5": {
          "model_module": "@jupyter-widgets/controls",
          "model_name": "DescriptionStyleModel",
          "state": {
            "_view_name": "StyleView",
            "_model_name": "DescriptionStyleModel",
            "description_width": "",
            "_view_module": "@jupyter-widgets/base",
            "_model_module_version": "1.5.0",
            "_view_count": null,
            "_view_module_version": "1.2.0",
            "_model_module": "@jupyter-widgets/controls"
          }
        },
        "e71f88596b3347ba812c2a0b5552d27f": {
          "model_module": "@jupyter-widgets/base",
          "model_name": "LayoutModel",
          "state": {
            "_view_name": "LayoutView",
            "grid_template_rows": null,
            "right": null,
            "justify_content": null,
            "_view_module": "@jupyter-widgets/base",
            "overflow": null,
            "_model_module_version": "1.2.0",
            "_view_count": null,
            "flex_flow": null,
            "width": null,
            "min_width": null,
            "border": null,
            "align_items": null,
            "bottom": null,
            "_model_module": "@jupyter-widgets/base",
            "top": null,
            "grid_column": null,
            "overflow_y": null,
            "overflow_x": null,
            "grid_auto_flow": null,
            "grid_area": null,
            "grid_template_columns": null,
            "flex": null,
            "_model_name": "LayoutModel",
            "justify_items": null,
            "grid_row": null,
            "max_height": null,
            "align_content": null,
            "visibility": null,
            "align_self": null,
            "height": null,
            "min_height": null,
            "padding": null,
            "grid_auto_rows": null,
            "grid_gap": null,
            "max_width": null,
            "order": null,
            "_view_module_version": "1.2.0",
            "grid_template_areas": null,
            "object_position": null,
            "object_fit": null,
            "grid_auto_columns": null,
            "margin": null,
            "display": null,
            "left": null
          }
        },
        "62dcf5fb92c1433b884546a9497f56e8": {
          "model_module": "@jupyter-widgets/controls",
          "model_name": "HBoxModel",
          "state": {
            "_view_name": "HBoxView",
            "_dom_classes": [],
            "_model_name": "HBoxModel",
            "_view_module": "@jupyter-widgets/controls",
            "_model_module_version": "1.5.0",
            "_view_count": null,
            "_view_module_version": "1.5.0",
            "box_style": "",
            "layout": "IPY_MODEL_d01ec202a1b349d290da934d24fbedbe",
            "_model_module": "@jupyter-widgets/controls",
            "children": [
              "IPY_MODEL_aa0275b64402466f9d4bf2603977b82e",
              "IPY_MODEL_ac9f77515282409bbe2a628503d2b8ac"
            ]
          }
        },
        "d01ec202a1b349d290da934d24fbedbe": {
          "model_module": "@jupyter-widgets/base",
          "model_name": "LayoutModel",
          "state": {
            "_view_name": "LayoutView",
            "grid_template_rows": null,
            "right": null,
            "justify_content": null,
            "_view_module": "@jupyter-widgets/base",
            "overflow": null,
            "_model_module_version": "1.2.0",
            "_view_count": null,
            "flex_flow": null,
            "width": null,
            "min_width": null,
            "border": null,
            "align_items": null,
            "bottom": null,
            "_model_module": "@jupyter-widgets/base",
            "top": null,
            "grid_column": null,
            "overflow_y": null,
            "overflow_x": null,
            "grid_auto_flow": null,
            "grid_area": null,
            "grid_template_columns": null,
            "flex": null,
            "_model_name": "LayoutModel",
            "justify_items": null,
            "grid_row": null,
            "max_height": null,
            "align_content": null,
            "visibility": null,
            "align_self": null,
            "height": null,
            "min_height": null,
            "padding": null,
            "grid_auto_rows": null,
            "grid_gap": null,
            "max_width": null,
            "order": null,
            "_view_module_version": "1.2.0",
            "grid_template_areas": null,
            "object_position": null,
            "object_fit": null,
            "grid_auto_columns": null,
            "margin": null,
            "display": null,
            "left": null
          }
        },
        "aa0275b64402466f9d4bf2603977b82e": {
          "model_module": "@jupyter-widgets/controls",
          "model_name": "FloatProgressModel",
          "state": {
            "_view_name": "ProgressView",
            "style": "IPY_MODEL_805b077bb7814fbf90aad14bb0dea81f",
            "_dom_classes": [],
            "description": "Generating train examples...: 100%",
            "_model_name": "FloatProgressModel",
            "bar_style": "",
            "max": 100000,
            "_view_module": "@jupyter-widgets/controls",
            "_model_module_version": "1.5.0",
            "value": 100000,
            "_view_count": null,
            "_view_module_version": "1.5.0",
            "orientation": "horizontal",
            "min": 0,
            "description_tooltip": null,
            "_model_module": "@jupyter-widgets/controls",
            "layout": "IPY_MODEL_cdfe8c99b9f54fdcb4d6f1e8b5b8043e"
          }
        },
        "ac9f77515282409bbe2a628503d2b8ac": {
          "model_module": "@jupyter-widgets/controls",
          "model_name": "HTMLModel",
          "state": {
            "_view_name": "HTMLView",
            "style": "IPY_MODEL_c66bf3c0079e48659157286e11476395",
            "_dom_classes": [],
            "description": "",
            "_model_name": "HTMLModel",
            "placeholder": "​",
            "_view_module": "@jupyter-widgets/controls",
            "_model_module_version": "1.5.0",
            "value": " 100000/100000 [01:28&lt;00:00, 1124.25 examples/s]",
            "_view_count": null,
            "_view_module_version": "1.5.0",
            "description_tooltip": null,
            "_model_module": "@jupyter-widgets/controls",
            "layout": "IPY_MODEL_ac9a7d14dcfe4f6591cc319ad67e0414"
          }
        },
        "805b077bb7814fbf90aad14bb0dea81f": {
          "model_module": "@jupyter-widgets/controls",
          "model_name": "ProgressStyleModel",
          "state": {
            "_view_name": "StyleView",
            "_model_name": "ProgressStyleModel",
            "description_width": "initial",
            "_view_module": "@jupyter-widgets/base",
            "_model_module_version": "1.5.0",
            "_view_count": null,
            "_view_module_version": "1.2.0",
            "bar_color": null,
            "_model_module": "@jupyter-widgets/controls"
          }
        },
        "cdfe8c99b9f54fdcb4d6f1e8b5b8043e": {
          "model_module": "@jupyter-widgets/base",
          "model_name": "LayoutModel",
          "state": {
            "_view_name": "LayoutView",
            "grid_template_rows": null,
            "right": null,
            "justify_content": null,
            "_view_module": "@jupyter-widgets/base",
            "overflow": null,
            "_model_module_version": "1.2.0",
            "_view_count": null,
            "flex_flow": null,
            "width": null,
            "min_width": null,
            "border": null,
            "align_items": null,
            "bottom": null,
            "_model_module": "@jupyter-widgets/base",
            "top": null,
            "grid_column": null,
            "overflow_y": null,
            "overflow_x": null,
            "grid_auto_flow": null,
            "grid_area": null,
            "grid_template_columns": null,
            "flex": null,
            "_model_name": "LayoutModel",
            "justify_items": null,
            "grid_row": null,
            "max_height": null,
            "align_content": null,
            "visibility": null,
            "align_self": null,
            "height": null,
            "min_height": null,
            "padding": null,
            "grid_auto_rows": null,
            "grid_gap": null,
            "max_width": null,
            "order": null,
            "_view_module_version": "1.2.0",
            "grid_template_areas": null,
            "object_position": null,
            "object_fit": null,
            "grid_auto_columns": null,
            "margin": null,
            "display": null,
            "left": null
          }
        },
        "c66bf3c0079e48659157286e11476395": {
          "model_module": "@jupyter-widgets/controls",
          "model_name": "DescriptionStyleModel",
          "state": {
            "_view_name": "StyleView",
            "_model_name": "DescriptionStyleModel",
            "description_width": "",
            "_view_module": "@jupyter-widgets/base",
            "_model_module_version": "1.5.0",
            "_view_count": null,
            "_view_module_version": "1.2.0",
            "_model_module": "@jupyter-widgets/controls"
          }
        },
        "ac9a7d14dcfe4f6591cc319ad67e0414": {
          "model_module": "@jupyter-widgets/base",
          "model_name": "LayoutModel",
          "state": {
            "_view_name": "LayoutView",
            "grid_template_rows": null,
            "right": null,
            "justify_content": null,
            "_view_module": "@jupyter-widgets/base",
            "overflow": null,
            "_model_module_version": "1.2.0",
            "_view_count": null,
            "flex_flow": null,
            "width": null,
            "min_width": null,
            "border": null,
            "align_items": null,
            "bottom": null,
            "_model_module": "@jupyter-widgets/base",
            "top": null,
            "grid_column": null,
            "overflow_y": null,
            "overflow_x": null,
            "grid_auto_flow": null,
            "grid_area": null,
            "grid_template_columns": null,
            "flex": null,
            "_model_name": "LayoutModel",
            "justify_items": null,
            "grid_row": null,
            "max_height": null,
            "align_content": null,
            "visibility": null,
            "align_self": null,
            "height": null,
            "min_height": null,
            "padding": null,
            "grid_auto_rows": null,
            "grid_gap": null,
            "max_width": null,
            "order": null,
            "_view_module_version": "1.2.0",
            "grid_template_areas": null,
            "object_position": null,
            "object_fit": null,
            "grid_auto_columns": null,
            "margin": null,
            "display": null,
            "left": null
          }
        },
        "81a10b6cde8c4690a8c42f07343379e3": {
          "model_module": "@jupyter-widgets/controls",
          "model_name": "HBoxModel",
          "state": {
            "_view_name": "HBoxView",
            "_dom_classes": [],
            "_model_name": "HBoxModel",
            "_view_module": "@jupyter-widgets/controls",
            "_model_module_version": "1.5.0",
            "_view_count": null,
            "_view_module_version": "1.5.0",
            "box_style": "",
            "layout": "IPY_MODEL_a4ee18a2f369471d8e4618de6620da66",
            "_model_module": "@jupyter-widgets/controls",
            "children": [
              "IPY_MODEL_2fbd825c6021496eab928d6160e20fd0",
              "IPY_MODEL_f08d0e0a2aac4ed0b0b601ddefb2d264"
            ]
          }
        },
        "a4ee18a2f369471d8e4618de6620da66": {
          "model_module": "@jupyter-widgets/base",
          "model_name": "LayoutModel",
          "state": {
            "_view_name": "LayoutView",
            "grid_template_rows": null,
            "right": null,
            "justify_content": null,
            "_view_module": "@jupyter-widgets/base",
            "overflow": null,
            "_model_module_version": "1.2.0",
            "_view_count": null,
            "flex_flow": null,
            "width": null,
            "min_width": null,
            "border": null,
            "align_items": null,
            "bottom": null,
            "_model_module": "@jupyter-widgets/base",
            "top": null,
            "grid_column": null,
            "overflow_y": null,
            "overflow_x": null,
            "grid_auto_flow": null,
            "grid_area": null,
            "grid_template_columns": null,
            "flex": null,
            "_model_name": "LayoutModel",
            "justify_items": null,
            "grid_row": null,
            "max_height": null,
            "align_content": null,
            "visibility": null,
            "align_self": null,
            "height": null,
            "min_height": null,
            "padding": null,
            "grid_auto_rows": null,
            "grid_gap": null,
            "max_width": null,
            "order": null,
            "_view_module_version": "1.2.0",
            "grid_template_areas": null,
            "object_position": null,
            "object_fit": null,
            "grid_auto_columns": null,
            "margin": null,
            "display": null,
            "left": null
          }
        },
        "2fbd825c6021496eab928d6160e20fd0": {
          "model_module": "@jupyter-widgets/controls",
          "model_name": "FloatProgressModel",
          "state": {
            "_view_name": "ProgressView",
            "style": "IPY_MODEL_087bc55a5ec6423e8dfcdd814517866e",
            "_dom_classes": [],
            "description": "Shuffling movielens-train.tfrecord...: 100%",
            "_model_name": "FloatProgressModel",
            "bar_style": "",
            "max": 100000,
            "_view_module": "@jupyter-widgets/controls",
            "_model_module_version": "1.5.0",
            "value": 100000,
            "_view_count": null,
            "_view_module_version": "1.5.0",
            "orientation": "horizontal",
            "min": 0,
            "description_tooltip": null,
            "_model_module": "@jupyter-widgets/controls",
            "layout": "IPY_MODEL_fbe474138e434eb983a01ccf7e87d3aa"
          }
        },
        "f08d0e0a2aac4ed0b0b601ddefb2d264": {
          "model_module": "@jupyter-widgets/controls",
          "model_name": "HTMLModel",
          "state": {
            "_view_name": "HTMLView",
            "style": "IPY_MODEL_ed4e7e53414648d8ab359791f7fd7f59",
            "_dom_classes": [],
            "description": "",
            "_model_name": "HTMLModel",
            "placeholder": "​",
            "_view_module": "@jupyter-widgets/controls",
            "_model_module_version": "1.5.0",
            "value": " 100000/100000 [00:00&lt;00:00, 13.98 examples/s]",
            "_view_count": null,
            "_view_module_version": "1.5.0",
            "description_tooltip": null,
            "_model_module": "@jupyter-widgets/controls",
            "layout": "IPY_MODEL_ff5a52dd7c90467385e95e6874a64347"
          }
        },
        "087bc55a5ec6423e8dfcdd814517866e": {
          "model_module": "@jupyter-widgets/controls",
          "model_name": "ProgressStyleModel",
          "state": {
            "_view_name": "StyleView",
            "_model_name": "ProgressStyleModel",
            "description_width": "initial",
            "_view_module": "@jupyter-widgets/base",
            "_model_module_version": "1.5.0",
            "_view_count": null,
            "_view_module_version": "1.2.0",
            "bar_color": null,
            "_model_module": "@jupyter-widgets/controls"
          }
        },
        "fbe474138e434eb983a01ccf7e87d3aa": {
          "model_module": "@jupyter-widgets/base",
          "model_name": "LayoutModel",
          "state": {
            "_view_name": "LayoutView",
            "grid_template_rows": null,
            "right": null,
            "justify_content": null,
            "_view_module": "@jupyter-widgets/base",
            "overflow": null,
            "_model_module_version": "1.2.0",
            "_view_count": null,
            "flex_flow": null,
            "width": null,
            "min_width": null,
            "border": null,
            "align_items": null,
            "bottom": null,
            "_model_module": "@jupyter-widgets/base",
            "top": null,
            "grid_column": null,
            "overflow_y": null,
            "overflow_x": null,
            "grid_auto_flow": null,
            "grid_area": null,
            "grid_template_columns": null,
            "flex": null,
            "_model_name": "LayoutModel",
            "justify_items": null,
            "grid_row": null,
            "max_height": null,
            "align_content": null,
            "visibility": null,
            "align_self": null,
            "height": null,
            "min_height": null,
            "padding": null,
            "grid_auto_rows": null,
            "grid_gap": null,
            "max_width": null,
            "order": null,
            "_view_module_version": "1.2.0",
            "grid_template_areas": null,
            "object_position": null,
            "object_fit": null,
            "grid_auto_columns": null,
            "margin": null,
            "display": null,
            "left": null
          }
        },
        "ed4e7e53414648d8ab359791f7fd7f59": {
          "model_module": "@jupyter-widgets/controls",
          "model_name": "DescriptionStyleModel",
          "state": {
            "_view_name": "StyleView",
            "_model_name": "DescriptionStyleModel",
            "description_width": "",
            "_view_module": "@jupyter-widgets/base",
            "_model_module_version": "1.5.0",
            "_view_count": null,
            "_view_module_version": "1.2.0",
            "_model_module": "@jupyter-widgets/controls"
          }
        },
        "ff5a52dd7c90467385e95e6874a64347": {
          "model_module": "@jupyter-widgets/base",
          "model_name": "LayoutModel",
          "state": {
            "_view_name": "LayoutView",
            "grid_template_rows": null,
            "right": null,
            "justify_content": null,
            "_view_module": "@jupyter-widgets/base",
            "overflow": null,
            "_model_module_version": "1.2.0",
            "_view_count": null,
            "flex_flow": null,
            "width": null,
            "min_width": null,
            "border": null,
            "align_items": null,
            "bottom": null,
            "_model_module": "@jupyter-widgets/base",
            "top": null,
            "grid_column": null,
            "overflow_y": null,
            "overflow_x": null,
            "grid_auto_flow": null,
            "grid_area": null,
            "grid_template_columns": null,
            "flex": null,
            "_model_name": "LayoutModel",
            "justify_items": null,
            "grid_row": null,
            "max_height": null,
            "align_content": null,
            "visibility": null,
            "align_self": null,
            "height": null,
            "min_height": null,
            "padding": null,
            "grid_auto_rows": null,
            "grid_gap": null,
            "max_width": null,
            "order": null,
            "_view_module_version": "1.2.0",
            "grid_template_areas": null,
            "object_position": null,
            "object_fit": null,
            "grid_auto_columns": null,
            "margin": null,
            "display": null,
            "left": null
          }
        }
      }
    }
  },
  "cells": [
    {
      "cell_type": "markdown",
      "metadata": {
        "id": "view-in-github",
        "colab_type": "text"
      },
      "source": [
        "<a href=\"https://colab.research.google.com/github/JNishimura/Deep-Learning-Recommenders/blob/main/MovieLens_OuterProduct.ipynb\" target=\"_parent\"><img src=\"https://colab.research.google.com/assets/colab-badge.svg\" alt=\"Open In Colab\"/></a>"
      ]
    },
    {
      "cell_type": "markdown",
      "metadata": {
        "id": "DF0RXGSkVRoZ"
      },
      "source": [
        "### Installs"
      ]
    },
    {
      "cell_type": "code",
      "metadata": {
        "id": "2BSw4nZgVRoi",
        "colab": {
          "base_uri": "https://localhost:8080/"
        },
        "outputId": "46fcef09-4c10-4578-bedb-146d57549cd9"
      },
      "source": [
        "!pip install pandas\n",
        "!pip install -q tensorflow-recommenders\n",
        "!pip install -q --upgrade tensorflow-datasets\n",
        "!pip install -q scann\n",
        "!pip install ipywidgets"
      ],
      "execution_count": 1,
      "outputs": [
        {
          "output_type": "stream",
          "text": [
            "Requirement already satisfied: pandas in /usr/local/lib/python3.7/dist-packages (1.1.5)\n",
            "Requirement already satisfied: python-dateutil>=2.7.3 in /usr/local/lib/python3.7/dist-packages (from pandas) (2.8.1)\n",
            "Requirement already satisfied: pytz>=2017.2 in /usr/local/lib/python3.7/dist-packages (from pandas) (2018.9)\n",
            "Requirement already satisfied: numpy>=1.15.4 in /usr/local/lib/python3.7/dist-packages (from pandas) (1.19.5)\n",
            "Requirement already satisfied: six>=1.5 in /usr/local/lib/python3.7/dist-packages (from python-dateutil>=2.7.3->pandas) (1.15.0)\n",
            "\u001b[K     |████████████████████████████████| 61kB 6.2MB/s \n",
            "\u001b[K     |████████████████████████████████| 394.7MB 45kB/s \n",
            "\u001b[K     |████████████████████████████████| 3.7MB 35.6MB/s \n",
            "\u001b[K     |████████████████████████████████| 11.1MB 13.1MB/s \n",
            "\u001b[?25hRequirement already satisfied: ipywidgets in /usr/local/lib/python3.7/dist-packages (7.6.3)\n",
            "Requirement already satisfied: ipython>=4.0.0; python_version >= \"3.3\" in /usr/local/lib/python3.7/dist-packages (from ipywidgets) (5.5.0)\n",
            "Requirement already satisfied: jupyterlab-widgets>=1.0.0; python_version >= \"3.6\" in /usr/local/lib/python3.7/dist-packages (from ipywidgets) (1.0.0)\n",
            "Requirement already satisfied: widgetsnbextension~=3.5.0 in /usr/local/lib/python3.7/dist-packages (from ipywidgets) (3.5.1)\n",
            "Requirement already satisfied: nbformat>=4.2.0 in /usr/local/lib/python3.7/dist-packages (from ipywidgets) (5.1.3)\n",
            "Requirement already satisfied: traitlets>=4.3.1 in /usr/local/lib/python3.7/dist-packages (from ipywidgets) (5.0.5)\n",
            "Requirement already satisfied: ipykernel>=4.5.1 in /usr/local/lib/python3.7/dist-packages (from ipywidgets) (4.10.1)\n",
            "Requirement already satisfied: setuptools>=18.5 in /usr/local/lib/python3.7/dist-packages (from ipython>=4.0.0; python_version >= \"3.3\"->ipywidgets) (54.2.0)\n",
            "Requirement already satisfied: pickleshare in /usr/local/lib/python3.7/dist-packages (from ipython>=4.0.0; python_version >= \"3.3\"->ipywidgets) (0.7.5)\n",
            "Requirement already satisfied: pexpect; sys_platform != \"win32\" in /usr/local/lib/python3.7/dist-packages (from ipython>=4.0.0; python_version >= \"3.3\"->ipywidgets) (4.8.0)\n",
            "Requirement already satisfied: decorator in /usr/local/lib/python3.7/dist-packages (from ipython>=4.0.0; python_version >= \"3.3\"->ipywidgets) (4.4.2)\n",
            "Requirement already satisfied: simplegeneric>0.8 in /usr/local/lib/python3.7/dist-packages (from ipython>=4.0.0; python_version >= \"3.3\"->ipywidgets) (0.8.1)\n",
            "Requirement already satisfied: prompt-toolkit<2.0.0,>=1.0.4 in /usr/local/lib/python3.7/dist-packages (from ipython>=4.0.0; python_version >= \"3.3\"->ipywidgets) (1.0.18)\n",
            "Requirement already satisfied: pygments in /usr/local/lib/python3.7/dist-packages (from ipython>=4.0.0; python_version >= \"3.3\"->ipywidgets) (2.6.1)\n",
            "Requirement already satisfied: notebook>=4.4.1 in /usr/local/lib/python3.7/dist-packages (from widgetsnbextension~=3.5.0->ipywidgets) (5.3.1)\n",
            "Requirement already satisfied: ipython-genutils in /usr/local/lib/python3.7/dist-packages (from nbformat>=4.2.0->ipywidgets) (0.2.0)\n",
            "Requirement already satisfied: jupyter-core in /usr/local/lib/python3.7/dist-packages (from nbformat>=4.2.0->ipywidgets) (4.7.1)\n",
            "Requirement already satisfied: jsonschema!=2.5.0,>=2.4 in /usr/local/lib/python3.7/dist-packages (from nbformat>=4.2.0->ipywidgets) (2.6.0)\n",
            "Requirement already satisfied: tornado>=4.0 in /usr/local/lib/python3.7/dist-packages (from ipykernel>=4.5.1->ipywidgets) (5.1.1)\n",
            "Requirement already satisfied: jupyter-client in /usr/local/lib/python3.7/dist-packages (from ipykernel>=4.5.1->ipywidgets) (5.3.5)\n",
            "Requirement already satisfied: ptyprocess>=0.5 in /usr/local/lib/python3.7/dist-packages (from pexpect; sys_platform != \"win32\"->ipython>=4.0.0; python_version >= \"3.3\"->ipywidgets) (0.7.0)\n",
            "Requirement already satisfied: six>=1.9.0 in /usr/local/lib/python3.7/dist-packages (from prompt-toolkit<2.0.0,>=1.0.4->ipython>=4.0.0; python_version >= \"3.3\"->ipywidgets) (1.15.0)\n",
            "Requirement already satisfied: wcwidth in /usr/local/lib/python3.7/dist-packages (from prompt-toolkit<2.0.0,>=1.0.4->ipython>=4.0.0; python_version >= \"3.3\"->ipywidgets) (0.2.5)\n",
            "Requirement already satisfied: jinja2 in /usr/local/lib/python3.7/dist-packages (from notebook>=4.4.1->widgetsnbextension~=3.5.0->ipywidgets) (2.11.3)\n",
            "Requirement already satisfied: nbconvert in /usr/local/lib/python3.7/dist-packages (from notebook>=4.4.1->widgetsnbextension~=3.5.0->ipywidgets) (5.6.1)\n",
            "Requirement already satisfied: terminado>=0.8.1 in /usr/local/lib/python3.7/dist-packages (from notebook>=4.4.1->widgetsnbextension~=3.5.0->ipywidgets) (0.9.4)\n",
            "Requirement already satisfied: Send2Trash in /usr/local/lib/python3.7/dist-packages (from notebook>=4.4.1->widgetsnbextension~=3.5.0->ipywidgets) (1.5.0)\n",
            "Requirement already satisfied: pyzmq>=13 in /usr/local/lib/python3.7/dist-packages (from jupyter-client->ipykernel>=4.5.1->ipywidgets) (22.0.3)\n",
            "Requirement already satisfied: python-dateutil>=2.1 in /usr/local/lib/python3.7/dist-packages (from jupyter-client->ipykernel>=4.5.1->ipywidgets) (2.8.1)\n",
            "Requirement already satisfied: MarkupSafe>=0.23 in /usr/local/lib/python3.7/dist-packages (from jinja2->notebook>=4.4.1->widgetsnbextension~=3.5.0->ipywidgets) (1.1.1)\n",
            "Requirement already satisfied: defusedxml in /usr/local/lib/python3.7/dist-packages (from nbconvert->notebook>=4.4.1->widgetsnbextension~=3.5.0->ipywidgets) (0.7.1)\n",
            "Requirement already satisfied: pandocfilters>=1.4.1 in /usr/local/lib/python3.7/dist-packages (from nbconvert->notebook>=4.4.1->widgetsnbextension~=3.5.0->ipywidgets) (1.4.3)\n",
            "Requirement already satisfied: testpath in /usr/local/lib/python3.7/dist-packages (from nbconvert->notebook>=4.4.1->widgetsnbextension~=3.5.0->ipywidgets) (0.4.4)\n",
            "Requirement already satisfied: bleach in /usr/local/lib/python3.7/dist-packages (from nbconvert->notebook>=4.4.1->widgetsnbextension~=3.5.0->ipywidgets) (3.3.0)\n",
            "Requirement already satisfied: mistune<2,>=0.8.1 in /usr/local/lib/python3.7/dist-packages (from nbconvert->notebook>=4.4.1->widgetsnbextension~=3.5.0->ipywidgets) (0.8.4)\n",
            "Requirement already satisfied: entrypoints>=0.2.2 in /usr/local/lib/python3.7/dist-packages (from nbconvert->notebook>=4.4.1->widgetsnbextension~=3.5.0->ipywidgets) (0.3)\n",
            "Requirement already satisfied: webencodings in /usr/local/lib/python3.7/dist-packages (from bleach->nbconvert->notebook>=4.4.1->widgetsnbextension~=3.5.0->ipywidgets) (0.5.1)\n",
            "Requirement already satisfied: packaging in /usr/local/lib/python3.7/dist-packages (from bleach->nbconvert->notebook>=4.4.1->widgetsnbextension~=3.5.0->ipywidgets) (20.9)\n",
            "Requirement already satisfied: pyparsing>=2.0.2 in /usr/local/lib/python3.7/dist-packages (from packaging->bleach->nbconvert->notebook>=4.4.1->widgetsnbextension~=3.5.0->ipywidgets) (2.4.7)\n"
          ],
          "name": "stdout"
        }
      ]
    },
    {
      "cell_type": "markdown",
      "metadata": {
        "id": "B6D1ud0HVRoj"
      },
      "source": [
        "### Imports"
      ]
    },
    {
      "cell_type": "code",
      "metadata": {
        "id": "bH4afYylVRoj"
      },
      "source": [
        "import os\n",
        "import pprint\n",
        "import tempfile\n",
        "\n",
        "from typing import Dict, Text\n",
        "\n",
        "import numpy as np\n",
        "import tensorflow as tf\n",
        "import tensorflow_datasets as tfds\n",
        "import tensorflow_recommenders as tfrs\n",
        "\n",
        "import math\n",
        "import heapq"
      ],
      "execution_count": 2,
      "outputs": []
    },
    {
      "cell_type": "markdown",
      "metadata": {
        "id": "DOrz3-zQVRoj"
      },
      "source": [
        "### Data Set-up"
      ]
    },
    {
      "cell_type": "code",
      "metadata": {
        "id": "Zm0uKl4NVRok",
        "colab": {
          "base_uri": "https://localhost:8080/",
          "height": 247,
          "referenced_widgets": [
            "a0dcc4d5eff3452d9e2b96aac33e8a05",
            "5a24fb8a84704a3fb93520d6c6d07840",
            "40ad0b0712bf48d6895a85638057dd0b",
            "fa613fb982ed4fb0a44690a21f152dfd",
            "7cfeba58a6e7421d892749f53c82da51",
            "388f7ed074914c39ba01fc92907dc812",
            "ccf5fa1338624e379c446ed0605498ce",
            "3bc56906cc894e80b08154cd9bb9570d",
            "d68c62b379ed4839a83ae73192695089",
            "094fedc9b66447999f7436d9c3e0e59d",
            "1bb53c546d894b9a90428d77c6d7af7e",
            "c488b9980ae7481ab0ff06a7cb3b4528",
            "c3347822dc5449eba411c4221f44c500",
            "949595ede87e4700b82f5c703b72d0ef",
            "a15184b63d144192a56838681162b64a",
            "85decc2169d745109cb8739fece57b3f",
            "844b3bdc06bb4b9688e452b661ab8940",
            "dbc91378587644e7be3e9d51a1df2e89",
            "97217da738344fee9c82bb2d05c3ee43",
            "a86ba011de2942c181fd34322b69a99b",
            "5c00d20694834cfb8694c8e4c24f040b",
            "d49286a97ef7461ba97b4e288b354e1c",
            "ab3857a16cfb4fe5b7760f73c8daca7f",
            "d6aa29c5f7634590b182c6a236b9b922",
            "2f1441e1e2cd4bf4823204cc379c7793",
            "bf3e878328e042168da86ff33a0d3435",
            "608e26fa191444d289ca574c7774fb5d",
            "c1d444a4e793458984d8eaf7f16ed3d8",
            "be7cb8c2c09046fab3ac37d4e3fea03f",
            "7f4957f8d8bb490291b77cb61d722fb1",
            "d809f7f7f3d84f1389a9fe84e1ff9ca5",
            "e71f88596b3347ba812c2a0b5552d27f",
            "62dcf5fb92c1433b884546a9497f56e8",
            "d01ec202a1b349d290da934d24fbedbe",
            "aa0275b64402466f9d4bf2603977b82e",
            "ac9f77515282409bbe2a628503d2b8ac",
            "805b077bb7814fbf90aad14bb0dea81f",
            "cdfe8c99b9f54fdcb4d6f1e8b5b8043e",
            "c66bf3c0079e48659157286e11476395",
            "ac9a7d14dcfe4f6591cc319ad67e0414",
            "81a10b6cde8c4690a8c42f07343379e3",
            "a4ee18a2f369471d8e4618de6620da66",
            "2fbd825c6021496eab928d6160e20fd0",
            "f08d0e0a2aac4ed0b0b601ddefb2d264",
            "087bc55a5ec6423e8dfcdd814517866e",
            "fbe474138e434eb983a01ccf7e87d3aa",
            "ed4e7e53414648d8ab359791f7fd7f59",
            "ff5a52dd7c90467385e95e6874a64347"
          ]
        },
        "outputId": "79b85c49-2ee9-457d-9489-b948bfe98c39"
      },
      "source": [
        "# Ratings data.\n",
        "ratings = tfds.load(\"movielens/100k-ratings\", split=\"train\")"
      ],
      "execution_count": 3,
      "outputs": [
        {
          "output_type": "stream",
          "text": [
            "\u001b[1mDownloading and preparing dataset 4.70 MiB (download: 4.70 MiB, generated: 32.41 MiB, total: 37.10 MiB) to /root/tensorflow_datasets/movielens/100k-ratings/0.1.0...\u001b[0m\n"
          ],
          "name": "stdout"
        },
        {
          "output_type": "display_data",
          "data": {
            "application/vnd.jupyter.widget-view+json": {
              "model_id": "a0dcc4d5eff3452d9e2b96aac33e8a05",
              "version_minor": 0,
              "version_major": 2
            },
            "text/plain": [
              "HBox(children=(FloatProgress(value=1.0, bar_style='info', description='Dl Completed...', max=1.0, style=Progre…"
            ]
          },
          "metadata": {
            "tags": []
          }
        },
        {
          "output_type": "display_data",
          "data": {
            "application/vnd.jupyter.widget-view+json": {
              "model_id": "d68c62b379ed4839a83ae73192695089",
              "version_minor": 0,
              "version_major": 2
            },
            "text/plain": [
              "HBox(children=(FloatProgress(value=1.0, bar_style='info', description='Dl Size...', max=1.0, style=ProgressSty…"
            ]
          },
          "metadata": {
            "tags": []
          }
        },
        {
          "output_type": "display_data",
          "data": {
            "application/vnd.jupyter.widget-view+json": {
              "model_id": "844b3bdc06bb4b9688e452b661ab8940",
              "version_minor": 0,
              "version_major": 2
            },
            "text/plain": [
              "HBox(children=(FloatProgress(value=1.0, bar_style='info', description='Extraction completed...', max=1.0, styl…"
            ]
          },
          "metadata": {
            "tags": []
          }
        },
        {
          "output_type": "stream",
          "text": [
            "\n",
            "\n",
            "\n",
            "\n",
            "\n",
            "\n"
          ],
          "name": "stdout"
        },
        {
          "output_type": "display_data",
          "data": {
            "application/vnd.jupyter.widget-view+json": {
              "model_id": "2f1441e1e2cd4bf4823204cc379c7793",
              "version_minor": 0,
              "version_major": 2
            },
            "text/plain": [
              "HBox(children=(FloatProgress(value=0.0, description='Generating splits...', max=1.0, style=ProgressStyle(descr…"
            ]
          },
          "metadata": {
            "tags": []
          }
        },
        {
          "output_type": "display_data",
          "data": {
            "application/vnd.jupyter.widget-view+json": {
              "model_id": "62dcf5fb92c1433b884546a9497f56e8",
              "version_minor": 0,
              "version_major": 2
            },
            "text/plain": [
              "HBox(children=(FloatProgress(value=0.0, description='Generating train examples...', max=100000.0, style=Progre…"
            ]
          },
          "metadata": {
            "tags": []
          }
        },
        {
          "output_type": "display_data",
          "data": {
            "application/vnd.jupyter.widget-view+json": {
              "model_id": "81a10b6cde8c4690a8c42f07343379e3",
              "version_minor": 0,
              "version_major": 2
            },
            "text/plain": [
              "HBox(children=(FloatProgress(value=0.0, description='Shuffling movielens-train.tfrecord...', max=100000.0, sty…"
            ]
          },
          "metadata": {
            "tags": []
          }
        },
        {
          "output_type": "stream",
          "text": [
            "\r\u001b[1mDataset movielens downloaded and prepared to /root/tensorflow_datasets/movielens/100k-ratings/0.1.0. Subsequent calls will reuse this data.\u001b[0m\n"
          ],
          "name": "stdout"
        }
      ]
    },
    {
      "cell_type": "code",
      "metadata": {
        "id": "zhMBWdIbVRok",
        "colab": {
          "base_uri": "https://localhost:8080/"
        },
        "outputId": "020e5625-e8e2-4400-fbb7-e361d78b2ec5"
      },
      "source": [
        "for x in ratings.take(1).as_numpy_iterator():\n",
        "  pprint.pprint(x)"
      ],
      "execution_count": 4,
      "outputs": [
        {
          "output_type": "stream",
          "text": [
            "{'bucketized_user_age': 45.0,\n",
            " 'movie_genres': array([7]),\n",
            " 'movie_id': b'357',\n",
            " 'movie_title': b\"One Flew Over the Cuckoo's Nest (1975)\",\n",
            " 'raw_user_age': 46.0,\n",
            " 'timestamp': 879024327,\n",
            " 'user_gender': True,\n",
            " 'user_id': b'138',\n",
            " 'user_occupation_label': 4,\n",
            " 'user_occupation_text': b'doctor',\n",
            " 'user_rating': 4.0,\n",
            " 'user_zip_code': b'53211'}\n"
          ],
          "name": "stdout"
        }
      ]
    },
    {
      "cell_type": "code",
      "metadata": {
        "id": "WaP8pbuaVRok",
        "colab": {
          "base_uri": "https://localhost:8080/"
        },
        "outputId": "c405dc7d-4733-4d31-ac29-643d158b8de5"
      },
      "source": [
        "dataframe = tfds.as_dataframe(ratings)\n",
        "print(dataframe)"
      ],
      "execution_count": 5,
      "outputs": [
        {
          "output_type": "stream",
          "text": [
            "       bucketized_user_age     movie_genres  ... user_rating user_zip_code\n",
            "0                     45.0              [7]  ...         4.0      b'53211'\n",
            "1                     25.0          [4, 14]  ...         2.0      b'80525'\n",
            "2                     18.0              [4]  ...         4.0      b'55439'\n",
            "3                     50.0           [5, 7]  ...         4.0      b'06472'\n",
            "4                     50.0         [10, 16]  ...         3.0      b'75094'\n",
            "...                    ...              ...  ...         ...           ...\n",
            "99995                 25.0       [0, 1, 15]  ...         4.0      b'80027'\n",
            "99996                 35.0         [13, 16]  ...         4.0      b'60035'\n",
            "99997                 18.0             [10]  ...         1.0      b'78264'\n",
            "99998                 35.0  [0, 10, 15, 16]  ...         4.0      b'53210'\n",
            "99999                 18.0              [4]  ...         2.0      b'95064'\n",
            "\n",
            "[100000 rows x 12 columns]\n"
          ],
          "name": "stdout"
        }
      ]
    },
    {
      "cell_type": "code",
      "metadata": {
        "id": "KiG4G9L_lq6W",
        "colab": {
          "base_uri": "https://localhost:8080/"
        },
        "outputId": "18d4d3a2-add5-4c43-e735-13d6a4f9d418"
      },
      "source": [
        "# Pull out relevant columns and convert id columns to ints\n",
        "relevant_cols = dataframe.loc[:, ['user_id', 'movie_id', 'user_rating', 'timestamp']]\n",
        "relevant_cols['user_id'] = relevant_cols['user_id'].astype(int)\n",
        "relevant_cols['movie_id'] = relevant_cols['movie_id'].astype(int)\n",
        "print(relevant_cols)\n",
        "print(relevant_cols.dtypes)"
      ],
      "execution_count": 6,
      "outputs": [
        {
          "output_type": "stream",
          "text": [
            "       user_id  movie_id  user_rating  timestamp\n",
            "0          138       357          4.0  879024327\n",
            "1           92       709          2.0  875654590\n",
            "2          301       412          4.0  882075110\n",
            "3           60        56          4.0  883326919\n",
            "4          197       895          3.0  891409199\n",
            "...        ...       ...          ...        ...\n",
            "99995      774       228          4.0  888557237\n",
            "99996      313       333          4.0  891012877\n",
            "99997      262       567          1.0  879795430\n",
            "99998      911       183          4.0  892839492\n",
            "99999      276      1140          2.0  874791894\n",
            "\n",
            "[100000 rows x 4 columns]\n",
            "user_id          int64\n",
            "movie_id         int64\n",
            "user_rating    float64\n",
            "timestamp        int64\n",
            "dtype: object\n"
          ],
          "name": "stdout"
        }
      ]
    },
    {
      "cell_type": "code",
      "metadata": {
        "id": "UEEtXx7RVVvg",
        "colab": {
          "base_uri": "https://localhost:8080/"
        },
        "outputId": "16a52262-986e-4c24-b352-3b6f880af6ab"
      },
      "source": [
        "relevant_cols['latest'] = relevant_cols.groupby(['user_id'])['timestamp'].rank(method='first', ascending=False)\n",
        "\n",
        "train_ratings = relevant_cols[relevant_cols['latest'] != 1]\n",
        "test_ratings = relevant_cols[relevant_cols['latest'] == 1]\n",
        "\n",
        "train_ratings = train_ratings[['user_id', 'movie_id', 'user_rating']]\n",
        "test_ratings = test_ratings[['user_id', 'movie_id', 'user_rating']]\n",
        "\n",
        "print(train_ratings.shape)\n",
        "print(test_ratings.shape)\n",
        "\n",
        "num_users = len(relevant_cols.user_id.unique()) + 1\n",
        "num_items = len(relevant_cols.movie_id.unique()) + 1\n",
        "\n",
        "print('Num Users:', num_users)\n",
        "print('Num Items:', num_items)"
      ],
      "execution_count": 7,
      "outputs": [
        {
          "output_type": "stream",
          "text": [
            "(99057, 3)\n",
            "(943, 3)\n",
            "Num Users: 944\n",
            "Num Items: 1683\n"
          ],
          "name": "stdout"
        }
      ]
    },
    {
      "cell_type": "markdown",
      "metadata": {
        "id": "ml1qDojt3Lcb"
      },
      "source": [
        "## Convert to Implicit Feedback Dataset"
      ]
    },
    {
      "cell_type": "code",
      "metadata": {
        "id": "5BghlYpWWZsc",
        "colab": {
          "base_uri": "https://localhost:8080/"
        },
        "outputId": "f7545e3d-8c32-4b93-834c-f61b26e63ccf"
      },
      "source": [
        "# Convert rating to 1 for everything to mark that the user has watched this item\n",
        "train_ratings.loc[:, 'rating'] = 1\n",
        "print(train_ratings)\n"
      ],
      "execution_count": 8,
      "outputs": [
        {
          "output_type": "stream",
          "text": [
            "       user_id  movie_id  user_rating  rating\n",
            "0          138       357          4.0       1\n",
            "1           92       709          2.0       1\n",
            "2          301       412          4.0       1\n",
            "3           60        56          4.0       1\n",
            "4          197       895          3.0       1\n",
            "...        ...       ...          ...     ...\n",
            "99995      774       228          4.0       1\n",
            "99996      313       333          4.0       1\n",
            "99997      262       567          1.0       1\n",
            "99998      911       183          4.0       1\n",
            "99999      276      1140          2.0       1\n",
            "\n",
            "[99057 rows x 4 columns]\n"
          ],
          "name": "stdout"
        }
      ]
    },
    {
      "cell_type": "code",
      "metadata": {
        "id": "g8ObmXC23Pc2"
      },
      "source": [
        "# Add negative samples\n",
        "all_movies = relevant_cols['movie_id'].unique()\n",
        "\n",
        "users, items, labels = [], [], []\n",
        "user_item_set = set(zip(train_ratings['user_id'], train_ratings['movie_id']))\n",
        "num_negatives = 4\n",
        "\n",
        "for (u, i) in user_item_set:\n",
        "  users.append([u])\n",
        "  items.append([i])\n",
        "  labels.append([1])\n",
        "  for _ in range(num_negatives):\n",
        "    negative_item = np.random.choice(all_movies)\n",
        "    while (u, negative_item) in user_item_set:\n",
        "      negative_item = np.random.choice(all_movies)\n",
        "    users.append([u])\n",
        "    items.append([negative_item])\n",
        "    labels.append([0])"
      ],
      "execution_count": 9,
      "outputs": []
    },
    {
      "cell_type": "markdown",
      "metadata": {
        "id": "vRKCJCT44Lx2"
      },
      "source": [
        "## Create Dataset"
      ]
    },
    {
      "cell_type": "code",
      "metadata": {
        "id": "nJvPLf6J362B"
      },
      "source": [
        "train_ds = tf.data.Dataset.from_tensor_slices(({'user': users, 'item': items}, labels))\n",
        "train_ds = train_ds.cache()"
      ],
      "execution_count": 10,
      "outputs": []
    },
    {
      "cell_type": "code",
      "metadata": {
        "id": "iZEgiXPS4ZcQ",
        "colab": {
          "base_uri": "https://localhost:8080/"
        },
        "outputId": "868c0826-98bb-44b9-93e8-145ddd4ef7de"
      },
      "source": [
        "train_ds = train_ds.shuffle(1000)\n",
        "for elem in train_ds.take(10):\n",
        "  print(elem)"
      ],
      "execution_count": 11,
      "outputs": [
        {
          "output_type": "stream",
          "text": [
            "({'user': <tf.Tensor: shape=(1,), dtype=int32, numpy=array([690], dtype=int32)>, 'item': <tf.Tensor: shape=(1,), dtype=int32, numpy=array([150], dtype=int32)>}, <tf.Tensor: shape=(1,), dtype=int32, numpy=array([0], dtype=int32)>)\n",
            "({'user': <tf.Tensor: shape=(1,), dtype=int32, numpy=array([296], dtype=int32)>, 'item': <tf.Tensor: shape=(1,), dtype=int32, numpy=array([221], dtype=int32)>}, <tf.Tensor: shape=(1,), dtype=int32, numpy=array([1], dtype=int32)>)\n",
            "({'user': <tf.Tensor: shape=(1,), dtype=int32, numpy=array([682], dtype=int32)>, 'item': <tf.Tensor: shape=(1,), dtype=int32, numpy=array([1456], dtype=int32)>}, <tf.Tensor: shape=(1,), dtype=int32, numpy=array([0], dtype=int32)>)\n",
            "({'user': <tf.Tensor: shape=(1,), dtype=int32, numpy=array([533], dtype=int32)>, 'item': <tf.Tensor: shape=(1,), dtype=int32, numpy=array([142], dtype=int32)>}, <tf.Tensor: shape=(1,), dtype=int32, numpy=array([0], dtype=int32)>)\n",
            "({'user': <tf.Tensor: shape=(1,), dtype=int32, numpy=array([792], dtype=int32)>, 'item': <tf.Tensor: shape=(1,), dtype=int32, numpy=array([691], dtype=int32)>}, <tf.Tensor: shape=(1,), dtype=int32, numpy=array([0], dtype=int32)>)\n",
            "({'user': <tf.Tensor: shape=(1,), dtype=int32, numpy=array([90], dtype=int32)>, 'item': <tf.Tensor: shape=(1,), dtype=int32, numpy=array([1140], dtype=int32)>}, <tf.Tensor: shape=(1,), dtype=int32, numpy=array([0], dtype=int32)>)\n",
            "({'user': <tf.Tensor: shape=(1,), dtype=int32, numpy=array([235], dtype=int32)>, 'item': <tf.Tensor: shape=(1,), dtype=int32, numpy=array([662], dtype=int32)>}, <tf.Tensor: shape=(1,), dtype=int32, numpy=array([0], dtype=int32)>)\n",
            "({'user': <tf.Tensor: shape=(1,), dtype=int32, numpy=array([222], dtype=int32)>, 'item': <tf.Tensor: shape=(1,), dtype=int32, numpy=array([359], dtype=int32)>}, <tf.Tensor: shape=(1,), dtype=int32, numpy=array([0], dtype=int32)>)\n",
            "({'user': <tf.Tensor: shape=(1,), dtype=int32, numpy=array([306], dtype=int32)>, 'item': <tf.Tensor: shape=(1,), dtype=int32, numpy=array([25], dtype=int32)>}, <tf.Tensor: shape=(1,), dtype=int32, numpy=array([1], dtype=int32)>)\n",
            "({'user': <tf.Tensor: shape=(1,), dtype=int32, numpy=array([880], dtype=int32)>, 'item': <tf.Tensor: shape=(1,), dtype=int32, numpy=array([1084], dtype=int32)>}, <tf.Tensor: shape=(1,), dtype=int32, numpy=array([0], dtype=int32)>)\n"
          ],
          "name": "stdout"
        }
      ]
    },
    {
      "cell_type": "markdown",
      "metadata": {
        "id": "6WTSy4kvk4Lm"
      },
      "source": [
        "## Define Models"
      ]
    },
    {
      "cell_type": "code",
      "metadata": {
        "id": "1kHNl37Jk5Qg"
      },
      "source": [
        "from keras.models import Model\n",
        "from keras.layers import Embedding, Input, Dense, Reshape, Multiply, Flatten, Lambda, Concatenate, Layer\n",
        "from keras import initializers, regularizers\n",
        "import sys\n",
        "\n",
        "def get_GMFmodel(num_users, num_items, latent_dim):\n",
        "  user_input = Input(shape = (1,), dtype = 'int32', name = 'user')\n",
        "  item_input = Input(shape = (1,), dtype = 'int32', name = 'item')\n",
        "\n",
        "  user_embedding = Embedding(input_dim = num_users, output_dim = latent_dim, name = 'user_embed',\n",
        "                             embeddings_initializer = initializers.RandomNormal(stddev = 0.01), \n",
        "                             embeddings_regularizer = regularizers.l2(0), input_length = 1)\n",
        "  item_embedding = Embedding(input_dim = num_items, output_dim = latent_dim, name = 'item_embed',\n",
        "                             embeddings_initializer = initializers.RandomNormal(stddev = 0.01), \n",
        "                             embeddings_regularizer = regularizers.l2(0), input_length = 1)\n",
        "\n",
        "  user_latent = Flatten()(user_embedding(user_input))\n",
        "  item_latent = Flatten()(item_embedding(item_input))\n",
        "\n",
        "  prediction_vec = Multiply()([user_latent, item_latent])\n",
        "\n",
        "  prediction = Dense(1, activation='sigmoid', kernel_initializer='lecun_uniform', name = 'prediction')(prediction_vec)\n",
        "\n",
        "  return Model(inputs=[user_input, item_input], outputs=prediction)"
      ],
      "execution_count": 15,
      "outputs": []
    },
    {
      "cell_type": "code",
      "metadata": {
        "id": "OccrWR_kVmPL"
      },
      "source": [
        "def get_MLPmodel(num_users, num_items, latent_dim):\n",
        "  user_input = Input(shape = (1,), dtype = 'int32', name = 'user')\n",
        "  item_input = Input(shape = (1,), dtype = 'int32', name = 'item')\n",
        "\n",
        "  user_embedding = Embedding(input_dim = num_users, output_dim = latent_dim, name = 'user_embed',\n",
        "                             embeddings_initializer = initializers.RandomNormal(stddev = 0.01), \n",
        "                             embeddings_regularizer = regularizers.l2(0), input_length = 1)\n",
        "  item_embedding = Embedding(input_dim = num_items, output_dim = latent_dim, name = 'item_embed',\n",
        "                             embeddings_initializer = initializers.RandomNormal(stddev = 0.01), \n",
        "                             embeddings_regularizer = regularizers.l2(0), input_length = 1)\n",
        "  \n",
        "  user_latent = Flatten()(user_embedding(user_input))\n",
        "  item_latent = Flatten()(item_embedding(item_input))\n",
        "\n",
        "  inputs = Concatenate()([user_latent, item_latent])\n",
        "\n",
        "  layer = Dense(256, activation='relu', name='Layer1', kernel_initializer='glorot_uniform')(inputs)\n",
        "  layer = Dense(128, activation='relu', name='Layer2')(layer)\n",
        "  layer = Dense(32, activation='relu', name='Layer3')(layer)\n",
        "  output = Dense(1, activation='sigmoid', name='Layer4')(layer)\n",
        "\n",
        "  return Model(inputs=[user_input, item_input], outputs=output)\n",
        "    "
      ],
      "execution_count": 13,
      "outputs": []
    },
    {
      "cell_type": "code",
      "metadata": {
        "id": "6WEHWYWJaiow"
      },
      "source": [
        "class Combine(Layer):\n",
        "  def __init__(self):\n",
        "        super(Combine, self).__init__()\n",
        "        random_alpha = tf.random.uniform(shape=[1])\n",
        "        self.alpha = tf.Variable(initial_value=random_alpha, trainable=True)\n",
        "  \n",
        "  def call(self, inputs):\n",
        "    return (1 - self.alpha)*inputs[0] + self.alpha*inputs[1]"
      ],
      "execution_count": 26,
      "outputs": []
    },
    {
      "cell_type": "code",
      "metadata": {
        "id": "XDKlcczn6Ejq"
      },
      "source": [
        "def get_MLPGMFmodel(num_users, num_items, latent_dim):\n",
        "  user_input = Input(shape = (1,), dtype = 'int32', name = 'user')\n",
        "  movie_input = Input(shape = (1,), dtype = 'int32', name = 'item')\n",
        "\n",
        "  user_embedding = Embedding(input_dim = num_users, output_dim = latent_dim, name = 'user_embed',\n",
        "                             embeddings_initializer = initializers.RandomNormal(stddev = 0.01), \n",
        "                             embeddings_regularizer = regularizers.l2(0), input_length = 1)\n",
        "  movie_embedding = Embedding(input_dim = num_items, output_dim = latent_dim, name = 'item_embed',\n",
        "                             embeddings_initializer = initializers.RandomNormal(stddev = 0.01), \n",
        "                             embeddings_regularizer = regularizers.l2(0), input_length = 1)\n",
        "  \n",
        "  user_latent = Flatten()(user_embedding(user_input))\n",
        "  item_latent = Flatten()(movie_embedding(movie_input))\n",
        "\n",
        "  #GMF \n",
        "  prediction_vec = Multiply()([user_latent, item_latent])\n",
        "  prediction_GMF = Dense(1, activation='sigmoid', kernel_initializer='lecun_uniform', name = 'prediction')(prediction_vec)\n",
        "\n",
        "  #MLF\n",
        "  inputs = Concatenate()([user_latent, item_latent])\n",
        "  layer = Dense(256, activation='relu', name='Layer1', kernel_initializer='glorot_uniform')(inputs)\n",
        "  layer = Dense(128, activation='relu', name='Layer2')(layer)\n",
        "  layer = Dense(32, activation='relu', name='Layer3')(layer)\n",
        "  prediction_MLP = Dense(1, activation='sigmoid', name='Layer4')(layer)\n",
        "\n",
        "  predictions = Combine()([prediction_GMF, prediction_MLP])\n",
        "\n",
        "  return Model(inputs=[user_input, movie_input], outputs=predictions)\n"
      ],
      "execution_count": 34,
      "outputs": []
    },
    {
      "cell_type": "markdown",
      "metadata": {
        "id": "drcJ5JshUZdb"
      },
      "source": [
        "## Evaluation Functions"
      ]
    },
    {
      "cell_type": "code",
      "metadata": {
        "id": "ShgdKU-6BpLr"
      },
      "source": [
        "def evaluateNCDG(ranked_list, target_item):\n",
        "  for i in range(len(ranked_list)):\n",
        "    if ranked_list[i] == target_item:\n",
        "      return math.log(2) / math.log(i + 2)\n",
        "  \n",
        "  return 0"
      ],
      "execution_count": 15,
      "outputs": []
    },
    {
      "cell_type": "code",
      "metadata": {
        "id": "UuLADR1WBpLs"
      },
      "source": [
        "def hitRate(item, ranklist):\n",
        "  for rank in ranklist:\n",
        "    if item == rank:\n",
        "      return 1\n",
        "  return 0"
      ],
      "execution_count": 16,
      "outputs": []
    },
    {
      "cell_type": "code",
      "metadata": {
        "id": "UN2stnBbBpLs"
      },
      "source": [
        "# This method calculates all the evaluation metrics. Individual methods are called from here.\n",
        "def evaluate(model, testPosRatings, testNegRatings):\n",
        "    hits = []\n",
        "    ncdgs = []\n",
        "    for i in range(len(testPosRatings)):\n",
        "      hit, ncdg = evaluate_one(model, testPosRatings[i], testNegRatings[i])\n",
        "      hits.append(hit)\n",
        "      ncdgs.append(ncdg)\n",
        "\n",
        "    return hits, ncdg"
      ],
      "execution_count": 17,
      "outputs": []
    },
    {
      "cell_type": "code",
      "metadata": {
        "id": "cQykhM9DBpLt"
      },
      "source": [
        "def evaluate_one(model, posRating, negRatings, N):\n",
        "  user = posRating[0]\n",
        "  movie = posRating[1]\n",
        "  negRatings.append(movie)\n",
        "\n",
        "  user_input = np.full(len(negRatings)+ 1, user)\n",
        "\n",
        "  print(user_input)\n",
        "  print(negRatings)\n",
        "\n",
        "  predictions = model.predict([user_input, negRatings])\n",
        "\n",
        "  # associate item with predictions\n",
        "  items = {}\n",
        "  for i in range(len(predictions)):\n",
        "    items[negRatings[i]] = predictions[i]\n",
        "\n",
        "  rankedList = heapq.nlargest(N, items, items.get)\n",
        "  ncdg = evaluateNCDG(rankedList.values(), items.values())\n",
        "  hit = hitRate(item, rankedList)\n",
        "\n",
        "  return hit, ncdg"
      ],
      "execution_count": 18,
      "outputs": []
    },
    {
      "cell_type": "markdown",
      "metadata": {
        "id": "J9LTtsJPUd25"
      },
      "source": [
        "### Create 100 Negative Test Points"
      ]
    },
    {
      "cell_type": "code",
      "metadata": {
        "id": "2duZM-mtrK2B",
        "colab": {
          "base_uri": "https://localhost:8080/"
        },
        "outputId": "c59bce9d-3630-4a17-a264-9864193aa9e4"
      },
      "source": [
        "# Generate 100 Negative Test Examples\n",
        "# Add negative samples\n",
        "all_movies = relevant_cols['movie_id'].unique()\n",
        "\n",
        "users, items, labels = [], [], []\n",
        "user_item_set = set(zip(train_ratings['user_id'], train_ratings['movie_id']))\n",
        "user_set = set(train_ratings['user_id'])\n",
        "num_test_negatives = 100\n",
        "test_negatives = {}\n",
        "\n",
        "for u in user_set:\n",
        "  negatives = []\n",
        "\n",
        "  for _ in range(num_test_negatives):\n",
        "    negative_item = np.random.choice(all_movies)\n",
        "    while (u, negative_item) in user_item_set:\n",
        "      negative_item = np.random.choice(all_movies)\n",
        "    \n",
        "    negatives.append(negative_item)\n",
        "  \n",
        "  test_negatives[u] = negatives\n",
        "\n",
        "print('Number of users:', len(test_negatives))\n",
        "print('Number of negative points:', len(test_negatives[138]))"
      ],
      "execution_count": null,
      "outputs": [
        {
          "output_type": "stream",
          "text": [
            "Number of users: 943\n",
            "Number of negative points: 100\n"
          ],
          "name": "stdout"
        }
      ]
    },
    {
      "cell_type": "code",
      "metadata": {
        "id": "DTTlDF-mrn55"
      },
      "source": [
        "def evaluate_model(model):\n",
        "  hits = []\n",
        "  ncdgs = []\n",
        "  N = 10\n",
        "  completed = 0\n",
        "\n",
        "  for (u, item) in zip(test_ratings['user_id'], test_ratings['movie_id']):\n",
        "    negs = test_negatives[u]\n",
        "    test_negs = np.array([])\n",
        "    test_users = np.array([])\n",
        "    items = {}\n",
        "\n",
        "    for neg in negs:\n",
        "      test_negs = np.append(test_negs, tf.constant([neg]))\n",
        "      test_users = np.append(test_users, tf.constant([u]))\n",
        "    test_negs = np.append(test_negs, tf.constant([item]))\n",
        "    test_users = np.append(test_users, tf.constant([u]))\n",
        "\n",
        "    predictions = model.predict({'user': test_users, 'item': test_negs})\n",
        "    completed += 1\n",
        "\n",
        "    for i in range(len(predictions)):\n",
        "      if i == len(predictions) - 1:\n",
        "        items[item] = predictions[i]\n",
        "      else:\n",
        "        items[negs[i]] = predictions[i]\n",
        "\n",
        "    rankedList = heapq.nlargest(N, items, items.get)\n",
        "\n",
        "    ncdg = evaluateNCDG(rankedList, item)\n",
        "    hit = hitRate(item, rankedList)\n",
        "    \n",
        "    ncdgs.append(ncdg)\n",
        "    hits.append(hit)\n",
        "\n",
        "  \n",
        "  hit_rate = np.mean(hits)\n",
        "  mean_ncdg = np.mean(ncdgs)\n",
        "\n",
        "  return hit_rate, mean_ncdg"
      ],
      "execution_count": null,
      "outputs": []
    },
    {
      "cell_type": "code",
      "metadata": {
        "id": "ZDV3LafNa5tC",
        "colab": {
          "base_uri": "https://localhost:8080/"
        },
        "outputId": "d9178f32-1781-44fb-ed68-202b65a6ada1"
      },
      "source": [
        "from keras.optimizers import Adam\n",
        "\n",
        "topK = 10\n",
        "\n",
        "model = get_MLPGMFmodel(num_users, num_items, 8)\n",
        "model.compile(optimizer=Adam(0.001), loss='binary_crossentropy')\n",
        "model.summary()"
      ],
      "execution_count": 36,
      "outputs": [
        {
          "output_type": "stream",
          "text": [
            "Model: \"model_2\"\n",
            "__________________________________________________________________________________________________\n",
            "Layer (type)                    Output Shape         Param #     Connected to                     \n",
            "==================================================================================================\n",
            "user (InputLayer)               [(None, 1)]          0                                            \n",
            "__________________________________________________________________________________________________\n",
            "item (InputLayer)               [(None, 1)]          0                                            \n",
            "__________________________________________________________________________________________________\n",
            "user_embed (Embedding)          (None, 1, 8)         7552        user[0][0]                       \n",
            "__________________________________________________________________________________________________\n",
            "item_embed (Embedding)          (None, 1, 8)         13464       item[0][0]                       \n",
            "__________________________________________________________________________________________________\n",
            "flatten_10 (Flatten)            (None, 8)            0           user_embed[0][0]                 \n",
            "__________________________________________________________________________________________________\n",
            "flatten_11 (Flatten)            (None, 8)            0           item_embed[0][0]                 \n",
            "__________________________________________________________________________________________________\n",
            "concatenate_8 (Concatenate)     (None, 16)           0           flatten_10[0][0]                 \n",
            "                                                                 flatten_11[0][0]                 \n",
            "__________________________________________________________________________________________________\n",
            "Layer1 (Dense)                  (None, 256)          4352        concatenate_8[0][0]              \n",
            "__________________________________________________________________________________________________\n",
            "Layer2 (Dense)                  (None, 128)          32896       Layer1[0][0]                     \n",
            "__________________________________________________________________________________________________\n",
            "multiply_5 (Multiply)           (None, 8)            0           flatten_10[0][0]                 \n",
            "                                                                 flatten_11[0][0]                 \n",
            "__________________________________________________________________________________________________\n",
            "Layer3 (Dense)                  (None, 32)           4128        Layer2[0][0]                     \n",
            "__________________________________________________________________________________________________\n",
            "prediction (Dense)              (None, 1)            9           multiply_5[0][0]                 \n",
            "__________________________________________________________________________________________________\n",
            "Layer4 (Dense)                  (None, 1)            33          Layer3[0][0]                     \n",
            "__________________________________________________________________________________________________\n",
            "combine_1 (Combine)             (None, 1)            1           prediction[0][0]                 \n",
            "                                                                 Layer4[0][0]                     \n",
            "==================================================================================================\n",
            "Total params: 62,435\n",
            "Trainable params: 62,435\n",
            "Non-trainable params: 0\n",
            "__________________________________________________________________________________________________\n"
          ],
          "name": "stdout"
        }
      ]
    },
    {
      "cell_type": "code",
      "metadata": {
        "colab": {
          "base_uri": "https://localhost:8080/",
          "height": 246
        },
        "id": "w1TDEOVkUSPC",
        "outputId": "137b56af-be60-4d85-dd77-5cb1fbc99386"
      },
      "source": [
        "NUM_EPOCHS = 5\n",
        "best_hitrate = 0\n",
        "best_ncdg = 0\n",
        "best_epoch = -1\n",
        "\n",
        "for epoch in range(1, NUM_EPOCHS + 1):\n",
        "  hist = model.fit(train_ds, batch_size=256, epochs=1)\n",
        "\n",
        "  hit_rate, ncdg = evaluate_model(model)\n",
        "  print('Epoch', epoch, 'Hit Rate:', hit_rate, 'NDCG:', ncdg)\n",
        "\n",
        "  # TODO: Save out model with best performance"
      ],
      "execution_count": 37,
      "outputs": [
        {
          "output_type": "stream",
          "text": [
            "495285/495285 [==============================] - 1263s 3ms/step - loss: 0.3870\n"
          ],
          "name": "stdout"
        },
        {
          "output_type": "error",
          "ename": "NameError",
          "evalue": "ignored",
          "traceback": [
            "\u001b[0;31m---------------------------------------------------------------------------\u001b[0m",
            "\u001b[0;31mNameError\u001b[0m                                 Traceback (most recent call last)",
            "\u001b[0;32m<ipython-input-37-9e30289a1933>\u001b[0m in \u001b[0;36m<module>\u001b[0;34m()\u001b[0m\n\u001b[1;32m      7\u001b[0m   \u001b[0mhist\u001b[0m \u001b[0;34m=\u001b[0m \u001b[0mmodel\u001b[0m\u001b[0;34m.\u001b[0m\u001b[0mfit\u001b[0m\u001b[0;34m(\u001b[0m\u001b[0mtrain_ds\u001b[0m\u001b[0;34m,\u001b[0m \u001b[0mbatch_size\u001b[0m\u001b[0;34m=\u001b[0m\u001b[0;36m256\u001b[0m\u001b[0;34m,\u001b[0m \u001b[0mepochs\u001b[0m\u001b[0;34m=\u001b[0m\u001b[0;36m1\u001b[0m\u001b[0;34m)\u001b[0m\u001b[0;34m\u001b[0m\u001b[0;34m\u001b[0m\u001b[0m\n\u001b[1;32m      8\u001b[0m \u001b[0;34m\u001b[0m\u001b[0m\n\u001b[0;32m----> 9\u001b[0;31m   \u001b[0mhit_rate\u001b[0m\u001b[0;34m,\u001b[0m \u001b[0mncdg\u001b[0m \u001b[0;34m=\u001b[0m \u001b[0mevaluate_model\u001b[0m\u001b[0;34m(\u001b[0m\u001b[0mmodel\u001b[0m\u001b[0;34m)\u001b[0m\u001b[0;34m\u001b[0m\u001b[0;34m\u001b[0m\u001b[0m\n\u001b[0m\u001b[1;32m     10\u001b[0m   \u001b[0mprint\u001b[0m\u001b[0;34m(\u001b[0m\u001b[0;34m'Epoch'\u001b[0m\u001b[0;34m,\u001b[0m \u001b[0mepoch\u001b[0m\u001b[0;34m,\u001b[0m \u001b[0;34m'Hit Rate:'\u001b[0m\u001b[0;34m,\u001b[0m \u001b[0mhit_rate\u001b[0m\u001b[0;34m,\u001b[0m \u001b[0;34m'NDCG:'\u001b[0m\u001b[0;34m,\u001b[0m \u001b[0mncdg\u001b[0m\u001b[0;34m)\u001b[0m\u001b[0;34m\u001b[0m\u001b[0;34m\u001b[0m\u001b[0m\n\u001b[1;32m     11\u001b[0m \u001b[0;34m\u001b[0m\u001b[0m\n",
            "\u001b[0;31mNameError\u001b[0m: name 'evaluate_model' is not defined"
          ]
        }
      ]
    },
    {
      "cell_type": "code",
      "metadata": {
        "id": "Tn5cOV66kFLI"
      },
      "source": [
        ""
      ],
      "execution_count": null,
      "outputs": []
    }
  ]
}