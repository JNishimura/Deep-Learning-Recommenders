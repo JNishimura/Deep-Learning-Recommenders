{
  "nbformat": 4,
  "nbformat_minor": 0,
  "metadata": {
    "kernelspec": {
      "display_name": "Python 3",
      "language": "python",
      "name": "python3"
    },
    "language_info": {
      "codemirror_mode": {
        "name": "ipython",
        "version": 3
      },
      "file_extension": ".py",
      "mimetype": "text/x-python",
      "name": "python",
      "nbconvert_exporter": "python",
      "pygments_lexer": "ipython3",
      "version": "3.6.9"
    },
    "colab": {
      "name": "MovieLens_OuterProduct.ipynb",
      "provenance": [],
      "collapsed_sections": [],
      "include_colab_link": true
    },
    "accelerator": "GPU",
    "widgets": {
      "application/vnd.jupyter.widget-state+json": {
        "62ddefcfa0dd4603a90b9622b0a0e18f": {
          "model_module": "@jupyter-widgets/controls",
          "model_name": "HBoxModel",
          "state": {
            "_view_name": "HBoxView",
            "_dom_classes": [],
            "_model_name": "HBoxModel",
            "_view_module": "@jupyter-widgets/controls",
            "_model_module_version": "1.5.0",
            "_view_count": null,
            "_view_module_version": "1.5.0",
            "box_style": "",
            "layout": "IPY_MODEL_b360bf1730c549eda1327fca6f3131fb",
            "_model_module": "@jupyter-widgets/controls",
            "children": [
              "IPY_MODEL_097ef5161af74bcfaf1ee98b2b841584",
              "IPY_MODEL_d89f3f180a7844e89dd9d52eae2a86e5"
            ]
          }
        },
        "b360bf1730c549eda1327fca6f3131fb": {
          "model_module": "@jupyter-widgets/base",
          "model_name": "LayoutModel",
          "state": {
            "_view_name": "LayoutView",
            "grid_template_rows": null,
            "right": null,
            "justify_content": null,
            "_view_module": "@jupyter-widgets/base",
            "overflow": null,
            "_model_module_version": "1.2.0",
            "_view_count": null,
            "flex_flow": null,
            "width": null,
            "min_width": null,
            "border": null,
            "align_items": null,
            "bottom": null,
            "_model_module": "@jupyter-widgets/base",
            "top": null,
            "grid_column": null,
            "overflow_y": null,
            "overflow_x": null,
            "grid_auto_flow": null,
            "grid_area": null,
            "grid_template_columns": null,
            "flex": null,
            "_model_name": "LayoutModel",
            "justify_items": null,
            "grid_row": null,
            "max_height": null,
            "align_content": null,
            "visibility": null,
            "align_self": null,
            "height": null,
            "min_height": null,
            "padding": null,
            "grid_auto_rows": null,
            "grid_gap": null,
            "max_width": null,
            "order": null,
            "_view_module_version": "1.2.0",
            "grid_template_areas": null,
            "object_position": null,
            "object_fit": null,
            "grid_auto_columns": null,
            "margin": null,
            "display": null,
            "left": null
          }
        },
        "097ef5161af74bcfaf1ee98b2b841584": {
          "model_module": "@jupyter-widgets/controls",
          "model_name": "FloatProgressModel",
          "state": {
            "_view_name": "ProgressView",
            "style": "IPY_MODEL_f2ca0b58623d469ea525b2beb5793d1b",
            "_dom_classes": [],
            "description": "Dl Completed...: 100%",
            "_model_name": "FloatProgressModel",
            "bar_style": "success",
            "max": 1,
            "_view_module": "@jupyter-widgets/controls",
            "_model_module_version": "1.5.0",
            "value": 1,
            "_view_count": null,
            "_view_module_version": "1.5.0",
            "orientation": "horizontal",
            "min": 0,
            "description_tooltip": null,
            "_model_module": "@jupyter-widgets/controls",
            "layout": "IPY_MODEL_d32a5e0b35304560acec3214160f1b43"
          }
        },
        "d89f3f180a7844e89dd9d52eae2a86e5": {
          "model_module": "@jupyter-widgets/controls",
          "model_name": "HTMLModel",
          "state": {
            "_view_name": "HTMLView",
            "style": "IPY_MODEL_b63fc64ce78f44fba9c9e32fdd56bb50",
            "_dom_classes": [],
            "description": "",
            "_model_name": "HTMLModel",
            "placeholder": "​",
            "_view_module": "@jupyter-widgets/controls",
            "_model_module_version": "1.5.0",
            "value": " 1/1 [00:00&lt;00:00,  1.13 url/s]",
            "_view_count": null,
            "_view_module_version": "1.5.0",
            "description_tooltip": null,
            "_model_module": "@jupyter-widgets/controls",
            "layout": "IPY_MODEL_4d5e4309861a42528aa3127003320b04"
          }
        },
        "f2ca0b58623d469ea525b2beb5793d1b": {
          "model_module": "@jupyter-widgets/controls",
          "model_name": "ProgressStyleModel",
          "state": {
            "_view_name": "StyleView",
            "_model_name": "ProgressStyleModel",
            "description_width": "initial",
            "_view_module": "@jupyter-widgets/base",
            "_model_module_version": "1.5.0",
            "_view_count": null,
            "_view_module_version": "1.2.0",
            "bar_color": null,
            "_model_module": "@jupyter-widgets/controls"
          }
        },
        "d32a5e0b35304560acec3214160f1b43": {
          "model_module": "@jupyter-widgets/base",
          "model_name": "LayoutModel",
          "state": {
            "_view_name": "LayoutView",
            "grid_template_rows": null,
            "right": null,
            "justify_content": null,
            "_view_module": "@jupyter-widgets/base",
            "overflow": null,
            "_model_module_version": "1.2.0",
            "_view_count": null,
            "flex_flow": null,
            "width": null,
            "min_width": null,
            "border": null,
            "align_items": null,
            "bottom": null,
            "_model_module": "@jupyter-widgets/base",
            "top": null,
            "grid_column": null,
            "overflow_y": null,
            "overflow_x": null,
            "grid_auto_flow": null,
            "grid_area": null,
            "grid_template_columns": null,
            "flex": null,
            "_model_name": "LayoutModel",
            "justify_items": null,
            "grid_row": null,
            "max_height": null,
            "align_content": null,
            "visibility": null,
            "align_self": null,
            "height": null,
            "min_height": null,
            "padding": null,
            "grid_auto_rows": null,
            "grid_gap": null,
            "max_width": null,
            "order": null,
            "_view_module_version": "1.2.0",
            "grid_template_areas": null,
            "object_position": null,
            "object_fit": null,
            "grid_auto_columns": null,
            "margin": null,
            "display": null,
            "left": null
          }
        },
        "b63fc64ce78f44fba9c9e32fdd56bb50": {
          "model_module": "@jupyter-widgets/controls",
          "model_name": "DescriptionStyleModel",
          "state": {
            "_view_name": "StyleView",
            "_model_name": "DescriptionStyleModel",
            "description_width": "",
            "_view_module": "@jupyter-widgets/base",
            "_model_module_version": "1.5.0",
            "_view_count": null,
            "_view_module_version": "1.2.0",
            "_model_module": "@jupyter-widgets/controls"
          }
        },
        "4d5e4309861a42528aa3127003320b04": {
          "model_module": "@jupyter-widgets/base",
          "model_name": "LayoutModel",
          "state": {
            "_view_name": "LayoutView",
            "grid_template_rows": null,
            "right": null,
            "justify_content": null,
            "_view_module": "@jupyter-widgets/base",
            "overflow": null,
            "_model_module_version": "1.2.0",
            "_view_count": null,
            "flex_flow": null,
            "width": null,
            "min_width": null,
            "border": null,
            "align_items": null,
            "bottom": null,
            "_model_module": "@jupyter-widgets/base",
            "top": null,
            "grid_column": null,
            "overflow_y": null,
            "overflow_x": null,
            "grid_auto_flow": null,
            "grid_area": null,
            "grid_template_columns": null,
            "flex": null,
            "_model_name": "LayoutModel",
            "justify_items": null,
            "grid_row": null,
            "max_height": null,
            "align_content": null,
            "visibility": null,
            "align_self": null,
            "height": null,
            "min_height": null,
            "padding": null,
            "grid_auto_rows": null,
            "grid_gap": null,
            "max_width": null,
            "order": null,
            "_view_module_version": "1.2.0",
            "grid_template_areas": null,
            "object_position": null,
            "object_fit": null,
            "grid_auto_columns": null,
            "margin": null,
            "display": null,
            "left": null
          }
        },
        "0463b4d83be04a6ca62016ee5995bb19": {
          "model_module": "@jupyter-widgets/controls",
          "model_name": "HBoxModel",
          "state": {
            "_view_name": "HBoxView",
            "_dom_classes": [],
            "_model_name": "HBoxModel",
            "_view_module": "@jupyter-widgets/controls",
            "_model_module_version": "1.5.0",
            "_view_count": null,
            "_view_module_version": "1.5.0",
            "box_style": "",
            "layout": "IPY_MODEL_6c5a467ceb5f4de58d1acb1df3459360",
            "_model_module": "@jupyter-widgets/controls",
            "children": [
              "IPY_MODEL_ef8d4b04735a4eecbca9b10f777b487d",
              "IPY_MODEL_52d5152f16e84dffb54f82f76d2c6be6"
            ]
          }
        },
        "6c5a467ceb5f4de58d1acb1df3459360": {
          "model_module": "@jupyter-widgets/base",
          "model_name": "LayoutModel",
          "state": {
            "_view_name": "LayoutView",
            "grid_template_rows": null,
            "right": null,
            "justify_content": null,
            "_view_module": "@jupyter-widgets/base",
            "overflow": null,
            "_model_module_version": "1.2.0",
            "_view_count": null,
            "flex_flow": null,
            "width": null,
            "min_width": null,
            "border": null,
            "align_items": null,
            "bottom": null,
            "_model_module": "@jupyter-widgets/base",
            "top": null,
            "grid_column": null,
            "overflow_y": null,
            "overflow_x": null,
            "grid_auto_flow": null,
            "grid_area": null,
            "grid_template_columns": null,
            "flex": null,
            "_model_name": "LayoutModel",
            "justify_items": null,
            "grid_row": null,
            "max_height": null,
            "align_content": null,
            "visibility": null,
            "align_self": null,
            "height": null,
            "min_height": null,
            "padding": null,
            "grid_auto_rows": null,
            "grid_gap": null,
            "max_width": null,
            "order": null,
            "_view_module_version": "1.2.0",
            "grid_template_areas": null,
            "object_position": null,
            "object_fit": null,
            "grid_auto_columns": null,
            "margin": null,
            "display": null,
            "left": null
          }
        },
        "ef8d4b04735a4eecbca9b10f777b487d": {
          "model_module": "@jupyter-widgets/controls",
          "model_name": "FloatProgressModel",
          "state": {
            "_view_name": "ProgressView",
            "style": "IPY_MODEL_f5b78bdae98449868de908b8a4c08b31",
            "_dom_classes": [],
            "description": "Dl Size...: 100%",
            "_model_name": "FloatProgressModel",
            "bar_style": "success",
            "max": 1,
            "_view_module": "@jupyter-widgets/controls",
            "_model_module_version": "1.5.0",
            "value": 1,
            "_view_count": null,
            "_view_module_version": "1.5.0",
            "orientation": "horizontal",
            "min": 0,
            "description_tooltip": null,
            "_model_module": "@jupyter-widgets/controls",
            "layout": "IPY_MODEL_b1ebfb73121144578aee0f7b482e4602"
          }
        },
        "52d5152f16e84dffb54f82f76d2c6be6": {
          "model_module": "@jupyter-widgets/controls",
          "model_name": "HTMLModel",
          "state": {
            "_view_name": "HTMLView",
            "style": "IPY_MODEL_a926c3284b994188b986836d9ca1d989",
            "_dom_classes": [],
            "description": "",
            "_model_name": "HTMLModel",
            "placeholder": "​",
            "_view_module": "@jupyter-widgets/controls",
            "_model_module_version": "1.5.0",
            "value": " 4/4 [00:00&lt;00:00,  4.69 MiB/s]",
            "_view_count": null,
            "_view_module_version": "1.5.0",
            "description_tooltip": null,
            "_model_module": "@jupyter-widgets/controls",
            "layout": "IPY_MODEL_708cb2b64e41407fb638a1656ac49a7c"
          }
        },
        "f5b78bdae98449868de908b8a4c08b31": {
          "model_module": "@jupyter-widgets/controls",
          "model_name": "ProgressStyleModel",
          "state": {
            "_view_name": "StyleView",
            "_model_name": "ProgressStyleModel",
            "description_width": "initial",
            "_view_module": "@jupyter-widgets/base",
            "_model_module_version": "1.5.0",
            "_view_count": null,
            "_view_module_version": "1.2.0",
            "bar_color": null,
            "_model_module": "@jupyter-widgets/controls"
          }
        },
        "b1ebfb73121144578aee0f7b482e4602": {
          "model_module": "@jupyter-widgets/base",
          "model_name": "LayoutModel",
          "state": {
            "_view_name": "LayoutView",
            "grid_template_rows": null,
            "right": null,
            "justify_content": null,
            "_view_module": "@jupyter-widgets/base",
            "overflow": null,
            "_model_module_version": "1.2.0",
            "_view_count": null,
            "flex_flow": null,
            "width": null,
            "min_width": null,
            "border": null,
            "align_items": null,
            "bottom": null,
            "_model_module": "@jupyter-widgets/base",
            "top": null,
            "grid_column": null,
            "overflow_y": null,
            "overflow_x": null,
            "grid_auto_flow": null,
            "grid_area": null,
            "grid_template_columns": null,
            "flex": null,
            "_model_name": "LayoutModel",
            "justify_items": null,
            "grid_row": null,
            "max_height": null,
            "align_content": null,
            "visibility": null,
            "align_self": null,
            "height": null,
            "min_height": null,
            "padding": null,
            "grid_auto_rows": null,
            "grid_gap": null,
            "max_width": null,
            "order": null,
            "_view_module_version": "1.2.0",
            "grid_template_areas": null,
            "object_position": null,
            "object_fit": null,
            "grid_auto_columns": null,
            "margin": null,
            "display": null,
            "left": null
          }
        },
        "a926c3284b994188b986836d9ca1d989": {
          "model_module": "@jupyter-widgets/controls",
          "model_name": "DescriptionStyleModel",
          "state": {
            "_view_name": "StyleView",
            "_model_name": "DescriptionStyleModel",
            "description_width": "",
            "_view_module": "@jupyter-widgets/base",
            "_model_module_version": "1.5.0",
            "_view_count": null,
            "_view_module_version": "1.2.0",
            "_model_module": "@jupyter-widgets/controls"
          }
        },
        "708cb2b64e41407fb638a1656ac49a7c": {
          "model_module": "@jupyter-widgets/base",
          "model_name": "LayoutModel",
          "state": {
            "_view_name": "LayoutView",
            "grid_template_rows": null,
            "right": null,
            "justify_content": null,
            "_view_module": "@jupyter-widgets/base",
            "overflow": null,
            "_model_module_version": "1.2.0",
            "_view_count": null,
            "flex_flow": null,
            "width": null,
            "min_width": null,
            "border": null,
            "align_items": null,
            "bottom": null,
            "_model_module": "@jupyter-widgets/base",
            "top": null,
            "grid_column": null,
            "overflow_y": null,
            "overflow_x": null,
            "grid_auto_flow": null,
            "grid_area": null,
            "grid_template_columns": null,
            "flex": null,
            "_model_name": "LayoutModel",
            "justify_items": null,
            "grid_row": null,
            "max_height": null,
            "align_content": null,
            "visibility": null,
            "align_self": null,
            "height": null,
            "min_height": null,
            "padding": null,
            "grid_auto_rows": null,
            "grid_gap": null,
            "max_width": null,
            "order": null,
            "_view_module_version": "1.2.0",
            "grid_template_areas": null,
            "object_position": null,
            "object_fit": null,
            "grid_auto_columns": null,
            "margin": null,
            "display": null,
            "left": null
          }
        },
        "786434cfb4fd403690024d416376d227": {
          "model_module": "@jupyter-widgets/controls",
          "model_name": "HBoxModel",
          "state": {
            "_view_name": "HBoxView",
            "_dom_classes": [],
            "_model_name": "HBoxModel",
            "_view_module": "@jupyter-widgets/controls",
            "_model_module_version": "1.5.0",
            "_view_count": null,
            "_view_module_version": "1.5.0",
            "box_style": "",
            "layout": "IPY_MODEL_9a12ab7f902142fd9fd0582c667014de",
            "_model_module": "@jupyter-widgets/controls",
            "children": [
              "IPY_MODEL_c94849190d904550b53169a541f960c4",
              "IPY_MODEL_826b97d7250040ba9eb38849886a9fa5"
            ]
          }
        },
        "9a12ab7f902142fd9fd0582c667014de": {
          "model_module": "@jupyter-widgets/base",
          "model_name": "LayoutModel",
          "state": {
            "_view_name": "LayoutView",
            "grid_template_rows": null,
            "right": null,
            "justify_content": null,
            "_view_module": "@jupyter-widgets/base",
            "overflow": null,
            "_model_module_version": "1.2.0",
            "_view_count": null,
            "flex_flow": null,
            "width": null,
            "min_width": null,
            "border": null,
            "align_items": null,
            "bottom": null,
            "_model_module": "@jupyter-widgets/base",
            "top": null,
            "grid_column": null,
            "overflow_y": null,
            "overflow_x": null,
            "grid_auto_flow": null,
            "grid_area": null,
            "grid_template_columns": null,
            "flex": null,
            "_model_name": "LayoutModel",
            "justify_items": null,
            "grid_row": null,
            "max_height": null,
            "align_content": null,
            "visibility": null,
            "align_self": null,
            "height": null,
            "min_height": null,
            "padding": null,
            "grid_auto_rows": null,
            "grid_gap": null,
            "max_width": null,
            "order": null,
            "_view_module_version": "1.2.0",
            "grid_template_areas": null,
            "object_position": null,
            "object_fit": null,
            "grid_auto_columns": null,
            "margin": null,
            "display": null,
            "left": null
          }
        },
        "c94849190d904550b53169a541f960c4": {
          "model_module": "@jupyter-widgets/controls",
          "model_name": "FloatProgressModel",
          "state": {
            "_view_name": "ProgressView",
            "style": "IPY_MODEL_cb112c6539554d16bc2bc10c328b9fc4",
            "_dom_classes": [],
            "description": "Extraction completed...: 100%",
            "_model_name": "FloatProgressModel",
            "bar_style": "success",
            "max": 1,
            "_view_module": "@jupyter-widgets/controls",
            "_model_module_version": "1.5.0",
            "value": 1,
            "_view_count": null,
            "_view_module_version": "1.5.0",
            "orientation": "horizontal",
            "min": 0,
            "description_tooltip": null,
            "_model_module": "@jupyter-widgets/controls",
            "layout": "IPY_MODEL_e7f736696f91493daa0fa2570f0cde19"
          }
        },
        "826b97d7250040ba9eb38849886a9fa5": {
          "model_module": "@jupyter-widgets/controls",
          "model_name": "HTMLModel",
          "state": {
            "_view_name": "HTMLView",
            "style": "IPY_MODEL_f4ebecb1105c49a48dd16a3b99247f55",
            "_dom_classes": [],
            "description": "",
            "_model_name": "HTMLModel",
            "placeholder": "​",
            "_view_module": "@jupyter-widgets/controls",
            "_model_module_version": "1.5.0",
            "value": " 1/1 [00:00&lt;00:00,  1.26 file/s]",
            "_view_count": null,
            "_view_module_version": "1.5.0",
            "description_tooltip": null,
            "_model_module": "@jupyter-widgets/controls",
            "layout": "IPY_MODEL_3ac8d7a82f3341b588a9ebf77463248d"
          }
        },
        "cb112c6539554d16bc2bc10c328b9fc4": {
          "model_module": "@jupyter-widgets/controls",
          "model_name": "ProgressStyleModel",
          "state": {
            "_view_name": "StyleView",
            "_model_name": "ProgressStyleModel",
            "description_width": "initial",
            "_view_module": "@jupyter-widgets/base",
            "_model_module_version": "1.5.0",
            "_view_count": null,
            "_view_module_version": "1.2.0",
            "bar_color": null,
            "_model_module": "@jupyter-widgets/controls"
          }
        },
        "e7f736696f91493daa0fa2570f0cde19": {
          "model_module": "@jupyter-widgets/base",
          "model_name": "LayoutModel",
          "state": {
            "_view_name": "LayoutView",
            "grid_template_rows": null,
            "right": null,
            "justify_content": null,
            "_view_module": "@jupyter-widgets/base",
            "overflow": null,
            "_model_module_version": "1.2.0",
            "_view_count": null,
            "flex_flow": null,
            "width": null,
            "min_width": null,
            "border": null,
            "align_items": null,
            "bottom": null,
            "_model_module": "@jupyter-widgets/base",
            "top": null,
            "grid_column": null,
            "overflow_y": null,
            "overflow_x": null,
            "grid_auto_flow": null,
            "grid_area": null,
            "grid_template_columns": null,
            "flex": null,
            "_model_name": "LayoutModel",
            "justify_items": null,
            "grid_row": null,
            "max_height": null,
            "align_content": null,
            "visibility": null,
            "align_self": null,
            "height": null,
            "min_height": null,
            "padding": null,
            "grid_auto_rows": null,
            "grid_gap": null,
            "max_width": null,
            "order": null,
            "_view_module_version": "1.2.0",
            "grid_template_areas": null,
            "object_position": null,
            "object_fit": null,
            "grid_auto_columns": null,
            "margin": null,
            "display": null,
            "left": null
          }
        },
        "f4ebecb1105c49a48dd16a3b99247f55": {
          "model_module": "@jupyter-widgets/controls",
          "model_name": "DescriptionStyleModel",
          "state": {
            "_view_name": "StyleView",
            "_model_name": "DescriptionStyleModel",
            "description_width": "",
            "_view_module": "@jupyter-widgets/base",
            "_model_module_version": "1.5.0",
            "_view_count": null,
            "_view_module_version": "1.2.0",
            "_model_module": "@jupyter-widgets/controls"
          }
        },
        "3ac8d7a82f3341b588a9ebf77463248d": {
          "model_module": "@jupyter-widgets/base",
          "model_name": "LayoutModel",
          "state": {
            "_view_name": "LayoutView",
            "grid_template_rows": null,
            "right": null,
            "justify_content": null,
            "_view_module": "@jupyter-widgets/base",
            "overflow": null,
            "_model_module_version": "1.2.0",
            "_view_count": null,
            "flex_flow": null,
            "width": null,
            "min_width": null,
            "border": null,
            "align_items": null,
            "bottom": null,
            "_model_module": "@jupyter-widgets/base",
            "top": null,
            "grid_column": null,
            "overflow_y": null,
            "overflow_x": null,
            "grid_auto_flow": null,
            "grid_area": null,
            "grid_template_columns": null,
            "flex": null,
            "_model_name": "LayoutModel",
            "justify_items": null,
            "grid_row": null,
            "max_height": null,
            "align_content": null,
            "visibility": null,
            "align_self": null,
            "height": null,
            "min_height": null,
            "padding": null,
            "grid_auto_rows": null,
            "grid_gap": null,
            "max_width": null,
            "order": null,
            "_view_module_version": "1.2.0",
            "grid_template_areas": null,
            "object_position": null,
            "object_fit": null,
            "grid_auto_columns": null,
            "margin": null,
            "display": null,
            "left": null
          }
        },
        "f75322619bf04bce8505fcd847ce4316": {
          "model_module": "@jupyter-widgets/controls",
          "model_name": "HBoxModel",
          "state": {
            "_view_name": "HBoxView",
            "_dom_classes": [],
            "_model_name": "HBoxModel",
            "_view_module": "@jupyter-widgets/controls",
            "_model_module_version": "1.5.0",
            "_view_count": null,
            "_view_module_version": "1.5.0",
            "box_style": "",
            "layout": "IPY_MODEL_e7958a6b9b354549a4e85ba415ea7282",
            "_model_module": "@jupyter-widgets/controls",
            "children": [
              "IPY_MODEL_c36d027986b247f38dcd900eee79cb79",
              "IPY_MODEL_1f0ca1fcb61d4dd28a9b94ee3c5ffd26"
            ]
          }
        },
        "e7958a6b9b354549a4e85ba415ea7282": {
          "model_module": "@jupyter-widgets/base",
          "model_name": "LayoutModel",
          "state": {
            "_view_name": "LayoutView",
            "grid_template_rows": null,
            "right": null,
            "justify_content": null,
            "_view_module": "@jupyter-widgets/base",
            "overflow": null,
            "_model_module_version": "1.2.0",
            "_view_count": null,
            "flex_flow": null,
            "width": null,
            "min_width": null,
            "border": null,
            "align_items": null,
            "bottom": null,
            "_model_module": "@jupyter-widgets/base",
            "top": null,
            "grid_column": null,
            "overflow_y": null,
            "overflow_x": null,
            "grid_auto_flow": null,
            "grid_area": null,
            "grid_template_columns": null,
            "flex": null,
            "_model_name": "LayoutModel",
            "justify_items": null,
            "grid_row": null,
            "max_height": null,
            "align_content": null,
            "visibility": null,
            "align_self": null,
            "height": null,
            "min_height": null,
            "padding": null,
            "grid_auto_rows": null,
            "grid_gap": null,
            "max_width": null,
            "order": null,
            "_view_module_version": "1.2.0",
            "grid_template_areas": null,
            "object_position": null,
            "object_fit": null,
            "grid_auto_columns": null,
            "margin": null,
            "display": null,
            "left": null
          }
        },
        "c36d027986b247f38dcd900eee79cb79": {
          "model_module": "@jupyter-widgets/controls",
          "model_name": "FloatProgressModel",
          "state": {
            "_view_name": "ProgressView",
            "style": "IPY_MODEL_53ecc4093b8f4d75983b0212586e78c3",
            "_dom_classes": [],
            "description": "Generating splits...: 100%",
            "_model_name": "FloatProgressModel",
            "bar_style": "",
            "max": 1,
            "_view_module": "@jupyter-widgets/controls",
            "_model_module_version": "1.5.0",
            "value": 1,
            "_view_count": null,
            "_view_module_version": "1.5.0",
            "orientation": "horizontal",
            "min": 0,
            "description_tooltip": null,
            "_model_module": "@jupyter-widgets/controls",
            "layout": "IPY_MODEL_ba99a7f3bb1e484f84dd43a872766b18"
          }
        },
        "1f0ca1fcb61d4dd28a9b94ee3c5ffd26": {
          "model_module": "@jupyter-widgets/controls",
          "model_name": "HTMLModel",
          "state": {
            "_view_name": "HTMLView",
            "style": "IPY_MODEL_cd81b1b8dd114a4c8bb61f4a13575c30",
            "_dom_classes": [],
            "description": "",
            "_model_name": "HTMLModel",
            "placeholder": "​",
            "_view_module": "@jupyter-widgets/controls",
            "_model_module_version": "1.5.0",
            "value": " 1/1 [01:32&lt;00:00, 92.91s/ splits]",
            "_view_count": null,
            "_view_module_version": "1.5.0",
            "description_tooltip": null,
            "_model_module": "@jupyter-widgets/controls",
            "layout": "IPY_MODEL_8970542a62ef4fc58a2f21eb80b65776"
          }
        },
        "53ecc4093b8f4d75983b0212586e78c3": {
          "model_module": "@jupyter-widgets/controls",
          "model_name": "ProgressStyleModel",
          "state": {
            "_view_name": "StyleView",
            "_model_name": "ProgressStyleModel",
            "description_width": "initial",
            "_view_module": "@jupyter-widgets/base",
            "_model_module_version": "1.5.0",
            "_view_count": null,
            "_view_module_version": "1.2.0",
            "bar_color": null,
            "_model_module": "@jupyter-widgets/controls"
          }
        },
        "ba99a7f3bb1e484f84dd43a872766b18": {
          "model_module": "@jupyter-widgets/base",
          "model_name": "LayoutModel",
          "state": {
            "_view_name": "LayoutView",
            "grid_template_rows": null,
            "right": null,
            "justify_content": null,
            "_view_module": "@jupyter-widgets/base",
            "overflow": null,
            "_model_module_version": "1.2.0",
            "_view_count": null,
            "flex_flow": null,
            "width": null,
            "min_width": null,
            "border": null,
            "align_items": null,
            "bottom": null,
            "_model_module": "@jupyter-widgets/base",
            "top": null,
            "grid_column": null,
            "overflow_y": null,
            "overflow_x": null,
            "grid_auto_flow": null,
            "grid_area": null,
            "grid_template_columns": null,
            "flex": null,
            "_model_name": "LayoutModel",
            "justify_items": null,
            "grid_row": null,
            "max_height": null,
            "align_content": null,
            "visibility": null,
            "align_self": null,
            "height": null,
            "min_height": null,
            "padding": null,
            "grid_auto_rows": null,
            "grid_gap": null,
            "max_width": null,
            "order": null,
            "_view_module_version": "1.2.0",
            "grid_template_areas": null,
            "object_position": null,
            "object_fit": null,
            "grid_auto_columns": null,
            "margin": null,
            "display": null,
            "left": null
          }
        },
        "cd81b1b8dd114a4c8bb61f4a13575c30": {
          "model_module": "@jupyter-widgets/controls",
          "model_name": "DescriptionStyleModel",
          "state": {
            "_view_name": "StyleView",
            "_model_name": "DescriptionStyleModel",
            "description_width": "",
            "_view_module": "@jupyter-widgets/base",
            "_model_module_version": "1.5.0",
            "_view_count": null,
            "_view_module_version": "1.2.0",
            "_model_module": "@jupyter-widgets/controls"
          }
        },
        "8970542a62ef4fc58a2f21eb80b65776": {
          "model_module": "@jupyter-widgets/base",
          "model_name": "LayoutModel",
          "state": {
            "_view_name": "LayoutView",
            "grid_template_rows": null,
            "right": null,
            "justify_content": null,
            "_view_module": "@jupyter-widgets/base",
            "overflow": null,
            "_model_module_version": "1.2.0",
            "_view_count": null,
            "flex_flow": null,
            "width": null,
            "min_width": null,
            "border": null,
            "align_items": null,
            "bottom": null,
            "_model_module": "@jupyter-widgets/base",
            "top": null,
            "grid_column": null,
            "overflow_y": null,
            "overflow_x": null,
            "grid_auto_flow": null,
            "grid_area": null,
            "grid_template_columns": null,
            "flex": null,
            "_model_name": "LayoutModel",
            "justify_items": null,
            "grid_row": null,
            "max_height": null,
            "align_content": null,
            "visibility": null,
            "align_self": null,
            "height": null,
            "min_height": null,
            "padding": null,
            "grid_auto_rows": null,
            "grid_gap": null,
            "max_width": null,
            "order": null,
            "_view_module_version": "1.2.0",
            "grid_template_areas": null,
            "object_position": null,
            "object_fit": null,
            "grid_auto_columns": null,
            "margin": null,
            "display": null,
            "left": null
          }
        },
        "34dc7a2efd2c40d388807c2b5d786d49": {
          "model_module": "@jupyter-widgets/controls",
          "model_name": "HBoxModel",
          "state": {
            "_view_name": "HBoxView",
            "_dom_classes": [],
            "_model_name": "HBoxModel",
            "_view_module": "@jupyter-widgets/controls",
            "_model_module_version": "1.5.0",
            "_view_count": null,
            "_view_module_version": "1.5.0",
            "box_style": "",
            "layout": "IPY_MODEL_cf2a9017a1154091a462a762499533c1",
            "_model_module": "@jupyter-widgets/controls",
            "children": [
              "IPY_MODEL_0f519d6271bf49fbbef2278b44ca704c",
              "IPY_MODEL_645c405d6675461e9bf9701ebc45a575"
            ]
          }
        },
        "cf2a9017a1154091a462a762499533c1": {
          "model_module": "@jupyter-widgets/base",
          "model_name": "LayoutModel",
          "state": {
            "_view_name": "LayoutView",
            "grid_template_rows": null,
            "right": null,
            "justify_content": null,
            "_view_module": "@jupyter-widgets/base",
            "overflow": null,
            "_model_module_version": "1.2.0",
            "_view_count": null,
            "flex_flow": null,
            "width": null,
            "min_width": null,
            "border": null,
            "align_items": null,
            "bottom": null,
            "_model_module": "@jupyter-widgets/base",
            "top": null,
            "grid_column": null,
            "overflow_y": null,
            "overflow_x": null,
            "grid_auto_flow": null,
            "grid_area": null,
            "grid_template_columns": null,
            "flex": null,
            "_model_name": "LayoutModel",
            "justify_items": null,
            "grid_row": null,
            "max_height": null,
            "align_content": null,
            "visibility": null,
            "align_self": null,
            "height": null,
            "min_height": null,
            "padding": null,
            "grid_auto_rows": null,
            "grid_gap": null,
            "max_width": null,
            "order": null,
            "_view_module_version": "1.2.0",
            "grid_template_areas": null,
            "object_position": null,
            "object_fit": null,
            "grid_auto_columns": null,
            "margin": null,
            "display": null,
            "left": null
          }
        },
        "0f519d6271bf49fbbef2278b44ca704c": {
          "model_module": "@jupyter-widgets/controls",
          "model_name": "FloatProgressModel",
          "state": {
            "_view_name": "ProgressView",
            "style": "IPY_MODEL_cb68359d67d54bfbaf2b3e4d37ad67fd",
            "_dom_classes": [],
            "description": "Generating train examples...: 100%",
            "_model_name": "FloatProgressModel",
            "bar_style": "",
            "max": 100000,
            "_view_module": "@jupyter-widgets/controls",
            "_model_module_version": "1.5.0",
            "value": 100000,
            "_view_count": null,
            "_view_module_version": "1.5.0",
            "orientation": "horizontal",
            "min": 0,
            "description_tooltip": null,
            "_model_module": "@jupyter-widgets/controls",
            "layout": "IPY_MODEL_ef56e6189ecf40649548f81a50dd4303"
          }
        },
        "645c405d6675461e9bf9701ebc45a575": {
          "model_module": "@jupyter-widgets/controls",
          "model_name": "HTMLModel",
          "state": {
            "_view_name": "HTMLView",
            "style": "IPY_MODEL_843169dc94b042748854697580c9ab81",
            "_dom_classes": [],
            "description": "",
            "_model_name": "HTMLModel",
            "placeholder": "​",
            "_view_module": "@jupyter-widgets/controls",
            "_model_module_version": "1.5.0",
            "value": " 100000/100000 [01:32&lt;00:00, 1074.97 examples/s]",
            "_view_count": null,
            "_view_module_version": "1.5.0",
            "description_tooltip": null,
            "_model_module": "@jupyter-widgets/controls",
            "layout": "IPY_MODEL_02d3e6a02e884f0ab3ce2bcc6c8f2cbf"
          }
        },
        "cb68359d67d54bfbaf2b3e4d37ad67fd": {
          "model_module": "@jupyter-widgets/controls",
          "model_name": "ProgressStyleModel",
          "state": {
            "_view_name": "StyleView",
            "_model_name": "ProgressStyleModel",
            "description_width": "initial",
            "_view_module": "@jupyter-widgets/base",
            "_model_module_version": "1.5.0",
            "_view_count": null,
            "_view_module_version": "1.2.0",
            "bar_color": null,
            "_model_module": "@jupyter-widgets/controls"
          }
        },
        "ef56e6189ecf40649548f81a50dd4303": {
          "model_module": "@jupyter-widgets/base",
          "model_name": "LayoutModel",
          "state": {
            "_view_name": "LayoutView",
            "grid_template_rows": null,
            "right": null,
            "justify_content": null,
            "_view_module": "@jupyter-widgets/base",
            "overflow": null,
            "_model_module_version": "1.2.0",
            "_view_count": null,
            "flex_flow": null,
            "width": null,
            "min_width": null,
            "border": null,
            "align_items": null,
            "bottom": null,
            "_model_module": "@jupyter-widgets/base",
            "top": null,
            "grid_column": null,
            "overflow_y": null,
            "overflow_x": null,
            "grid_auto_flow": null,
            "grid_area": null,
            "grid_template_columns": null,
            "flex": null,
            "_model_name": "LayoutModel",
            "justify_items": null,
            "grid_row": null,
            "max_height": null,
            "align_content": null,
            "visibility": null,
            "align_self": null,
            "height": null,
            "min_height": null,
            "padding": null,
            "grid_auto_rows": null,
            "grid_gap": null,
            "max_width": null,
            "order": null,
            "_view_module_version": "1.2.0",
            "grid_template_areas": null,
            "object_position": null,
            "object_fit": null,
            "grid_auto_columns": null,
            "margin": null,
            "display": null,
            "left": null
          }
        },
        "843169dc94b042748854697580c9ab81": {
          "model_module": "@jupyter-widgets/controls",
          "model_name": "DescriptionStyleModel",
          "state": {
            "_view_name": "StyleView",
            "_model_name": "DescriptionStyleModel",
            "description_width": "",
            "_view_module": "@jupyter-widgets/base",
            "_model_module_version": "1.5.0",
            "_view_count": null,
            "_view_module_version": "1.2.0",
            "_model_module": "@jupyter-widgets/controls"
          }
        },
        "02d3e6a02e884f0ab3ce2bcc6c8f2cbf": {
          "model_module": "@jupyter-widgets/base",
          "model_name": "LayoutModel",
          "state": {
            "_view_name": "LayoutView",
            "grid_template_rows": null,
            "right": null,
            "justify_content": null,
            "_view_module": "@jupyter-widgets/base",
            "overflow": null,
            "_model_module_version": "1.2.0",
            "_view_count": null,
            "flex_flow": null,
            "width": null,
            "min_width": null,
            "border": null,
            "align_items": null,
            "bottom": null,
            "_model_module": "@jupyter-widgets/base",
            "top": null,
            "grid_column": null,
            "overflow_y": null,
            "overflow_x": null,
            "grid_auto_flow": null,
            "grid_area": null,
            "grid_template_columns": null,
            "flex": null,
            "_model_name": "LayoutModel",
            "justify_items": null,
            "grid_row": null,
            "max_height": null,
            "align_content": null,
            "visibility": null,
            "align_self": null,
            "height": null,
            "min_height": null,
            "padding": null,
            "grid_auto_rows": null,
            "grid_gap": null,
            "max_width": null,
            "order": null,
            "_view_module_version": "1.2.0",
            "grid_template_areas": null,
            "object_position": null,
            "object_fit": null,
            "grid_auto_columns": null,
            "margin": null,
            "display": null,
            "left": null
          }
        },
        "14f1f068704d4e2b94755d2316d31c24": {
          "model_module": "@jupyter-widgets/controls",
          "model_name": "HBoxModel",
          "state": {
            "_view_name": "HBoxView",
            "_dom_classes": [],
            "_model_name": "HBoxModel",
            "_view_module": "@jupyter-widgets/controls",
            "_model_module_version": "1.5.0",
            "_view_count": null,
            "_view_module_version": "1.5.0",
            "box_style": "",
            "layout": "IPY_MODEL_6f80f229afc343448119c816177d3d0f",
            "_model_module": "@jupyter-widgets/controls",
            "children": [
              "IPY_MODEL_13b93f4dcc964b78892f871fd0f962ba",
              "IPY_MODEL_69807eb678314e599e6771f8cf39e381"
            ]
          }
        },
        "6f80f229afc343448119c816177d3d0f": {
          "model_module": "@jupyter-widgets/base",
          "model_name": "LayoutModel",
          "state": {
            "_view_name": "LayoutView",
            "grid_template_rows": null,
            "right": null,
            "justify_content": null,
            "_view_module": "@jupyter-widgets/base",
            "overflow": null,
            "_model_module_version": "1.2.0",
            "_view_count": null,
            "flex_flow": null,
            "width": null,
            "min_width": null,
            "border": null,
            "align_items": null,
            "bottom": null,
            "_model_module": "@jupyter-widgets/base",
            "top": null,
            "grid_column": null,
            "overflow_y": null,
            "overflow_x": null,
            "grid_auto_flow": null,
            "grid_area": null,
            "grid_template_columns": null,
            "flex": null,
            "_model_name": "LayoutModel",
            "justify_items": null,
            "grid_row": null,
            "max_height": null,
            "align_content": null,
            "visibility": null,
            "align_self": null,
            "height": null,
            "min_height": null,
            "padding": null,
            "grid_auto_rows": null,
            "grid_gap": null,
            "max_width": null,
            "order": null,
            "_view_module_version": "1.2.0",
            "grid_template_areas": null,
            "object_position": null,
            "object_fit": null,
            "grid_auto_columns": null,
            "margin": null,
            "display": null,
            "left": null
          }
        },
        "13b93f4dcc964b78892f871fd0f962ba": {
          "model_module": "@jupyter-widgets/controls",
          "model_name": "FloatProgressModel",
          "state": {
            "_view_name": "ProgressView",
            "style": "IPY_MODEL_b63bff3a8f2b4d269829f6468fd0f0ec",
            "_dom_classes": [],
            "description": "Shuffling movielens-train.tfrecord...: 100%",
            "_model_name": "FloatProgressModel",
            "bar_style": "",
            "max": 100000,
            "_view_module": "@jupyter-widgets/controls",
            "_model_module_version": "1.5.0",
            "value": 100000,
            "_view_count": null,
            "_view_module_version": "1.5.0",
            "orientation": "horizontal",
            "min": 0,
            "description_tooltip": null,
            "_model_module": "@jupyter-widgets/controls",
            "layout": "IPY_MODEL_eacd29fb9ffc4568ae9a1e325537ca37"
          }
        },
        "69807eb678314e599e6771f8cf39e381": {
          "model_module": "@jupyter-widgets/controls",
          "model_name": "HTMLModel",
          "state": {
            "_view_name": "HTMLView",
            "style": "IPY_MODEL_715406c3889440d5a8c6d57a4ba74dc6",
            "_dom_classes": [],
            "description": "",
            "_model_name": "HTMLModel",
            "placeholder": "​",
            "_view_module": "@jupyter-widgets/controls",
            "_model_module_version": "1.5.0",
            "value": " 100000/100000 [00:00&lt;00:00, 13.81 examples/s]",
            "_view_count": null,
            "_view_module_version": "1.5.0",
            "description_tooltip": null,
            "_model_module": "@jupyter-widgets/controls",
            "layout": "IPY_MODEL_4a931bf672ae4dada8a99178abf04f4d"
          }
        },
        "b63bff3a8f2b4d269829f6468fd0f0ec": {
          "model_module": "@jupyter-widgets/controls",
          "model_name": "ProgressStyleModel",
          "state": {
            "_view_name": "StyleView",
            "_model_name": "ProgressStyleModel",
            "description_width": "initial",
            "_view_module": "@jupyter-widgets/base",
            "_model_module_version": "1.5.0",
            "_view_count": null,
            "_view_module_version": "1.2.0",
            "bar_color": null,
            "_model_module": "@jupyter-widgets/controls"
          }
        },
        "eacd29fb9ffc4568ae9a1e325537ca37": {
          "model_module": "@jupyter-widgets/base",
          "model_name": "LayoutModel",
          "state": {
            "_view_name": "LayoutView",
            "grid_template_rows": null,
            "right": null,
            "justify_content": null,
            "_view_module": "@jupyter-widgets/base",
            "overflow": null,
            "_model_module_version": "1.2.0",
            "_view_count": null,
            "flex_flow": null,
            "width": null,
            "min_width": null,
            "border": null,
            "align_items": null,
            "bottom": null,
            "_model_module": "@jupyter-widgets/base",
            "top": null,
            "grid_column": null,
            "overflow_y": null,
            "overflow_x": null,
            "grid_auto_flow": null,
            "grid_area": null,
            "grid_template_columns": null,
            "flex": null,
            "_model_name": "LayoutModel",
            "justify_items": null,
            "grid_row": null,
            "max_height": null,
            "align_content": null,
            "visibility": null,
            "align_self": null,
            "height": null,
            "min_height": null,
            "padding": null,
            "grid_auto_rows": null,
            "grid_gap": null,
            "max_width": null,
            "order": null,
            "_view_module_version": "1.2.0",
            "grid_template_areas": null,
            "object_position": null,
            "object_fit": null,
            "grid_auto_columns": null,
            "margin": null,
            "display": null,
            "left": null
          }
        },
        "715406c3889440d5a8c6d57a4ba74dc6": {
          "model_module": "@jupyter-widgets/controls",
          "model_name": "DescriptionStyleModel",
          "state": {
            "_view_name": "StyleView",
            "_model_name": "DescriptionStyleModel",
            "description_width": "",
            "_view_module": "@jupyter-widgets/base",
            "_model_module_version": "1.5.0",
            "_view_count": null,
            "_view_module_version": "1.2.0",
            "_model_module": "@jupyter-widgets/controls"
          }
        },
        "4a931bf672ae4dada8a99178abf04f4d": {
          "model_module": "@jupyter-widgets/base",
          "model_name": "LayoutModel",
          "state": {
            "_view_name": "LayoutView",
            "grid_template_rows": null,
            "right": null,
            "justify_content": null,
            "_view_module": "@jupyter-widgets/base",
            "overflow": null,
            "_model_module_version": "1.2.0",
            "_view_count": null,
            "flex_flow": null,
            "width": null,
            "min_width": null,
            "border": null,
            "align_items": null,
            "bottom": null,
            "_model_module": "@jupyter-widgets/base",
            "top": null,
            "grid_column": null,
            "overflow_y": null,
            "overflow_x": null,
            "grid_auto_flow": null,
            "grid_area": null,
            "grid_template_columns": null,
            "flex": null,
            "_model_name": "LayoutModel",
            "justify_items": null,
            "grid_row": null,
            "max_height": null,
            "align_content": null,
            "visibility": null,
            "align_self": null,
            "height": null,
            "min_height": null,
            "padding": null,
            "grid_auto_rows": null,
            "grid_gap": null,
            "max_width": null,
            "order": null,
            "_view_module_version": "1.2.0",
            "grid_template_areas": null,
            "object_position": null,
            "object_fit": null,
            "grid_auto_columns": null,
            "margin": null,
            "display": null,
            "left": null
          }
        }
      }
    }
  },
  "cells": [
    {
      "cell_type": "markdown",
      "metadata": {
        "id": "view-in-github",
        "colab_type": "text"
      },
      "source": [
        "<a href=\"https://colab.research.google.com/github/JNishimura/Deep-Learning-Recommenders/blob/main/MovieLens_OuterProduct.ipynb\" target=\"_parent\"><img src=\"https://colab.research.google.com/assets/colab-badge.svg\" alt=\"Open In Colab\"/></a>"
      ]
    },
    {
      "cell_type": "markdown",
      "metadata": {
        "id": "DF0RXGSkVRoZ"
      },
      "source": [
        "### Installs"
      ]
    },
    {
      "cell_type": "code",
      "metadata": {
        "id": "2BSw4nZgVRoi",
        "colab": {
          "base_uri": "https://localhost:8080/"
        },
        "outputId": "edce5d86-3807-4415-ad03-222b3b0c2a31"
      },
      "source": [
        "!pip install pandas\n",
        "!pip install -q tensorflow-recommenders\n",
        "!pip install -q --upgrade tensorflow-datasets\n",
        "!pip install -q scann\n",
        "!pip install ipywidgets"
      ],
      "execution_count": null,
      "outputs": [
        {
          "output_type": "stream",
          "text": [
            "Requirement already satisfied: pandas in /usr/local/lib/python3.7/dist-packages (1.1.5)\n",
            "Requirement already satisfied: python-dateutil>=2.7.3 in /usr/local/lib/python3.7/dist-packages (from pandas) (2.8.1)\n",
            "Requirement already satisfied: numpy>=1.15.4 in /usr/local/lib/python3.7/dist-packages (from pandas) (1.19.5)\n",
            "Requirement already satisfied: pytz>=2017.2 in /usr/local/lib/python3.7/dist-packages (from pandas) (2018.9)\n",
            "Requirement already satisfied: six>=1.5 in /usr/local/lib/python3.7/dist-packages (from python-dateutil>=2.7.3->pandas) (1.15.0)\n",
            "\u001b[K     |████████████████████████████████| 61kB 5.0MB/s \n",
            "\u001b[K     |████████████████████████████████| 394.7MB 43kB/s \n",
            "\u001b[K     |████████████████████████████████| 3.7MB 8.1MB/s \n",
            "\u001b[K     |████████████████████████████████| 11.1MB 5.9MB/s \n",
            "\u001b[?25hRequirement already satisfied: ipywidgets in /usr/local/lib/python3.7/dist-packages (7.6.3)\n",
            "Requirement already satisfied: ipykernel>=4.5.1 in /usr/local/lib/python3.7/dist-packages (from ipywidgets) (4.10.1)\n",
            "Requirement already satisfied: nbformat>=4.2.0 in /usr/local/lib/python3.7/dist-packages (from ipywidgets) (5.1.3)\n",
            "Requirement already satisfied: jupyterlab-widgets>=1.0.0; python_version >= \"3.6\" in /usr/local/lib/python3.7/dist-packages (from ipywidgets) (1.0.0)\n",
            "Requirement already satisfied: ipython>=4.0.0; python_version >= \"3.3\" in /usr/local/lib/python3.7/dist-packages (from ipywidgets) (5.5.0)\n",
            "Requirement already satisfied: widgetsnbextension~=3.5.0 in /usr/local/lib/python3.7/dist-packages (from ipywidgets) (3.5.1)\n",
            "Requirement already satisfied: traitlets>=4.3.1 in /usr/local/lib/python3.7/dist-packages (from ipywidgets) (5.0.5)\n",
            "Requirement already satisfied: tornado>=4.0 in /usr/local/lib/python3.7/dist-packages (from ipykernel>=4.5.1->ipywidgets) (5.1.1)\n",
            "Requirement already satisfied: jupyter-client in /usr/local/lib/python3.7/dist-packages (from ipykernel>=4.5.1->ipywidgets) (5.3.5)\n",
            "Requirement already satisfied: jupyter-core in /usr/local/lib/python3.7/dist-packages (from nbformat>=4.2.0->ipywidgets) (4.7.1)\n",
            "Requirement already satisfied: jsonschema!=2.5.0,>=2.4 in /usr/local/lib/python3.7/dist-packages (from nbformat>=4.2.0->ipywidgets) (2.6.0)\n",
            "Requirement already satisfied: ipython-genutils in /usr/local/lib/python3.7/dist-packages (from nbformat>=4.2.0->ipywidgets) (0.2.0)\n",
            "Requirement already satisfied: pexpect; sys_platform != \"win32\" in /usr/local/lib/python3.7/dist-packages (from ipython>=4.0.0; python_version >= \"3.3\"->ipywidgets) (4.8.0)\n",
            "Requirement already satisfied: decorator in /usr/local/lib/python3.7/dist-packages (from ipython>=4.0.0; python_version >= \"3.3\"->ipywidgets) (4.4.2)\n",
            "Requirement already satisfied: pygments in /usr/local/lib/python3.7/dist-packages (from ipython>=4.0.0; python_version >= \"3.3\"->ipywidgets) (2.6.1)\n",
            "Requirement already satisfied: pickleshare in /usr/local/lib/python3.7/dist-packages (from ipython>=4.0.0; python_version >= \"3.3\"->ipywidgets) (0.7.5)\n",
            "Requirement already satisfied: simplegeneric>0.8 in /usr/local/lib/python3.7/dist-packages (from ipython>=4.0.0; python_version >= \"3.3\"->ipywidgets) (0.8.1)\n",
            "Requirement already satisfied: setuptools>=18.5 in /usr/local/lib/python3.7/dist-packages (from ipython>=4.0.0; python_version >= \"3.3\"->ipywidgets) (54.2.0)\n",
            "Requirement already satisfied: prompt-toolkit<2.0.0,>=1.0.4 in /usr/local/lib/python3.7/dist-packages (from ipython>=4.0.0; python_version >= \"3.3\"->ipywidgets) (1.0.18)\n",
            "Requirement already satisfied: notebook>=4.4.1 in /usr/local/lib/python3.7/dist-packages (from widgetsnbextension~=3.5.0->ipywidgets) (5.3.1)\n",
            "Requirement already satisfied: python-dateutil>=2.1 in /usr/local/lib/python3.7/dist-packages (from jupyter-client->ipykernel>=4.5.1->ipywidgets) (2.8.1)\n",
            "Requirement already satisfied: pyzmq>=13 in /usr/local/lib/python3.7/dist-packages (from jupyter-client->ipykernel>=4.5.1->ipywidgets) (22.0.3)\n",
            "Requirement already satisfied: ptyprocess>=0.5 in /usr/local/lib/python3.7/dist-packages (from pexpect; sys_platform != \"win32\"->ipython>=4.0.0; python_version >= \"3.3\"->ipywidgets) (0.7.0)\n",
            "Requirement already satisfied: wcwidth in /usr/local/lib/python3.7/dist-packages (from prompt-toolkit<2.0.0,>=1.0.4->ipython>=4.0.0; python_version >= \"3.3\"->ipywidgets) (0.2.5)\n",
            "Requirement already satisfied: six>=1.9.0 in /usr/local/lib/python3.7/dist-packages (from prompt-toolkit<2.0.0,>=1.0.4->ipython>=4.0.0; python_version >= \"3.3\"->ipywidgets) (1.15.0)\n",
            "Requirement already satisfied: nbconvert in /usr/local/lib/python3.7/dist-packages (from notebook>=4.4.1->widgetsnbextension~=3.5.0->ipywidgets) (5.6.1)\n",
            "Requirement already satisfied: terminado>=0.8.1 in /usr/local/lib/python3.7/dist-packages (from notebook>=4.4.1->widgetsnbextension~=3.5.0->ipywidgets) (0.9.4)\n",
            "Requirement already satisfied: jinja2 in /usr/local/lib/python3.7/dist-packages (from notebook>=4.4.1->widgetsnbextension~=3.5.0->ipywidgets) (2.11.3)\n",
            "Requirement already satisfied: Send2Trash in /usr/local/lib/python3.7/dist-packages (from notebook>=4.4.1->widgetsnbextension~=3.5.0->ipywidgets) (1.5.0)\n",
            "Requirement already satisfied: defusedxml in /usr/local/lib/python3.7/dist-packages (from nbconvert->notebook>=4.4.1->widgetsnbextension~=3.5.0->ipywidgets) (0.7.1)\n",
            "Requirement already satisfied: entrypoints>=0.2.2 in /usr/local/lib/python3.7/dist-packages (from nbconvert->notebook>=4.4.1->widgetsnbextension~=3.5.0->ipywidgets) (0.3)\n",
            "Requirement already satisfied: testpath in /usr/local/lib/python3.7/dist-packages (from nbconvert->notebook>=4.4.1->widgetsnbextension~=3.5.0->ipywidgets) (0.4.4)\n",
            "Requirement already satisfied: bleach in /usr/local/lib/python3.7/dist-packages (from nbconvert->notebook>=4.4.1->widgetsnbextension~=3.5.0->ipywidgets) (3.3.0)\n",
            "Requirement already satisfied: mistune<2,>=0.8.1 in /usr/local/lib/python3.7/dist-packages (from nbconvert->notebook>=4.4.1->widgetsnbextension~=3.5.0->ipywidgets) (0.8.4)\n",
            "Requirement already satisfied: pandocfilters>=1.4.1 in /usr/local/lib/python3.7/dist-packages (from nbconvert->notebook>=4.4.1->widgetsnbextension~=3.5.0->ipywidgets) (1.4.3)\n",
            "Requirement already satisfied: MarkupSafe>=0.23 in /usr/local/lib/python3.7/dist-packages (from jinja2->notebook>=4.4.1->widgetsnbextension~=3.5.0->ipywidgets) (1.1.1)\n",
            "Requirement already satisfied: packaging in /usr/local/lib/python3.7/dist-packages (from bleach->nbconvert->notebook>=4.4.1->widgetsnbextension~=3.5.0->ipywidgets) (20.9)\n",
            "Requirement already satisfied: webencodings in /usr/local/lib/python3.7/dist-packages (from bleach->nbconvert->notebook>=4.4.1->widgetsnbextension~=3.5.0->ipywidgets) (0.5.1)\n",
            "Requirement already satisfied: pyparsing>=2.0.2 in /usr/local/lib/python3.7/dist-packages (from packaging->bleach->nbconvert->notebook>=4.4.1->widgetsnbextension~=3.5.0->ipywidgets) (2.4.7)\n"
          ],
          "name": "stdout"
        }
      ]
    },
    {
      "cell_type": "markdown",
      "metadata": {
        "id": "B6D1ud0HVRoj"
      },
      "source": [
        "### Imports"
      ]
    },
    {
      "cell_type": "code",
      "metadata": {
        "id": "bH4afYylVRoj"
      },
      "source": [
        "import os\n",
        "import pprint\n",
        "import tempfile\n",
        "\n",
        "from typing import Dict, Text\n",
        "\n",
        "import numpy as np\n",
        "import tensorflow as tf\n",
        "import tensorflow_datasets as tfds\n",
        "import tensorflow_recommenders as tfrs\n",
        "\n",
        "import math\n",
        "import heapq"
      ],
      "execution_count": null,
      "outputs": []
    },
    {
      "cell_type": "markdown",
      "metadata": {
        "id": "DOrz3-zQVRoj"
      },
      "source": [
        "### Data Set-up"
      ]
    },
    {
      "cell_type": "code",
      "metadata": {
        "id": "Zm0uKl4NVRok",
        "colab": {
          "base_uri": "https://localhost:8080/",
          "height": 249,
          "referenced_widgets": [
            "62ddefcfa0dd4603a90b9622b0a0e18f",
            "b360bf1730c549eda1327fca6f3131fb",
            "097ef5161af74bcfaf1ee98b2b841584",
            "d89f3f180a7844e89dd9d52eae2a86e5",
            "f2ca0b58623d469ea525b2beb5793d1b",
            "d32a5e0b35304560acec3214160f1b43",
            "b63fc64ce78f44fba9c9e32fdd56bb50",
            "4d5e4309861a42528aa3127003320b04",
            "0463b4d83be04a6ca62016ee5995bb19",
            "6c5a467ceb5f4de58d1acb1df3459360",
            "ef8d4b04735a4eecbca9b10f777b487d",
            "52d5152f16e84dffb54f82f76d2c6be6",
            "f5b78bdae98449868de908b8a4c08b31",
            "b1ebfb73121144578aee0f7b482e4602",
            "a926c3284b994188b986836d9ca1d989",
            "708cb2b64e41407fb638a1656ac49a7c",
            "786434cfb4fd403690024d416376d227",
            "9a12ab7f902142fd9fd0582c667014de",
            "c94849190d904550b53169a541f960c4",
            "826b97d7250040ba9eb38849886a9fa5",
            "cb112c6539554d16bc2bc10c328b9fc4",
            "e7f736696f91493daa0fa2570f0cde19",
            "f4ebecb1105c49a48dd16a3b99247f55",
            "3ac8d7a82f3341b588a9ebf77463248d",
            "f75322619bf04bce8505fcd847ce4316",
            "e7958a6b9b354549a4e85ba415ea7282",
            "c36d027986b247f38dcd900eee79cb79",
            "1f0ca1fcb61d4dd28a9b94ee3c5ffd26",
            "53ecc4093b8f4d75983b0212586e78c3",
            "ba99a7f3bb1e484f84dd43a872766b18",
            "cd81b1b8dd114a4c8bb61f4a13575c30",
            "8970542a62ef4fc58a2f21eb80b65776",
            "34dc7a2efd2c40d388807c2b5d786d49",
            "cf2a9017a1154091a462a762499533c1",
            "0f519d6271bf49fbbef2278b44ca704c",
            "645c405d6675461e9bf9701ebc45a575",
            "cb68359d67d54bfbaf2b3e4d37ad67fd",
            "ef56e6189ecf40649548f81a50dd4303",
            "843169dc94b042748854697580c9ab81",
            "02d3e6a02e884f0ab3ce2bcc6c8f2cbf",
            "14f1f068704d4e2b94755d2316d31c24",
            "6f80f229afc343448119c816177d3d0f",
            "13b93f4dcc964b78892f871fd0f962ba",
            "69807eb678314e599e6771f8cf39e381",
            "b63bff3a8f2b4d269829f6468fd0f0ec",
            "eacd29fb9ffc4568ae9a1e325537ca37",
            "715406c3889440d5a8c6d57a4ba74dc6",
            "4a931bf672ae4dada8a99178abf04f4d"
          ]
        },
        "outputId": "9a9df638-07d3-407c-a3cd-86295c2ef3f0"
      },
      "source": [
        "# Ratings data.\n",
        "ratings = tfds.load(\"movielens/100k-ratings\", split=\"train\")"
      ],
      "execution_count": null,
      "outputs": [
        {
          "output_type": "stream",
          "text": [
            "\u001b[1mDownloading and preparing dataset 4.70 MiB (download: 4.70 MiB, generated: 32.41 MiB, total: 37.10 MiB) to /root/tensorflow_datasets/movielens/100k-ratings/0.1.0...\u001b[0m\n"
          ],
          "name": "stdout"
        },
        {
          "output_type": "display_data",
          "data": {
            "application/vnd.jupyter.widget-view+json": {
              "model_id": "62ddefcfa0dd4603a90b9622b0a0e18f",
              "version_minor": 0,
              "version_major": 2
            },
            "text/plain": [
              "HBox(children=(FloatProgress(value=1.0, bar_style='info', description='Dl Completed...', max=1.0, style=Progre…"
            ]
          },
          "metadata": {
            "tags": []
          }
        },
        {
          "output_type": "display_data",
          "data": {
            "application/vnd.jupyter.widget-view+json": {
              "model_id": "0463b4d83be04a6ca62016ee5995bb19",
              "version_minor": 0,
              "version_major": 2
            },
            "text/plain": [
              "HBox(children=(FloatProgress(value=1.0, bar_style='info', description='Dl Size...', max=1.0, style=ProgressSty…"
            ]
          },
          "metadata": {
            "tags": []
          }
        },
        {
          "output_type": "display_data",
          "data": {
            "application/vnd.jupyter.widget-view+json": {
              "model_id": "786434cfb4fd403690024d416376d227",
              "version_minor": 0,
              "version_major": 2
            },
            "text/plain": [
              "HBox(children=(FloatProgress(value=1.0, bar_style='info', description='Extraction completed...', max=1.0, styl…"
            ]
          },
          "metadata": {
            "tags": []
          }
        },
        {
          "output_type": "stream",
          "text": [
            "\n",
            "\n",
            "\n",
            "\n",
            "\n",
            "\n"
          ],
          "name": "stdout"
        },
        {
          "output_type": "display_data",
          "data": {
            "application/vnd.jupyter.widget-view+json": {
              "model_id": "f75322619bf04bce8505fcd847ce4316",
              "version_minor": 0,
              "version_major": 2
            },
            "text/plain": [
              "HBox(children=(FloatProgress(value=0.0, description='Generating splits...', max=1.0, style=ProgressStyle(descr…"
            ]
          },
          "metadata": {
            "tags": []
          }
        },
        {
          "output_type": "display_data",
          "data": {
            "application/vnd.jupyter.widget-view+json": {
              "model_id": "34dc7a2efd2c40d388807c2b5d786d49",
              "version_minor": 0,
              "version_major": 2
            },
            "text/plain": [
              "HBox(children=(FloatProgress(value=0.0, description='Generating train examples...', max=100000.0, style=Progre…"
            ]
          },
          "metadata": {
            "tags": []
          }
        },
        {
          "output_type": "display_data",
          "data": {
            "application/vnd.jupyter.widget-view+json": {
              "model_id": "14f1f068704d4e2b94755d2316d31c24",
              "version_minor": 0,
              "version_major": 2
            },
            "text/plain": [
              "HBox(children=(FloatProgress(value=0.0, description='Shuffling movielens-train.tfrecord...', max=100000.0, sty…"
            ]
          },
          "metadata": {
            "tags": []
          }
        },
        {
          "output_type": "stream",
          "text": [
            "\r\u001b[1mDataset movielens downloaded and prepared to /root/tensorflow_datasets/movielens/100k-ratings/0.1.0. Subsequent calls will reuse this data.\u001b[0m\n"
          ],
          "name": "stdout"
        }
      ]
    },
    {
      "cell_type": "code",
      "metadata": {
        "id": "zhMBWdIbVRok",
        "colab": {
          "base_uri": "https://localhost:8080/"
        },
        "outputId": "58ce82a3-7399-41e7-a986-1f5f5b70cf2d"
      },
      "source": [
        "for x in ratings.take(1).as_numpy_iterator():\n",
        "  pprint.pprint(x)"
      ],
      "execution_count": null,
      "outputs": [
        {
          "output_type": "stream",
          "text": [
            "{'bucketized_user_age': 45.0,\n",
            " 'movie_genres': array([7]),\n",
            " 'movie_id': b'357',\n",
            " 'movie_title': b\"One Flew Over the Cuckoo's Nest (1975)\",\n",
            " 'raw_user_age': 46.0,\n",
            " 'timestamp': 879024327,\n",
            " 'user_gender': True,\n",
            " 'user_id': b'138',\n",
            " 'user_occupation_label': 4,\n",
            " 'user_occupation_text': b'doctor',\n",
            " 'user_rating': 4.0,\n",
            " 'user_zip_code': b'53211'}\n"
          ],
          "name": "stdout"
        }
      ]
    },
    {
      "cell_type": "code",
      "metadata": {
        "id": "WaP8pbuaVRok",
        "colab": {
          "base_uri": "https://localhost:8080/"
        },
        "outputId": "ab33c3fe-c1a3-4c88-bcde-59eb95bf65f1"
      },
      "source": [
        "dataframe = tfds.as_dataframe(ratings)\n",
        "print(dataframe)"
      ],
      "execution_count": null,
      "outputs": [
        {
          "output_type": "stream",
          "text": [
            "       bucketized_user_age     movie_genres  ... user_rating user_zip_code\n",
            "0                     45.0              [7]  ...         4.0      b'53211'\n",
            "1                     25.0          [4, 14]  ...         2.0      b'80525'\n",
            "2                     18.0              [4]  ...         4.0      b'55439'\n",
            "3                     50.0           [5, 7]  ...         4.0      b'06472'\n",
            "4                     50.0         [10, 16]  ...         3.0      b'75094'\n",
            "...                    ...              ...  ...         ...           ...\n",
            "99995                 25.0       [0, 1, 15]  ...         4.0      b'80027'\n",
            "99996                 35.0         [13, 16]  ...         4.0      b'60035'\n",
            "99997                 18.0             [10]  ...         1.0      b'78264'\n",
            "99998                 35.0  [0, 10, 15, 16]  ...         4.0      b'53210'\n",
            "99999                 18.0              [4]  ...         2.0      b'95064'\n",
            "\n",
            "[100000 rows x 12 columns]\n"
          ],
          "name": "stdout"
        }
      ]
    },
    {
      "cell_type": "code",
      "metadata": {
        "id": "KiG4G9L_lq6W",
        "colab": {
          "base_uri": "https://localhost:8080/"
        },
        "outputId": "cb8a9ed4-eb40-49be-d7d8-8589db5e5b57"
      },
      "source": [
        "# Pull out relevant columns and convert id columns to ints\n",
        "relevant_cols = dataframe.loc[:, ['user_id', 'movie_id', 'user_rating', 'timestamp']]\n",
        "relevant_cols['user_id'] = relevant_cols['user_id'].astype(int)\n",
        "relevant_cols['movie_id'] = relevant_cols['movie_id'].astype(int)\n",
        "print(relevant_cols)\n",
        "print(relevant_cols.dtypes)"
      ],
      "execution_count": null,
      "outputs": [
        {
          "output_type": "stream",
          "text": [
            "       user_id  movie_id  user_rating  timestamp\n",
            "0          138       357          4.0  879024327\n",
            "1           92       709          2.0  875654590\n",
            "2          301       412          4.0  882075110\n",
            "3           60        56          4.0  883326919\n",
            "4          197       895          3.0  891409199\n",
            "...        ...       ...          ...        ...\n",
            "99995      774       228          4.0  888557237\n",
            "99996      313       333          4.0  891012877\n",
            "99997      262       567          1.0  879795430\n",
            "99998      911       183          4.0  892839492\n",
            "99999      276      1140          2.0  874791894\n",
            "\n",
            "[100000 rows x 4 columns]\n",
            "user_id          int64\n",
            "movie_id         int64\n",
            "user_rating    float64\n",
            "timestamp        int64\n",
            "dtype: object\n"
          ],
          "name": "stdout"
        }
      ]
    },
    {
      "cell_type": "code",
      "metadata": {
        "id": "UEEtXx7RVVvg",
        "colab": {
          "base_uri": "https://localhost:8080/"
        },
        "outputId": "835a6832-783e-421e-8e78-470e0d712c81"
      },
      "source": [
        "relevant_cols['latest'] = relevant_cols.groupby(['user_id'])['timestamp'].rank(method='first', ascending=False)\n",
        "\n",
        "train_ratings = relevant_cols[relevant_cols['latest'] != 1]\n",
        "test_ratings = relevant_cols[relevant_cols['latest'] == 1]\n",
        "\n",
        "train_ratings = train_ratings[['user_id', 'movie_id', 'user_rating']]\n",
        "test_ratings = test_ratings[['user_id', 'movie_id', 'user_rating']]\n",
        "\n",
        "print(train_ratings.shape)\n",
        "print(test_ratings.shape)\n",
        "\n",
        "num_users = len(relevant_cols.user_id.unique()) + 1\n",
        "num_items = len(relevant_cols.movie_id.unique()) + 1\n",
        "\n",
        "print('Num Users:', num_users)\n",
        "print('Num Items:', num_items)"
      ],
      "execution_count": null,
      "outputs": [
        {
          "output_type": "stream",
          "text": [
            "(99057, 3)\n",
            "(943, 3)\n",
            "Num Users: 944\n",
            "Num Items: 1683\n"
          ],
          "name": "stdout"
        }
      ]
    },
    {
      "cell_type": "markdown",
      "metadata": {
        "id": "ml1qDojt3Lcb"
      },
      "source": [
        "## Convert to Implicit Feedback Dataset"
      ]
    },
    {
      "cell_type": "code",
      "metadata": {
        "id": "5BghlYpWWZsc",
        "colab": {
          "base_uri": "https://localhost:8080/"
        },
        "outputId": "20a85e95-74d0-4753-81ee-acdca0c92a22"
      },
      "source": [
        "# Convert rating to 1 for everything to mark that the user has watched this item\n",
        "train_ratings.loc[:, 'rating'] = 1\n",
        "print(train_ratings)\n"
      ],
      "execution_count": null,
      "outputs": [
        {
          "output_type": "stream",
          "text": [
            "       user_id  movie_id  user_rating  rating\n",
            "0          138       357          4.0       1\n",
            "1           92       709          2.0       1\n",
            "2          301       412          4.0       1\n",
            "3           60        56          4.0       1\n",
            "4          197       895          3.0       1\n",
            "...        ...       ...          ...     ...\n",
            "99995      774       228          4.0       1\n",
            "99996      313       333          4.0       1\n",
            "99997      262       567          1.0       1\n",
            "99998      911       183          4.0       1\n",
            "99999      276      1140          2.0       1\n",
            "\n",
            "[99057 rows x 4 columns]\n"
          ],
          "name": "stdout"
        }
      ]
    },
    {
      "cell_type": "code",
      "metadata": {
        "id": "g8ObmXC23Pc2"
      },
      "source": [
        "# Add negative samples\n",
        "all_movies = relevant_cols['movie_id'].unique()\n",
        "\n",
        "users, items, labels = [], [], []\n",
        "user_item_set = set(zip(train_ratings['user_id'], train_ratings['movie_id']))\n",
        "num_negatives = 4\n",
        "\n",
        "for (u, i) in user_item_set:\n",
        "  users.append([u])\n",
        "  items.append([i])\n",
        "  labels.append([1])\n",
        "  for _ in range(num_negatives):\n",
        "    negative_item = np.random.choice(all_movies)\n",
        "    while (u, negative_item) in user_item_set:\n",
        "      negative_item = np.random.choice(all_movies)\n",
        "    users.append([u])\n",
        "    items.append([negative_item])\n",
        "    labels.append([0])"
      ],
      "execution_count": null,
      "outputs": []
    },
    {
      "cell_type": "markdown",
      "metadata": {
        "id": "vRKCJCT44Lx2"
      },
      "source": [
        "## Create Dataset"
      ]
    },
    {
      "cell_type": "code",
      "metadata": {
        "id": "nJvPLf6J362B"
      },
      "source": [
        "train_ds = tf.data.Dataset.from_tensor_slices(({'user': users, 'item': items}, labels))\n",
        "train_ds = train_ds.cache()"
      ],
      "execution_count": null,
      "outputs": []
    },
    {
      "cell_type": "code",
      "metadata": {
        "id": "iZEgiXPS4ZcQ",
        "colab": {
          "base_uri": "https://localhost:8080/"
        },
        "outputId": "17093611-9050-4b63-801a-e2e31f5cf299"
      },
      "source": [
        "train_ds = train_ds.shuffle(1000)\n",
        "for elem in train_ds.take(10):\n",
        "  print(elem)"
      ],
      "execution_count": null,
      "outputs": [
        {
          "output_type": "stream",
          "text": [
            "({'user': <tf.Tensor: shape=(1,), dtype=int32, numpy=array([62], dtype=int32)>, 'item': <tf.Tensor: shape=(1,), dtype=int32, numpy=array([59], dtype=int32)>}, <tf.Tensor: shape=(1,), dtype=int32, numpy=array([1], dtype=int32)>)\n",
            "({'user': <tf.Tensor: shape=(1,), dtype=int32, numpy=array([409], dtype=int32)>, 'item': <tf.Tensor: shape=(1,), dtype=int32, numpy=array([697], dtype=int32)>}, <tf.Tensor: shape=(1,), dtype=int32, numpy=array([0], dtype=int32)>)\n",
            "({'user': <tf.Tensor: shape=(1,), dtype=int32, numpy=array([883], dtype=int32)>, 'item': <tf.Tensor: shape=(1,), dtype=int32, numpy=array([896], dtype=int32)>}, <tf.Tensor: shape=(1,), dtype=int32, numpy=array([1], dtype=int32)>)\n",
            "({'user': <tf.Tensor: shape=(1,), dtype=int32, numpy=array([887], dtype=int32)>, 'item': <tf.Tensor: shape=(1,), dtype=int32, numpy=array([1050], dtype=int32)>}, <tf.Tensor: shape=(1,), dtype=int32, numpy=array([0], dtype=int32)>)\n",
            "({'user': <tf.Tensor: shape=(1,), dtype=int32, numpy=array([927], dtype=int32)>, 'item': <tf.Tensor: shape=(1,), dtype=int32, numpy=array([1432], dtype=int32)>}, <tf.Tensor: shape=(1,), dtype=int32, numpy=array([0], dtype=int32)>)\n",
            "({'user': <tf.Tensor: shape=(1,), dtype=int32, numpy=array([450], dtype=int32)>, 'item': <tf.Tensor: shape=(1,), dtype=int32, numpy=array([3], dtype=int32)>}, <tf.Tensor: shape=(1,), dtype=int32, numpy=array([1], dtype=int32)>)\n",
            "({'user': <tf.Tensor: shape=(1,), dtype=int32, numpy=array([198], dtype=int32)>, 'item': <tf.Tensor: shape=(1,), dtype=int32, numpy=array([737], dtype=int32)>}, <tf.Tensor: shape=(1,), dtype=int32, numpy=array([0], dtype=int32)>)\n",
            "({'user': <tf.Tensor: shape=(1,), dtype=int32, numpy=array([648], dtype=int32)>, 'item': <tf.Tensor: shape=(1,), dtype=int32, numpy=array([491], dtype=int32)>}, <tf.Tensor: shape=(1,), dtype=int32, numpy=array([0], dtype=int32)>)\n",
            "({'user': <tf.Tensor: shape=(1,), dtype=int32, numpy=array([401], dtype=int32)>, 'item': <tf.Tensor: shape=(1,), dtype=int32, numpy=array([885], dtype=int32)>}, <tf.Tensor: shape=(1,), dtype=int32, numpy=array([0], dtype=int32)>)\n",
            "({'user': <tf.Tensor: shape=(1,), dtype=int32, numpy=array([655], dtype=int32)>, 'item': <tf.Tensor: shape=(1,), dtype=int32, numpy=array([1287], dtype=int32)>}, <tf.Tensor: shape=(1,), dtype=int32, numpy=array([0], dtype=int32)>)\n"
          ],
          "name": "stdout"
        }
      ]
    },
    {
      "cell_type": "markdown",
      "metadata": {
        "id": "6WTSy4kvk4Lm"
      },
      "source": [
        "## Define Models"
      ]
    },
    {
      "cell_type": "code",
      "metadata": {
        "id": "1kHNl37Jk5Qg"
      },
      "source": [
        "from keras.models import Model\n",
        "from keras.layers import Embedding, Input, Dense, Reshape, Multiply, Flatten, Lambda, Concatenate\n",
        "from keras import initializers, regularizers\n",
        "import sys\n",
        "\n",
        "def get_GMFmodel(num_users, num_items, latent_dim):\n",
        "  user_input = Input(shape = (1,), dtype = 'int32', name = 'user')\n",
        "  item_input = Input(shape = (1,), dtype = 'int32', name = 'item')\n",
        "\n",
        "  user_embedding = Embedding(input_dim = num_users, output_dim = latent_dim, name = 'user_embed',\n",
        "                             embeddings_initializer = initializers.RandomNormal(stddev = 0.01), \n",
        "                             embeddings_regularizer = regularizers.l2(0), input_length = 1)\n",
        "  item_embedding = Embedding(input_dim = num_items, output_dim = latent_dim, name = 'item_embed',\n",
        "                             embeddings_initializer = initializers.RandomNormal(stddev = 0.01), \n",
        "                             embeddings_regularizer = regularizers.l2(0), input_length = 1)\n",
        "\n",
        "  user_latent = Flatten()(user_embedding(user_input))\n",
        "  item_latent = Flatten()(item_embedding(item_input))\n",
        "\n",
        "  prediction_vec = Multiply()([user_latent, item_latent])\n",
        "\n",
        "  prediction = Dense(1, activation='sigmoid', kernel_initializer='lecun_uniform', name = 'prediction')(prediction_vec)\n",
        "\n",
        "  return Model(inputs=[user_input, item_input], outputs=prediction)"
      ],
      "execution_count": null,
      "outputs": []
    },
    {
      "cell_type": "code",
      "metadata": {
        "id": "OccrWR_kVmPL"
      },
      "source": [
        "def get_MLPmodel(num_users, num_items, latent_dim):\n",
        "  user_input = Input(shape = (1,), dtype = 'int32', name = 'user')\n",
        "  item_input = Input(shape = (1,), dtype = 'int32', name = 'item')\n",
        "\n",
        "  user_embedding = Embedding(input_dim = num_users, output_dim = latent_dim, name = 'user_embed',\n",
        "                             embeddings_initializer = initializers.RandomNormal(stddev = 0.01), \n",
        "                             embeddings_regularizer = regularizers.l2(0), input_length = 1)\n",
        "  item_embedding = Embedding(input_dim = num_items, output_dim = latent_dim, name = 'item_embed',\n",
        "                             embeddings_initializer = initializers.RandomNormal(stddev = 0.01), \n",
        "                             embeddings_regularizer = regularizers.l2(0), input_length = 1)\n",
        "  \n",
        "  user_latent = Flatten()(user_embedding(user_input))\n",
        "  item_latent = Flatten()(item_embedding(item_input))\n",
        "\n",
        "  inputs = Concatenate()([user_latent, item_latent])\n",
        "\n",
        "  layer = Dense(256, activation='relu', name='Layer1', kernel_initializer='glorot_uniform')(inputs)\n",
        "  layer = Dense(128, activation='relu', name='Layer2')(layer)\n",
        "  layer = Dense(32, activation='relu', name='Layer3')(layer)\n",
        "  output = Dense(1, activation='sigmoid', name='Layer4')(layer)\n",
        "\n",
        "  return Model(inputs=[user_input, item_input], outputs=output)\n",
        "    "
      ],
      "execution_count": null,
      "outputs": []
    },
    {
      "cell_type": "code",
      "metadata": {
        "id": "XDKlcczn6Ejq"
      },
      "source": [
        "def get_MLPGMFmodel(num_users, num_items, latent_dim):\n",
        "  user_input = Input(shape = (1,), dtype = 'int32', name = 'user')\n",
        "  movie_input = Input(shape = (1,), dtype = 'int32', name = 'item')\n",
        "\n",
        "  user_embedding = Embedding(input_dim = num_users, output_dim = latent_dim, name = 'user_embed',\n",
        "                             embeddings_initializer = initializers.RandomNormal(stddev = 0.01), \n",
        "                             embeddings_regularizer = regularizers.l2(0), input_length = 1)\n",
        "  movie_embedding = Embedding(input_dim = num_items, output_dim = latent_dim, name = 'item_embed',\n",
        "                             embeddings_initializer = initializers.RandomNormal(stddev = 0.01), \n",
        "                             embeddings_regularizer = regularizers.l2(0), input_length = 1)\n",
        "  \n",
        "  user_latent = Flatten()(user_embedding(user_input))\n",
        "  item_latent = Flatten()(movie_embedding(movie_input))\n",
        "\n",
        "  #GMF \n",
        "  prediction_vec = Multiply()([user_latent, item_latent])\n",
        "  prediction = Dense(1, activation='sigmoid', kernel_initializer='lecun_uniform', name = 'prediction')(prediction_vec)\n",
        "\n",
        "  #MLF\n",
        "  inputs = Concatenate()([user_latent, item_latent])\n",
        "  layer = Dense(256, activation='relu', name='Layer1', kernel_initializer='glorot_uniform')(inputs)\n",
        "  layer = Dense(128, activation='relu', name='Layer2')(layer)\n",
        "  layer = Dense(32, activation='relu', name='Layer3')(layer)\n",
        "  output = Dense(1, activation='sigmoid', name='Layer4')(layer)\n",
        "\n",
        "  predictions = Concatenate()([prediction, output])\n",
        "\n",
        "  return Model(inputs=[user_input, movie_input], outputs=predictions)\n"
      ],
      "execution_count": null,
      "outputs": []
    },
    {
      "cell_type": "code",
      "metadata": {
        "id": "cfjFbtLYyCzb"
      },
      "source": [
        "from keras.models import Model\n",
        "from keras.layers import Embedding, Input, Dense, Reshape, Multiply, Flatten, Lambda, Concatenate, Conv2D, MaxPool2D\n",
        "from keras import initializers, regularizers\n",
        "import sys\n",
        "\n",
        "def get_OuterProductmodel(num_users, num_items, latent_dim):\n",
        "  user_input = Input(shape = (1,), dtype = 'int32', name = 'user')\n",
        "  item_input = Input(shape = (1,), dtype = 'int32', name = 'item')\n",
        "\n",
        "  user_embedding = Embedding(input_dim = num_users, output_dim = latent_dim, name = 'user_embed',\n",
        "                             embeddings_initializer = initializers.RandomNormal(stddev = 0.01), \n",
        "                             embeddings_regularizer = regularizers.l2(0), input_length = 1)\n",
        "  item_embedding = Embedding(input_dim = num_items, output_dim = latent_dim, name = 'item_embed',\n",
        "                             embeddings_initializer = initializers.RandomNormal(stddev = 0.01), \n",
        "                             embeddings_regularizer = regularizers.l2(0), input_length = 1)\n",
        "\n",
        "  user_latent = Flatten()(user_embedding(user_input))\n",
        "  item_latent = Flatten()(item_embedding(item_input))\n",
        "\n",
        "  latent_map = tf.linalg.matmul(tf.expand_dims(user_latent, -1), tf.expand_dims(item_latent, 1))\n",
        "\n",
        "  x = tf.expand_dims(latent_map, -1)\n",
        "\n",
        "  x = Conv2D(64, 3, activation='relu', padding='same')(x)\n",
        "  x = MaxPool2D(pool_size=2)(x)\n",
        "  x = Conv2D(64, 3, activation='relu', padding='same')(x)\n",
        "  x = Flatten()(x)\n",
        "  prediction = Dense(1, activation='sigmoid', kernel_initializer='lecun_uniform', name = 'prediction')(x)\n",
        "\n",
        "#  prediction_vec = Multiply()([user_latent, item_latent])\n",
        "\n",
        "#  prediction = Dense(1, activation='sigmoid', kernel_initializer='lecun_uniform', name = 'prediction')(prediction_vec)\n",
        "\n",
        "  return Model(inputs=[user_input, item_input], outputs=prediction)"
      ],
      "execution_count": null,
      "outputs": []
    },
    {
      "cell_type": "markdown",
      "metadata": {
        "id": "drcJ5JshUZdb"
      },
      "source": [
        "## Evaluation Functions"
      ]
    },
    {
      "cell_type": "code",
      "metadata": {
        "id": "ShgdKU-6BpLr"
      },
      "source": [
        "def evaluateNCDG(ranked_list, target_item):\n",
        "  for i in range(len(ranked_list)):\n",
        "    if ranked_list[i] == target_item:\n",
        "      return math.log(2) / math.log(i + 2)\n",
        "  \n",
        "  return 0"
      ],
      "execution_count": null,
      "outputs": []
    },
    {
      "cell_type": "code",
      "metadata": {
        "id": "UuLADR1WBpLs"
      },
      "source": [
        "def hitRate(item, ranklist):\n",
        "  for rank in ranklist:\n",
        "    if item == rank:\n",
        "      return 1\n",
        "  return 0"
      ],
      "execution_count": null,
      "outputs": []
    },
    {
      "cell_type": "code",
      "metadata": {
        "id": "UN2stnBbBpLs"
      },
      "source": [
        "# This method calculates all the evaluation metrics. Individual methods are called from here.\n",
        "def evaluate(model, testPosRatings, testNegRatings):\n",
        "    hits = []\n",
        "    ncdgs = []\n",
        "    for i in range(len(testPosRatings)):\n",
        "      hit, ncdg = evaluate_one(model, testPosRatings[i], testNegRatings[i])\n",
        "      hits.append(hit)\n",
        "      ncdgs.append(ncdg)\n",
        "\n",
        "    return hits, ncdg"
      ],
      "execution_count": null,
      "outputs": []
    },
    {
      "cell_type": "code",
      "metadata": {
        "id": "cQykhM9DBpLt"
      },
      "source": [
        "def evaluate_one(model, posRating, negRatings, N):\n",
        "  user = posRating[0]\n",
        "  movie = posRating[1]\n",
        "  negRatings.append(movie)\n",
        "\n",
        "  user_input = np.full(len(negRatings)+ 1, user)\n",
        "\n",
        "  print(user_input)\n",
        "  print(negRatings)\n",
        "\n",
        "  predictions = model.predict([user_input, negRatings])\n",
        "\n",
        "  # associate item with predictions\n",
        "  items = {}\n",
        "  for i in range(len(predictions)):\n",
        "    items[negRatings[i]] = predictions[i]\n",
        "\n",
        "  rankedList = heapq.nlargest(N, items, items.get)\n",
        "  ncdg = evaluateNCDG(rankedList.values(), items.values())\n",
        "  hit = hitRate(item, rankedList)\n",
        "\n",
        "  return hit, ncdg"
      ],
      "execution_count": null,
      "outputs": []
    },
    {
      "cell_type": "markdown",
      "metadata": {
        "id": "J9LTtsJPUd25"
      },
      "source": [
        "### Create 100 Negative Test Points"
      ]
    },
    {
      "cell_type": "code",
      "metadata": {
        "id": "2duZM-mtrK2B",
        "colab": {
          "base_uri": "https://localhost:8080/"
        },
        "outputId": "a52592dd-b671-4aca-8d19-2dffab1df020"
      },
      "source": [
        "# Generate 100 Negative Test Examples\n",
        "# Add negative samples\n",
        "all_movies = relevant_cols['movie_id'].unique()\n",
        "\n",
        "users, items, labels = [], [], []\n",
        "user_item_set = set(zip(train_ratings['user_id'], train_ratings['movie_id']))\n",
        "user_set = set(train_ratings['user_id'])\n",
        "num_test_negatives = 100\n",
        "test_negatives = {}\n",
        "\n",
        "for u in user_set:\n",
        "  negatives = []\n",
        "\n",
        "  for _ in range(num_test_negatives):\n",
        "    negative_item = np.random.choice(all_movies)\n",
        "    while (u, negative_item) in user_item_set:\n",
        "      negative_item = np.random.choice(all_movies)\n",
        "    \n",
        "    negatives.append(negative_item)\n",
        "  \n",
        "  test_negatives[u] = negatives\n",
        "\n",
        "print('Number of users:', len(test_negatives))\n",
        "print('Number of negative points:', len(test_negatives[138]))"
      ],
      "execution_count": null,
      "outputs": [
        {
          "output_type": "stream",
          "text": [
            "Number of users: 943\n",
            "Number of negative points: 100\n"
          ],
          "name": "stdout"
        }
      ]
    },
    {
      "cell_type": "code",
      "metadata": {
        "id": "DTTlDF-mrn55"
      },
      "source": [
        "def evaluate_model(model):\n",
        "  hits = []\n",
        "  ncdgs = []\n",
        "  N = 10\n",
        "  completed = 0\n",
        "\n",
        "  for (u, item) in zip(test_ratings['user_id'], test_ratings['movie_id']):\n",
        "    negs = test_negatives[u]\n",
        "    test_negs = np.array([])\n",
        "    test_users = np.array([])\n",
        "    items = {}\n",
        "\n",
        "    for neg in negs:\n",
        "      test_negs = np.append(test_negs, tf.constant([neg]))\n",
        "      test_users = np.append(test_users, tf.constant([u]))\n",
        "    test_negs = np.append(test_negs, tf.constant([item]))\n",
        "    test_users = np.append(test_users, tf.constant([u]))\n",
        "\n",
        "    predictions = model.predict({'user': test_users, 'item': test_negs})\n",
        "    completed += 1\n",
        "\n",
        "    for i in range(len(predictions)):\n",
        "      if i == len(predictions) - 1:\n",
        "        items[item] = predictions[i]\n",
        "      else:\n",
        "        items[negs[i]] = predictions[i]\n",
        "\n",
        "    rankedList = heapq.nlargest(N, items, items.get)\n",
        "\n",
        "    ncdg = evaluateNCDG(rankedList, item)\n",
        "    hit = hitRate(item, rankedList)\n",
        "    \n",
        "    ncdgs.append(ncdg)\n",
        "    hits.append(hit)\n",
        "\n",
        "  \n",
        "  hit_rate = np.mean(hits)\n",
        "  mean_ncdg = np.mean(ncdgs)\n",
        "\n",
        "  return hit_rate, mean_ncdg"
      ],
      "execution_count": null,
      "outputs": []
    },
    {
      "cell_type": "code",
      "metadata": {
        "id": "ZDV3LafNa5tC",
        "colab": {
          "base_uri": "https://localhost:8080/"
        },
        "outputId": "e47c9724-4e0b-4ecc-e2f1-9d4dc4417545"
      },
      "source": [
        "from keras.optimizers import Adam\n",
        "\n",
        "topK = 10\n",
        "\n",
        "model = get_OuterProductmodel(num_users, num_items, 8)\n",
        "model.compile(optimizer=Adam(0.001), loss='binary_crossentropy')\n",
        "model.summary()"
      ],
      "execution_count": null,
      "outputs": [
        {
          "output_type": "stream",
          "text": [
            "Model: \"model_9\"\n",
            "__________________________________________________________________________________________________\n",
            "Layer (type)                    Output Shape         Param #     Connected to                     \n",
            "==================================================================================================\n",
            "user (InputLayer)               [(None, 1)]          0                                            \n",
            "__________________________________________________________________________________________________\n",
            "item (InputLayer)               [(None, 1)]          0                                            \n",
            "__________________________________________________________________________________________________\n",
            "user_embed (Embedding)          (None, 1, 8)         7552        user[0][0]                       \n",
            "__________________________________________________________________________________________________\n",
            "item_embed (Embedding)          (None, 1, 8)         13464       item[0][0]                       \n",
            "__________________________________________________________________________________________________\n",
            "flatten_26 (Flatten)            (None, 8)            0           user_embed[0][0]                 \n",
            "__________________________________________________________________________________________________\n",
            "flatten_27 (Flatten)            (None, 8)            0           item_embed[0][0]                 \n",
            "__________________________________________________________________________________________________\n",
            "tf.expand_dims_27 (TFOpLambda)  (None, 8, 1)         0           flatten_26[0][0]                 \n",
            "__________________________________________________________________________________________________\n",
            "tf.expand_dims_28 (TFOpLambda)  (None, 1, 8)         0           flatten_27[0][0]                 \n",
            "__________________________________________________________________________________________________\n",
            "tf.linalg.matmul_10 (TFOpLambda (None, 8, 8)         0           tf.expand_dims_27[0][0]          \n",
            "                                                                 tf.expand_dims_28[0][0]          \n",
            "__________________________________________________________________________________________________\n",
            "tf.expand_dims_29 (TFOpLambda)  (None, 8, 8, 1)      0           tf.linalg.matmul_10[0][0]        \n",
            "__________________________________________________________________________________________________\n",
            "conv2d_4 (Conv2D)               (None, 8, 8, 64)     640         tf.expand_dims_29[0][0]          \n",
            "__________________________________________________________________________________________________\n",
            "max_pooling2d_2 (MaxPooling2D)  (None, 4, 4, 64)     0           conv2d_4[0][0]                   \n",
            "__________________________________________________________________________________________________\n",
            "conv2d_5 (Conv2D)               (None, 4, 4, 64)     36928       max_pooling2d_2[0][0]            \n",
            "__________________________________________________________________________________________________\n",
            "flatten_28 (Flatten)            (None, 1024)         0           conv2d_5[0][0]                   \n",
            "__________________________________________________________________________________________________\n",
            "prediction (Dense)              (None, 1)            1025        flatten_28[0][0]                 \n",
            "==================================================================================================\n",
            "Total params: 59,609\n",
            "Trainable params: 59,609\n",
            "Non-trainable params: 0\n",
            "__________________________________________________________________________________________________\n"
          ],
          "name": "stdout"
        }
      ]
    },
    {
      "cell_type": "code",
      "metadata": {
        "colab": {
          "base_uri": "https://localhost:8080/"
        },
        "id": "w1TDEOVkUSPC",
        "outputId": "52a5a2b4-ea28-452c-c7dc-d137d52ac39b"
      },
      "source": [
        "NUM_EPOCHS = 5\n",
        "best_hitrate = 0\n",
        "best_ncdg = 0\n",
        "best_epoch = -1\n",
        "\n",
        "for epoch in range(1, NUM_EPOCHS + 1):\n",
        "  hist = model.fit(train_ds, batch_size=256, epochs=1)\n",
        "\n",
        "  hit_rate, ncdg = evaluate_model(model)\n",
        "  print('Epoch', epoch, 'Hit Rate:', hit_rate, 'NDCG:', ncdg)\n",
        "\n",
        "  # TODO: Save out model with best performance"
      ],
      "execution_count": null,
      "outputs": [
        {
          "output_type": "stream",
          "text": [
            "495285/495285 [==============================] - 1553s 3ms/step - loss: 0.4141\n",
            "Epoch 1 Hit Rate: 0.4178154825026511 NDCG: 0.23566488592244073\n",
            "495285/495285 [==============================] - 1509s 3ms/step - loss: 0.4048\n",
            "Epoch 2 Hit Rate: 0.4029692470837752 NDCG: 0.2254679466199996\n",
            "362565/495285 [====================>.........] - ETA: 6:45 - loss: 0.4231"
          ],
          "name": "stdout"
        }
      ]
    },
    {
      "cell_type": "code",
      "metadata": {
        "id": "f515sMrc06fC"
      },
      "source": [
        ""
      ],
      "execution_count": null,
      "outputs": []
    }
  ]
}