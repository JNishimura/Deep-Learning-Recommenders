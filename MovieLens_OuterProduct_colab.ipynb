{
  "nbformat": 4,
  "nbformat_minor": 0,
  "metadata": {
    "kernelspec": {
      "display_name": "Python 3",
      "language": "python",
      "name": "python3"
    },
    "language_info": {
      "codemirror_mode": {
        "name": "ipython",
        "version": 3
      },
      "file_extension": ".py",
      "mimetype": "text/x-python",
      "name": "python",
      "nbconvert_exporter": "python",
      "pygments_lexer": "ipython3",
      "version": "3.8.5"
    },
    "colab": {
      "name": "Copy of ML-1m-OuterProduct.ipynb",
      "provenance": [],
      "collapsed_sections": []
    },
    "accelerator": "GPU"
  },
  "cells": [
    {
      "cell_type": "markdown",
      "metadata": {
        "id": "VJMuEBhS1h0E"
      },
      "source": [
        "## Imports"
      ]
    },
    {
      "cell_type": "code",
      "metadata": {
        "id": "gyHTQnG-1h0I"
      },
      "source": [
        "import numpy as np\n",
        "import scipy as sp\n",
        "\n",
        "import tensorflow as tf\n",
        "\n",
        "import heapq\n",
        "import math"
      ],
      "execution_count": null,
      "outputs": []
    },
    {
      "cell_type": "markdown",
      "metadata": {
        "id": "nAjTP5jC1h0J"
      },
      "source": [
        "## Load Dataset"
      ]
    },
    {
      "cell_type": "code",
      "metadata": {
        "id": "YQQcZER-1h0J"
      },
      "source": [
        "def load_rating_file_as_list(filename):\n",
        "    rating_list = []\n",
        "    \n",
        "    with open(filename, \"r\") as f:\n",
        "        line = f.readline()\n",
        "        \n",
        "        while line and line != \"\":\n",
        "            arr = line.split(\"\\t\")\n",
        "            user, item = int(arr[0]), int(arr[1])\n",
        "            rating_list.append([user, item])\n",
        "            line = f.readline()\n",
        "    \n",
        "    return rating_list\n",
        "\n",
        "def load_negative_file(filename):\n",
        "    negative_list = []\n",
        "    \n",
        "    with open(filename, \"r\") as f:\n",
        "        line = f.readline()\n",
        "        \n",
        "        while line and line != \"\":\n",
        "            arr = line.split(\"\\t\")\n",
        "            negatives = []\n",
        "            \n",
        "            for x in arr[1:]:\n",
        "                negatives.append(int(x))\n",
        "            \n",
        "            negative_list.append(negatives)\n",
        "            \n",
        "            line = f.readline()\n",
        "    \n",
        "    return negative_list\n",
        "\n",
        "def load_rating_file_as_matrix(filename):\n",
        "    num_users, num_items = 0, 0\n",
        "    with open(filename, \"r\") as f:\n",
        "        line = f.readline()\n",
        "        while line != None and line != \"\":\n",
        "            arr = line.split(\"\\t\")\n",
        "            u, i = int(arr[0]), int(arr[1])\n",
        "            num_users = max(num_users, u)\n",
        "            num_items = max(num_items, i)\n",
        "            line = f.readline()\n",
        "    \n",
        "    mat = sp.sparse.dok_matrix((num_users+1, num_items+1), dtype=np.float32)\n",
        "    with open(filename, \"r\") as f:\n",
        "        line = f.readline()\n",
        "        while line != None and line != \"\":\n",
        "            arr = line.split(\"\\t\")\n",
        "            user, item, rating = int(arr[0]), int(arr[1]), float(arr[2])\n",
        "            if (rating > 0):\n",
        "                mat[user, item] = 1.0\n",
        "            line = f.readline()    \n",
        "    return mat"
      ],
      "execution_count": null,
      "outputs": []
    },
    {
      "cell_type": "code",
      "metadata": {
        "id": "cf82MHnv1h0K",
        "colab": {
          "base_uri": "https://localhost:8080/"
        },
        "outputId": "c44f90e9-52f8-42eb-cef1-9c132bf69b4f"
      },
      "source": [
        "from google.colab import drive\n",
        "drive.mount('/content/gdrive', force_remount=True)\n",
        "\n",
        "root_dir = \"/content/gdrive/My Drive/Colab Notebooks\"\n",
        "# base_dir = root_dir + 'my-images/'\n",
        "\n",
        "train = load_rating_file_as_matrix(root_dir + '/Data/ml-1m.train.rating')\n",
        "test_ratings = load_rating_file_as_list(root_dir + '/Data/ml-1m.test.rating')\n",
        "test_negatives = load_negative_file(root_dir + '/Data/ml-1m.test.negative')"
      ],
      "execution_count": null,
      "outputs": [
        {
          "output_type": "stream",
          "text": [
            "Mounted at /content/gdrive\n"
          ],
          "name": "stdout"
        }
      ]
    },
    {
      "cell_type": "code",
      "metadata": {
        "id": "67xTABNW1h0K",
        "colab": {
          "base_uri": "https://localhost:8080/"
        },
        "outputId": "e7969db9-fe8a-49ab-8318-e7ac4549ebc9"
      },
      "source": [
        "num_users, num_items = train.shape\n",
        "print('Loaded Data. # Users:', num_users, '# Items:', num_items, '# Train:', train.nnz, '# Test:', len(test_ratings))"
      ],
      "execution_count": null,
      "outputs": [
        {
          "output_type": "stream",
          "text": [
            "Loaded Data. # Users: 6040 # Items: 3706 # Train: 994169 # Test: 6040\n"
          ],
          "name": "stdout"
        }
      ]
    },
    {
      "cell_type": "markdown",
      "metadata": {
        "id": "k60ALge21h0L"
      },
      "source": [
        "### Helper to Generate Negative Training Examples"
      ]
    },
    {
      "cell_type": "code",
      "metadata": {
        "id": "1VhYnZQR1h0L"
      },
      "source": [
        "def get_train_instances(train, num_negatives):\n",
        "    user_input, item_input, labels = [],[],[]\n",
        "    num_users = train.shape[0]\n",
        "    for (u, i) in train.keys():\n",
        "        # positive instance\n",
        "        user_input.append(u)\n",
        "        item_input.append(i)\n",
        "        labels.append(1)\n",
        "        # negative instances\n",
        "        for t in range(num_negatives):\n",
        "            j = np.random.randint(num_items)\n",
        "            while train.get((u, j)):\n",
        "                j = np.random.randint(num_items)\n",
        "            user_input.append(u)\n",
        "            item_input.append(j)\n",
        "            labels.append(0)\n",
        "    return user_input, item_input, labels"
      ],
      "execution_count": null,
      "outputs": []
    },
    {
      "cell_type": "markdown",
      "metadata": {
        "id": "G49Sx1Sf1h0L"
      },
      "source": [
        "## Create Model"
      ]
    },
    {
      "cell_type": "code",
      "metadata": {
        "id": "C8bOU4j91h0M"
      },
      "source": [
        "from keras.models import Model\n",
        "from keras.layers import Embedding, Input, Dense, Reshape, Multiply, Flatten, Lambda, Concatenate, Conv2D, MaxPool2D\n",
        "from keras import initializers, regularizers\n",
        "import sys\n",
        "\n",
        "def get_OuterProductmodel(num_users, num_items, latent_dim):\n",
        "    user_input = Input(shape = (1,), dtype = 'int32', name = 'user')\n",
        "    item_input = Input(shape = (1,), dtype = 'int32', name = 'item')\n",
        "\n",
        "    user_embedding = Embedding(input_dim = num_users, output_dim = latent_dim, name = 'user_embed',\n",
        "                             embeddings_initializer = initializers.RandomNormal(stddev = 0.01), \n",
        "                             embeddings_regularizer = regularizers.l2(0), input_length = 1)\n",
        "    item_embedding = Embedding(input_dim = num_items, output_dim = latent_dim, name = 'item_embed',\n",
        "                             embeddings_initializer = initializers.RandomNormal(stddev = 0.01), \n",
        "                             embeddings_regularizer = regularizers.l2(0), input_length = 1)\n",
        "\n",
        "    user_latent = Flatten()(user_embedding(user_input))\n",
        "    item_latent = Flatten()(item_embedding(item_input))\n",
        "\n",
        "    latent_map = tf.linalg.matmul(tf.expand_dims(user_latent, -1), tf.expand_dims(item_latent, 1))\n",
        "\n",
        "    x = tf.expand_dims(latent_map, -1)\n",
        "\n",
        "    x = Conv2D(64, 3, activation='relu', padding='same')(x)\n",
        "    x = MaxPool2D(pool_size=2)(x)\n",
        "    x = Conv2D(64, 3, activation='relu', padding='same')(x)\n",
        "    x = Flatten()(x)\n",
        "    prediction = Dense(1, activation='sigmoid', kernel_initializer='lecun_uniform', name = 'prediction')(x)\n",
        "\n",
        "    return Model(inputs=[user_input, item_input], outputs=prediction)"
      ],
      "execution_count": null,
      "outputs": []
    },
    {
      "cell_type": "code",
      "metadata": {
        "id": "bQD4SbLq1h0M",
        "colab": {
          "base_uri": "https://localhost:8080/"
        },
        "outputId": "d02911f8-6bca-41d1-cf56-44369387bebe"
      },
      "source": [
        "from keras.optimizers import Adam\n",
        "\n",
        "topK = 10\n",
        "\n",
        "model = get_OuterProductmodel(num_users, num_items, 4) # Originally 8\n",
        "model.compile(optimizer=Adam(0.001), loss='binary_crossentropy')\n",
        "model.summary()"
      ],
      "execution_count": null,
      "outputs": [
        {
          "output_type": "stream",
          "text": [
            "Model: \"model\"\n",
            "__________________________________________________________________________________________________\n",
            "Layer (type)                    Output Shape         Param #     Connected to                     \n",
            "==================================================================================================\n",
            "user (InputLayer)               [(None, 1)]          0                                            \n",
            "__________________________________________________________________________________________________\n",
            "item (InputLayer)               [(None, 1)]          0                                            \n",
            "__________________________________________________________________________________________________\n",
            "user_embed (Embedding)          (None, 1, 4)         24160       user[0][0]                       \n",
            "__________________________________________________________________________________________________\n",
            "item_embed (Embedding)          (None, 1, 4)         14824       item[0][0]                       \n",
            "__________________________________________________________________________________________________\n",
            "flatten (Flatten)               (None, 4)            0           user_embed[0][0]                 \n",
            "__________________________________________________________________________________________________\n",
            "flatten_1 (Flatten)             (None, 4)            0           item_embed[0][0]                 \n",
            "__________________________________________________________________________________________________\n",
            "tf.expand_dims (TFOpLambda)     (None, 4, 1)         0           flatten[0][0]                    \n",
            "__________________________________________________________________________________________________\n",
            "tf.expand_dims_1 (TFOpLambda)   (None, 1, 4)         0           flatten_1[0][0]                  \n",
            "__________________________________________________________________________________________________\n",
            "tf.linalg.matmul (TFOpLambda)   (None, 4, 4)         0           tf.expand_dims[0][0]             \n",
            "                                                                 tf.expand_dims_1[0][0]           \n",
            "__________________________________________________________________________________________________\n",
            "tf.expand_dims_2 (TFOpLambda)   (None, 4, 4, 1)      0           tf.linalg.matmul[0][0]           \n",
            "__________________________________________________________________________________________________\n",
            "conv2d (Conv2D)                 (None, 4, 4, 64)     640         tf.expand_dims_2[0][0]           \n",
            "__________________________________________________________________________________________________\n",
            "max_pooling2d (MaxPooling2D)    (None, 2, 2, 64)     0           conv2d[0][0]                     \n",
            "__________________________________________________________________________________________________\n",
            "conv2d_1 (Conv2D)               (None, 2, 2, 64)     36928       max_pooling2d[0][0]              \n",
            "__________________________________________________________________________________________________\n",
            "flatten_2 (Flatten)             (None, 256)          0           conv2d_1[0][0]                   \n",
            "__________________________________________________________________________________________________\n",
            "prediction (Dense)              (None, 1)            257         flatten_2[0][0]                  \n",
            "==================================================================================================\n",
            "Total params: 76,809\n",
            "Trainable params: 76,809\n",
            "Non-trainable params: 0\n",
            "__________________________________________________________________________________________________\n"
          ],
          "name": "stdout"
        }
      ]
    },
    {
      "cell_type": "markdown",
      "metadata": {
        "id": "HutIT1lb1h0N"
      },
      "source": [
        "## Define Evaluation Functions"
      ]
    },
    {
      "cell_type": "code",
      "metadata": {
        "id": "50Y_JT3X1h0N"
      },
      "source": [
        "def evaluateNDCG(ranked_list, target_item):\n",
        "    for i in range(len(ranked_list)):\n",
        "        if ranked_list[i] == target_item:\n",
        "            return math.log(2) / math.log(i + 2)\n",
        "  \n",
        "    return 0\n",
        "\n",
        "def hitRate(ranked_list, target_item):\n",
        "    for rank in ranked_list:\n",
        "        if target_item == rank:\n",
        "            return 1\n",
        "    return 0\n",
        "\n",
        "# This method calculates all the evaluation metrics. Individual methods are called from here.\n",
        "def evaluate(model, testPosRatings, testNegRatings, N):\n",
        "    hits = []\n",
        "    ndcgs = []\n",
        "    for i in range(len(testPosRatings)):\n",
        "        hit, ncdg = evaluate_one(model, testPosRatings[i], testNegRatings[i], N)\n",
        "        hits.append(hit)\n",
        "        ndcgs.append(ncdg)\n",
        "        \n",
        "    return np.array(hits).mean(), np.array(ndcgs).mean()\n",
        "\n",
        "def evaluate_one(model, posRating, negRatings, N):\n",
        "    user = posRating[0]\n",
        "    movie = posRating[1]\n",
        "    negRatings.append(movie)\n",
        "\n",
        "    user_input = np.full(len(negRatings), user)\n",
        "\n",
        "    predictions = model.predict([user_input, np.array(negRatings)], batch_size = 100)\n",
        "\n",
        "  # associate item with predictions\n",
        "    items = {}\n",
        "    for i in range(len(predictions)):\n",
        "        items[negRatings[i]] = predictions[i]\n",
        "    negRatings.pop()\n",
        "\n",
        "    rankedList = heapq.nlargest(N, items, items.get)\n",
        "    ndcg = evaluateNDCG(rankedList, movie)\n",
        "    hit = hitRate(rankedList, movie)\n",
        "\n",
        "    return hit, ndcg"
      ],
      "execution_count": null,
      "outputs": []
    },
    {
      "cell_type": "markdown",
      "metadata": {
        "id": "pR2heSUC1h0N"
      },
      "source": [
        "## Train and Save Best Model"
      ]
    },
    {
      "cell_type": "code",
      "metadata": {
        "scrolled": true,
        "id": "6TmQrG5e1h0O",
        "colab": {
          "base_uri": "https://localhost:8080/"
        },
        "outputId": "9c39faab-8762-44e9-a36f-3ab6fbd61d95"
      },
      "source": [
        "NUM_EPOCHS = 10\n",
        "best_hr = 0\n",
        "best_ncdg = 0\n",
        "best_epoch = -1\n",
        "model_path = \"OP_model.h5\"\n",
        "\n",
        "hit_rate, ncdg = evaluate(model, test_ratings, test_negatives, N = 10)\n",
        "print('Initial Model', 'Hit Rate:', hit_rate, 'NCDG:', ncdg)\n",
        "\n",
        "for epoch in range(1, NUM_EPOCHS + 1):\n",
        "    user_input, item_input, labels = get_train_instances(train, num_negatives = 4)\n",
        "\n",
        "    hist = model.fit([np.array(user_input), np.array(item_input)],\n",
        "                      np.array(labels),\n",
        "                      batch_size = 256, epochs = 1)\n",
        "\n",
        "    hit_rate, ncdg = evaluate(model, test_ratings, test_negatives, N = 10)\n",
        "    print('Epoch', epoch, 'Hit Rate:', hit_rate, 'NCDG:', ncdg)\n",
        "    model.save(model_path)\n",
        "\n",
        "    if hit_rate > best_hr:\n",
        "        best_hr, best_ncdg, best_iter = hit_rate, ncdg, epoch\n",
        "        model.save(model_path, overwrite=True)\n",
        "\n",
        "print(\"Best Iteration %d:  HR = %.4f, NDCG = %.4f. \" %(best_iter, best_hr, best_ncdg))\n",
        "print(\"The best Outer Product model is saved to %s\" %(model_path))"
      ],
      "execution_count": null,
      "outputs": [
        {
          "output_type": "stream",
          "text": [
            "Initial Model Hit Rate: 0.09801324503311258 NCDG: 0.04729346527894033\n",
            "19418/19418 [==============================] - 102s 5ms/step - loss: 0.3820\n",
            "Epoch 1 Hit Rate: 0.45612582781456956 NCDG: 0.24896412963397244\n",
            "19418/19418 [==============================] - 100s 5ms/step - loss: 0.3427\n",
            "Epoch 2 Hit Rate: 0.48841059602649006 NCDG: 0.26738335682487113\n",
            "19418/19418 [==============================] - 100s 5ms/step - loss: 0.3307\n",
            "Epoch 3 Hit Rate: 0.5054635761589404 NCDG: 0.2778442074949067\n",
            "19418/19418 [==============================] - 100s 5ms/step - loss: 0.3248\n",
            "Epoch 4 Hit Rate: 0.525 NCDG: 0.2901076178250344\n",
            "19418/19418 [==============================] - 100s 5ms/step - loss: 0.3195\n",
            "Epoch 5 Hit Rate: 0.5450331125827814 NCDG: 0.3000756763948541\n",
            "19418/19418 [==============================] - 100s 5ms/step - loss: 0.3146\n",
            "Epoch 6 Hit Rate: 0.5450331125827814 NCDG: 0.3004445206241785\n",
            "19418/19418 [==============================] - 100s 5ms/step - loss: 0.3109\n",
            "Epoch 7 Hit Rate: 0.547682119205298 NCDG: 0.3015057939985272\n",
            "19418/19418 [==============================] - 99s 5ms/step - loss: 0.3085\n",
            "Epoch 8 Hit Rate: 0.5513245033112583 NCDG: 0.30675731931110456\n",
            "19418/19418 [==============================] - 99s 5ms/step - loss: 0.3067\n",
            "Epoch 9 Hit Rate: 0.5506622516556291 NCDG: 0.30270920289507036\n",
            "19418/19418 [==============================] - 99s 5ms/step - loss: 0.3054\n",
            "Epoch 10 Hit Rate: 0.5524834437086092 NCDG: 0.3081740885435736\n",
            "Best Iteration 10:  HR = 0.5525, NDCG = 0.3082. \n",
            "The best Outer Product model is saved to OP_model.h5\n"
          ],
          "name": "stdout"
        }
      ]
    },
    {
      "cell_type": "code",
      "metadata": {
        "id": "TtGmdD-v1h0O"
      },
      "source": [
        ""
      ],
      "execution_count": null,
      "outputs": []
    }
  ]
}